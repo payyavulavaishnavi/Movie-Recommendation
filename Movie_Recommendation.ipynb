{
  "nbformat": 4,
  "nbformat_minor": 0,
  "metadata": {
    "colab": {
      "provenance": [],
      "authorship_tag": "ABX9TyP8HQdzeTVNH5FlhBMXQhDK",
      "include_colab_link": true
    },
    "kernelspec": {
      "name": "python3",
      "display_name": "Python 3"
    },
    "language_info": {
      "name": "python"
    }
  },
  "cells": [
    {
      "cell_type": "markdown",
      "metadata": {
        "id": "view-in-github",
        "colab_type": "text"
      },
      "source": [
        "<a href=\"https://colab.research.google.com/github/payyavulavaishnavi/Movie-Recommendation/blob/main/Movie_Recommendation.ipynb\" target=\"_parent\"><img src=\"https://colab.research.google.com/assets/colab-badge.svg\" alt=\"Open In Colab\"/></a>"
      ]
    },
    {
      "cell_type": "markdown",
      "source": [
        "## **MOVIE** **RECOMMENDATION**"
      ],
      "metadata": {
        "id": "ENNVcIugNhqd"
      }
    },
    {
      "cell_type": "markdown",
      "source": [
        "## **Objective**"
      ],
      "metadata": {
        "id": "GuUt2mcqGRwh"
      }
    },
    {
      "cell_type": "markdown",
      "source": [
        "To build a recommendation system that suggests movies based on a user's favorite movie."
      ],
      "metadata": {
        "id": "JE7bCTXeGU1o"
      }
    },
    {
      "cell_type": "markdown",
      "source": [
        "## **Data Source**"
      ],
      "metadata": {
        "id": "hi0CWBXyN3un"
      }
    },
    {
      "cell_type": "markdown",
      "source": [
        "https://raw.githubusercontent.com/YBI-Foundation/Dataset/main/Movies%20Recommendation.csv"
      ],
      "metadata": {
        "id": "vp4cPNgbGYeK"
      }
    },
    {
      "cell_type": "markdown",
      "source": [
        "## **Import Library**"
      ],
      "metadata": {
        "id": "-YzIsB7bOFZq"
      }
    },
    {
      "cell_type": "code",
      "source": [
        "import pandas as pd"
      ],
      "metadata": {
        "id": "kzWmwyscOIDC"
      },
      "execution_count": null,
      "outputs": []
    },
    {
      "cell_type": "code",
      "source": [
        "import numpy as np"
      ],
      "metadata": {
        "id": "pNAIvEA9ONen"
      },
      "execution_count": null,
      "outputs": []
    },
    {
      "cell_type": "code",
      "source": [
        "from sklearn.feature_extraction.text import TfidfVectorizer"
      ],
      "metadata": {
        "id": "PzfYKqraGgUv"
      },
      "execution_count": null,
      "outputs": []
    },
    {
      "cell_type": "code",
      "source": [
        "from sklearn.metrics.pairwise import cosine_similarity"
      ],
      "metadata": {
        "id": "PE8lWOdMGiYQ"
      },
      "execution_count": null,
      "outputs": []
    },
    {
      "cell_type": "code",
      "source": [
        "import difflib"
      ],
      "metadata": {
        "id": "FavRlktqGkFL"
      },
      "execution_count": null,
      "outputs": []
    },
    {
      "cell_type": "markdown",
      "source": [
        "### **Import Data**"
      ],
      "metadata": {
        "id": "LY4FyrqjOR_8"
      }
    },
    {
      "cell_type": "code",
      "source": [
        "df= pd.read_csv('https://github.com/YBI-Foundation/Dataset/raw/main/Movies%20Recommendation.csv')"
      ],
      "metadata": {
        "id": "nKURMUGQOUIi"
      },
      "execution_count": null,
      "outputs": []
    },
    {
      "cell_type": "markdown",
      "source": [
        "## **Describe Data**\n"
      ],
      "metadata": {
        "id": "CAxNXikGBk3h"
      }
    },
    {
      "cell_type": "code",
      "source": [
        "df.head()"
      ],
      "metadata": {
        "colab": {
          "base_uri": "https://localhost:8080/",
          "height": 672
        },
        "id": "sFlVTzcUOjPt",
        "outputId": "1095158b-6e34-4fc4-f30f-4939bcc3a01d"
      },
      "execution_count": null,
      "outputs": [
        {
          "output_type": "execute_result",
          "data": {
            "text/plain": [
              "   Movie_ID      Movie_Title                       Movie_Genre Movie_Language  \\\n",
              "0         1       Four Rooms                      Crime Comedy             en   \n",
              "1         2        Star Wars  Adventure Action Science Fiction             en   \n",
              "2         3     Finding Nemo                  Animation Family             en   \n",
              "3         4     Forrest Gump              Comedy Drama Romance             en   \n",
              "4         5  American Beauty                             Drama             en   \n",
              "\n",
              "   Movie_Budget  Movie_Popularity Movie_Release_Date  Movie_Revenue  \\\n",
              "0       4000000         22.876230         09-12-1995        4300000   \n",
              "1      11000000        126.393695         25-05-1977      775398007   \n",
              "2      94000000         85.688789         30-05-2003      940335536   \n",
              "3      55000000        138.133331         06-07-1994      677945399   \n",
              "4      15000000         80.878605         15-09-1999      356296601   \n",
              "\n",
              "   Movie_Runtime  Movie_Vote  ...  \\\n",
              "0           98.0         6.5  ...   \n",
              "1          121.0         8.1  ...   \n",
              "2          100.0         7.6  ...   \n",
              "3          142.0         8.2  ...   \n",
              "4          122.0         7.9  ...   \n",
              "\n",
              "                                      Movie_Homepage  \\\n",
              "0                                                NaN   \n",
              "1  http://www.starwars.com/films/star-wars-episod...   \n",
              "2              http://movies.disney.com/finding-nemo   \n",
              "3                                                NaN   \n",
              "4                      http://www.dreamworks.com/ab/   \n",
              "\n",
              "                                      Movie_Keywords  \\\n",
              "0          hotel new year's eve witch bet hotel room   \n",
              "1        android galaxy hermit death star lightsaber   \n",
              "2  father son relationship harbor underwater fish...   \n",
              "3  vietnam veteran hippie mentally disabled runni...   \n",
              "4  male nudity female nudity adultery midlife cri...   \n",
              "\n",
              "                                      Movie_Overview  \\\n",
              "0  It's Ted the Bellhop's first night on the job....   \n",
              "1  Princess Leia is captured and held hostage by ...   \n",
              "2  Nemo, an adventurous young clownfish, is unexp...   \n",
              "3  A man with a low IQ has accomplished great thi...   \n",
              "4  Lester Burnham, a depressed suburban father in...   \n",
              "\n",
              "                              Movie_Production_House  \\\n",
              "0  [{\"name\": \"Miramax Films\", \"id\": 14}, {\"name\":...   \n",
              "1  [{\"name\": \"Lucasfilm\", \"id\": 1}, {\"name\": \"Twe...   \n",
              "2     [{\"name\": \"Pixar Animation Studios\", \"id\": 3}]   \n",
              "3          [{\"name\": \"Paramount Pictures\", \"id\": 4}]   \n",
              "4  [{\"name\": \"DreamWorks SKG\", \"id\": 27}, {\"name\"...   \n",
              "\n",
              "                            Movie_Production_Country  \\\n",
              "0  [{\"iso_3166_1\": \"US\", \"name\": \"United States o...   \n",
              "1  [{\"iso_3166_1\": \"US\", \"name\": \"United States o...   \n",
              "2  [{\"iso_3166_1\": \"US\", \"name\": \"United States o...   \n",
              "3  [{\"iso_3166_1\": \"US\", \"name\": \"United States o...   \n",
              "4  [{\"iso_3166_1\": \"US\", \"name\": \"United States o...   \n",
              "\n",
              "                      Movie_Spoken_Language  \\\n",
              "0  [{\"iso_639_1\": \"en\", \"name\": \"English\"}]   \n",
              "1  [{\"iso_639_1\": \"en\", \"name\": \"English\"}]   \n",
              "2  [{\"iso_639_1\": \"en\", \"name\": \"English\"}]   \n",
              "3  [{\"iso_639_1\": \"en\", \"name\": \"English\"}]   \n",
              "4  [{\"iso_639_1\": \"en\", \"name\": \"English\"}]   \n",
              "\n",
              "                                       Movie_Tagline  \\\n",
              "0  Twelve outrageous guests. Four scandalous requ...   \n",
              "1       A long time ago in a galaxy far, far away...   \n",
              "2  There are 3.7 trillion fish in the ocean, they...   \n",
              "3  The world will never be the same, once you've ...   \n",
              "4                                       Look closer.   \n",
              "\n",
              "                                          Movie_Cast  \\\n",
              "0  Tim Roth Antonio Banderas Jennifer Beals Madon...   \n",
              "1  Mark Hamill Harrison Ford Carrie Fisher Peter ...   \n",
              "2  Albert Brooks Ellen DeGeneres Alexander Gould ...   \n",
              "3  Tom Hanks Robin Wright Gary Sinise Mykelti Wil...   \n",
              "4  Kevin Spacey Annette Bening Thora Birch Wes Be...   \n",
              "\n",
              "                                          Movie_Crew   Movie_Director  \n",
              "0  [{'name': 'Allison Anders', 'gender': 1, 'depa...   Allison Anders  \n",
              "1  [{'name': 'George Lucas', 'gender': 2, 'depart...     George Lucas  \n",
              "2  [{'name': 'Andrew Stanton', 'gender': 2, 'depa...   Andrew Stanton  \n",
              "3  [{'name': 'Alan Silvestri', 'gender': 2, 'depa...  Robert Zemeckis  \n",
              "4  [{'name': 'Thomas Newman', 'gender': 2, 'depar...       Sam Mendes  \n",
              "\n",
              "[5 rows x 21 columns]"
            ],
            "text/html": [
              "\n",
              "  <div id=\"df-5cd90bc0-10fb-4ff6-a951-97679b8a1429\" class=\"colab-df-container\">\n",
              "    <div>\n",
              "<style scoped>\n",
              "    .dataframe tbody tr th:only-of-type {\n",
              "        vertical-align: middle;\n",
              "    }\n",
              "\n",
              "    .dataframe tbody tr th {\n",
              "        vertical-align: top;\n",
              "    }\n",
              "\n",
              "    .dataframe thead th {\n",
              "        text-align: right;\n",
              "    }\n",
              "</style>\n",
              "<table border=\"1\" class=\"dataframe\">\n",
              "  <thead>\n",
              "    <tr style=\"text-align: right;\">\n",
              "      <th></th>\n",
              "      <th>Movie_ID</th>\n",
              "      <th>Movie_Title</th>\n",
              "      <th>Movie_Genre</th>\n",
              "      <th>Movie_Language</th>\n",
              "      <th>Movie_Budget</th>\n",
              "      <th>Movie_Popularity</th>\n",
              "      <th>Movie_Release_Date</th>\n",
              "      <th>Movie_Revenue</th>\n",
              "      <th>Movie_Runtime</th>\n",
              "      <th>Movie_Vote</th>\n",
              "      <th>...</th>\n",
              "      <th>Movie_Homepage</th>\n",
              "      <th>Movie_Keywords</th>\n",
              "      <th>Movie_Overview</th>\n",
              "      <th>Movie_Production_House</th>\n",
              "      <th>Movie_Production_Country</th>\n",
              "      <th>Movie_Spoken_Language</th>\n",
              "      <th>Movie_Tagline</th>\n",
              "      <th>Movie_Cast</th>\n",
              "      <th>Movie_Crew</th>\n",
              "      <th>Movie_Director</th>\n",
              "    </tr>\n",
              "  </thead>\n",
              "  <tbody>\n",
              "    <tr>\n",
              "      <th>0</th>\n",
              "      <td>1</td>\n",
              "      <td>Four Rooms</td>\n",
              "      <td>Crime Comedy</td>\n",
              "      <td>en</td>\n",
              "      <td>4000000</td>\n",
              "      <td>22.876230</td>\n",
              "      <td>09-12-1995</td>\n",
              "      <td>4300000</td>\n",
              "      <td>98.0</td>\n",
              "      <td>6.5</td>\n",
              "      <td>...</td>\n",
              "      <td>NaN</td>\n",
              "      <td>hotel new year's eve witch bet hotel room</td>\n",
              "      <td>It's Ted the Bellhop's first night on the job....</td>\n",
              "      <td>[{\"name\": \"Miramax Films\", \"id\": 14}, {\"name\":...</td>\n",
              "      <td>[{\"iso_3166_1\": \"US\", \"name\": \"United States o...</td>\n",
              "      <td>[{\"iso_639_1\": \"en\", \"name\": \"English\"}]</td>\n",
              "      <td>Twelve outrageous guests. Four scandalous requ...</td>\n",
              "      <td>Tim Roth Antonio Banderas Jennifer Beals Madon...</td>\n",
              "      <td>[{'name': 'Allison Anders', 'gender': 1, 'depa...</td>\n",
              "      <td>Allison Anders</td>\n",
              "    </tr>\n",
              "    <tr>\n",
              "      <th>1</th>\n",
              "      <td>2</td>\n",
              "      <td>Star Wars</td>\n",
              "      <td>Adventure Action Science Fiction</td>\n",
              "      <td>en</td>\n",
              "      <td>11000000</td>\n",
              "      <td>126.393695</td>\n",
              "      <td>25-05-1977</td>\n",
              "      <td>775398007</td>\n",
              "      <td>121.0</td>\n",
              "      <td>8.1</td>\n",
              "      <td>...</td>\n",
              "      <td>http://www.starwars.com/films/star-wars-episod...</td>\n",
              "      <td>android galaxy hermit death star lightsaber</td>\n",
              "      <td>Princess Leia is captured and held hostage by ...</td>\n",
              "      <td>[{\"name\": \"Lucasfilm\", \"id\": 1}, {\"name\": \"Twe...</td>\n",
              "      <td>[{\"iso_3166_1\": \"US\", \"name\": \"United States o...</td>\n",
              "      <td>[{\"iso_639_1\": \"en\", \"name\": \"English\"}]</td>\n",
              "      <td>A long time ago in a galaxy far, far away...</td>\n",
              "      <td>Mark Hamill Harrison Ford Carrie Fisher Peter ...</td>\n",
              "      <td>[{'name': 'George Lucas', 'gender': 2, 'depart...</td>\n",
              "      <td>George Lucas</td>\n",
              "    </tr>\n",
              "    <tr>\n",
              "      <th>2</th>\n",
              "      <td>3</td>\n",
              "      <td>Finding Nemo</td>\n",
              "      <td>Animation Family</td>\n",
              "      <td>en</td>\n",
              "      <td>94000000</td>\n",
              "      <td>85.688789</td>\n",
              "      <td>30-05-2003</td>\n",
              "      <td>940335536</td>\n",
              "      <td>100.0</td>\n",
              "      <td>7.6</td>\n",
              "      <td>...</td>\n",
              "      <td>http://movies.disney.com/finding-nemo</td>\n",
              "      <td>father son relationship harbor underwater fish...</td>\n",
              "      <td>Nemo, an adventurous young clownfish, is unexp...</td>\n",
              "      <td>[{\"name\": \"Pixar Animation Studios\", \"id\": 3}]</td>\n",
              "      <td>[{\"iso_3166_1\": \"US\", \"name\": \"United States o...</td>\n",
              "      <td>[{\"iso_639_1\": \"en\", \"name\": \"English\"}]</td>\n",
              "      <td>There are 3.7 trillion fish in the ocean, they...</td>\n",
              "      <td>Albert Brooks Ellen DeGeneres Alexander Gould ...</td>\n",
              "      <td>[{'name': 'Andrew Stanton', 'gender': 2, 'depa...</td>\n",
              "      <td>Andrew Stanton</td>\n",
              "    </tr>\n",
              "    <tr>\n",
              "      <th>3</th>\n",
              "      <td>4</td>\n",
              "      <td>Forrest Gump</td>\n",
              "      <td>Comedy Drama Romance</td>\n",
              "      <td>en</td>\n",
              "      <td>55000000</td>\n",
              "      <td>138.133331</td>\n",
              "      <td>06-07-1994</td>\n",
              "      <td>677945399</td>\n",
              "      <td>142.0</td>\n",
              "      <td>8.2</td>\n",
              "      <td>...</td>\n",
              "      <td>NaN</td>\n",
              "      <td>vietnam veteran hippie mentally disabled runni...</td>\n",
              "      <td>A man with a low IQ has accomplished great thi...</td>\n",
              "      <td>[{\"name\": \"Paramount Pictures\", \"id\": 4}]</td>\n",
              "      <td>[{\"iso_3166_1\": \"US\", \"name\": \"United States o...</td>\n",
              "      <td>[{\"iso_639_1\": \"en\", \"name\": \"English\"}]</td>\n",
              "      <td>The world will never be the same, once you've ...</td>\n",
              "      <td>Tom Hanks Robin Wright Gary Sinise Mykelti Wil...</td>\n",
              "      <td>[{'name': 'Alan Silvestri', 'gender': 2, 'depa...</td>\n",
              "      <td>Robert Zemeckis</td>\n",
              "    </tr>\n",
              "    <tr>\n",
              "      <th>4</th>\n",
              "      <td>5</td>\n",
              "      <td>American Beauty</td>\n",
              "      <td>Drama</td>\n",
              "      <td>en</td>\n",
              "      <td>15000000</td>\n",
              "      <td>80.878605</td>\n",
              "      <td>15-09-1999</td>\n",
              "      <td>356296601</td>\n",
              "      <td>122.0</td>\n",
              "      <td>7.9</td>\n",
              "      <td>...</td>\n",
              "      <td>http://www.dreamworks.com/ab/</td>\n",
              "      <td>male nudity female nudity adultery midlife cri...</td>\n",
              "      <td>Lester Burnham, a depressed suburban father in...</td>\n",
              "      <td>[{\"name\": \"DreamWorks SKG\", \"id\": 27}, {\"name\"...</td>\n",
              "      <td>[{\"iso_3166_1\": \"US\", \"name\": \"United States o...</td>\n",
              "      <td>[{\"iso_639_1\": \"en\", \"name\": \"English\"}]</td>\n",
              "      <td>Look closer.</td>\n",
              "      <td>Kevin Spacey Annette Bening Thora Birch Wes Be...</td>\n",
              "      <td>[{'name': 'Thomas Newman', 'gender': 2, 'depar...</td>\n",
              "      <td>Sam Mendes</td>\n",
              "    </tr>\n",
              "  </tbody>\n",
              "</table>\n",
              "<p>5 rows × 21 columns</p>\n",
              "</div>\n",
              "    <div class=\"colab-df-buttons\">\n",
              "\n",
              "  <div class=\"colab-df-container\">\n",
              "    <button class=\"colab-df-convert\" onclick=\"convertToInteractive('df-5cd90bc0-10fb-4ff6-a951-97679b8a1429')\"\n",
              "            title=\"Convert this dataframe to an interactive table.\"\n",
              "            style=\"display:none;\">\n",
              "\n",
              "  <svg xmlns=\"http://www.w3.org/2000/svg\" height=\"24px\" viewBox=\"0 -960 960 960\">\n",
              "    <path d=\"M120-120v-720h720v720H120Zm60-500h600v-160H180v160Zm220 220h160v-160H400v160Zm0 220h160v-160H400v160ZM180-400h160v-160H180v160Zm440 0h160v-160H620v160ZM180-180h160v-160H180v160Zm440 0h160v-160H620v160Z\"/>\n",
              "  </svg>\n",
              "    </button>\n",
              "\n",
              "  <style>\n",
              "    .colab-df-container {\n",
              "      display:flex;\n",
              "      gap: 12px;\n",
              "    }\n",
              "\n",
              "    .colab-df-convert {\n",
              "      background-color: #E8F0FE;\n",
              "      border: none;\n",
              "      border-radius: 50%;\n",
              "      cursor: pointer;\n",
              "      display: none;\n",
              "      fill: #1967D2;\n",
              "      height: 32px;\n",
              "      padding: 0 0 0 0;\n",
              "      width: 32px;\n",
              "    }\n",
              "\n",
              "    .colab-df-convert:hover {\n",
              "      background-color: #E2EBFA;\n",
              "      box-shadow: 0px 1px 2px rgba(60, 64, 67, 0.3), 0px 1px 3px 1px rgba(60, 64, 67, 0.15);\n",
              "      fill: #174EA6;\n",
              "    }\n",
              "\n",
              "    .colab-df-buttons div {\n",
              "      margin-bottom: 4px;\n",
              "    }\n",
              "\n",
              "    [theme=dark] .colab-df-convert {\n",
              "      background-color: #3B4455;\n",
              "      fill: #D2E3FC;\n",
              "    }\n",
              "\n",
              "    [theme=dark] .colab-df-convert:hover {\n",
              "      background-color: #434B5C;\n",
              "      box-shadow: 0px 1px 3px 1px rgba(0, 0, 0, 0.15);\n",
              "      filter: drop-shadow(0px 1px 2px rgba(0, 0, 0, 0.3));\n",
              "      fill: #FFFFFF;\n",
              "    }\n",
              "  </style>\n",
              "\n",
              "    <script>\n",
              "      const buttonEl =\n",
              "        document.querySelector('#df-5cd90bc0-10fb-4ff6-a951-97679b8a1429 button.colab-df-convert');\n",
              "      buttonEl.style.display =\n",
              "        google.colab.kernel.accessAllowed ? 'block' : 'none';\n",
              "\n",
              "      async function convertToInteractive(key) {\n",
              "        const element = document.querySelector('#df-5cd90bc0-10fb-4ff6-a951-97679b8a1429');\n",
              "        const dataTable =\n",
              "          await google.colab.kernel.invokeFunction('convertToInteractive',\n",
              "                                                    [key], {});\n",
              "        if (!dataTable) return;\n",
              "\n",
              "        const docLinkHtml = 'Like what you see? Visit the ' +\n",
              "          '<a target=\"_blank\" href=https://colab.research.google.com/notebooks/data_table.ipynb>data table notebook</a>'\n",
              "          + ' to learn more about interactive tables.';\n",
              "        element.innerHTML = '';\n",
              "        dataTable['output_type'] = 'display_data';\n",
              "        await google.colab.output.renderOutput(dataTable, element);\n",
              "        const docLink = document.createElement('div');\n",
              "        docLink.innerHTML = docLinkHtml;\n",
              "        element.appendChild(docLink);\n",
              "      }\n",
              "    </script>\n",
              "  </div>\n",
              "\n",
              "\n",
              "<div id=\"df-f8f49162-8232-4189-b4c8-d7c9cfd876e1\">\n",
              "  <button class=\"colab-df-quickchart\" onclick=\"quickchart('df-f8f49162-8232-4189-b4c8-d7c9cfd876e1')\"\n",
              "            title=\"Suggest charts\"\n",
              "            style=\"display:none;\">\n",
              "\n",
              "<svg xmlns=\"http://www.w3.org/2000/svg\" height=\"24px\"viewBox=\"0 0 24 24\"\n",
              "     width=\"24px\">\n",
              "    <g>\n",
              "        <path d=\"M19 3H5c-1.1 0-2 .9-2 2v14c0 1.1.9 2 2 2h14c1.1 0 2-.9 2-2V5c0-1.1-.9-2-2-2zM9 17H7v-7h2v7zm4 0h-2V7h2v10zm4 0h-2v-4h2v4z\"/>\n",
              "    </g>\n",
              "</svg>\n",
              "  </button>\n",
              "\n",
              "<style>\n",
              "  .colab-df-quickchart {\n",
              "      --bg-color: #E8F0FE;\n",
              "      --fill-color: #1967D2;\n",
              "      --hover-bg-color: #E2EBFA;\n",
              "      --hover-fill-color: #174EA6;\n",
              "      --disabled-fill-color: #AAA;\n",
              "      --disabled-bg-color: #DDD;\n",
              "  }\n",
              "\n",
              "  [theme=dark] .colab-df-quickchart {\n",
              "      --bg-color: #3B4455;\n",
              "      --fill-color: #D2E3FC;\n",
              "      --hover-bg-color: #434B5C;\n",
              "      --hover-fill-color: #FFFFFF;\n",
              "      --disabled-bg-color: #3B4455;\n",
              "      --disabled-fill-color: #666;\n",
              "  }\n",
              "\n",
              "  .colab-df-quickchart {\n",
              "    background-color: var(--bg-color);\n",
              "    border: none;\n",
              "    border-radius: 50%;\n",
              "    cursor: pointer;\n",
              "    display: none;\n",
              "    fill: var(--fill-color);\n",
              "    height: 32px;\n",
              "    padding: 0;\n",
              "    width: 32px;\n",
              "  }\n",
              "\n",
              "  .colab-df-quickchart:hover {\n",
              "    background-color: var(--hover-bg-color);\n",
              "    box-shadow: 0 1px 2px rgba(60, 64, 67, 0.3), 0 1px 3px 1px rgba(60, 64, 67, 0.15);\n",
              "    fill: var(--button-hover-fill-color);\n",
              "  }\n",
              "\n",
              "  .colab-df-quickchart-complete:disabled,\n",
              "  .colab-df-quickchart-complete:disabled:hover {\n",
              "    background-color: var(--disabled-bg-color);\n",
              "    fill: var(--disabled-fill-color);\n",
              "    box-shadow: none;\n",
              "  }\n",
              "\n",
              "  .colab-df-spinner {\n",
              "    border: 2px solid var(--fill-color);\n",
              "    border-color: transparent;\n",
              "    border-bottom-color: var(--fill-color);\n",
              "    animation:\n",
              "      spin 1s steps(1) infinite;\n",
              "  }\n",
              "\n",
              "  @keyframes spin {\n",
              "    0% {\n",
              "      border-color: transparent;\n",
              "      border-bottom-color: var(--fill-color);\n",
              "      border-left-color: var(--fill-color);\n",
              "    }\n",
              "    20% {\n",
              "      border-color: transparent;\n",
              "      border-left-color: var(--fill-color);\n",
              "      border-top-color: var(--fill-color);\n",
              "    }\n",
              "    30% {\n",
              "      border-color: transparent;\n",
              "      border-left-color: var(--fill-color);\n",
              "      border-top-color: var(--fill-color);\n",
              "      border-right-color: var(--fill-color);\n",
              "    }\n",
              "    40% {\n",
              "      border-color: transparent;\n",
              "      border-right-color: var(--fill-color);\n",
              "      border-top-color: var(--fill-color);\n",
              "    }\n",
              "    60% {\n",
              "      border-color: transparent;\n",
              "      border-right-color: var(--fill-color);\n",
              "    }\n",
              "    80% {\n",
              "      border-color: transparent;\n",
              "      border-right-color: var(--fill-color);\n",
              "      border-bottom-color: var(--fill-color);\n",
              "    }\n",
              "    90% {\n",
              "      border-color: transparent;\n",
              "      border-bottom-color: var(--fill-color);\n",
              "    }\n",
              "  }\n",
              "</style>\n",
              "\n",
              "  <script>\n",
              "    async function quickchart(key) {\n",
              "      const quickchartButtonEl =\n",
              "        document.querySelector('#' + key + ' button');\n",
              "      quickchartButtonEl.disabled = true;  // To prevent multiple clicks.\n",
              "      quickchartButtonEl.classList.add('colab-df-spinner');\n",
              "      try {\n",
              "        const charts = await google.colab.kernel.invokeFunction(\n",
              "            'suggestCharts', [key], {});\n",
              "      } catch (error) {\n",
              "        console.error('Error during call to suggestCharts:', error);\n",
              "      }\n",
              "      quickchartButtonEl.classList.remove('colab-df-spinner');\n",
              "      quickchartButtonEl.classList.add('colab-df-quickchart-complete');\n",
              "    }\n",
              "    (() => {\n",
              "      let quickchartButtonEl =\n",
              "        document.querySelector('#df-f8f49162-8232-4189-b4c8-d7c9cfd876e1 button');\n",
              "      quickchartButtonEl.style.display =\n",
              "        google.colab.kernel.accessAllowed ? 'block' : 'none';\n",
              "    })();\n",
              "  </script>\n",
              "</div>\n",
              "\n",
              "    </div>\n",
              "  </div>\n"
            ],
            "application/vnd.google.colaboratory.intrinsic+json": {
              "type": "dataframe",
              "variable_name": "df"
            }
          },
          "metadata": {},
          "execution_count": 4
        }
      ]
    },
    {
      "cell_type": "code",
      "source": [
        "df.info()"
      ],
      "metadata": {
        "colab": {
          "base_uri": "https://localhost:8080/"
        },
        "id": "sT025A1cOowU",
        "outputId": "64d49ef9-4ee8-49d9-e39a-886c101868b5"
      },
      "execution_count": null,
      "outputs": [
        {
          "output_type": "stream",
          "name": "stdout",
          "text": [
            "<class 'pandas.core.frame.DataFrame'>\n",
            "RangeIndex: 4760 entries, 0 to 4759\n",
            "Data columns (total 21 columns):\n",
            " #   Column                    Non-Null Count  Dtype  \n",
            "---  ------                    --------------  -----  \n",
            " 0   Movie_ID                  4760 non-null   int64  \n",
            " 1   Movie_Title               4760 non-null   object \n",
            " 2   Movie_Genre               4760 non-null   object \n",
            " 3   Movie_Language            4760 non-null   object \n",
            " 4   Movie_Budget              4760 non-null   int64  \n",
            " 5   Movie_Popularity          4760 non-null   float64\n",
            " 6   Movie_Release_Date        4760 non-null   object \n",
            " 7   Movie_Revenue             4760 non-null   int64  \n",
            " 8   Movie_Runtime             4758 non-null   float64\n",
            " 9   Movie_Vote                4760 non-null   float64\n",
            " 10  Movie_Vote_Count          4760 non-null   int64  \n",
            " 11  Movie_Homepage            1699 non-null   object \n",
            " 12  Movie_Keywords            4373 non-null   object \n",
            " 13  Movie_Overview            4757 non-null   object \n",
            " 14  Movie_Production_House    4760 non-null   object \n",
            " 15  Movie_Production_Country  4760 non-null   object \n",
            " 16  Movie_Spoken_Language     4760 non-null   object \n",
            " 17  Movie_Tagline             3942 non-null   object \n",
            " 18  Movie_Cast                4733 non-null   object \n",
            " 19  Movie_Crew                4760 non-null   object \n",
            " 20  Movie_Director            4738 non-null   object \n",
            "dtypes: float64(3), int64(4), object(14)\n",
            "memory usage: 781.1+ KB\n"
          ]
        }
      ]
    },
    {
      "cell_type": "code",
      "source": [
        "df.describe()"
      ],
      "metadata": {
        "colab": {
          "base_uri": "https://localhost:8080/",
          "height": 320
        },
        "id": "4qY8ufzhOt7R",
        "outputId": "ffca183f-2496-435e-cce2-c46e0a6ddf22"
      },
      "execution_count": null,
      "outputs": [
        {
          "output_type": "execute_result",
          "data": {
            "text/plain": [
              "          Movie_ID  Movie_Budget  Movie_Popularity  Movie_Revenue  \\\n",
              "count  4760.000000  4.760000e+03       4760.000000   4.760000e+03   \n",
              "mean   2382.566387  2.920129e+07         21.599510   8.263743e+07   \n",
              "std    1377.270159  4.075620e+07         31.887919   1.630554e+08   \n",
              "min       1.000000  0.000000e+00          0.000372   0.000000e+00   \n",
              "25%    1190.750000  9.257500e+05          4.807074   0.000000e+00   \n",
              "50%    2380.500000  1.500000e+07         13.119058   1.944716e+07   \n",
              "75%    3572.250000  4.000000e+07         28.411929   9.341276e+07   \n",
              "max    4788.000000  3.800000e+08        875.581305   2.787965e+09   \n",
              "\n",
              "       Movie_Runtime   Movie_Vote  Movie_Vote_Count  \n",
              "count    4758.000000  4760.000000       4760.000000  \n",
              "mean      107.184111     6.113866        692.508403  \n",
              "std        21.960332     1.141294       1235.007337  \n",
              "min         0.000000     0.000000          0.000000  \n",
              "25%        94.000000     5.600000         55.000000  \n",
              "50%       104.000000     6.200000        238.000000  \n",
              "75%       118.000000     6.800000        740.250000  \n",
              "max       338.000000    10.000000      13752.000000  "
            ],
            "text/html": [
              "\n",
              "  <div id=\"df-82fcf693-712d-4497-95d4-695aa39bd5a3\" class=\"colab-df-container\">\n",
              "    <div>\n",
              "<style scoped>\n",
              "    .dataframe tbody tr th:only-of-type {\n",
              "        vertical-align: middle;\n",
              "    }\n",
              "\n",
              "    .dataframe tbody tr th {\n",
              "        vertical-align: top;\n",
              "    }\n",
              "\n",
              "    .dataframe thead th {\n",
              "        text-align: right;\n",
              "    }\n",
              "</style>\n",
              "<table border=\"1\" class=\"dataframe\">\n",
              "  <thead>\n",
              "    <tr style=\"text-align: right;\">\n",
              "      <th></th>\n",
              "      <th>Movie_ID</th>\n",
              "      <th>Movie_Budget</th>\n",
              "      <th>Movie_Popularity</th>\n",
              "      <th>Movie_Revenue</th>\n",
              "      <th>Movie_Runtime</th>\n",
              "      <th>Movie_Vote</th>\n",
              "      <th>Movie_Vote_Count</th>\n",
              "    </tr>\n",
              "  </thead>\n",
              "  <tbody>\n",
              "    <tr>\n",
              "      <th>count</th>\n",
              "      <td>4760.000000</td>\n",
              "      <td>4.760000e+03</td>\n",
              "      <td>4760.000000</td>\n",
              "      <td>4.760000e+03</td>\n",
              "      <td>4758.000000</td>\n",
              "      <td>4760.000000</td>\n",
              "      <td>4760.000000</td>\n",
              "    </tr>\n",
              "    <tr>\n",
              "      <th>mean</th>\n",
              "      <td>2382.566387</td>\n",
              "      <td>2.920129e+07</td>\n",
              "      <td>21.599510</td>\n",
              "      <td>8.263743e+07</td>\n",
              "      <td>107.184111</td>\n",
              "      <td>6.113866</td>\n",
              "      <td>692.508403</td>\n",
              "    </tr>\n",
              "    <tr>\n",
              "      <th>std</th>\n",
              "      <td>1377.270159</td>\n",
              "      <td>4.075620e+07</td>\n",
              "      <td>31.887919</td>\n",
              "      <td>1.630554e+08</td>\n",
              "      <td>21.960332</td>\n",
              "      <td>1.141294</td>\n",
              "      <td>1235.007337</td>\n",
              "    </tr>\n",
              "    <tr>\n",
              "      <th>min</th>\n",
              "      <td>1.000000</td>\n",
              "      <td>0.000000e+00</td>\n",
              "      <td>0.000372</td>\n",
              "      <td>0.000000e+00</td>\n",
              "      <td>0.000000</td>\n",
              "      <td>0.000000</td>\n",
              "      <td>0.000000</td>\n",
              "    </tr>\n",
              "    <tr>\n",
              "      <th>25%</th>\n",
              "      <td>1190.750000</td>\n",
              "      <td>9.257500e+05</td>\n",
              "      <td>4.807074</td>\n",
              "      <td>0.000000e+00</td>\n",
              "      <td>94.000000</td>\n",
              "      <td>5.600000</td>\n",
              "      <td>55.000000</td>\n",
              "    </tr>\n",
              "    <tr>\n",
              "      <th>50%</th>\n",
              "      <td>2380.500000</td>\n",
              "      <td>1.500000e+07</td>\n",
              "      <td>13.119058</td>\n",
              "      <td>1.944716e+07</td>\n",
              "      <td>104.000000</td>\n",
              "      <td>6.200000</td>\n",
              "      <td>238.000000</td>\n",
              "    </tr>\n",
              "    <tr>\n",
              "      <th>75%</th>\n",
              "      <td>3572.250000</td>\n",
              "      <td>4.000000e+07</td>\n",
              "      <td>28.411929</td>\n",
              "      <td>9.341276e+07</td>\n",
              "      <td>118.000000</td>\n",
              "      <td>6.800000</td>\n",
              "      <td>740.250000</td>\n",
              "    </tr>\n",
              "    <tr>\n",
              "      <th>max</th>\n",
              "      <td>4788.000000</td>\n",
              "      <td>3.800000e+08</td>\n",
              "      <td>875.581305</td>\n",
              "      <td>2.787965e+09</td>\n",
              "      <td>338.000000</td>\n",
              "      <td>10.000000</td>\n",
              "      <td>13752.000000</td>\n",
              "    </tr>\n",
              "  </tbody>\n",
              "</table>\n",
              "</div>\n",
              "    <div class=\"colab-df-buttons\">\n",
              "\n",
              "  <div class=\"colab-df-container\">\n",
              "    <button class=\"colab-df-convert\" onclick=\"convertToInteractive('df-82fcf693-712d-4497-95d4-695aa39bd5a3')\"\n",
              "            title=\"Convert this dataframe to an interactive table.\"\n",
              "            style=\"display:none;\">\n",
              "\n",
              "  <svg xmlns=\"http://www.w3.org/2000/svg\" height=\"24px\" viewBox=\"0 -960 960 960\">\n",
              "    <path d=\"M120-120v-720h720v720H120Zm60-500h600v-160H180v160Zm220 220h160v-160H400v160Zm0 220h160v-160H400v160ZM180-400h160v-160H180v160Zm440 0h160v-160H620v160ZM180-180h160v-160H180v160Zm440 0h160v-160H620v160Z\"/>\n",
              "  </svg>\n",
              "    </button>\n",
              "\n",
              "  <style>\n",
              "    .colab-df-container {\n",
              "      display:flex;\n",
              "      gap: 12px;\n",
              "    }\n",
              "\n",
              "    .colab-df-convert {\n",
              "      background-color: #E8F0FE;\n",
              "      border: none;\n",
              "      border-radius: 50%;\n",
              "      cursor: pointer;\n",
              "      display: none;\n",
              "      fill: #1967D2;\n",
              "      height: 32px;\n",
              "      padding: 0 0 0 0;\n",
              "      width: 32px;\n",
              "    }\n",
              "\n",
              "    .colab-df-convert:hover {\n",
              "      background-color: #E2EBFA;\n",
              "      box-shadow: 0px 1px 2px rgba(60, 64, 67, 0.3), 0px 1px 3px 1px rgba(60, 64, 67, 0.15);\n",
              "      fill: #174EA6;\n",
              "    }\n",
              "\n",
              "    .colab-df-buttons div {\n",
              "      margin-bottom: 4px;\n",
              "    }\n",
              "\n",
              "    [theme=dark] .colab-df-convert {\n",
              "      background-color: #3B4455;\n",
              "      fill: #D2E3FC;\n",
              "    }\n",
              "\n",
              "    [theme=dark] .colab-df-convert:hover {\n",
              "      background-color: #434B5C;\n",
              "      box-shadow: 0px 1px 3px 1px rgba(0, 0, 0, 0.15);\n",
              "      filter: drop-shadow(0px 1px 2px rgba(0, 0, 0, 0.3));\n",
              "      fill: #FFFFFF;\n",
              "    }\n",
              "  </style>\n",
              "\n",
              "    <script>\n",
              "      const buttonEl =\n",
              "        document.querySelector('#df-82fcf693-712d-4497-95d4-695aa39bd5a3 button.colab-df-convert');\n",
              "      buttonEl.style.display =\n",
              "        google.colab.kernel.accessAllowed ? 'block' : 'none';\n",
              "\n",
              "      async function convertToInteractive(key) {\n",
              "        const element = document.querySelector('#df-82fcf693-712d-4497-95d4-695aa39bd5a3');\n",
              "        const dataTable =\n",
              "          await google.colab.kernel.invokeFunction('convertToInteractive',\n",
              "                                                    [key], {});\n",
              "        if (!dataTable) return;\n",
              "\n",
              "        const docLinkHtml = 'Like what you see? Visit the ' +\n",
              "          '<a target=\"_blank\" href=https://colab.research.google.com/notebooks/data_table.ipynb>data table notebook</a>'\n",
              "          + ' to learn more about interactive tables.';\n",
              "        element.innerHTML = '';\n",
              "        dataTable['output_type'] = 'display_data';\n",
              "        await google.colab.output.renderOutput(dataTable, element);\n",
              "        const docLink = document.createElement('div');\n",
              "        docLink.innerHTML = docLinkHtml;\n",
              "        element.appendChild(docLink);\n",
              "      }\n",
              "    </script>\n",
              "  </div>\n",
              "\n",
              "\n",
              "<div id=\"df-906f9164-6842-48a8-875e-72652bdbfe15\">\n",
              "  <button class=\"colab-df-quickchart\" onclick=\"quickchart('df-906f9164-6842-48a8-875e-72652bdbfe15')\"\n",
              "            title=\"Suggest charts\"\n",
              "            style=\"display:none;\">\n",
              "\n",
              "<svg xmlns=\"http://www.w3.org/2000/svg\" height=\"24px\"viewBox=\"0 0 24 24\"\n",
              "     width=\"24px\">\n",
              "    <g>\n",
              "        <path d=\"M19 3H5c-1.1 0-2 .9-2 2v14c0 1.1.9 2 2 2h14c1.1 0 2-.9 2-2V5c0-1.1-.9-2-2-2zM9 17H7v-7h2v7zm4 0h-2V7h2v10zm4 0h-2v-4h2v4z\"/>\n",
              "    </g>\n",
              "</svg>\n",
              "  </button>\n",
              "\n",
              "<style>\n",
              "  .colab-df-quickchart {\n",
              "      --bg-color: #E8F0FE;\n",
              "      --fill-color: #1967D2;\n",
              "      --hover-bg-color: #E2EBFA;\n",
              "      --hover-fill-color: #174EA6;\n",
              "      --disabled-fill-color: #AAA;\n",
              "      --disabled-bg-color: #DDD;\n",
              "  }\n",
              "\n",
              "  [theme=dark] .colab-df-quickchart {\n",
              "      --bg-color: #3B4455;\n",
              "      --fill-color: #D2E3FC;\n",
              "      --hover-bg-color: #434B5C;\n",
              "      --hover-fill-color: #FFFFFF;\n",
              "      --disabled-bg-color: #3B4455;\n",
              "      --disabled-fill-color: #666;\n",
              "  }\n",
              "\n",
              "  .colab-df-quickchart {\n",
              "    background-color: var(--bg-color);\n",
              "    border: none;\n",
              "    border-radius: 50%;\n",
              "    cursor: pointer;\n",
              "    display: none;\n",
              "    fill: var(--fill-color);\n",
              "    height: 32px;\n",
              "    padding: 0;\n",
              "    width: 32px;\n",
              "  }\n",
              "\n",
              "  .colab-df-quickchart:hover {\n",
              "    background-color: var(--hover-bg-color);\n",
              "    box-shadow: 0 1px 2px rgba(60, 64, 67, 0.3), 0 1px 3px 1px rgba(60, 64, 67, 0.15);\n",
              "    fill: var(--button-hover-fill-color);\n",
              "  }\n",
              "\n",
              "  .colab-df-quickchart-complete:disabled,\n",
              "  .colab-df-quickchart-complete:disabled:hover {\n",
              "    background-color: var(--disabled-bg-color);\n",
              "    fill: var(--disabled-fill-color);\n",
              "    box-shadow: none;\n",
              "  }\n",
              "\n",
              "  .colab-df-spinner {\n",
              "    border: 2px solid var(--fill-color);\n",
              "    border-color: transparent;\n",
              "    border-bottom-color: var(--fill-color);\n",
              "    animation:\n",
              "      spin 1s steps(1) infinite;\n",
              "  }\n",
              "\n",
              "  @keyframes spin {\n",
              "    0% {\n",
              "      border-color: transparent;\n",
              "      border-bottom-color: var(--fill-color);\n",
              "      border-left-color: var(--fill-color);\n",
              "    }\n",
              "    20% {\n",
              "      border-color: transparent;\n",
              "      border-left-color: var(--fill-color);\n",
              "      border-top-color: var(--fill-color);\n",
              "    }\n",
              "    30% {\n",
              "      border-color: transparent;\n",
              "      border-left-color: var(--fill-color);\n",
              "      border-top-color: var(--fill-color);\n",
              "      border-right-color: var(--fill-color);\n",
              "    }\n",
              "    40% {\n",
              "      border-color: transparent;\n",
              "      border-right-color: var(--fill-color);\n",
              "      border-top-color: var(--fill-color);\n",
              "    }\n",
              "    60% {\n",
              "      border-color: transparent;\n",
              "      border-right-color: var(--fill-color);\n",
              "    }\n",
              "    80% {\n",
              "      border-color: transparent;\n",
              "      border-right-color: var(--fill-color);\n",
              "      border-bottom-color: var(--fill-color);\n",
              "    }\n",
              "    90% {\n",
              "      border-color: transparent;\n",
              "      border-bottom-color: var(--fill-color);\n",
              "    }\n",
              "  }\n",
              "</style>\n",
              "\n",
              "  <script>\n",
              "    async function quickchart(key) {\n",
              "      const quickchartButtonEl =\n",
              "        document.querySelector('#' + key + ' button');\n",
              "      quickchartButtonEl.disabled = true;  // To prevent multiple clicks.\n",
              "      quickchartButtonEl.classList.add('colab-df-spinner');\n",
              "      try {\n",
              "        const charts = await google.colab.kernel.invokeFunction(\n",
              "            'suggestCharts', [key], {});\n",
              "      } catch (error) {\n",
              "        console.error('Error during call to suggestCharts:', error);\n",
              "      }\n",
              "      quickchartButtonEl.classList.remove('colab-df-spinner');\n",
              "      quickchartButtonEl.classList.add('colab-df-quickchart-complete');\n",
              "    }\n",
              "    (() => {\n",
              "      let quickchartButtonEl =\n",
              "        document.querySelector('#df-906f9164-6842-48a8-875e-72652bdbfe15 button');\n",
              "      quickchartButtonEl.style.display =\n",
              "        google.colab.kernel.accessAllowed ? 'block' : 'none';\n",
              "    })();\n",
              "  </script>\n",
              "</div>\n",
              "\n",
              "    </div>\n",
              "  </div>\n"
            ],
            "application/vnd.google.colaboratory.intrinsic+json": {
              "type": "dataframe",
              "summary": "{\n  \"name\": \"df\",\n  \"rows\": 8,\n  \"fields\": [\n    {\n      \"column\": \"Movie_ID\",\n      \"properties\": {\n        \"dtype\": \"number\",\n        \"std\": 1720.2332807214548,\n        \"min\": 1.0,\n        \"max\": 4788.0,\n        \"num_unique_values\": 8,\n        \"samples\": [\n          2382.5663865546217,\n          2380.5,\n          4760.0\n        ],\n        \"semantic_type\": \"\",\n        \"description\": \"\"\n      }\n    },\n    {\n      \"column\": \"Movie_Budget\",\n      \"properties\": {\n        \"dtype\": \"number\",\n        \"std\": 129145160.11869688,\n        \"min\": 0.0,\n        \"max\": 380000000.0,\n        \"num_unique_values\": 8,\n        \"samples\": [\n          29201287.084033612,\n          15000000.0,\n          4760.0\n        ],\n        \"semantic_type\": \"\",\n        \"description\": \"\"\n      }\n    },\n    {\n      \"column\": \"Movie_Popularity\",\n      \"properties\": {\n        \"dtype\": \"number\",\n        \"std\": 1661.1040447605237,\n        \"min\": 0.000372,\n        \"max\": 4760.0,\n        \"num_unique_values\": 8,\n        \"samples\": [\n          21.599509934663867,\n          13.119057999999999,\n          4760.0\n        ],\n        \"semantic_type\": \"\",\n        \"description\": \"\"\n      }\n    },\n    {\n      \"column\": \"Movie_Revenue\",\n      \"properties\": {\n        \"dtype\": \"number\",\n        \"std\": 969366059.9423022,\n        \"min\": 0.0,\n        \"max\": 2787965087.0,\n        \"num_unique_values\": 7,\n        \"samples\": [\n          4760.0,\n          82637425.44285715,\n          93412759.75\n        ],\n        \"semantic_type\": \"\",\n        \"description\": \"\"\n      }\n    },\n    {\n      \"column\": \"Movie_Runtime\",\n      \"properties\": {\n        \"dtype\": \"number\",\n        \"std\": 1645.7876738678387,\n        \"min\": 0.0,\n        \"max\": 4758.0,\n        \"num_unique_values\": 8,\n        \"samples\": [\n          107.18411097099622,\n          104.0,\n          4758.0\n        ],\n        \"semantic_type\": \"\",\n        \"description\": \"\"\n      }\n    },\n    {\n      \"column\": \"Movie_Vote\",\n      \"properties\": {\n        \"dtype\": \"number\",\n        \"std\": 1681.106199712945,\n        \"min\": 0.0,\n        \"max\": 4760.0,\n        \"num_unique_values\": 8,\n        \"samples\": [\n          6.113865546218487,\n          6.2,\n          4760.0\n        ],\n        \"semantic_type\": \"\",\n        \"description\": \"\"\n      }\n    },\n    {\n      \"column\": \"Movie_Vote_Count\",\n      \"properties\": {\n        \"dtype\": \"number\",\n        \"std\": 4732.148341860835,\n        \"min\": 0.0,\n        \"max\": 13752.0,\n        \"num_unique_values\": 8,\n        \"samples\": [\n          692.5084033613446,\n          238.0,\n          4760.0\n        ],\n        \"semantic_type\": \"\",\n        \"description\": \"\"\n      }\n    }\n  ]\n}"
            }
          },
          "metadata": {},
          "execution_count": 6
        }
      ]
    },
    {
      "cell_type": "code",
      "source": [
        "df.shape"
      ],
      "metadata": {
        "colab": {
          "base_uri": "https://localhost:8080/"
        },
        "id": "ZFjgsRVbOx6E",
        "outputId": "ee930e34-fe45-4423-8874-859d3740cbb5"
      },
      "execution_count": null,
      "outputs": [
        {
          "output_type": "execute_result",
          "data": {
            "text/plain": [
              "(4760, 21)"
            ]
          },
          "metadata": {},
          "execution_count": 7
        }
      ]
    },
    {
      "cell_type": "code",
      "source": [
        "df.columns"
      ],
      "metadata": {
        "colab": {
          "base_uri": "https://localhost:8080/"
        },
        "id": "Y5t2JU4YO1Dx",
        "outputId": "7a3b1798-ad22-4749-b380-5b494a4eebe7"
      },
      "execution_count": null,
      "outputs": [
        {
          "output_type": "execute_result",
          "data": {
            "text/plain": [
              "Index(['Movie_ID', 'Movie_Title', 'Movie_Genre', 'Movie_Language',\n",
              "       'Movie_Budget', 'Movie_Popularity', 'Movie_Release_Date',\n",
              "       'Movie_Revenue', 'Movie_Runtime', 'Movie_Vote', 'Movie_Vote_Count',\n",
              "       'Movie_Homepage', 'Movie_Keywords', 'Movie_Overview',\n",
              "       'Movie_Production_House', 'Movie_Production_Country',\n",
              "       'Movie_Spoken_Language', 'Movie_Tagline', 'Movie_Cast', 'Movie_Crew',\n",
              "       'Movie_Director'],\n",
              "      dtype='object')"
            ]
          },
          "metadata": {},
          "execution_count": 8
        }
      ]
    },
    {
      "cell_type": "markdown",
      "source": [
        "## **Data** **Preprocessing**"
      ],
      "metadata": {
        "id": "THtqSMnaHloS"
      }
    },
    {
      "cell_type": "code",
      "source": [
        "df_features= df[['Movie_Genre','Movie_Keywords','Movie_Tagline','Movie_Cast','Movie_Director']].fillna('')"
      ],
      "metadata": {
        "id": "HPWz7LEUO-Yj"
      },
      "execution_count": null,
      "outputs": []
    },
    {
      "cell_type": "code",
      "source": [
        "df_features.shape"
      ],
      "metadata": {
        "colab": {
          "base_uri": "https://localhost:8080/"
        },
        "id": "_D3tLaSDPhnJ",
        "outputId": "b9baef70-313d-43b9-dd94-0668cd60c914"
      },
      "execution_count": null,
      "outputs": [
        {
          "output_type": "execute_result",
          "data": {
            "text/plain": [
              "(4760, 5)"
            ]
          },
          "metadata": {},
          "execution_count": 10
        }
      ]
    },
    {
      "cell_type": "code",
      "source": [
        "df_features"
      ],
      "metadata": {
        "colab": {
          "base_uri": "https://localhost:8080/",
          "height": 1000
        },
        "id": "eQ9QFjktPllU",
        "outputId": "07b45ea3-9d2e-4a98-bd8e-facedd864aad"
      },
      "execution_count": null,
      "outputs": [
        {
          "output_type": "execute_result",
          "data": {
            "text/plain": [
              "                           Movie_Genre  \\\n",
              "0                         Crime Comedy   \n",
              "1     Adventure Action Science Fiction   \n",
              "2                     Animation Family   \n",
              "3                 Comedy Drama Romance   \n",
              "4                                Drama   \n",
              "...                                ...   \n",
              "4755                            Horror   \n",
              "4756               Comedy Family Drama   \n",
              "4757                    Thriller Drama   \n",
              "4758                            Family   \n",
              "4759                       Documentary   \n",
              "\n",
              "                                         Movie_Keywords  \\\n",
              "0             hotel new year's eve witch bet hotel room   \n",
              "1           android galaxy hermit death star lightsaber   \n",
              "2     father son relationship harbor underwater fish...   \n",
              "3     vietnam veteran hippie mentally disabled runni...   \n",
              "4     male nudity female nudity adultery midlife cri...   \n",
              "...                                                 ...   \n",
              "4755                                                      \n",
              "4756                                                      \n",
              "4757                     christian film sex trafficking   \n",
              "4758                                                      \n",
              "4759  music actors legendary perfomer classic hollyw...   \n",
              "\n",
              "                                          Movie_Tagline  \\\n",
              "0     Twelve outrageous guests. Four scandalous requ...   \n",
              "1          A long time ago in a galaxy far, far away...   \n",
              "2     There are 3.7 trillion fish in the ocean, they...   \n",
              "3     The world will never be the same, once you've ...   \n",
              "4                                          Look closer.   \n",
              "...                                                 ...   \n",
              "4755                The hot spot where Satan's waitin'.   \n",
              "4756           It’s better to stand out than to fit in.   \n",
              "4757           She never knew it could happen to her...   \n",
              "4758                                                      \n",
              "4759                                                      \n",
              "\n",
              "                                             Movie_Cast     Movie_Director  \n",
              "0     Tim Roth Antonio Banderas Jennifer Beals Madon...     Allison Anders  \n",
              "1     Mark Hamill Harrison Ford Carrie Fisher Peter ...       George Lucas  \n",
              "2     Albert Brooks Ellen DeGeneres Alexander Gould ...     Andrew Stanton  \n",
              "3     Tom Hanks Robin Wright Gary Sinise Mykelti Wil...    Robert Zemeckis  \n",
              "4     Kevin Spacey Annette Bening Thora Birch Wes Be...         Sam Mendes  \n",
              "...                                                 ...                ...  \n",
              "4755  Lisa Hart Carroll Michael Des Barres Paul Drak...         Pece Dingo  \n",
              "4756  Roni Akurati Brighton Sharbino Jason Lee Anjul...       Frank Lotito  \n",
              "4757  Nicole Smolen Kim Baldwin Ariana Stephens Brys...       Jaco Booyens  \n",
              "4758                                                                        \n",
              "4759                                    Tony Oppedisano  Simon Napier-Bell  \n",
              "\n",
              "[4760 rows x 5 columns]"
            ],
            "text/html": [
              "\n",
              "  <div id=\"df-90c93204-9b7c-4d29-b3b4-ce9b362c1666\" class=\"colab-df-container\">\n",
              "    <div>\n",
              "<style scoped>\n",
              "    .dataframe tbody tr th:only-of-type {\n",
              "        vertical-align: middle;\n",
              "    }\n",
              "\n",
              "    .dataframe tbody tr th {\n",
              "        vertical-align: top;\n",
              "    }\n",
              "\n",
              "    .dataframe thead th {\n",
              "        text-align: right;\n",
              "    }\n",
              "</style>\n",
              "<table border=\"1\" class=\"dataframe\">\n",
              "  <thead>\n",
              "    <tr style=\"text-align: right;\">\n",
              "      <th></th>\n",
              "      <th>Movie_Genre</th>\n",
              "      <th>Movie_Keywords</th>\n",
              "      <th>Movie_Tagline</th>\n",
              "      <th>Movie_Cast</th>\n",
              "      <th>Movie_Director</th>\n",
              "    </tr>\n",
              "  </thead>\n",
              "  <tbody>\n",
              "    <tr>\n",
              "      <th>0</th>\n",
              "      <td>Crime Comedy</td>\n",
              "      <td>hotel new year's eve witch bet hotel room</td>\n",
              "      <td>Twelve outrageous guests. Four scandalous requ...</td>\n",
              "      <td>Tim Roth Antonio Banderas Jennifer Beals Madon...</td>\n",
              "      <td>Allison Anders</td>\n",
              "    </tr>\n",
              "    <tr>\n",
              "      <th>1</th>\n",
              "      <td>Adventure Action Science Fiction</td>\n",
              "      <td>android galaxy hermit death star lightsaber</td>\n",
              "      <td>A long time ago in a galaxy far, far away...</td>\n",
              "      <td>Mark Hamill Harrison Ford Carrie Fisher Peter ...</td>\n",
              "      <td>George Lucas</td>\n",
              "    </tr>\n",
              "    <tr>\n",
              "      <th>2</th>\n",
              "      <td>Animation Family</td>\n",
              "      <td>father son relationship harbor underwater fish...</td>\n",
              "      <td>There are 3.7 trillion fish in the ocean, they...</td>\n",
              "      <td>Albert Brooks Ellen DeGeneres Alexander Gould ...</td>\n",
              "      <td>Andrew Stanton</td>\n",
              "    </tr>\n",
              "    <tr>\n",
              "      <th>3</th>\n",
              "      <td>Comedy Drama Romance</td>\n",
              "      <td>vietnam veteran hippie mentally disabled runni...</td>\n",
              "      <td>The world will never be the same, once you've ...</td>\n",
              "      <td>Tom Hanks Robin Wright Gary Sinise Mykelti Wil...</td>\n",
              "      <td>Robert Zemeckis</td>\n",
              "    </tr>\n",
              "    <tr>\n",
              "      <th>4</th>\n",
              "      <td>Drama</td>\n",
              "      <td>male nudity female nudity adultery midlife cri...</td>\n",
              "      <td>Look closer.</td>\n",
              "      <td>Kevin Spacey Annette Bening Thora Birch Wes Be...</td>\n",
              "      <td>Sam Mendes</td>\n",
              "    </tr>\n",
              "    <tr>\n",
              "      <th>...</th>\n",
              "      <td>...</td>\n",
              "      <td>...</td>\n",
              "      <td>...</td>\n",
              "      <td>...</td>\n",
              "      <td>...</td>\n",
              "    </tr>\n",
              "    <tr>\n",
              "      <th>4755</th>\n",
              "      <td>Horror</td>\n",
              "      <td></td>\n",
              "      <td>The hot spot where Satan's waitin'.</td>\n",
              "      <td>Lisa Hart Carroll Michael Des Barres Paul Drak...</td>\n",
              "      <td>Pece Dingo</td>\n",
              "    </tr>\n",
              "    <tr>\n",
              "      <th>4756</th>\n",
              "      <td>Comedy Family Drama</td>\n",
              "      <td></td>\n",
              "      <td>It’s better to stand out than to fit in.</td>\n",
              "      <td>Roni Akurati Brighton Sharbino Jason Lee Anjul...</td>\n",
              "      <td>Frank Lotito</td>\n",
              "    </tr>\n",
              "    <tr>\n",
              "      <th>4757</th>\n",
              "      <td>Thriller Drama</td>\n",
              "      <td>christian film sex trafficking</td>\n",
              "      <td>She never knew it could happen to her...</td>\n",
              "      <td>Nicole Smolen Kim Baldwin Ariana Stephens Brys...</td>\n",
              "      <td>Jaco Booyens</td>\n",
              "    </tr>\n",
              "    <tr>\n",
              "      <th>4758</th>\n",
              "      <td>Family</td>\n",
              "      <td></td>\n",
              "      <td></td>\n",
              "      <td></td>\n",
              "      <td></td>\n",
              "    </tr>\n",
              "    <tr>\n",
              "      <th>4759</th>\n",
              "      <td>Documentary</td>\n",
              "      <td>music actors legendary perfomer classic hollyw...</td>\n",
              "      <td></td>\n",
              "      <td>Tony Oppedisano</td>\n",
              "      <td>Simon Napier-Bell</td>\n",
              "    </tr>\n",
              "  </tbody>\n",
              "</table>\n",
              "<p>4760 rows × 5 columns</p>\n",
              "</div>\n",
              "    <div class=\"colab-df-buttons\">\n",
              "\n",
              "  <div class=\"colab-df-container\">\n",
              "    <button class=\"colab-df-convert\" onclick=\"convertToInteractive('df-90c93204-9b7c-4d29-b3b4-ce9b362c1666')\"\n",
              "            title=\"Convert this dataframe to an interactive table.\"\n",
              "            style=\"display:none;\">\n",
              "\n",
              "  <svg xmlns=\"http://www.w3.org/2000/svg\" height=\"24px\" viewBox=\"0 -960 960 960\">\n",
              "    <path d=\"M120-120v-720h720v720H120Zm60-500h600v-160H180v160Zm220 220h160v-160H400v160Zm0 220h160v-160H400v160ZM180-400h160v-160H180v160Zm440 0h160v-160H620v160ZM180-180h160v-160H180v160Zm440 0h160v-160H620v160Z\"/>\n",
              "  </svg>\n",
              "    </button>\n",
              "\n",
              "  <style>\n",
              "    .colab-df-container {\n",
              "      display:flex;\n",
              "      gap: 12px;\n",
              "    }\n",
              "\n",
              "    .colab-df-convert {\n",
              "      background-color: #E8F0FE;\n",
              "      border: none;\n",
              "      border-radius: 50%;\n",
              "      cursor: pointer;\n",
              "      display: none;\n",
              "      fill: #1967D2;\n",
              "      height: 32px;\n",
              "      padding: 0 0 0 0;\n",
              "      width: 32px;\n",
              "    }\n",
              "\n",
              "    .colab-df-convert:hover {\n",
              "      background-color: #E2EBFA;\n",
              "      box-shadow: 0px 1px 2px rgba(60, 64, 67, 0.3), 0px 1px 3px 1px rgba(60, 64, 67, 0.15);\n",
              "      fill: #174EA6;\n",
              "    }\n",
              "\n",
              "    .colab-df-buttons div {\n",
              "      margin-bottom: 4px;\n",
              "    }\n",
              "\n",
              "    [theme=dark] .colab-df-convert {\n",
              "      background-color: #3B4455;\n",
              "      fill: #D2E3FC;\n",
              "    }\n",
              "\n",
              "    [theme=dark] .colab-df-convert:hover {\n",
              "      background-color: #434B5C;\n",
              "      box-shadow: 0px 1px 3px 1px rgba(0, 0, 0, 0.15);\n",
              "      filter: drop-shadow(0px 1px 2px rgba(0, 0, 0, 0.3));\n",
              "      fill: #FFFFFF;\n",
              "    }\n",
              "  </style>\n",
              "\n",
              "    <script>\n",
              "      const buttonEl =\n",
              "        document.querySelector('#df-90c93204-9b7c-4d29-b3b4-ce9b362c1666 button.colab-df-convert');\n",
              "      buttonEl.style.display =\n",
              "        google.colab.kernel.accessAllowed ? 'block' : 'none';\n",
              "\n",
              "      async function convertToInteractive(key) {\n",
              "        const element = document.querySelector('#df-90c93204-9b7c-4d29-b3b4-ce9b362c1666');\n",
              "        const dataTable =\n",
              "          await google.colab.kernel.invokeFunction('convertToInteractive',\n",
              "                                                    [key], {});\n",
              "        if (!dataTable) return;\n",
              "\n",
              "        const docLinkHtml = 'Like what you see? Visit the ' +\n",
              "          '<a target=\"_blank\" href=https://colab.research.google.com/notebooks/data_table.ipynb>data table notebook</a>'\n",
              "          + ' to learn more about interactive tables.';\n",
              "        element.innerHTML = '';\n",
              "        dataTable['output_type'] = 'display_data';\n",
              "        await google.colab.output.renderOutput(dataTable, element);\n",
              "        const docLink = document.createElement('div');\n",
              "        docLink.innerHTML = docLinkHtml;\n",
              "        element.appendChild(docLink);\n",
              "      }\n",
              "    </script>\n",
              "  </div>\n",
              "\n",
              "\n",
              "<div id=\"df-cbcb558d-d6a2-4b26-8f55-cc3c947428f3\">\n",
              "  <button class=\"colab-df-quickchart\" onclick=\"quickchart('df-cbcb558d-d6a2-4b26-8f55-cc3c947428f3')\"\n",
              "            title=\"Suggest charts\"\n",
              "            style=\"display:none;\">\n",
              "\n",
              "<svg xmlns=\"http://www.w3.org/2000/svg\" height=\"24px\"viewBox=\"0 0 24 24\"\n",
              "     width=\"24px\">\n",
              "    <g>\n",
              "        <path d=\"M19 3H5c-1.1 0-2 .9-2 2v14c0 1.1.9 2 2 2h14c1.1 0 2-.9 2-2V5c0-1.1-.9-2-2-2zM9 17H7v-7h2v7zm4 0h-2V7h2v10zm4 0h-2v-4h2v4z\"/>\n",
              "    </g>\n",
              "</svg>\n",
              "  </button>\n",
              "\n",
              "<style>\n",
              "  .colab-df-quickchart {\n",
              "      --bg-color: #E8F0FE;\n",
              "      --fill-color: #1967D2;\n",
              "      --hover-bg-color: #E2EBFA;\n",
              "      --hover-fill-color: #174EA6;\n",
              "      --disabled-fill-color: #AAA;\n",
              "      --disabled-bg-color: #DDD;\n",
              "  }\n",
              "\n",
              "  [theme=dark] .colab-df-quickchart {\n",
              "      --bg-color: #3B4455;\n",
              "      --fill-color: #D2E3FC;\n",
              "      --hover-bg-color: #434B5C;\n",
              "      --hover-fill-color: #FFFFFF;\n",
              "      --disabled-bg-color: #3B4455;\n",
              "      --disabled-fill-color: #666;\n",
              "  }\n",
              "\n",
              "  .colab-df-quickchart {\n",
              "    background-color: var(--bg-color);\n",
              "    border: none;\n",
              "    border-radius: 50%;\n",
              "    cursor: pointer;\n",
              "    display: none;\n",
              "    fill: var(--fill-color);\n",
              "    height: 32px;\n",
              "    padding: 0;\n",
              "    width: 32px;\n",
              "  }\n",
              "\n",
              "  .colab-df-quickchart:hover {\n",
              "    background-color: var(--hover-bg-color);\n",
              "    box-shadow: 0 1px 2px rgba(60, 64, 67, 0.3), 0 1px 3px 1px rgba(60, 64, 67, 0.15);\n",
              "    fill: var(--button-hover-fill-color);\n",
              "  }\n",
              "\n",
              "  .colab-df-quickchart-complete:disabled,\n",
              "  .colab-df-quickchart-complete:disabled:hover {\n",
              "    background-color: var(--disabled-bg-color);\n",
              "    fill: var(--disabled-fill-color);\n",
              "    box-shadow: none;\n",
              "  }\n",
              "\n",
              "  .colab-df-spinner {\n",
              "    border: 2px solid var(--fill-color);\n",
              "    border-color: transparent;\n",
              "    border-bottom-color: var(--fill-color);\n",
              "    animation:\n",
              "      spin 1s steps(1) infinite;\n",
              "  }\n",
              "\n",
              "  @keyframes spin {\n",
              "    0% {\n",
              "      border-color: transparent;\n",
              "      border-bottom-color: var(--fill-color);\n",
              "      border-left-color: var(--fill-color);\n",
              "    }\n",
              "    20% {\n",
              "      border-color: transparent;\n",
              "      border-left-color: var(--fill-color);\n",
              "      border-top-color: var(--fill-color);\n",
              "    }\n",
              "    30% {\n",
              "      border-color: transparent;\n",
              "      border-left-color: var(--fill-color);\n",
              "      border-top-color: var(--fill-color);\n",
              "      border-right-color: var(--fill-color);\n",
              "    }\n",
              "    40% {\n",
              "      border-color: transparent;\n",
              "      border-right-color: var(--fill-color);\n",
              "      border-top-color: var(--fill-color);\n",
              "    }\n",
              "    60% {\n",
              "      border-color: transparent;\n",
              "      border-right-color: var(--fill-color);\n",
              "    }\n",
              "    80% {\n",
              "      border-color: transparent;\n",
              "      border-right-color: var(--fill-color);\n",
              "      border-bottom-color: var(--fill-color);\n",
              "    }\n",
              "    90% {\n",
              "      border-color: transparent;\n",
              "      border-bottom-color: var(--fill-color);\n",
              "    }\n",
              "  }\n",
              "</style>\n",
              "\n",
              "  <script>\n",
              "    async function quickchart(key) {\n",
              "      const quickchartButtonEl =\n",
              "        document.querySelector('#' + key + ' button');\n",
              "      quickchartButtonEl.disabled = true;  // To prevent multiple clicks.\n",
              "      quickchartButtonEl.classList.add('colab-df-spinner');\n",
              "      try {\n",
              "        const charts = await google.colab.kernel.invokeFunction(\n",
              "            'suggestCharts', [key], {});\n",
              "      } catch (error) {\n",
              "        console.error('Error during call to suggestCharts:', error);\n",
              "      }\n",
              "      quickchartButtonEl.classList.remove('colab-df-spinner');\n",
              "      quickchartButtonEl.classList.add('colab-df-quickchart-complete');\n",
              "    }\n",
              "    (() => {\n",
              "      let quickchartButtonEl =\n",
              "        document.querySelector('#df-cbcb558d-d6a2-4b26-8f55-cc3c947428f3 button');\n",
              "      quickchartButtonEl.style.display =\n",
              "        google.colab.kernel.accessAllowed ? 'block' : 'none';\n",
              "    })();\n",
              "  </script>\n",
              "</div>\n",
              "\n",
              "  <div id=\"id_42a7d06d-091f-492e-8e00-4a9746e1b3ed\">\n",
              "    <style>\n",
              "      .colab-df-generate {\n",
              "        background-color: #E8F0FE;\n",
              "        border: none;\n",
              "        border-radius: 50%;\n",
              "        cursor: pointer;\n",
              "        display: none;\n",
              "        fill: #1967D2;\n",
              "        height: 32px;\n",
              "        padding: 0 0 0 0;\n",
              "        width: 32px;\n",
              "      }\n",
              "\n",
              "      .colab-df-generate:hover {\n",
              "        background-color: #E2EBFA;\n",
              "        box-shadow: 0px 1px 2px rgba(60, 64, 67, 0.3), 0px 1px 3px 1px rgba(60, 64, 67, 0.15);\n",
              "        fill: #174EA6;\n",
              "      }\n",
              "\n",
              "      [theme=dark] .colab-df-generate {\n",
              "        background-color: #3B4455;\n",
              "        fill: #D2E3FC;\n",
              "      }\n",
              "\n",
              "      [theme=dark] .colab-df-generate:hover {\n",
              "        background-color: #434B5C;\n",
              "        box-shadow: 0px 1px 3px 1px rgba(0, 0, 0, 0.15);\n",
              "        filter: drop-shadow(0px 1px 2px rgba(0, 0, 0, 0.3));\n",
              "        fill: #FFFFFF;\n",
              "      }\n",
              "    </style>\n",
              "    <button class=\"colab-df-generate\" onclick=\"generateWithVariable('df_features')\"\n",
              "            title=\"Generate code using this dataframe.\"\n",
              "            style=\"display:none;\">\n",
              "\n",
              "  <svg xmlns=\"http://www.w3.org/2000/svg\" height=\"24px\"viewBox=\"0 0 24 24\"\n",
              "       width=\"24px\">\n",
              "    <path d=\"M7,19H8.4L18.45,9,17,7.55,7,17.6ZM5,21V16.75L18.45,3.32a2,2,0,0,1,2.83,0l1.4,1.43a1.91,1.91,0,0,1,.58,1.4,1.91,1.91,0,0,1-.58,1.4L9.25,21ZM18.45,9,17,7.55Zm-12,3A5.31,5.31,0,0,0,4.9,8.1,5.31,5.31,0,0,0,1,6.5,5.31,5.31,0,0,0,4.9,4.9,5.31,5.31,0,0,0,6.5,1,5.31,5.31,0,0,0,8.1,4.9,5.31,5.31,0,0,0,12,6.5,5.46,5.46,0,0,0,6.5,12Z\"/>\n",
              "  </svg>\n",
              "    </button>\n",
              "    <script>\n",
              "      (() => {\n",
              "      const buttonEl =\n",
              "        document.querySelector('#id_42a7d06d-091f-492e-8e00-4a9746e1b3ed button.colab-df-generate');\n",
              "      buttonEl.style.display =\n",
              "        google.colab.kernel.accessAllowed ? 'block' : 'none';\n",
              "\n",
              "      buttonEl.onclick = () => {\n",
              "        google.colab.notebook.generateWithVariable('df_features');\n",
              "      }\n",
              "      })();\n",
              "    </script>\n",
              "  </div>\n",
              "\n",
              "    </div>\n",
              "  </div>\n"
            ],
            "application/vnd.google.colaboratory.intrinsic+json": {
              "type": "dataframe",
              "variable_name": "df_features",
              "summary": "{\n  \"name\": \"df_features\",\n  \"rows\": 4760,\n  \"fields\": [\n    {\n      \"column\": \"Movie_Genre\",\n      \"properties\": {\n        \"dtype\": \"category\",\n        \"num_unique_values\": 1164,\n        \"samples\": [\n          \"Family Animation Adventure\",\n          \"Adventure Science Fiction Action\",\n          \"Action Crime Drama Romance Thriller\"\n        ],\n        \"semantic_type\": \"\",\n        \"description\": \"\"\n      }\n    },\n    {\n      \"column\": \"Movie_Keywords\",\n      \"properties\": {\n        \"dtype\": \"string\",\n        \"num_unique_values\": 4203,\n        \"samples\": [\n          \"canada nazis sequel spin off ancient evil\",\n          \"sex professor wedding woman director columbia university\",\n          \"prophecy sea beach gold small town\"\n        ],\n        \"semantic_type\": \"\",\n        \"description\": \"\"\n      }\n    },\n    {\n      \"column\": \"Movie_Tagline\",\n      \"properties\": {\n        \"dtype\": \"string\",\n        \"num_unique_values\": 3928,\n        \"samples\": [\n          \"The messenger must be silenced.\",\n          \"It's not the house that's haunted.\",\n          \"The final hunt begins.\"\n        ],\n        \"semantic_type\": \"\",\n        \"description\": \"\"\n      }\n    },\n    {\n      \"column\": \"Movie_Cast\",\n      \"properties\": {\n        \"dtype\": \"string\",\n        \"num_unique_values\": 4715,\n        \"samples\": [\n          \"Robin Tunney Fairuza Balk Neve Campbell Rachel True Skeet Ulrich\",\n          \"Peter Sellers Christopher Plummer Herbert Lom Catherine Schell Peter Arne\",\n          \"John Wayne Laraine Day Cedric Hardwicke Judith Anderson Anthony Quinn\"\n        ],\n        \"semantic_type\": \"\",\n        \"description\": \"\"\n      }\n    },\n    {\n      \"column\": \"Movie_Director\",\n      \"properties\": {\n        \"dtype\": \"category\",\n        \"num_unique_values\": 2332,\n        \"samples\": [\n          \"Rob McKittrick\",\n          \"Terron R. Parsons\",\n          \"Cyrus Nowrasteh\"\n        ],\n        \"semantic_type\": \"\",\n        \"description\": \"\"\n      }\n    }\n  ]\n}"
            }
          },
          "metadata": {},
          "execution_count": 11
        }
      ]
    },
    {
      "cell_type": "markdown",
      "source": [
        "# **Define Target Variable (y) and Feature Variables (X)**"
      ],
      "metadata": {
        "id": "uTcVKaoZIDJp"
      }
    },
    {
      "cell_type": "code",
      "source": [
        "x=df_features['Movie_Genre']+' '+df_features['Movie_Keywords']+' '+df_features['Movie_Tagline']+' '+['Movie_Cast']+' '+['Movie_Director']"
      ],
      "metadata": {
        "id": "A4NbnI-nPquq"
      },
      "execution_count": null,
      "outputs": []
    },
    {
      "cell_type": "code",
      "source": [
        "x"
      ],
      "metadata": {
        "colab": {
          "base_uri": "https://localhost:8080/"
        },
        "id": "Y6UJc3IkQBMR",
        "outputId": "bc82aad3-5344-45e3-9f8c-0c485d882c0d"
      },
      "execution_count": null,
      "outputs": [
        {
          "output_type": "execute_result",
          "data": {
            "text/plain": [
              "0       Crime Comedy hotel new year's eve witch bet ho...\n",
              "1       Adventure Action Science Fiction android galax...\n",
              "2       Animation Family father son relationship harbo...\n",
              "3       Comedy Drama Romance vietnam veteran hippie me...\n",
              "4       Drama male nudity female nudity adultery midli...\n",
              "                              ...                        \n",
              "4755    Horror  The hot spot where Satan's waitin'. Mo...\n",
              "4756    Comedy Family Drama  It’s better to stand out ...\n",
              "4757    Thriller Drama christian film sex trafficking ...\n",
              "4758                   Family   Movie_Cast Movie_Director\n",
              "4759    Documentary music actors legendary perfomer cl...\n",
              "Length: 4760, dtype: object"
            ]
          },
          "metadata": {},
          "execution_count": 13
        }
      ]
    },
    {
      "cell_type": "code",
      "source": [
        "x.shape"
      ],
      "metadata": {
        "colab": {
          "base_uri": "https://localhost:8080/"
        },
        "id": "XHhRbi2pQDJp",
        "outputId": "080931af-8561-4822-b773-b19abd15dbaf"
      },
      "execution_count": null,
      "outputs": [
        {
          "output_type": "execute_result",
          "data": {
            "text/plain": [
              "(4760,)"
            ]
          },
          "metadata": {},
          "execution_count": 14
        }
      ]
    },
    {
      "cell_type": "code",
      "source": [
        "from sklearn.feature_extraction.text import TfidfVectorizer"
      ],
      "metadata": {
        "id": "_zYxncCCQFML"
      },
      "execution_count": null,
      "outputs": []
    },
    {
      "cell_type": "markdown",
      "source": [
        "# **Modeling**"
      ],
      "metadata": {
        "id": "hvwuDhiIIMov"
      }
    },
    {
      "cell_type": "code",
      "source": [
        "tfidf=TfidfVectorizer()"
      ],
      "metadata": {
        "id": "se96AM4kQPZp"
      },
      "execution_count": null,
      "outputs": []
    },
    {
      "cell_type": "code",
      "source": [
        "x=tfidf.fit_transform(x)"
      ],
      "metadata": {
        "id": "BaUM6AOgQVal"
      },
      "execution_count": null,
      "outputs": []
    },
    {
      "cell_type": "code",
      "source": [
        "x.shape"
      ],
      "metadata": {
        "colab": {
          "base_uri": "https://localhost:8080/"
        },
        "id": "sJIVDbCXQfG3",
        "outputId": "45369cda-0cdf-462d-9b36-0b4aa3e0ca52"
      },
      "execution_count": null,
      "outputs": [
        {
          "output_type": "execute_result",
          "data": {
            "text/plain": [
              "(4760, 7056)"
            ]
          },
          "metadata": {},
          "execution_count": 18
        }
      ]
    },
    {
      "cell_type": "code",
      "source": [
        "print(x)"
      ],
      "metadata": {
        "colab": {
          "base_uri": "https://localhost:8080/"
        },
        "id": "iH8jQApAQl2o",
        "outputId": "250d5b5f-a027-48a2-c4ad-8310501b5c26"
      },
      "execution_count": null,
      "outputs": [
        {
          "output_type": "stream",
          "name": "stdout",
          "text": [
            "  (0, 4110)\t0.025178696689710917\n",
            "  (0, 4109)\t0.025178696689710917\n",
            "  (0, 3627)\t0.09715807463163358\n",
            "  (0, 4339)\t0.07008745237264866\n",
            "  (0, 6900)\t0.19787371451398414\n",
            "  (0, 2467)\t0.09643084150391419\n",
            "  (0, 6879)\t0.11981743106220741\n",
            "  (0, 3354)\t0.1496081014842037\n",
            "  (0, 6245)\t0.11040095123903611\n",
            "  (0, 4363)\t0.08157147416413453\n",
            "  (0, 1643)\t0.1425504633220572\n",
            "  (0, 2408)\t0.128380261373308\n",
            "  (0, 2977)\t0.22217516806119145\n",
            "  (0, 3165)\t0.16527318590323875\n",
            "  (0, 661)\t0.22094472093143674\n",
            "  (0, 3682)\t0.180421171893337\n",
            "  (0, 4365)\t0.09261361256355514\n",
            "  (0, 305)\t0.08566056786436002\n",
            "  (0, 5123)\t0.22094472093143674\n",
            "  (0, 5389)\t0.22094472093143674\n",
            "  (0, 2502)\t0.16426012757429\n",
            "  (0, 2786)\t0.21073563795612044\n",
            "  (0, 4430)\t0.21073563795612044\n",
            "  (0, 6507)\t0.19787371451398414\n",
            "  (0, 5254)\t0.16426012757429\n",
            "  :\t:\n",
            "  (4757, 5519)\t0.23824596147907662\n",
            "  (4757, 2381)\t0.19900658116682968\n",
            "  (4757, 3469)\t0.3747470378449357\n",
            "  (4757, 2929)\t0.27298009253338756\n",
            "  (4757, 6292)\t0.1219444891710962\n",
            "  (4757, 6330)\t0.15547880308689588\n",
            "  (4757, 3304)\t0.18288307843333051\n",
            "  (4757, 4238)\t0.2317454563341612\n",
            "  (4757, 1920)\t0.09041536211921865\n",
            "  (4757, 4110)\t0.05229786450363764\n",
            "  (4757, 4109)\t0.05229786450363764\n",
            "  (4758, 2277)\t0.903882272935214\n",
            "  (4758, 4110)\t0.30248705482505484\n",
            "  (4758, 4109)\t0.30248705482505484\n",
            "  (4759, 5627)\t0.3982477426853708\n",
            "  (4759, 4584)\t0.3982477426853708\n",
            "  (4759, 159)\t0.37984610705150085\n",
            "  (4759, 3592)\t0.3566627879125369\n",
            "  (4759, 1239)\t0.32998666752219497\n",
            "  (4759, 3000)\t0.30993452208239586\n",
            "  (4759, 2511)\t0.3483883031560649\n",
            "  (4759, 1875)\t0.21475783247612984\n",
            "  (4759, 4142)\t0.18638856815960061\n",
            "  (4759, 4110)\t0.04538401767720292\n",
            "  (4759, 4109)\t0.04538401767720292\n"
          ]
        }
      ]
    },
    {
      "cell_type": "code",
      "source": [
        "from sklearn.metrics.pairwise import cosine_similarity"
      ],
      "metadata": {
        "id": "VAAv0fNe_Dfb"
      },
      "execution_count": null,
      "outputs": []
    },
    {
      "cell_type": "code",
      "source": [
        "similarity_score=cosine_similarity(x)"
      ],
      "metadata": {
        "id": "JEMXqSLd_MPq"
      },
      "execution_count": null,
      "outputs": []
    },
    {
      "cell_type": "code",
      "source": [
        "similarity_score"
      ],
      "metadata": {
        "colab": {
          "base_uri": "https://localhost:8080/"
        },
        "id": "TE8hKivS_ToC",
        "outputId": "fc92329c-74f6-4ac3-fc65-e291f1d71ea4"
      },
      "execution_count": null,
      "outputs": [
        {
          "output_type": "execute_result",
          "data": {
            "text/plain": [
              "array([[1.        , 0.02045882, 0.0515045 , ..., 0.00263358, 0.01523246,\n",
              "        0.00228542],\n",
              "       [0.02045882, 1.        , 0.01469609, ..., 0.00360992, 0.02087952,\n",
              "        0.00313268],\n",
              "       [0.0515045 , 0.01469609, 1.        , ..., 0.00348729, 0.11022181,\n",
              "        0.00302627],\n",
              "       ...,\n",
              "       [0.00263358, 0.00360992, 0.00348729, ..., 1.        , 0.03163885,\n",
              "        0.00474697],\n",
              "       [0.01523246, 0.02087952, 0.11022181, ..., 0.03163885, 1.        ,\n",
              "        0.02745616],\n",
              "       [0.00228542, 0.00313268, 0.00302627, ..., 0.00474697, 0.02745616,\n",
              "        1.        ]])"
            ]
          },
          "metadata": {},
          "execution_count": 22
        }
      ]
    },
    {
      "cell_type": "code",
      "source": [
        "similarity_score.shape"
      ],
      "metadata": {
        "colab": {
          "base_uri": "https://localhost:8080/"
        },
        "id": "O_Wr55fJ_aYf",
        "outputId": "1bff65f1-6f2b-4edd-8246-fa2d7ac8f11b"
      },
      "execution_count": null,
      "outputs": [
        {
          "output_type": "execute_result",
          "data": {
            "text/plain": [
              "(4760, 4760)"
            ]
          },
          "metadata": {},
          "execution_count": 23
        }
      ]
    },
    {
      "cell_type": "markdown",
      "source": [
        "# **Prediction**"
      ],
      "metadata": {
        "id": "WKfdTK75IrpF"
      }
    },
    {
      "cell_type": "code",
      "source": [
        "fav_movie_name= input('Enter your favorite movie name: ')"
      ],
      "metadata": {
        "colab": {
          "base_uri": "https://localhost:8080/"
        },
        "id": "X4BMOZVU_eGp",
        "outputId": "34369055-6435-4fd6-85ec-e21f8b5305a6"
      },
      "execution_count": null,
      "outputs": [
        {
          "name": "stdout",
          "output_type": "stream",
          "text": [
            "Enter your favorite movie name: avatar\n"
          ]
        }
      ]
    },
    {
      "cell_type": "code",
      "source": [
        "all_movies_title_list= df['Movie_Title'].tolist()"
      ],
      "metadata": {
        "id": "1Gg_5rWr_pZo"
      },
      "execution_count": null,
      "outputs": []
    },
    {
      "cell_type": "code",
      "source": [
        "import difflib"
      ],
      "metadata": {
        "id": "R8jYcSxM_2gw"
      },
      "execution_count": null,
      "outputs": []
    },
    {
      "cell_type": "code",
      "source": [
        "movie_recomm= difflib.get_close_matches(fav_movie_name,all_movies_title_list)"
      ],
      "metadata": {
        "id": "vG4v935Z_6be"
      },
      "execution_count": null,
      "outputs": []
    },
    {
      "cell_type": "code",
      "source": [
        "close_match=movie_recomm[0]\n",
        "print(close_match)"
      ],
      "metadata": {
        "colab": {
          "base_uri": "https://localhost:8080/"
        },
        "id": "SQg9dXaTAKts",
        "outputId": "4c8a962d-2514-434d-bdb9-a2ec0792064e"
      },
      "execution_count": null,
      "outputs": [
        {
          "output_type": "stream",
          "name": "stdout",
          "text": [
            "Avatar\n"
          ]
        }
      ]
    },
    {
      "cell_type": "code",
      "source": [
        "index_of_close_match_movie=df[df.Movie_Title == close_match]['Movie_ID'].values[0]\n",
        "print(index_of_close_match_movie)"
      ],
      "metadata": {
        "colab": {
          "base_uri": "https://localhost:8080/"
        },
        "id": "hrnCWRT3AgLF",
        "outputId": "a373df6c-8e26-4575-db2e-d293c429d6d1"
      },
      "execution_count": null,
      "outputs": [
        {
          "output_type": "stream",
          "name": "stdout",
          "text": [
            "2692\n"
          ]
        }
      ]
    },
    {
      "cell_type": "code",
      "source": [
        "recomm_score= list(enumerate(similarity_score[index_of_close_match_movie]))\n",
        "print(recomm_score)"
      ],
      "metadata": {
        "colab": {
          "base_uri": "https://localhost:8080/"
        },
        "id": "b52wUA82BS37",
        "outputId": "b2b058ba-fa82-448e-ba5d-75341c8a7205"
      },
      "execution_count": null,
      "outputs": [
        {
          "output_type": "stream",
          "name": "stdout",
          "text": [
            "[(0, 0.015996041168755783), (1, 0.0024245877418126), (2, 0.002342224977674417), (3, 0.014862116771520675), (4, 0.008640111884219428), (5, 0.02269319420473525), (6, 0.012513323389886873), (7, 0.02615293559645559), (8, 0.009728292320195132), (9, 0.012931782731004891), (10, 0.018243179791459823), (11, 0.0072547174688500134), (12, 0.008927370653089827), (13, 0.024467936622744504), (14, 0.002653516675137679), (15, 0.039030703259933804), (16, 0.018224858512940142), (17, 0.003360473855840457), (18, 0.025009628095919813), (19, 0.019059521237834113), (20, 0.008045346775312719), (21, 0.03429221072768188), (22, 0.01462885300477681), (23, 0.008026781334703312), (24, 0.004139835623251716), (25, 0.014458552511703504), (26, 0.007754197974767249), (27, 0.011624891733081621), (28, 0.0029152455289948053), (29, 0.04761306381287764), (30, 0.012040902816101933), (31, 0.013890824897701007), (32, 0.01908796897278994), (33, 0.040623952402667036), (34, 0.017811432132047143), (35, 0.012087440211723397), (36, 0.0026928968275324694), (37, 0.002584204857446215), (38, 0.019780514403016276), (39, 0.010595143619220086), (40, 0.0314607983391164), (41, 0.008403597564594243), (42, 0.016683013992980198), (43, 0.026980534190970178), (44, 0.07314748577339819), (45, 0.14410615300094648), (46, 0.03543332212086596), (47, 0.01902859990381646), (48, 0.03484992337581162), (49, 0.002751727320743369), (50, 0.01410307539692972), (51, 0.031024958361661796), (52, 0.025072130580604986), (53, 0.0026174229905618403), (54, 0.0029282868928440856), (55, 0.0031630078706476527), (56, 0.014692473117745838), (57, 0.0243797079940289), (58, 0.0028673341809396604), (59, 0.0029933444858048744), (60, 0.015382263670694306), (61, 0.03421543682834384), (62, 0.12173528262063285), (63, 0.016330122479111565), (64, 0.002973835566707185), (65, 0.0580095542827131), (66, 0.007860851188776077), (67, 0.0769137894334684), (68, 0.042862438525326466), (69, 0.019965081934187598), (70, 0.02569169807714187), (71, 0.007597332366931472), (72, 0.021034344754711068), (73, 0.0022709452058555114), (74, 0.009215878843438306), (75, 0.025277327219184874), (76, 0.008705757457913414), (77, 0.007273569550189848), (78, 0.018307471799661162), (79, 0.018502810688295075), (80, 0.009606159585676526), (81, 0.015043612490670797), (82, 0.019738825344481403), (83, 0.03859242109074918), (84, 0.0634295675508405), (85, 0.030126780150633505), (86, 0.020735663911841985), (87, 0.024986915397185033), (88, 0.03640426944081073), (89, 0.029013599716609703), (90, 0.010683344509308013), (91, 0.0022671739182535634), (92, 0.006744535496800024), (93, 0.012010158561817051), (94, 0.010931266776761825), (95, 0.012058356394573028), (96, 0.01700053698347169), (97, 0.006141235551227156), (98, 0.0070850531883959594), (99, 0.02077138366741079), (100, 0.0037542398145344784), (101, 0.003529620826518121), (102, 0.012563634433301767), (103, 0.00863821990919496), (104, 0.019183730037593247), (105, 0.02374727353662251), (106, 0.02900836810456282), (107, 0.018102765369508108), (108, 0.06083944107312425), (109, 0.07119773968254074), (110, 0.0032291657130238214), (111, 0.01673131707074675), (112, 0.06067414261546479), (113, 0.013988471820306055), (114, 0.007147822825133507), (115, 0.007741745392647763), (116, 0.044136506719322136), (117, 0.003113276049293629), (118, 0.01158167061426277), (119, 0.017190993315130507), (120, 0.023306036458798737), (121, 0.006402583510028885), (122, 0.01323542036483456), (123, 0.0349049889117114), (124, 0.044221597584092505), (125, 0.03025203337153902), (126, 0.06571147409086495), (127, 0.008179849268821012), (128, 0.012036483067181615), (129, 0.004215551059565032), (130, 0.024145165444647138), (131, 0.014695933938594911), (132, 0.0068536355002053635), (133, 0.0045897903154054195), (134, 0.0035030469680908333), (135, 0.011429574738296666), (136, 0.006600650992350837), (137, 0.09303861116289544), (138, 0.026142954063461867), (139, 0.021173213452191746), (140, 0.009565751071624252), (141, 0.0032737008406072453), (142, 0.03562497223189895), (143, 0.016980009789057313), (144, 0.03140028226366041), (145, 0.037113337140138966), (146, 0.0036934522075052446), (147, 0.03073046630807893), (148, 0.020032027173197874), (149, 0.03097684603652812), (150, 0.00271272430271587), (151, 0.003054976861348585), (152, 0.010407610097340234), (153, 0.00431676901930052), (154, 0.0062118660943872965), (155, 0.00961560721017506), (156, 0.015421250255576054), (157, 0.011806467015831974), (158, 0.007507707004172683), (159, 0.01631619912352376), (160, 0.03321103074245742), (161, 0.024100896284241932), (162, 0.01701265554717099), (163, 0.0022821777965724662), (164, 0.01894447548790979), (165, 0.007444129850093309), (166, 0.05229442083597649), (167, 0.006837199171865736), (168, 0.012003257018626723), (169, 0.008059244929851132), (170, 0.021801457202010086), (171, 0.0029678063295213953), (172, 0.0909609573557439), (173, 0.03365894237596719), (174, 0.022952869156821792), (175, 0.04149831757578232), (176, 0.009086818948014195), (177, 0.012937359128145117), (178, 0.008452119349453426), (179, 0.06016263598801097), (180, 0.016172788938799743), (181, 0.02709561877725), (182, 0.01815466831810543), (183, 0.0177106535730166), (184, 0.005962581527006497), (185, 0.0128901306220563), (186, 0.002678580912195226), (187, 0.009818486840250986), (188, 0.003500597204784216), (189, 0.011413991537504884), (190, 0.02961812988507389), (191, 0.010292619626279783), (192, 0.008716341750934078), (193, 0.050832434316301925), (194, 0.005370458603771354), (195, 0.006513364688402676), (196, 0.005702179468698787), (197, 0.024511342651437826), (198, 0.008149642176851726), (199, 0.04068999633387354), (200, 0.013802468803194376), (201, 0.02474189060476452), (202, 0.004455873210944009), (203, 0.03200800458972442), (204, 0.03491415828064451), (205, 0.003675070598780655), (206, 0.020965068999510665), (207, 0.027768279728171273), (208, 0.03212390146695831), (209, 0.03454301657925827), (210, 0.04342673292919491), (211, 0.008034093593998122), (212, 0.03085792845597697), (213, 0.09473587991864969), (214, 0.002566066829987881), (215, 0.006412913229085135), (216, 0.019934779803684896), (217, 0.014496750410812312), (218, 0.02827558901660493), (219, 0.003259737179815523), (220, 0.012964907219381774), (221, 0.007758988921659331), (222, 0.030992895218985683), (223, 0.0029124446377229983), (224, 0.018807476734367914), (225, 0.003518356984096167), (226, 0.008463364248302956), (227, 0.10491273807656443), (228, 0.004865996066553155), (229, 0.006860352108640131), (230, 0.013660043149565239), (231, 0.028169540737225576), (232, 0.01708942968339455), (233, 0.011468707444469137), (234, 0.009249750828565419), (235, 0.008082987633187069), (236, 0.027185141027555558), (237, 0.002175800352631648), (238, 0.016877987888818738), (239, 0.011805451110998962), (240, 0.010433626936808759), (241, 0.011656586586642032), (242, 0.01775843660661741), (243, 0.018623147344786678), (244, 0.02183250104436893), (245, 0.0027939033474287064), (246, 0.007816281698228901), (247, 0.007466752183405453), (248, 0.014201335089260707), (249, 0.006005006919598713), (250, 0.012966290966981354), (251, 0.025556472618881235), (252, 0.03492555291719783), (253, 0.008961717721386112), (254, 0.026131979951143764), (255, 0.016099266903130578), (256, 0.015265180973110765), (257, 0.0023364631656974688), (258, 0.00294291277528314), (259, 0.003200279021368162), (260, 0.011432445645279557), (261, 0.04284476294164334), (262, 0.009528823705734199), (263, 0.013087343252542658), (264, 0.0030893556122912245), (265, 0.003355868816924535), (266, 0.018677937243341255), (267, 0.006712798162550794), (268, 0.006923122731295414), (269, 0.04235030180192897), (270, 0.021353082556747914), (271, 0.01887584424274072), (272, 0.003482364234544333), (273, 0.023233672555174535), (274, 0.027607536418398353), (275, 0.0030989591818444406), (276, 0.024881479151724922), (277, 0.07431256994529502), (278, 0.0057069287345114655), (279, 0.030006825269935915), (280, 0.030217551709447586), (281, 0.026207495318887403), (282, 0.0613779454452294), (283, 0.011340516946201583), (284, 0.010596403329548691), (285, 0.01684726719333714), (286, 0.005688464732765305), (287, 0.031023217084146203), (288, 0.019853279711207802), (289, 0.008579849006331401), (290, 0.009407270635051822), (291, 0.022303001584282944), (292, 0.09930050064326108), (293, 0.005595670812757078), (294, 0.009013971307208431), (295, 0.00876516361051288), (296, 0.03331432252384013), (297, 0.003105971180332211), (298, 0.0030602364269414714), (299, 0.0031199582947331454), (300, 0.012951823446885058), (301, 0.015470875918755338), (302, 0.0024377107552025525), (303, 0.012601075509741311), (304, 0.019970357672756633), (305, 0.011086657496947148), (306, 0.009980105900085596), (307, 0.01583664006065675), (308, 0.008582313931764078), (309, 0.014211762896091391), (310, 0.011325250214044541), (311, 0.014660153747722438), (312, 0.0030501489681323854), (313, 0.025265935280621325), (314, 0.008993559672900777), (315, 0.011304370582713132), (316, 0.010460495224040647), (317, 0.02597564014594682), (318, 0.00891946112637296), (319, 0.0022234685096289017), (320, 0.0109243903850923), (321, 0.024729226139169336), (322, 0.0233851860969689), (323, 0.009106230806119399), (324, 0.006777498831827563), (325, 0.006657377718473209), (326, 0.011926501165528411), (327, 0.01922133709392221), (328, 0.07587084499350433), (329, 0.0367853549713531), (330, 0.03193984445638288), (331, 0.0029743796512920195), (332, 0.02202963794542536), (333, 0.01903085206409007), (334, 0.05604575450769439), (335, 0.002883016144218791), (336, 0.010033065291445367), (337, 0.0026058258831290716), (338, 0.002675077968330674), (339, 0.002929310427554501), (340, 0.01592615061900995), (341, 0.02643042346488872), (342, 0.03613080191006923), (343, 0.0327074709328176), (344, 0.003145837287851194), (345, 0.043778668921520957), (346, 0.018453406789637625), (347, 0.011062126263787567), (348, 0.007307903658517868), (349, 0.006542634237357154), (350, 0.017383332226062087), (351, 0.004938802120065004), (352, 0.002583506332248192), (353, 0.01841986949457894), (354, 0.02017904158566674), (355, 0.006696183131247117), (356, 0.025822553524831607), (357, 0.0063143829023299125), (358, 0.03302906469334915), (359, 0.006752539078352063), (360, 0.06814467528414259), (361, 0.0030134992893170154), (362, 0.003393160603429376), (363, 0.015546702308123023), (364, 0.03249185322782143), (365, 0.0038257690233290775), (366, 0.0023369588511115585), (367, 0.013792700176203963), (368, 0.020232924080945604), (369, 0.010335859687266032), (370, 0.026674295175384888), (371, 0.05335644617547183), (372, 0.007360858898499175), (373, 0.0065623128798392525), (374, 0.030269139494441155), (375, 0.011638323948923163), (376, 0.002443400707090437), (377, 0.007718571927569367), (378, 0.008394869113210596), (379, 0.0028502863007744818), (380, 0.014992132492750141), (381, 0.04348705471264043), (382, 0.0027570650064792715), (383, 0.0025241299519194226), (384, 0.003287625516969589), (385, 0.01718411501044131), (386, 0.014844031102658193), (387, 0.05582331983893122), (388, 0.006701445364620803), (389, 0.01146723710321907), (390, 0.0027787988669507597), (391, 0.005013258476696958), (392, 0.0031922002885312406), (393, 0.0026569113732072274), (394, 0.0025531751344452713), (395, 0.008297494283953408), (396, 0.023488737571663414), (397, 0.009808594807128536), (398, 0.0032714990564644817), (399, 0.0071305119968772795), (400, 0.0077074004968847604), (401, 0.0023719521018752136), (402, 0.026773053993942073), (403, 0.01630868102242466), (404, 0.00290465326387955), (405, 0.0032394241749791283), (406, 0.03683728166658039), (407, 0.022130875438068756), (408, 0.017603901806661482), (409, 0.03066745164259457), (410, 0.0065493457438095), (411, 0.00275413669784356), (412, 0.0730914748132001), (413, 0.016009545116677), (414, 0.00977446773716602), (415, 0.003555438945411697), (416, 0.006855720425784664), (417, 0.01993758927053064), (418, 0.02540453556719784), (419, 0.009543353303563668), (420, 0.01287823369078249), (421, 0.0018879857510830926), (422, 0.014225835721614535), (423, 0.003034879305563715), (424, 0.014802443673807555), (425, 0.013660734268290762), (426, 0.009782995399432568), (427, 0.003157195184611191), (428, 0.01826884242805694), (429, 0.03903066241026519), (430, 0.008322943776601047), (431, 0.010872143783240498), (432, 0.005665636748173751), (433, 0.027737449249437475), (434, 0.018189008520770468), (435, 0.01851659250177612), (436, 0.01811169100116672), (437, 0.037338769764432796), (438, 0.07624348705751621), (439, 0.0029245064875522524), (440, 0.0021860045202168293), (441, 0.01556878600268936), (442, 0.03931397189287838), (443, 0.019219200370735268), (444, 0.009106643234499693), (445, 0.019157470787415497), (446, 0.019831348802930856), (447, 0.029487029529067874), (448, 0.008332749678101107), (449, 0.018877529375311498), (450, 0.038809539316921424), (451, 0.011068910696906801), (452, 0.02237466171200052), (453, 0.008260048504295011), (454, 0.002560037247438353), (455, 0.03614583554738506), (456, 0.007456114456174321), (457, 0.0070175773259808045), (458, 0.034884074882597316), (459, 0.003377171080906894), (460, 0.010406783989577145), (461, 0.02036809167700661), (462, 0.006640711576268742), (463, 0.034595906754803986), (464, 0.02426936566983685), (465, 0.053027952598840626), (466, 0.00805942374833817), (467, 0.011503139598647835), (468, 0.02097652926095057), (469, 0.009068795865678783), (470, 0.0337386604974715), (471, 0.007695106951514296), (472, 0.02014084227513522), (473, 0.008939114821557298), (474, 0.015408564109526356), (475, 0.005182014190422661), (476, 0.009483696726644952), (477, 0.010558581148867957), (478, 0.010953895925261895), (479, 0.023589346742004816), (480, 0.007533687775707202), (481, 0.030538375434491442), (482, 0.03152866353927057), (483, 0.024685890449754458), (484, 0.005860116980107847), (485, 0.022289636343297684), (486, 0.003125445391238894), (487, 0.012226060756170453), (488, 0.00817729098787144), (489, 0.010738369250133085), (490, 0.007346415716133943), (491, 0.004002016883354235), (492, 0.002683814990752192), (493, 0.017637434848448548), (494, 0.01579517158242199), (495, 0.007386114602773102), (496, 0.023476545297651474), (497, 0.014678285765951014), (498, 0.0035904971524597304), (499, 0.008320660037157533), (500, 0.02170313347719037), (501, 0.019629261258770854), (502, 0.02826810435621908), (503, 0.015153505619270622), (504, 0.008423451266573293), (505, 0.007195781854723553), (506, 0.0022994355199298603), (507, 0.0069606583725221865), (508, 0.01035103132840922), (509, 0.015226862437406518), (510, 0.027190654652403876), (511, 0.031404816519546), (512, 0.014567152150395607), (513, 0.012392228905901269), (514, 0.014857061668193096), (515, 0.03988389658396982), (516, 0.0031861413378097897), (517, 0.0036380931324361764), (518, 0.01056799309965161), (519, 0.05510462520831336), (520, 0.002300287556728035), (521, 0.01262969429180126), (522, 0.007067680055493809), (523, 0.024760899025680405), (524, 0.006871236775552698), (525, 0.003241837028910865), (526, 0.016188830600935476), (527, 0.025310623076001237), (528, 0.003058647560519907), (529, 0.0030441380470779523), (530, 0.052242064211925475), (531, 0.003947405236997316), (532, 0.021470889634485832), (533, 0.038312241849186496), (534, 0.030377948307991752), (535, 0.0028333159591364303), (536, 0.003629408803468421), (537, 0.027684929109699555), (538, 0.018774632730621736), (539, 0.014557600905881134), (540, 0.06196657507075939), (541, 0.006859019644873049), (542, 0.01645679602570819), (543, 0.02808056982221002), (544, 0.019909411661715903), (545, 0.024909046783239727), (546, 0.0028475071939506754), (547, 0.02948185577962427), (548, 0.0032432846302200163), (549, 0.0027941241188697177), (550, 0.011224199588676225), (551, 0.030999637727772037), (552, 0.0031818849948391497), (553, 0.029657407180547036), (554, 0.0027916784762835782), (555, 0.020506797338866914), (556, 0.003424087204687974), (557, 0.003079326778581566), (558, 0.01967889329269629), (559, 0.01082418898689046), (560, 0.022257984597156374), (561, 0.009699394324888758), (562, 0.010164454753452786), (563, 0.012517052555961312), (564, 0.00846734973406136), (565, 0.0026192331213410213), (566, 0.03353949692578392), (567, 0.0028405712049949677), (568, 0.014191500175963316), (569, 0.0025784962895747977), (570, 0.0059230065754863215), (571, 0.010126456525708422), (572, 0.003287177741349598), (573, 0.002613709155572283), (574, 0.0036992916363961076), (575, 0.0024089899350365576), (576, 0.00920971065786871), (577, 0.002616308006383601), (578, 0.06120876140241555), (579, 0.008852114232604716), (580, 0.01703910163446396), (581, 0.012664148049925364), (582, 0.01729458403469559), (583, 0.012472889522033636), (584, 0.03144148656039583), (585, 0.002912442725604139), (586, 0.02793054139518757), (587, 0.009560658810089162), (588, 0.008081147856349322), (589, 0.006763198801494294), (590, 0.10498825663076734), (591, 0.0035047083515617077), (592, 0.0030728390544795354), (593, 0.008111513078449371), (594, 0.0064370317474098104), (595, 0.013557317035990989), (596, 0.00924378431563542), (597, 0.017113951640912943), (598, 0.006602760156825942), (599, 0.003409809657142076), (600, 0.015873980221704408), (601, 0.002237134258925788), (602, 0.0021124394180510146), (603, 0.0032230398323095815), (604, 0.02603335950727525), (605, 0.0060401374611922624), (606, 0.016305170158675615), (607, 0.00546304889938154), (608, 0.014842267889329085), (609, 0.022646260225978404), (610, 0.003307530028979056), (611, 0.010928455820986794), (612, 0.00843656961452245), (613, 0.04375841495252861), (614, 0.008783167904640742), (615, 0.015271251821833795), (616, 0.014970142397497988), (617, 0.01244007951858261), (618, 0.01336965832969294), (619, 0.010637477830957892), (620, 0.029536484083245544), (621, 0.018926336491491128), (622, 0.028692663908684402), (623, 0.00844654949848208), (624, 0.009029893951671147), (625, 0.00905585196192271), (626, 0.0055160892247480475), (627, 0.010220582579498372), (628, 0.1438523340757357), (629, 0.05803086861218575), (630, 0.0033438575449090307), (631, 0.02004801813018068), (632, 0.014698117257824115), (633, 0.011511118695877185), (634, 0.01277773732699509), (635, 0.025897494546975576), (636, 0.015700802940664445), (637, 0.018092633388852593), (638, 0.03150056395770645), (639, 0.008135212474150208), (640, 0.008326437515721182), (641, 0.014381402238991637), (642, 0.012132445737145822), (643, 0.035685774786902026), (644, 0.021152986855739075), (645, 0.0072234102761009975), (646, 0.009176803150256058), (647, 0.006981253905544826), (648, 0.023148697549981532), (649, 0.0026532639808238647), (650, 0.003080837178364158), (651, 0.01960629786366993), (652, 0.030790956388751956), (653, 0.02172661636717206), (654, 0.026609117931144007), (655, 0.00769235009839551), (656, 0.0031848573394249514), (657, 0.04291665528552785), (658, 0.003185785113825713), (659, 0.006670200967584842), (660, 0.016983387678446232), (661, 0.009897378751103404), (662, 0.0029811624790516684), (663, 0.0036382760791289852), (664, 0.021673163684418816), (665, 0.00286129273663389), (666, 0.013479698018752173), (667, 0.028916672564181102), (668, 0.01630956813843205), (669, 0.036005509891255616), (670, 0.062121745317126664), (671, 0.015581551575864362), (672, 0.007362400812532526), (673, 0.03247152509654288), (674, 0.0033499180583009907), (675, 0.1278148963123481), (676, 0.025337296713057393), (677, 0.03217984815663453), (678, 0.027057665167862285), (679, 0.003772938204799129), (680, 0.007764033876826014), (681, 0.003975255728172549), (682, 0.035204266349550636), (683, 0.02356445284552288), (684, 0.019999473046499544), (685, 0.01158962604003305), (686, 0.003275322721435271), (687, 0.014694000768192387), (688, 0.018735177611011705), (689, 0.03744339609535294), (690, 0.00954045925852592), (691, 0.04156319525971729), (692, 0.027563518473273273), (693, 0.010206127250410422), (694, 0.06993118216666044), (695, 0.024140709176989156), (696, 0.016587811715904763), (697, 0.0189771294281493), (698, 0.007172347619994069), (699, 0.0024575203328469236), (700, 0.003338435153852088), (701, 0.034916859608843186), (702, 0.0026717529448455003), (703, 0.00582760304913991), (704, 0.004050322106147296), (705, 0.015203002465641638), (706, 0.037660469675196394), (707, 0.006586105196855945), (708, 0.0031432527927700406), (709, 0.0021709512734054076), (710, 0.05646083503382654), (711, 0.003996762456134246), (712, 0.0062306903749062325), (713, 0.0028218586391502406), (714, 0.002778126574343299), (715, 0.025153044767456657), (716, 0.016612965026791382), (717, 0.008643183432731969), (718, 0.0034998944067458782), (719, 0.021471578240418347), (720, 0.003807626464029625), (721, 0.012695939749234095), (722, 0.00714290041109611), (723, 0.00829563660722214), (724, 0.0032631689634736206), (725, 0.0024216391151574436), (726, 0.002271084181794946), (727, 0.014702910002703132), (728, 0.017713315602778543), (729, 0.017934752367442783), (730, 0.0033109539226500386), (731, 0.006490873951290096), (732, 0.022517930293245517), (733, 0.024244205270524212), (734, 0.018108164618532766), (735, 0.020222718646685907), (736, 0.002801345021078211), (737, 0.023691116271994352), (738, 0.008057143335538395), (739, 0.00950139430864386), (740, 0.0040771722503514796), (741, 0.0026210359448495726), (742, 0.02468842000743284), (743, 0.016537959133580842), (744, 0.013467812997834576), (745, 0.014503054588261618), (746, 0.003217401261869125), (747, 0.0036224357620134096), (748, 0.015766298305157536), (749, 0.007163115358771491), (750, 0.016309203554450435), (751, 0.004230422998198049), (752, 0.014933848001052106), (753, 0.029238613650578477), (754, 0.003709898210562747), (755, 0.007147638464034028), (756, 0.008973410063831542), (757, 0.026850929054499036), (758, 0.014706117049060106), (759, 0.007178795972706214), (760, 0.03793686277624067), (761, 0.024460028936336163), (762, 0.028252409228682593), (763, 0.04035071473710894), (764, 0.019355343428455678), (765, 0.011672496002509362), (766, 0.02185945660313752), (767, 0.007982583420472695), (768, 0.03623889192027532), (769, 0.015782062469775652), (770, 0.0031744863918607862), (771, 0.003394289078052857), (772, 0.0026326814235338018), (773, 0.002611451830254171), (774, 0.0077703050046660236), (775, 0.025201015113673095), (776, 0.033924894787120255), (777, 0.012038916766394403), (778, 0.016677818291960227), (779, 0.04383267054258719), (780, 0.002816720477168452), (781, 0.0031386500508589583), (782, 0.018637632560244977), (783, 0.013814906969479797), (784, 0.003780689069041435), (785, 0.0035205977227041733), (786, 0.002433265359992815), (787, 0.02483906769827792), (788, 0.02968723244584537), (789, 0.0022590323739179415), (790, 0.02354176724745047), (791, 0.009214493168577625), (792, 0.02121748672395074), (793, 0.011140831852692532), (794, 0.0370798737465953), (795, 0.04786622882611699), (796, 0.03231340578617907), (797, 0.003322292707703056), (798, 0.006883690986797045), (799, 0.030291986448351817), (800, 0.024043074059069035), (801, 0.02125544532909203), (802, 0.012971732261183262), (803, 0.009458821986051687), (804, 0.013179273148637944), (805, 0.00647443647769367), (806, 0.020527450980456444), (807, 0.0022286888320241587), (808, 0.03073125776474694), (809, 0.023620074868463927), (810, 0.010225347116370723), (811, 0.01305847695197586), (812, 0.014969033746353241), (813, 0.009422653930228038), (814, 0.02835874133579728), (815, 0.006218724724108693), (816, 0.019232712663078855), (817, 0.020677325408617834), (818, 0.05967357035471077), (819, 0.0028226369837111146), (820, 0.002403494393164228), (821, 0.016216337255750758), (822, 0.002850931016949681), (823, 0.010356867981072423), (824, 0.038427987903990886), (825, 0.02255017627356552), (826, 0.010707400612648514), (827, 0.02563089514169154), (828, 0.019564686278985974), (829, 0.02255323214125024), (830, 0.06313627391649289), (831, 0.01153179296803588), (832, 0.05502322875319016), (833, 0.023707693946665512), (834, 0.014199857328172116), (835, 0.012914819319265641), (836, 0.048241946854125625), (837, 0.0022614899890343377), (838, 0.023247906428939848), (839, 0.0041795546119729), (840, 0.0026732264625137572), (841, 0.003762805406473751), (842, 0.032065820302558085), (843, 0.01413097292652677), (844, 0.02658957967411347), (845, 0.015915584886223716), (846, 0.0030205849330644024), (847, 0.02486533362578733), (848, 0.007910375480300628), (849, 0.011967185381780385), (850, 0.01845560361289751), (851, 0.01649576481566411), (852, 0.0065981340011237975), (853, 0.02705760499600092), (854, 0.006669654962313101), (855, 0.014155177157238394), (856, 0.006367942087643545), (857, 0.009429252164809783), (858, 0.004155703709233239), (859, 0.0026348592284423725), (860, 0.03820123823369387), (861, 0.019251191387823437), (862, 0.012409253407904185), (863, 0.014292713134211772), (864, 0.05851789521598169), (865, 0.006937746310198622), (866, 0.029086340849470493), (867, 0.028861979570734782), (868, 0.013687933898717133), (869, 0.01691791205104606), (870, 0.039400705434777694), (871, 0.008318000041302443), (872, 0.008242285239405258), (873, 0.09484368746206744), (874, 0.02690723499877043), (875, 0.02786134696426986), (876, 0.034077046203668124), (877, 0.07954008315816877), (878, 0.024502466579403068), (879, 0.028780787031753755), (880, 0.01522666389065919), (881, 0.0020776898144860916), (882, 0.0036175823110767146), (883, 0.00745505012882029), (884, 0.007680763295733411), (885, 0.006839530835465746), (886, 0.0071107204486649915), (887, 0.008140207749670985), (888, 0.04851353278190593), (889, 0.013106359566105022), (890, 0.00784584641513797), (891, 0.014024699914261758), (892, 0.00257323182627243), (893, 0.009827799839904559), (894, 0.019993923443983708), (895, 0.02555051013860353), (896, 0.03125700409036919), (897, 0.02057855027407915), (898, 0.009532278828222433), (899, 0.026716786478816333), (900, 0.028027906931737484), (901, 0.005719213959161333), (902, 0.012699551773040187), (903, 0.011120196342586758), (904, 0.04116301580568053), (905, 0.036951316837053105), (906, 0.024522222968461318), (907, 0.007541594776437864), (908, 0.016868822602494227), (909, 0.003051342596879373), (910, 0.013525903599545636), (911, 0.060884432723793784), (912, 0.0027006617847065545), (913, 0.0033339369949103408), (914, 0.00537623707863247), (915, 0.02125664532065427), (916, 0.030549142461380508), (917, 0.008348234789043429), (918, 0.026154924010988272), (919, 0.012572808402504987), (920, 0.002706816153512806), (921, 0.020355226533370477), (922, 0.010541562593344846), (923, 0.016457206859537214), (924, 0.017867787322581263), (925, 0.014849261936476326), (926, 0.001980222939061595), (927, 0.014069782095122737), (928, 0.024101931884161747), (929, 0.03873655769751474), (930, 0.01827096679253198), (931, 0.023664392227251276), (932, 0.009564757274520781), (933, 0.018890872173857386), (934, 0.025402965752922613), (935, 0.05800861840352496), (936, 0.022169642493900195), (937, 0.035652164489074274), (938, 0.002939266870298345), (939, 0.01806517308786901), (940, 0.011353572863827753), (941, 0.016656735136884832), (942, 0.04697641518784225), (943, 0.0030937066214738723), (944, 0.006843298041387263), (945, 0.003151531142445721), (946, 0.003097352798771805), (947, 0.07092439928907186), (948, 0.022326530462687476), (949, 0.02434432358936458), (950, 0.0039929186230905234), (951, 0.006757002449113387), (952, 0.05356418714917985), (953, 0.011488700710968112), (954, 0.0024954645313747465), (955, 0.004458984921423948), (956, 0.003205307419501516), (957, 0.027311200672345957), (958, 0.014209560426976806), (959, 0.007380696389128247), (960, 0.0037800074931129257), (961, 0.0027814978468409628), (962, 0.017192434077239426), (963, 0.026309914734307126), (964, 0.002501634465208271), (965, 0.003017551542772785), (966, 0.01607864223031363), (967, 0.04859853287346877), (968, 0.05080005326639302), (969, 0.007452260213477887), (970, 0.017564517876539426), (971, 0.0032064198412302446), (972, 0.001934468410533212), (973, 0.00726173210172493), (974, 0.01188558603257238), (975, 0.008014497500700253), (976, 0.05488126668968471), (977, 0.0035479746299688264), (978, 0.0025840518859592625), (979, 0.02106479115249481), (980, 0.016912988826298155), (981, 0.013048020845518876), (982, 0.003642865306451467), (983, 0.0031597932641173076), (984, 0.007179086702487713), (985, 0.009575021039717954), (986, 0.04868907930444827), (987, 0.008190892017570693), (988, 0.026560124418805738), (989, 0.026525992897919917), (990, 0.0034545871014763987), (991, 0.022904777756376966), (992, 0.013355564668573567), (993, 0.00765477708124715), (994, 0.01992896474438525), (995, 0.0031597705531827306), (996, 0.06274607871789877), (997, 0.009469236056967718), (998, 0.009740384434491859), (999, 0.009495148018529794), (1000, 0.02405457316489739), (1001, 0.013916381135182353), (1002, 0.006650473038556728), (1003, 0.040506967449301365), (1004, 0.006410814101410904), (1005, 0.02462789987462999), (1006, 0.021063416258117022), (1007, 0.00794319640951243), (1008, 0.0023480497117287394), (1009, 0.022321237451116457), (1010, 0.002279031294988925), (1011, 0.003541445912780472), (1012, 0.024100009660320977), (1013, 0.003430319520281572), (1014, 0.020114005448676163), (1015, 0.04295819732123203), (1016, 0.0025273302569174616), (1017, 0.037323036486493655), (1018, 0.02776416466731673), (1019, 0.03195043716894882), (1020, 0.020748338821231775), (1021, 0.018969369478917312), (1022, 0.003289070374239829), (1023, 0.0925712829206513), (1024, 0.025943222528973964), (1025, 0.0026009028341760208), (1026, 0.007359162203550914), (1027, 0.006874598029540594), (1028, 0.002963776280726051), (1029, 0.002657758867702136), (1030, 0.050617341275842775), (1031, 0.003632582624155409), (1032, 0.008450593753763586), (1033, 0.04208586214640725), (1034, 0.00674665580629755), (1035, 0.031582026662902565), (1036, 0.007126127171750562), (1037, 0.018449312098077368), (1038, 0.0026216844648847383), (1039, 0.002612344436905411), (1040, 0.00918159273482733), (1041, 0.015060692332403583), (1042, 0.0067029004644844105), (1043, 0.05867676370017167), (1044, 0.01416755834627334), (1045, 0.03422801119141536), (1046, 0.05176659389121405), (1047, 0.024630845382565564), (1048, 0.021552950015829797), (1049, 0.012785359001621584), (1050, 0.017724087166407936), (1051, 0.004489154349026806), (1052, 0.03716334690472582), (1053, 0.028289559933943553), (1054, 0.022211812807773727), (1055, 0.0028463979126727816), (1056, 0.003610572761333084), (1057, 0.003641487486867565), (1058, 0.04745412947707464), (1059, 0.007405524433844931), (1060, 0.006784315196155049), (1061, 0.019041953250801505), (1062, 0.0024784155892313563), (1063, 0.022478579192972796), (1064, 0.04067241617812348), (1065, 0.021166215500023754), (1066, 0.002876059762483371), (1067, 0.0027701391580745222), (1068, 0.05316311556177346), (1069, 0.017606109317714405), (1070, 0.2316170792934705), (1071, 0.017963057185293455), (1072, 0.009098917644654278), (1073, 0.0028766153678388712), (1074, 0.03477407659634373), (1075, 0.024934022485232698), (1076, 0.01447233403244957), (1077, 0.020538676641620304), (1078, 0.016763405939448965), (1079, 0.0061430891807647894), (1080, 0.006629793087595718), (1081, 0.0033716741943461367), (1082, 0.010524230647239573), (1083, 0.018507704407322707), (1084, 0.007412439816417841), (1085, 0.0029768149932033854), (1086, 0.0030769325358601125), (1087, 0.018923716494855056), (1088, 0.0057421763034429096), (1089, 0.003764338278195069), (1090, 0.02026997254253455), (1091, 0.003542629267304678), (1092, 0.019198657063308512), (1093, 0.0027147922660568577), (1094, 0.013470303816578775), (1095, 0.013354359720185609), (1096, 0.02010915143267574), (1097, 0.0027515087739557464), (1098, 0.00733159339890592), (1099, 0.0244682724722793), (1100, 0.008026646433262724), (1101, 0.0030814481473794646), (1102, 0.0077203901800355955), (1103, 0.003445130796804839), (1104, 0.027088801537801115), (1105, 0.0030254681617893717), (1106, 0.0027850742896442103), (1107, 0.023602396196383414), (1108, 0.0029652883023831666), (1109, 0.00896192006924168), (1110, 0.006960513012706373), (1111, 0.014599019854742587), (1112, 0.03380576354465417), (1113, 0.002948975334412088), (1114, 0.027126665905863646), (1115, 0.028232259519359384), (1116, 0.031738787236562094), (1117, 0.007329087683341022), (1118, 0.062107051228992044), (1119, 0.029765666918255947), (1120, 0.008380401340150768), (1121, 0.010976218059836871), (1122, 0.007689904528974062), (1123, 0.014440529557925262), (1124, 0.021663798585577924), (1125, 0.018949339800063282), (1126, 0.0030063724527446605), (1127, 0.011364951971074065), (1128, 0.02638777658875973), (1129, 0.034947041924252985), (1130, 0.0026736561088883744), (1131, 0.007228720791567437), (1132, 0.036812162193455074), (1133, 0.0031188458608245556), (1134, 0.06370413394236843), (1135, 0.0028455274504269102), (1136, 0.015283743202886405), (1137, 0.018191599328638133), (1138, 0.01576715266399339), (1139, 0.0025221801294247454), (1140, 0.016624111125246307), (1141, 0.04645485674766647), (1142, 0.0035023836788843224), (1143, 0.003980891949609184), (1144, 0.016292827287398993), (1145, 0.02254529861263029), (1146, 0.022878458688826445), (1147, 0.0035387095229727026), (1148, 0.10990521626986546), (1149, 0.0026562323393669734), (1150, 0.012605367933237636), (1151, 0.0032441757846990043), (1152, 0.028311867731121182), (1153, 0.006866377562890222), (1154, 0.009219626006597014), (1155, 0.0031270715979392527), (1156, 0.0023548262872793374), (1157, 0.022031694394038622), (1158, 0.01563620904482505), (1159, 0.0033358261483976276), (1160, 0.025679646433969687), (1161, 0.009244803391425405), (1162, 0.05682175000423307), (1163, 0.008252471350075844), (1164, 0.00785879009139915), (1165, 0.0030245021570957063), (1166, 0.0032335772814950426), (1167, 0.01488494230272753), (1168, 0.009114325196262969), (1169, 0.009257681820815735), (1170, 0.007509250189760838), (1171, 0.003402118690984031), (1172, 0.014003329260992368), (1173, 0.051812878963868686), (1174, 0.015455667574740685), (1175, 0.0336046869081528), (1176, 0.007789521743448584), (1177, 0.0164818093400701), (1178, 0.0022878027655986264), (1179, 0.015758386063830926), (1180, 0.002813557020851615), (1181, 0.011632578611766465), (1182, 0.020987150988417948), (1183, 0.030529462784390615), (1184, 0.033187323056320814), (1185, 0.024434240741228408), (1186, 0.006455200894251129), (1187, 0.011089841852237936), (1188, 0.019721040000714923), (1189, 0.0033036344929035935), (1190, 0.0034629855136469366), (1191, 0.014805292995342733), (1192, 0.02858838483999826), (1193, 0.0032026967819819134), (1194, 0.02166894229724936), (1195, 0.015660438258528874), (1196, 0.002769651837028247), (1197, 0.010577535454837472), (1198, 0.003232984528259773), (1199, 0.005813153268042675), (1200, 0.003034905570449757), (1201, 0.0037335596277578266), (1202, 0.03384247153680677), (1203, 0.07781045099816307), (1204, 0.007950644770365535), (1205, 0.0034813650436921993), (1206, 0.01664702483218481), (1207, 0.010610293914527651), (1208, 0.01433768325100571), (1209, 0.006957485790840755), (1210, 0.007482473217136534), (1211, 0.011887703239837089), (1212, 0.0024091261582367116), (1213, 0.01524023431694912), (1214, 0.012207478877218798), (1215, 0.024602552753522744), (1216, 0.028475412126575495), (1217, 0.005865461485029071), (1218, 0.002789041519006845), (1219, 0.006332485939347442), (1220, 0.0206305215392088), (1221, 0.002575531700647509), (1222, 0.0022023894447429837), (1223, 0.016167707654352586), (1224, 0.030288529754787002), (1225, 0.017167650160417356), (1226, 0.03182488030763189), (1227, 0.002952281922098522), (1228, 0.0034386972994576515), (1229, 0.016126447050175186), (1230, 0.021150171519796618), (1231, 0.015362102512445443), (1232, 0.028814845254518606), (1233, 0.0031787555658189066), (1234, 0.021981064265450788), (1235, 0.002815420644623741), (1236, 0.021281257398493392), (1237, 0.025760220252904184), (1238, 0.01584856948598714), (1239, 0.027996482111068817), (1240, 0.004740153361541924), (1241, 0.031264649925424805), (1242, 0.0025626420218309537), (1243, 0.10045276169597567), (1244, 0.002929340031148147), (1245, 0.03241258081233005), (1246, 0.004016547342806423), (1247, 0.006989080362247961), (1248, 0.0760670724091029), (1249, 0.02129366441114787), (1250, 0.015689057910658312), (1251, 0.005798239018193421), (1252, 0.026556858625897337), (1253, 0.0031372128247892693), (1254, 0.031274821067256806), (1255, 0.02452858490584648), (1256, 0.0026505604003670717), (1257, 0.040763833435547035), (1258, 0.0043538565452820085), (1259, 0.02358115321229704), (1260, 0.01807285773927057), (1261, 0.036913657430666665), (1262, 0.02311439369698142), (1263, 0.002759339958810405), (1264, 0.04433414745615055), (1265, 0.0034761325519705026), (1266, 0.0246935181245945), (1267, 0.0148333596717246), (1268, 0.0024298540929591915), (1269, 0.0031615237143271377), (1270, 0.04063285921934768), (1271, 0.003269318421584738), (1272, 0.061053243045700395), (1273, 0.007159571785426443), (1274, 0.03376250629383905), (1275, 0.035293792685785356), (1276, 0.0159273577997547), (1277, 0.005321297399871434), (1278, 0.024414999173599402), (1279, 0.0170383053902749), (1280, 0.013894310939210123), (1281, 0.00961975828934013), (1282, 0.017584903610337026), (1283, 0.002611726503630633), (1284, 0.006398153847163701), (1285, 0.002803733607437856), (1286, 0.007368283989051631), (1287, 0.003276630971040739), (1288, 0.002663292239097544), (1289, 0.002168792028046193), (1290, 0.027203850715929963), (1291, 0.0026741705053921023), (1292, 0.07722830356414363), (1293, 0.024173352908753356), (1294, 0.007749197133729821), (1295, 0.002785054993334748), (1296, 0.002131706248812235), (1297, 0.002981116768751371), (1298, 0.007034730224298937), (1299, 0.003166969441758605), (1300, 0.018088581713297178), (1301, 0.005833920042592982), (1302, 0.08275212254233043), (1303, 0.019671077519628023), (1304, 0.006888010815501132), (1305, 0.005318512473914508), (1306, 0.011972710296162096), (1307, 0.01292327146435054), (1308, 0.016381113944000866), (1309, 0.008823370718086775), (1310, 0.02166359432792251), (1311, 0.0675425136713284), (1312, 0.016950066693075215), (1313, 0.007317579928330346), (1314, 0.05096996266295145), (1315, 0.002891379927141472), (1316, 0.014537284242472998), (1317, 0.02407699924690824), (1318, 0.006003962973608079), (1319, 0.006914393430083178), (1320, 0.08905822827189536), (1321, 0.0036775620246710873), (1322, 0.003165491700665629), (1323, 0.002632061666818679), (1324, 0.008753034834033061), (1325, 0.03290211017244868), (1326, 0.0022432882461414475), (1327, 0.014457424233938084), (1328, 0.003298391411454878), (1329, 0.014567951791839132), (1330, 0.016367856613128597), (1331, 0.02548648554979463), (1332, 0.014908472384694144), (1333, 0.0032315302164566415), (1334, 0.019747097001105204), (1335, 0.02649149260377972), (1336, 0.0031978269753237453), (1337, 0.02734401247473872), (1338, 0.020706447177856684), (1339, 0.022288543056964982), (1340, 0.005926816524167497), (1341, 0.1253691689072718), (1342, 0.022331275861947608), (1343, 0.03242971335095872), (1344, 0.01098928922424547), (1345, 0.014085135812694244), (1346, 0.003037233523780816), (1347, 0.011505315439241737), (1348, 0.01962050059043895), (1349, 0.00852739551619266), (1350, 0.009800040428846985), (1351, 0.009719951425299155), (1352, 0.006327820634792652), (1353, 0.003048111061068319), (1354, 0.002462187197751212), (1355, 0.00721180465146786), (1356, 0.011776577562162903), (1357, 0.006794918549973033), (1358, 0.03560005235534912), (1359, 0.024243199998864012), (1360, 0.028568941265822205), (1361, 0.031266210210415785), (1362, 0.03558062407937798), (1363, 0.04918834736892309), (1364, 0.008655456285250787), (1365, 0.03186072471578031), (1366, 0.006675476872776593), (1367, 0.05891331715004271), (1368, 0.00278792539353757), (1369, 0.04391211826514414), (1370, 0.006823432078696305), (1371, 0.01884688123184692), (1372, 0.006776310458030581), (1373, 0.0029589080682973887), (1374, 0.014940366922732942), (1375, 0.013788436440724694), (1376, 0.023073609486865848), (1377, 0.028832851145293596), (1378, 0.00820085633154652), (1379, 0.05986394270302642), (1380, 0.012577722351831553), (1381, 0.014061427155725562), (1382, 0.01960882599317487), (1383, 0.11180792821371291), (1384, 0.03325905645757484), (1385, 0.03926365630216107), (1386, 0.03896669098237051), (1387, 0.015706845057220527), (1388, 0.017791248695678146), (1389, 0.062468775974281146), (1390, 0.0036452149889458735), (1391, 0.015539170585520151), (1392, 0.006371112342817586), (1393, 0.0732939608533964), (1394, 0.006020696623716118), (1395, 0.00826125495232798), (1396, 0.025111315399650096), (1397, 0.008431006491114357), (1398, 0.010576920103449405), (1399, 0.0024635535633206864), (1400, 0.017424216561101956), (1401, 0.030239062501266508), (1402, 0.008305605741736688), (1403, 0.02839028111883364), (1404, 0.006856578104314919), (1405, 0.04947512662599004), (1406, 0.02262705225648294), (1407, 0.026890473430067084), (1408, 0.007578318891045058), (1409, 0.009022060396662007), (1410, 0.009125977654443219), (1411, 0.00790166722212042), (1412, 0.04452469652208787), (1413, 0.029837571783765567), (1414, 0.013218745565818868), (1415, 0.009092413580812428), (1416, 0.007097654853038998), (1417, 0.028539338484597727), (1418, 0.017982113735596283), (1419, 0.022797392614454494), (1420, 0.021955706122320846), (1421, 0.015442150322429956), (1422, 0.006956206700135918), (1423, 0.006539867071798072), (1424, 0.0047185152250770026), (1425, 0.014873056200747983), (1426, 0.012603493307910146), (1427, 0.005498740049835524), (1428, 0.010808272969879235), (1429, 0.024598581312470356), (1430, 0.009144111229152), (1431, 0.01270092090054317), (1432, 0.02568707380848486), (1433, 0.013769596406447107), (1434, 0.00953623958260609), (1435, 0.011713556233929506), (1436, 0.02370261325921765), (1437, 0.004243935107975176), (1438, 0.02117750013979883), (1439, 0.008541533452901304), (1440, 0.021737976689546395), (1441, 0.003558748370931148), (1442, 0.019912827872736384), (1443, 0.036325100691347756), (1444, 0.003111366299268562), (1445, 0.03190718163604736), (1446, 0.019072616145811537), (1447, 0.003162026064664555), (1448, 0.013646874715158224), (1449, 0.017543409028841994), (1450, 0.005912312996895049), (1451, 0.011140105516902444), (1452, 0.014474173961881104), (1453, 0.010234638372373556), (1454, 0.016195528822780636), (1455, 0.02338988788463964), (1456, 0.00625599837529792), (1457, 0.002667684777055757), (1458, 0.007898834789381711), (1459, 0.003269735536755075), (1460, 0.003294440597478685), (1461, 0.02755943442477265), (1462, 0.015096094796682823), (1463, 0.007375953198862039), (1464, 0.05476918317944662), (1465, 0.025943942980011), (1466, 0.004131397363356058), (1467, 0.0021195264056987394), (1468, 0.002501107450784689), (1469, 0.011445542643631157), (1470, 0.003308611420675658), (1471, 0.03371940807998847), (1472, 0.015498374134679745), (1473, 0.0027863297921474966), (1474, 0.008535528098352495), (1475, 0.021182197496331302), (1476, 0.008031076110120442), (1477, 0.016182826494195994), (1478, 0.024482477314324215), (1479, 0.008732249927489529), (1480, 0.010259872851481668), (1481, 0.026019796785762137), (1482, 0.0023956765151960653), (1483, 0.028637741578305384), (1484, 0.017448293684334582), (1485, 0.0024012090455168182), (1486, 0.016925330117664544), (1487, 0.00289234558307583), (1488, 0.01346517024002446), (1489, 0.01772973117389835), (1490, 0.0027734713601994796), (1491, 0.0036997420523870363), (1492, 0.03887298368367686), (1493, 0.03594153221936318), (1494, 0.02215072306010741), (1495, 0.0026690034882572615), (1496, 0.002601307383805129), (1497, 0.010340472557103075), (1498, 0.019969207505734048), (1499, 0.011393480687153543), (1500, 0.04858787259549893), (1501, 0.014780599272539633), (1502, 0.014888384325832015), (1503, 0.006459651465614425), (1504, 0.01671316917528905), (1505, 0.04143463900170047), (1506, 0.06278432301547116), (1507, 0.02181404318406778), (1508, 0.002913388737027861), (1509, 0.02200425078131059), (1510, 0.03848667989839002), (1511, 0.003578750350266225), (1512, 0.03350299235009264), (1513, 0.02408208814965586), (1514, 0.016944090683354233), (1515, 0.044127518194499955), (1516, 0.007593660523034167), (1517, 0.0029944164674144996), (1518, 0.008328860738790436), (1519, 0.02775215436192506), (1520, 0.0037617253385070766), (1521, 0.0023606402428234764), (1522, 0.0032649480699513504), (1523, 0.02703127466690266), (1524, 0.0025350936538370526), (1525, 0.003167001165608047), (1526, 0.016968361440289004), (1527, 0.07205019147682007), (1528, 0.006607634994394927), (1529, 0.0028073399511666097), (1530, 0.008350107184237295), (1531, 0.013197632342213102), (1532, 0.002973093435219851), (1533, 0.007485570144276557), (1534, 0.0034586651772170705), (1535, 0.0022478033479107623), (1536, 0.017070290718795133), (1537, 0.01739814134022034), (1538, 0.01619386791797424), (1539, 0.01821417186358409), (1540, 0.021086871688000827), (1541, 0.0030886720781924445), (1542, 0.025229156256744007), (1543, 0.007062973039141645), (1544, 0.04324070840795179), (1545, 0.002838839431263548), (1546, 0.010578663829651174), (1547, 0.01089486492420894), (1548, 0.004430956542201298), (1549, 0.002922033389706766), (1550, 0.007204375518440274), (1551, 0.02265185009898618), (1552, 0.013763013934909023), (1553, 0.017642708484268493), (1554, 0.013410656843060163), (1555, 0.0133990898762205), (1556, 0.0032065887394257526), (1557, 0.0028706574293449485), (1558, 0.00696769894770456), (1559, 0.009307121529884752), (1560, 0.005808239228304236), (1561, 0.0028804043393528427), (1562, 0.009727301143407347), (1563, 0.003576851477099835), (1564, 0.003349015301603431), (1565, 0.007454102516492728), (1566, 0.012911104714987336), (1567, 0.028664880540481014), (1568, 0.0674339907633653), (1569, 0.002278664483722583), (1570, 0.009270768214749913), (1571, 0.015837330915501623), (1572, 0.05161799838563123), (1573, 0.012291529788408358), (1574, 0.007252719957337689), (1575, 0.013701191486644237), (1576, 0.007899794819129918), (1577, 0.0029439602182692484), (1578, 0.0031879234025602985), (1579, 0.0314591624489689), (1580, 0.00917580611881529), (1581, 0.0019902439018392062), (1582, 0.018697509356093593), (1583, 0.019396955229038438), (1584, 0.0024828792838695836), (1585, 0.04438242698230589), (1586, 0.0022955412870716424), (1587, 0.011300133548523762), (1588, 0.012090547747080816), (1589, 0.00289483859657815), (1590, 0.008924249330998547), (1591, 0.03533828025050771), (1592, 0.0028316960398315945), (1593, 0.015443179383911602), (1594, 0.009060186334465219), (1595, 0.026859867953658113), (1596, 0.003529549304098247), (1597, 0.00687433362646703), (1598, 0.007921319832165485), (1599, 0.002863709653772009), (1600, 0.0034116025700150405), (1601, 0.00230296268854973), (1602, 0.002989126867194399), (1603, 0.00323484056688062), (1604, 0.0034399327997837997), (1605, 0.006702104695285116), (1606, 0.0030257332507725703), (1607, 0.0028296171291075454), (1608, 0.012400983428110739), (1609, 0.037629400599707846), (1610, 0.002702428913700735), (1611, 0.00307726234228688), (1612, 0.01820005774242903), (1613, 0.003269132204157523), (1614, 0.012284827214689945), (1615, 0.004521880283249771), (1616, 0.00614919193643659), (1617, 0.0076652733095570556), (1618, 0.0029728087810206422), (1619, 0.025024668611706387), (1620, 0.017868079078818502), (1621, 0.02915054787280844), (1622, 0.01176498438922444), (1623, 0.012151146682203679), (1624, 0.005318253267060211), (1625, 0.008115488937271143), (1626, 0.0027008261018547975), (1627, 0.013060465276161263), (1628, 0.009154180102695007), (1629, 0.03834562604059322), (1630, 0.021651480416824548), (1631, 0.011857421855054034), (1632, 0.011797884710855227), (1633, 0.011031504973113181), (1634, 0.008040469829303572), (1635, 0.011986651133485696), (1636, 0.003195814118605435), (1637, 0.008250101127201492), (1638, 0.0027685621622129037), (1639, 0.002443354526172515), (1640, 0.0031715318607592625), (1641, 0.006875705718047313), (1642, 0.006698474894983181), (1643, 0.01762796287969644), (1644, 0.014420604168184352), (1645, 0.006659053924670283), (1646, 0.0021569468073038968), (1647, 0.014201022418940617), (1648, 0.05559509591953368), (1649, 0.0027710833876998533), (1650, 0.017046113413659945), (1651, 0.0028523804144075723), (1652, 0.00319000213985879), (1653, 0.015919081228943477), (1654, 0.025464437176003697), (1655, 0.04396055806305414), (1656, 0.009935087791055909), (1657, 0.002899664294502166), (1658, 0.025362657142734796), (1659, 0.01242501140662153), (1660, 0.00824360326112336), (1661, 0.016173826184998567), (1662, 0.019973403139196086), (1663, 0.007320309911023973), (1664, 0.013644861979742809), (1665, 0.02732881710313082), (1666, 0.006539594734387564), (1667, 0.025864304194068946), (1668, 0.002841791563044638), (1669, 0.004262928361072649), (1670, 0.0085354045904892), (1671, 0.04136941597833091), (1672, 0.007377742427019218), (1673, 0.002754634426252077), (1674, 0.019184924046787205), (1675, 0.04072065490105913), (1676, 0.06242297594155934), (1677, 0.0051410947393781496), (1678, 0.03706158422747904), (1679, 0.0036669070227659073), (1680, 0.02566174179183106), (1681, 0.030371393068808497), (1682, 0.027381228544264342), (1683, 0.011906627248451871), (1684, 0.013178755099313027), (1685, 0.024855638730737588), (1686, 0.004922081515774833), (1687, 0.03159002506125362), (1688, 0.01945750045928276), (1689, 0.0030404775351989214), (1690, 0.017686653081835854), (1691, 0.0058064569257988575), (1692, 0.016298950064800248), (1693, 0.0065917183945502595), (1694, 0.0192613404597796), (1695, 0.010602991874515666), (1696, 0.020526849113899383), (1697, 0.0031018389287812763), (1698, 0.002455976683522032), (1699, 0.009556877949968392), (1700, 0.0028084259351966864), (1701, 0.015103484525934265), (1702, 0.00319563913686842), (1703, 0.007494739214034896), (1704, 0.0030577555363001064), (1705, 0.016636473589205558), (1706, 0.00802236769791397), (1707, 0.03706822595450745), (1708, 0.02170749199145962), (1709, 0.0028368714093747437), (1710, 0.017087494646229613), (1711, 0.011933802893502429), (1712, 0.029428954553827026), (1713, 0.03710246002598226), (1714, 0.021993425631484972), (1715, 0.013369578892932754), (1716, 0.037002762953772556), (1717, 0.008693653663484874), (1718, 0.017406642981162637), (1719, 0.006098479521415411), (1720, 0.003200247187256022), (1721, 0.05092190760080295), (1722, 0.00819657940589128), (1723, 0.020609034284676732), (1724, 0.013113902180504539), (1725, 0.003342567512137838), (1726, 0.003160901367035189), (1727, 0.023007387716048086), (1728, 0.0019786736342154924), (1729, 0.0025740624430457076), (1730, 0.01726316820123177), (1731, 0.0034302787725452853), (1732, 0.013690734971117951), (1733, 0.00791509192176014), (1734, 0.0032294493696246656), (1735, 0.01785180410410453), (1736, 0.021206828215934018), (1737, 0.017220502477111214), (1738, 0.013542094765088998), (1739, 0.025120217696090668), (1740, 0.03026316648831546), (1741, 0.029008458298691527), (1742, 0.006810661554409679), (1743, 0.014821750875779098), (1744, 0.007505011401144646), (1745, 0.003255525498910196), (1746, 0.013843733902070943), (1747, 0.013005186528336123), (1748, 0.009711012171372463), (1749, 0.011396601043560703), (1750, 0.05503606370286615), (1751, 0.003123537686641915), (1752, 0.022223208116061405), (1753, 0.010679742824797495), (1754, 0.022876565442984928), (1755, 0.0031505801918426586), (1756, 0.0028887217943488726), (1757, 0.0028217357232531975), (1758, 0.004808461302136319), (1759, 0.03239853351354851), (1760, 0.013420489905830802), (1761, 0.023424116098487345), (1762, 0.0165118440650191), (1763, 0.0068041072144003276), (1764, 0.01704771271298962), (1765, 0.007694058661581535), (1766, 0.0037058487594273854), (1767, 0.0026038500789494173), (1768, 0.008205416489544594), (1769, 0.00307350188979938), (1770, 0.017574741416140127), (1771, 0.0027389013466980103), (1772, 0.009588161334142009), (1773, 0.026549459633344943), (1774, 0.02620551455038976), (1775, 0.0033741810283715733), (1776, 0.016638098382711804), (1777, 0.0030397297229559014), (1778, 0.002734631082327496), (1779, 0.030627417715292704), (1780, 0.004001489216010624), (1781, 0.017817341310674955), (1782, 0.0062657838069484495), (1783, 0.002915697260807948), (1784, 0.009830609099868045), (1785, 0.00296791881049457), (1786, 0.0033611533410868796), (1787, 0.024220327813650855), (1788, 0.05316901736480552), (1789, 0.021647067143891564), (1790, 0.030221456208838086), (1791, 0.013278602293514111), (1792, 0.009582654141318495), (1793, 0.01667293214108833), (1794, 0.00268590508445413), (1795, 0.05439178556163485), (1796, 0.023625752995949937), (1797, 0.012087485433652364), (1798, 0.021304499973866485), (1799, 0.02710567590658126), (1800, 0.0028338384875336723), (1801, 0.005729439567595395), (1802, 0.02352511438163641), (1803, 0.0034251023865568683), (1804, 0.003177044357132251), (1805, 0.009581617751596426), (1806, 0.01741601590133942), (1807, 0.02070855240474774), (1808, 0.005938312919732272), (1809, 0.023911230078332887), (1810, 0.0026326234320912796), (1811, 0.014905559489534623), (1812, 0.028281540131109884), (1813, 0.007362886636931279), (1814, 0.006420258279623082), (1815, 0.03029896563986513), (1816, 0.012980779649924671), (1817, 0.041719485964030904), (1818, 0.013039345679034083), (1819, 0.01536498554635822), (1820, 0.0030122151111060917), (1821, 0.08366865549984438), (1822, 0.008925242870894558), (1823, 0.0028690353139539334), (1824, 0.0029693058993866613), (1825, 0.0029444088417477244), (1826, 0.00914733846788136), (1827, 0.00671955179607043), (1828, 0.005734983018731252), (1829, 0.013647479446862275), (1830, 0.006509034313772366), (1831, 0.007254509207524851), (1832, 0.03205720159586341), (1833, 0.014420782299284493), (1834, 0.0039812045867226335), (1835, 0.0033424776733812956), (1836, 0.004001557549259181), (1837, 0.002809065276768649), (1838, 0.03683185296959857), (1839, 0.0034270800475332814), (1840, 0.009123250020917534), (1841, 0.013934110996279926), (1842, 0.0031775260071144383), (1843, 0.04035255210404805), (1844, 0.0034719321425835154), (1845, 0.04695530278224895), (1846, 0.011375314434788402), (1847, 0.05141684740427527), (1848, 0.008715621393656042), (1849, 0.013742027766967877), (1850, 0.0714185624333389), (1851, 0.008438351293259658), (1852, 0.02363958608857425), (1853, 0.03294581102189216), (1854, 0.019184878005190396), (1855, 0.002820768999757506), (1856, 0.0040599949729800185), (1857, 0.013132975331815807), (1858, 0.02531936967445292), (1859, 0.012527444056764786), (1860, 0.0195144493666232), (1861, 0.04394739318256305), (1862, 0.0098825560542141), (1863, 0.013830904795576804), (1864, 0.02648289197227182), (1865, 0.040063267761156464), (1866, 0.018847426462624484), (1867, 0.014610717961534543), (1868, 0.059829339763551655), (1869, 0.006570941106857059), (1870, 0.022594836167502467), (1871, 0.06421270423410379), (1872, 0.03671508118010839), (1873, 0.02325559867990007), (1874, 0.023918055217421588), (1875, 0.018746055564204663), (1876, 0.02610471195307456), (1877, 0.00784553879279678), (1878, 0.03234695977877229), (1879, 0.0032880682620984856), (1880, 0.028045507406043876), (1881, 0.011313512594880795), (1882, 0.006930021047655141), (1883, 0.0024908333558450397), (1884, 0.008430470615969009), (1885, 0.01049828050177709), (1886, 0.005383582945228234), (1887, 0.008745291923860986), (1888, 0.0026939188442861852), (1889, 0.0030152502418612703), (1890, 0.008735066686065409), (1891, 0.007529376884787241), (1892, 0.01961348891448303), (1893, 0.008465239075364032), (1894, 0.0038288533851355707), (1895, 0.02533847851637206), (1896, 0.008228487470415251), (1897, 0.03129492890229522), (1898, 0.002962346648181227), (1899, 0.003530458652009654), (1900, 0.0263364590249735), (1901, 0.011615071062195444), (1902, 0.017772811306210518), (1903, 0.013044147698995437), (1904, 0.014232783987489067), (1905, 0.011471136550696493), (1906, 0.03079418720549612), (1907, 0.008810013024411202), (1908, 0.01480691319873665), (1909, 0.010060518575389895), (1910, 0.00856292196450914), (1911, 0.014742158205598991), (1912, 0.0028890846749548404), (1913, 0.014649370512815143), (1914, 0.01176978668981018), (1915, 0.002728801238032031), (1916, 0.008525211328326792), (1917, 0.004821691789985511), (1918, 0.01652160794832691), (1919, 0.023298000969155876), (1920, 0.01571670818599285), (1921, 0.006099142011995064), (1922, 0.019645987088402858), (1923, 0.025453129229539052), (1924, 0.018164111818024627), (1925, 0.008747448578214523), (1926, 0.0033074894673651633), (1927, 0.04222905303829412), (1928, 0.0035217094789258816), (1929, 0.0068406769034162155), (1930, 0.01203294514545197), (1931, 0.016762017468782277), (1932, 0.003648882353858603), (1933, 0.011974921458120647), (1934, 0.022698846634427144), (1935, 0.04200620426137288), (1936, 0.019591420096302794), (1937, 0.03438565764979453), (1938, 0.002228042143568623), (1939, 0.02307931523467328), (1940, 0.01568698286047826), (1941, 0.016253680702031318), (1942, 0.04284064738882255), (1943, 0.005874374135061776), (1944, 0.002321096974552681), (1945, 0.028216957045762638), (1946, 0.008627186673052087), (1947, 0.011097960091974696), (1948, 0.015199860147027917), (1949, 0.027193086570808298), (1950, 0.014735209480197638), (1951, 0.02439274486342498), (1952, 0.011532857506894869), (1953, 0.011743098587523447), (1954, 0.00679811953871305), (1955, 0.0031229919678577574), (1956, 0.003188855194545275), (1957, 0.021686765768224158), (1958, 0.02361311862846123), (1959, 0.008923764090832998), (1960, 0.018874049657847485), (1961, 0.0030592455615700126), (1962, 0.014474772873062172), (1963, 0.002073821174079301), (1964, 0.013278975489216778), (1965, 0.003393331859334062), (1966, 0.002966632401697887), (1967, 0.025459067488816586), (1968, 0.019541224592272224), (1969, 0.006346231202467061), (1970, 0.05529843536499646), (1971, 0.014704766840078343), (1972, 0.004197326304616796), (1973, 0.013238823183762655), (1974, 0.0026771824949897785), (1975, 0.01467224651813117), (1976, 0.014038823492166643), (1977, 0.006519894635563982), (1978, 0.002360435760026377), (1979, 0.0030628683657070396), (1980, 0.006011255668703856), (1981, 0.011817631249465065), (1982, 0.06768466336138446), (1983, 0.028588538046656987), (1984, 0.002893872947632062), (1985, 0.04370524187375855), (1986, 0.0264550082302115), (1987, 0.015455829203783493), (1988, 0.025499051204102768), (1989, 0.020207623307871403), (1990, 0.009968799122600586), (1991, 0.07373399191340012), (1992, 0.021878980071014596), (1993, 0.012636957209012022), (1994, 0.0946768780543204), (1995, 0.010965419041685779), (1996, 0.04263163872877799), (1997, 0.0458749779022184), (1998, 0.011503903110256014), (1999, 0.003522197567771433), (2000, 0.022149034965233565), (2001, 0.0023296292589883583), (2002, 0.003731915115212306), (2003, 0.0029031655549725164), (2004, 0.007023620811941602), (2005, 0.022179135023773777), (2006, 0.0023246381803290568), (2007, 0.002579958525380164), (2008, 0.025670937256551517), (2009, 0.003914205679246187), (2010, 0.006735625509959784), (2011, 0.04735658371087606), (2012, 0.013984290703452303), (2013, 0.02068847198161637), (2014, 0.053005266291233484), (2015, 0.011498445048130457), (2016, 0.02038812928915073), (2017, 0.0029217017690362037), (2018, 0.002796331329292592), (2019, 0.0030839411185832957), (2020, 0.013974604724812795), (2021, 0.0034342004376102), (2022, 0.009791240338464034), (2023, 0.0568771081591862), (2024, 0.030124640471217268), (2025, 0.0028286314954754357), (2026, 0.09300134312130742), (2027, 0.027840887794978328), (2028, 0.002078874681375734), (2029, 0.020681013882557966), (2030, 0.0033663370753319053), (2031, 0.014870911058518857), (2032, 0.003999171124748128), (2033, 0.0025809094997979753), (2034, 0.008184599606674989), (2035, 0.03139921407286486), (2036, 0.0024706886067277704), (2037, 0.058114133835145604), (2038, 0.0029252666054438905), (2039, 0.005554709599263671), (2040, 0.051497773341570394), (2041, 0.0033442555093310565), (2042, 0.0035895960240245905), (2043, 0.0025170129354368555), (2044, 0.012478456350000265), (2045, 0.027067215934933237), (2046, 0.003210200098499061), (2047, 0.005936752420239215), (2048, 0.010024993325624265), (2049, 0.027579820578423397), (2050, 0.0028902068176929335), (2051, 0.026297736544279134), (2052, 0.03261605405992702), (2053, 0.031045277491779648), (2054, 0.004331510529664043), (2055, 0.03604719854856955), (2056, 0.014969760627662051), (2057, 0.022968273967291113), (2058, 0.012384504113755208), (2059, 0.0024726050443822727), (2060, 0.006872668695419492), (2061, 0.01564934438578756), (2062, 0.022111104107349733), (2063, 0.003421798522654262), (2064, 0.009574698535365854), (2065, 0.0167750016836734), (2066, 0.02698884121623049), (2067, 0.007254972828617604), (2068, 0.007686445730604722), (2069, 0.014406829740587872), (2070, 0.030703583652234655), (2071, 0.00269335757307509), (2072, 0.00930546222552858), (2073, 0.008283713429416984), (2074, 0.018161554768270242), (2075, 0.029599209538152108), (2076, 0.015197159060174919), (2077, 0.029700502051249297), (2078, 0.00810193252835508), (2079, 0.00364325418016178), (2080, 0.03171066691781545), (2081, 0.00298473599402064), (2082, 0.017772680931667027), (2083, 0.007490179063576919), (2084, 0.01415971995130684), (2085, 0.0031108642772656), (2086, 0.003067691570904713), (2087, 0.02086403510402502), (2088, 0.015979263593437265), (2089, 0.023459795927955225), (2090, 0.0031655705376401324), (2091, 0.014950230335393735), (2092, 0.0029031965795687717), (2093, 0.03114238719268312), (2094, 0.04530897022872564), (2095, 0.014961725886021661), (2096, 0.05004356777457419), (2097, 0.022675253680730957), (2098, 0.014589708068862582), (2099, 0.006915143343123833), (2100, 0.002760349716711998), (2101, 0.017972534568021885), (2102, 0.007665741275856221), (2103, 0.017693228386119503), (2104, 0.017692178907282), (2105, 0.008769440453710137), (2106, 0.0033969312128879887), (2107, 0.002946258749438822), (2108, 0.012046268405853367), (2109, 0.018078735884483964), (2110, 0.03563420077027011), (2111, 0.006911440263876788), (2112, 0.04530291340148298), (2113, 0.015344167471571354), (2114, 0.04953232769837835), (2115, 0.003717510310461964), (2116, 0.03004085714478684), (2117, 0.007654160695444794), (2118, 0.001504325392206602), (2119, 0.033405487232354196), (2120, 0.0033123035464382284), (2121, 0.028985304283134408), (2122, 0.06012941085967798), (2123, 0.0637950954779483), (2124, 0.00352307554812773), (2125, 0.002588157073241968), (2126, 0.022568865874587375), (2127, 0.0064058274169908865), (2128, 0.0028458108279805854), (2129, 0.007230074650633332), (2130, 0.011223200391935086), (2131, 0.007259627984314923), (2132, 0.00652234220124406), (2133, 0.09169062325020465), (2134, 0.009806971774241863), (2135, 0.003357354902426965), (2136, 0.013874437801008622), (2137, 0.05825131226847055), (2138, 0.004111328920623756), (2139, 0.011351667956871163), (2140, 0.002691449323435239), (2141, 0.007918618108821874), (2142, 0.010762713323304092), (2143, 0.016898827371487138), (2144, 0.021934529554830894), (2145, 0.024242882832233126), (2146, 0.008277748203894078), (2147, 0.05752259652523176), (2148, 0.009109624405072219), (2149, 0.04209565905700783), (2150, 0.0028839415933847186), (2151, 0.08798045452912902), (2152, 0.0025576925400884283), (2153, 0.0030640391329823415), (2154, 0.05738168627665574), (2155, 0.07540413987181961), (2156, 0.01196261261257011), (2157, 0.006045703727475661), (2158, 0.02003779725515976), (2159, 0.010757292745440473), (2160, 0.013610860921882828), (2161, 0.029203185187638047), (2162, 0.026343085806287424), (2163, 0.007608792142266909), (2164, 0.004111764229864501), (2165, 0.004265656152022928), (2166, 0.006281976285527213), (2167, 0.03428443146200949), (2168, 0.0023221620651163624), (2169, 0.00830772108917635), (2170, 0.0026609177219720508), (2171, 0.0032753905121252606), (2172, 0.0034953642918691004), (2173, 0.011805378346794494), (2174, 0.04432301685550015), (2175, 0.012189633001256136), (2176, 0.009117542858400614), (2177, 0.023207567418997828), (2178, 0.025209757151229306), (2179, 0.003330886440065784), (2180, 0.003863154875617119), (2181, 0.013443863063341869), (2182, 0.0034796558951657765), (2183, 0.0026822018339175066), (2184, 0.014609139336517215), (2185, 0.012816917325824271), (2186, 0.010577643686248308), (2187, 0.0846274965523204), (2188, 0.030642155974344065), (2189, 0.033231669707584684), (2190, 0.010503805314106572), (2191, 0.09927065832096103), (2192, 0.007510151511627556), (2193, 0.020754467246206755), (2194, 0.004611495455676976), (2195, 0.007784491403657381), (2196, 0.030369446156900813), (2197, 0.018072815823264435), (2198, 0.015957843971339168), (2199, 0.01526243400243838), (2200, 0.003679985302251159), (2201, 0.006854148898033678), (2202, 0.013084772250134309), (2203, 0.013469831380042575), (2204, 0.0022252821998551818), (2205, 0.013395781647378976), (2206, 0.027297197451049048), (2207, 0.03779595310855101), (2208, 0.01329465084794387), (2209, 0.02633025572170986), (2210, 0.042909208395559756), (2211, 0.01520661799568626), (2212, 0.02223662443264477), (2213, 0.007154229060994046), (2214, 0.10551904869528632), (2215, 0.0027520577479851712), (2216, 0.026399952980153466), (2217, 0.0035930634186736453), (2218, 0.00390820668754558), (2219, 0.001904530963829409), (2220, 0.0019692421433043328), (2221, 0.047060603625562046), (2222, 0.0037161483503309646), (2223, 0.009696442113790133), (2224, 0.026036341764539304), (2225, 0.003071279618364459), (2226, 0.0073130096931551345), (2227, 0.0031277768038941874), (2228, 0.02894553189081124), (2229, 0.04835097509670781), (2230, 0.009114609710073517), (2231, 0.016029092519753835), (2232, 0.010923864978547868), (2233, 0.0035484516341712205), (2234, 0.00308308995168215), (2235, 0.02662039240332638), (2236, 0.01578468083557239), (2237, 0.03820844256546839), (2238, 0.0250983875759784), (2239, 0.012890363863963979), (2240, 0.005949402408140346), (2241, 0.003634999567012232), (2242, 0.0072254567562752324), (2243, 0.0042536548988738), (2244, 0.014204690893149291), (2245, 0.010033609790613674), (2246, 0.012019431866822928), (2247, 0.005915059494380395), (2248, 0.0956970124842849), (2249, 0.00321542167907772), (2250, 0.020066734369401294), (2251, 0.03803188315832208), (2252, 0.029015096534486244), (2253, 0.0049966362682112775), (2254, 0.031245668750270635), (2255, 0.08042692848558317), (2256, 0.003231328206962044), (2257, 0.04697236279604828), (2258, 0.03586237282347635), (2259, 0.0034674656617718264), (2260, 0.009757332371325993), (2261, 0.0034667508244873393), (2262, 0.002676129173929834), (2263, 0.0038927243580580283), (2264, 0.017619178250456183), (2265, 0.025615851277038262), (2266, 0.013234277856467806), (2267, 0.003932252245807856), (2268, 0.007193358622897469), (2269, 0.009865180554978547), (2270, 0.00578094707950152), (2271, 0.002717128808500393), (2272, 0.0026206614742748666), (2273, 0.019262459679301246), (2274, 0.0029247937233378703), (2275, 0.11919858107326683), (2276, 0.04876975094895424), (2277, 0.02112423524004132), (2278, 0.012306319646736459), (2279, 0.0196201717045536), (2280, 0.026298187518153292), (2281, 0.00671577023313743), (2282, 0.007378948294879168), (2283, 0.013572492556694233), (2284, 0.030069457332217026), (2285, 0.01564470607005747), (2286, 0.01439322134254025), (2287, 0.006034212461405189), (2288, 0.07845637225032637), (2289, 0.028175561627810063), (2290, 0.03519190910312529), (2291, 0.011677452454176897), (2292, 0.00924883706198271), (2293, 0.010647057135907788), (2294, 0.0460033931378977), (2295, 0.03371776461860873), (2296, 0.0022832539436350085), (2297, 0.003050384616577545), (2298, 0.029678895342742876), (2299, 0.02165319947087322), (2300, 0.00342936300245397), (2301, 0.03654115267151094), (2302, 0.012017484079769167), (2303, 0.020730527800232372), (2304, 0.02311165793140662), (2305, 0.0061348889320796155), (2306, 0.034984966033733994), (2307, 0.004452688093280375), (2308, 0.07816011676724866), (2309, 0.017887375988249722), (2310, 0.026553131114483305), (2311, 0.0030249627662117164), (2312, 0.004741578292187328), (2313, 0.006840148333128472), (2314, 0.015047523246217045), (2315, 0.002553329489091992), (2316, 0.018763799828802614), (2317, 0.008745029556751972), (2318, 0.041240481199726245), (2319, 0.0076950661770429606), (2320, 0.010379145416348306), (2321, 0.0763901019713836), (2322, 0.0027300078705650536), (2323, 0.006778581650725529), (2324, 0.060227322303100315), (2325, 0.004310231095692127), (2326, 0.012100268171771308), (2327, 0.002764385373764786), (2328, 0.06848512045024642), (2329, 0.00309018641835121), (2330, 0.014263298830444013), (2331, 0.0034358751322185635), (2332, 0.0031544360821541533), (2333, 0.006197773671694712), (2334, 0.030298036520911367), (2335, 0.01885626884449421), (2336, 0.02463768493750046), (2337, 0.003460989067076687), (2338, 0.006578390815195961), (2339, 0.01768290116258569), (2340, 0.0076820473362704325), (2341, 0.003932886352234605), (2342, 0.0035319720091130666), (2343, 0.004516694103164906), (2344, 0.027100808968523828), (2345, 0.00352155218957496), (2346, 0.033776019614308074), (2347, 0.028602906778297185), (2348, 0.021546938488350244), (2349, 0.02671225176407028), (2350, 0.02047079877860989), (2351, 0.0040106114733672186), (2352, 0.0024483672593503206), (2353, 0.04099051735955421), (2354, 0.007572245422593545), (2355, 0.015116079354571198), (2356, 0.011029779715399979), (2357, 0.004849792927208835), (2358, 0.0036379752798862907), (2359, 0.005653036864880611), (2360, 0.00246512816435119), (2361, 0.010086597056228736), (2362, 0.05146211581129844), (2363, 0.08072817661684152), (2364, 0.0021308212776171807), (2365, 0.005818749945426292), (2366, 0.024346706937102416), (2367, 0.007183830614804182), (2368, 0.04746279889829414), (2369, 0.0032015853633128137), (2370, 0.008362883546135897), (2371, 0.0038941646281023933), (2372, 0.003886567951884128), (2373, 0.0032767646498595717), (2374, 0.08621068504198112), (2375, 0.07525060439300779), (2376, 0.026599853621553655), (2377, 0.0021870346122248403), (2378, 0.012191627926104), (2379, 0.041328200111387936), (2380, 0.004118124501315498), (2381, 0.004039199161518509), (2382, 0.005818509634377566), (2383, 0.035246465922219486), (2384, 0.0044586785498106395), (2385, 0.007607694696997767), (2386, 0.009935300757228385), (2387, 0.007494564865798529), (2388, 0.030270957162901024), (2389, 0.0027630052983411103), (2390, 0.00954779566773618), (2391, 0.01153106649429956), (2392, 0.07845637225032637), (2393, 0.00834030388248033), (2394, 0.026803668782683317), (2395, 0.010425819378327253), (2396, 0.008125759448943325), (2397, 0.0077279044896571645), (2398, 0.0020308394434917477), (2399, 0.007319398015094455), (2400, 0.012923122893539113), (2401, 0.010878707851547329), (2402, 0.009280409380788009), (2403, 0.02612145432431416), (2404, 0.05825131226847055), (2405, 0.010390310042027135), (2406, 0.04339445212861276), (2407, 0.05037481264510571), (2408, 0.003117528961089317), (2409, 0.003052589425144784), (2410, 0.00925731784810788), (2411, 0.012630457328999178), (2412, 0.024240409387305935), (2413, 0.012298127827178967), (2414, 0.0033758303602898403), (2415, 0.022708001826287478), (2416, 0.007377608876402901), (2417, 0.035059200630204554), (2418, 0.022696763797178533), (2419, 0.00784787077885844), (2420, 0.00384625498191964), (2421, 0.023514160504091268), (2422, 0.007560326264474895), (2423, 0.041328200111387936), (2424, 0.017298759041011257), (2425, 0.07845637225032637), (2426, 0.021393020627671122), (2427, 0.021799083272702517), (2428, 0.025141896621614993), (2429, 0.02244006814877072), (2430, 0.007628134306524937), (2431, 0.0034472847839666283), (2432, 0.012178877328107194), (2433, 0.004091926772587772), (2434, 0.012635317276892774), (2435, 0.0029280590231943165), (2436, 0.02395062969627031), (2437, 0.014780808687548608), (2438, 0.013180628811544966), (2439, 0.012784131777539285), (2440, 0.04769674939699936), (2441, 0.005818871327917825), (2442, 0.010580898496018776), (2443, 0.04476102547509785), (2444, 0.025923943507694638), (2445, 0.0026610085624898744), (2446, 0.007343070955835395), (2447, 0.021540496006062886), (2448, 0.017197037486076202), (2449, 0.003199044956712308), (2450, 0.003688788544446583), (2451, 0.0033978665574930416), (2452, 0.004100533011417774), (2453, 0.006769943888688075), (2454, 0.07845637225032637), (2455, 0.01307250222435029), (2456, 0.0034036199582678306), (2457, 0.007225208563460711), (2458, 0.00446900421365846), (2459, 0.024120545785615836), (2460, 0.031181558700418322), (2461, 0.007299882606123761), (2462, 0.003908691706507381), (2463, 0.021336169346137378), (2464, 0.05973554058587832), (2465, 0.002908900326550783), (2466, 0.009011977994482967), (2467, 0.007165571603091792), (2468, 0.045618286435399585), (2469, 0.03357910596245725), (2470, 0.006281599937490987), (2471, 0.0032707095371650617), (2472, 0.00292155406272326), (2473, 0.018547486041966522), (2474, 0.020557050650800195), (2475, 0.02693489453451292), (2476, 0.017996629362069482), (2477, 0.018864069176625253), (2478, 0.012109209104241736), (2479, 0.009392057551093042), (2480, 0.02582994909791176), (2481, 0.050059824171544975), (2482, 0.006376702040184103), (2483, 0.028534915483076313), (2484, 0.05041135325916805), (2485, 0.0048600849779222), (2486, 0.030803348813682522), (2487, 0.05035546131529629), (2488, 0.011909445685000283), (2489, 0.02217589923013609), (2490, 0.05825131226847055), (2491, 0.002777471195949146), (2492, 0.007917116427060646), (2493, 0.0037719507885637625), (2494, 0.024997538902815166), (2495, 0.007915064217548558), (2496, 0.015356051854103592), (2497, 0.002818538420147449), (2498, 0.0031637937706616407), (2499, 0.0033355155190784727), (2500, 0.010454815380714256), (2501, 0.04390410394667872), (2502, 0.006292450004287714), (2503, 0.014563376337581443), (2504, 0.002631621076981874), (2505, 0.031083025244292503), (2506, 0.018182064446409765), (2507, 0.009300748535423925), (2508, 0.0025606027239102568), (2509, 0.006495474570141298), (2510, 0.016630901007228336), (2511, 0.003249979969429394), (2512, 0.019861299873343074), (2513, 0.03474197632107623), (2514, 0.002727225615622651), (2515, 0.028534915483076313), (2516, 0.003270927560508224), (2517, 0.013920581962160417), (2518, 0.0034888696796567032), (2519, 0.01715001385691874), (2520, 0.007315058435070326), (2521, 0.005213786869151052), (2522, 0.029755126031265986), (2523, 0.0023647612183588652), (2524, 0.03585515580031794), (2525, 0.006644162168830726), (2526, 0.006325739340607139), (2527, 0.006008221960051578), (2528, 0.006469745509115597), (2529, 0.04358895708693416), (2530, 0.012623990170091899), (2531, 0.010051202769381172), (2532, 0.004836091434638542), (2533, 0.01046480457805094), (2534, 0.002566550401604908), (2535, 0.014743197839910717), (2536, 0.028534915483076313), (2537, 0.027712737086745435), (2538, 0.10001485880111016), (2539, 0.0023432454343902238), (2540, 0.06791032902396947), (2541, 0.008681645365956543), (2542, 0.0026725677182717995), (2543, 0.00621361855336811), (2544, 0.014131335501681991), (2545, 0.02955578658187933), (2546, 0.022607552039634965), (2547, 0.004580342172075211), (2548, 0.002675155962816472), (2549, 0.0045910520786279), (2550, 0.07365206277326194), (2551, 0.003324490643581021), (2552, 0.006537415701145188), (2553, 0.03267722578383988), (2554, 0.009184924577563133), (2555, 0.024584531209901277), (2556, 0.013525019559676815), (2557, 0.011845931516568145), (2558, 0.15467810430281312), (2559, 0.025176530873607956), (2560, 0.054001517909099774), (2561, 0.009894973477509707), (2562, 0.0020412709223406465), (2563, 0.014228203162236717), (2564, 0.007838760040241692), (2565, 0.02110713078299649), (2566, 0.004301853901202218), (2567, 0.015558522238941642), (2568, 0.022053156460033044), (2569, 0.007520953684772369), (2570, 0.012466957219645247), (2571, 0.007765830024016464), (2572, 0.017605900066786438), (2573, 0.008296535623197676), (2574, 0.0026745467838386783), (2575, 0.003130136821907837), (2576, 0.014581345058561124), (2577, 0.021250104401011365), (2578, 0.0031889968352347762), (2579, 0.011851570784845947), (2580, 0.013166705118165324), (2581, 0.03322105802698955), (2582, 0.03645700344460181), (2583, 0.0039514463698332196), (2584, 0.0026769803041345516), (2585, 0.009345804659360666), (2586, 0.003401705956431676), (2587, 0.015267946939219894), (2588, 0.003301049216895596), (2589, 0.0032512182708740608), (2590, 0.002560322677603419), (2591, 0.006798576873578351), (2592, 0.008849973603700358), (2593, 0.007416165724658001), (2594, 0.0029833556692856556), (2595, 0.008443074225839935), (2596, 0.002766217817537887), (2597, 0.013170108524380398), (2598, 0.038507099542360236), (2599, 0.014940903748175586), (2600, 0.05556524737204406), (2601, 0.02245292112772179), (2602, 0.03303595132603416), (2603, 0.016000489393169906), (2604, 0.003761442426613262), (2605, 0.0034765612427570566), (2606, 0.016350591260957545), (2607, 0.03881792560316212), (2608, 0.002744666881805498), (2609, 0.007900636187200652), (2610, 0.007752988333598696), (2611, 0.006721999519915292), (2612, 0.00785604598279511), (2613, 0.029237220879670386), (2614, 0.013609406179232533), (2615, 0.0028207796947590015), (2616, 0.0026189835609757212), (2617, 0.023620542535635135), (2618, 0.04982789064071265), (2619, 0.012237538337114221), (2620, 0.0033060471420514204), (2621, 0.05222635643350429), (2622, 0.060436537086778784), (2623, 0.012441688929121286), (2624, 0.010346892350380558), (2625, 0.02781883647246907), (2626, 0.012648019093943183), (2627, 0.0023920698967355874), (2628, 0.02078124139395966), (2629, 0.010109578821257804), (2630, 0.014844758454840611), (2631, 0.004111037198505679), (2632, 0.02932866951184951), (2633, 0.026419981107893453), (2634, 0.0075489794667273815), (2635, 0.025177129170104957), (2636, 0.004645846904388619), (2637, 0.0034455928497366074), (2638, 0.06379667258910912), (2639, 0.02879363699954101), (2640, 0.01977220793197205), (2641, 0.0027720818254237506), (2642, 0.007527975429231016), (2643, 0.028703670975118927), (2644, 0.031530598789122795), (2645, 0.04241773804763321), (2646, 0.002251835328357495), (2647, 0.04178198082085376), (2648, 0.0036168396566360387), (2649, 0.062431797080971865), (2650, 0.0363824635086968), (2651, 0.007837032819196649), (2652, 0.009250902078744471), (2653, 0.08089643605292841), (2654, 0.03613315767487109), (2655, 0.11341775404988227), (2656, 0.007284409175077735), (2657, 0.020368462557400074), (2658, 0.009444591657890461), (2659, 0.010734280629046664), (2660, 0.008486866701303462), (2661, 0.00780845885015221), (2662, 0.00359872285350474), (2663, 0.003570475335954565), (2664, 0.010071198152380046), (2665, 0.011022437774651145), (2666, 0.003068148631935302), (2667, 0.020368462557400074), (2668, 0.040121965942491566), (2669, 0.028534915483076313), (2670, 0.005136468942885749), (2671, 0.0020945579376108405), (2672, 0.004150162570112536), (2673, 0.022275845464554453), (2674, 0.014751064610891085), (2675, 0.0041078728128012745), (2676, 0.005728336287663696), (2677, 0.002926831806328235), (2678, 0.01685073031593065), (2679, 0.008162492833930855), (2680, 0.02310997960858276), (2681, 0.0027427700406476552), (2682, 0.010114414521500723), (2683, 0.017747956743360885), (2684, 0.013150834939635273), (2685, 0.0030434012936702884), (2686, 0.002517007313375617), (2687, 0.00885521888615969), (2688, 0.022154078019487992), (2689, 0.04871196860888466), (2690, 0.002838758607096588), (2691, 0.01469492778520284), (2692, 1.0), (2693, 0.003043388903408668), (2694, 0.11290568685847215), (2695, 0.030671933455723208), (2696, 0.013182525531186675), (2697, 0.023991405408310833), (2698, 0.01921830883427215), (2699, 0.0028623343132827272), (2700, 0.09579042819193366), (2701, 0.019355343428455678), (2702, 0.01068854615743247), (2703, 0.00458138531834955), (2704, 0.0032279543957971606), (2705, 0.025895309356523132), (2706, 0.018970617928687244), (2707, 0.04072402049211534), (2708, 0.01866924145508511), (2709, 0.0031145387430171626), (2710, 0.004133225110381151), (2711, 0.009942202584103764), (2712, 0.050185805641451794), (2713, 0.003151241477554337), (2714, 0.01620211969038613), (2715, 0.008938692870118692), (2716, 0.0676573075683171), (2717, 0.009020062073503705), (2718, 0.0022338725717078933), (2719, 0.004047911833988313), (2720, 0.009373304782744351), (2721, 0.0059603811900148145), (2722, 0.03104210381125047), (2723, 0.008400195702744067), (2724, 0.012808340951805691), (2725, 0.009286178191676039), (2726, 0.01768227385343632), (2727, 0.04308276578615931), (2728, 0.0059505056833472035), (2729, 0.00325675447445709), (2730, 0.004024823560744556), (2731, 0.05825131226847055), (2732, 0.01545477248876564), (2733, 0.015499498351151981), (2734, 0.0021358420038690186), (2735, 0.008485627509030308), (2736, 0.040720462878033215), (2737, 0.019355343428455678), (2738, 0.011694857872190344), (2739, 0.0257015262868538), (2740, 0.02577120042618895), (2741, 0.009388486508987846), (2742, 0.03282900798100745), (2743, 0.007055966758410596), (2744, 0.020279157322817133), (2745, 0.0333858294548336), (2746, 0.008493126831123788), (2747, 0.008020753318804367), (2748, 0.020222718646685907), (2749, 0.0027386318727497107), (2750, 0.0033048213276203288), (2751, 0.0665099920253927), (2752, 0.019528143588799746), (2753, 0.006019155904615843), (2754, 0.004807291177367317), (2755, 0.009165871740035185), (2756, 0.004723365293237314), (2757, 0.07845637225032637), (2758, 0.004730068400780784), (2759, 0.04196556089509218), (2760, 0.004905865379488307), (2761, 0.0058488931605391765), (2762, 0.04340733155142288), (2763, 0.0028857245226887457), (2764, 0.04358895708693416), (2765, 0.006836971241678546), (2766, 0.00509046151834437), (2767, 0.005033416057247498), (2768, 0.13289059347605303), (2769, 0.02582886176167288), (2770, 0.0022065001331260867), (2771, 0.021206610435507936), (2772, 0.019835259251769276), (2773, 0.004178321423310212), (2774, 0.010143752187771431), (2775, 0.02671225176407028), (2776, 0.00945454477257386), (2777, 0.046547830612738796), (2778, 0.09081777317347381), (2779, 0.007827609189057639), (2780, 0.02667496247329229), (2781, 0.004194314165697717), (2782, 0.008121645173389352), (2783, 0.009695689942636185), (2784, 0.02896900265137816), (2785, 0.004386728451472362), (2786, 0.012961696411567128), (2787, 0.010773385128666995), (2788, 0.028090455814487277), (2789, 0.019196540644167415), (2790, 0.011621716005586237), (2791, 0.050678809276822015), (2792, 0.00905552990995093), (2793, 0.0027151526797747376), (2794, 0.002959434074065195), (2795, 0.04564163417624741), (2796, 0.01259828912701802), (2797, 0.012548149154846117), (2798, 0.019606045695889324), (2799, 0.0033529852067690612), (2800, 0.006691620708212047), (2801, 0.00866056099593743), (2802, 0.007186635571822204), (2803, 0.020841436167582512), (2804, 0.002954737293363604), (2805, 0.02536023290793442), (2806, 0.00415609902935128), (2807, 0.06687235039754762), (2808, 0.03931903532838395), (2809, 0.014128855441731867), (2810, 0.00392065543013485), (2811, 0.003655124646899834), (2812, 0.018909869814382505), (2813, 0.0029197907563913886), (2814, 0.0018309427188969568), (2815, 0.030601468163299995), (2816, 0.018089594756981728), (2817, 0.0032551339837312235), (2818, 0.005875133534720894), (2819, 0.013918008999820188), (2820, 0.018424677340457354), (2821, 0.013539311350334935), (2822, 0.002348745709097369), (2823, 0.03496114151634111), (2824, 0.0030572470556821246), (2825, 0.016007132430162066), (2826, 0.007408357990185244), (2827, 0.003004497190483239), (2828, 0.0030453679112798786), (2829, 0.003006038774094029), (2830, 0.008854574739089462), (2831, 0.024729203793705933), (2832, 0.0208328575305933), (2833, 0.012608228314541376), (2834, 0.012014762495665958), (2835, 0.0027219055514897984), (2836, 0.003186899522587031), (2837, 0.0051735662957157775), (2838, 0.012817195559985513), (2839, 0.00430922337708613), (2840, 0.020558896849220822), (2841, 0.028380100525546802), (2842, 0.0023658157109521325), (2843, 0.00414709941894154), (2844, 0.013945472758575831), (2845, 0.006253694323379775), (2846, 0.13288588915960664), (2847, 0.01020990508751129), (2848, 0.012458489877899697), (2849, 0.12823033499622183), (2850, 0.0029558705036399563), (2851, 0.005080495406326736), (2852, 0.0038584144272897783), (2853, 0.008244720920247063), (2854, 0.01992079881551309), (2855, 0.002812810223476228), (2856, 0.0034443145045356576), (2857, 0.011407185956048022), (2858, 0.05825131226847055), (2859, 0.06997404117247927), (2860, 0.004763579248757311), (2861, 0.033231669707584684), (2862, 0.0071215448502297855), (2863, 0.008280333392182475), (2864, 0.004573626842429134), (2865, 0.0028706091539166625), (2866, 0.00344083588401056), (2867, 0.033724711786267965), (2868, 0.028375375731858388), (2869, 0.08326326206762485), (2870, 0.05037481264510571), (2871, 0.022352202831668905), (2872, 0.04358895708693416), (2873, 0.019278126651888102), (2874, 0.023614007230760285), (2875, 0.028534915483076313), (2876, 0.05509073564819506), (2877, 0.0021905008965788925), (2878, 0.007329009066879525), (2879, 0.04790468844375646), (2880, 0.003951306781455964), (2881, 0.025112301092981744), (2882, 0.00898727332059768), (2883, 0.0254840858174225), (2884, 0.009389601806590995), (2885, 0.003995642799329112), (2886, 0.03141202382491358), (2887, 0.009788381621799085), (2888, 0.008801179723131842), (2889, 0.04151193261773174), (2890, 0.02671225176407028), (2891, 0.019355343428455678), (2892, 0.007152896707602832), (2893, 0.009609895600410779), (2894, 0.007863079148532862), (2895, 0.012121368777884788), (2896, 0.0035473701381374227), (2897, 0.014441198274042041), (2898, 0.004395357726720768), (2899, 0.015399239805770185), (2900, 0.01950045571622906), (2901, 0.04697236279604828), (2902, 0.004865057974342468), (2903, 0.2057903559916333), (2904, 0.007865678448086572), (2905, 0.00461152597620951), (2906, 0.0027066710944237005), (2907, 0.008557469619081564), (2908, 0.05891714266740516), (2909, 0.0066153558730130445), (2910, 0.024563905611770277), (2911, 0.007973987589749413), (2912, 0.007310802126773899), (2913, 0.029759593827148278), (2914, 0.018143633211912893), (2915, 0.023511655175543975), (2916, 0.025396488040085898), (2917, 0.029271883492932933), (2918, 0.025528121054061253), (2919, 0.029453135986940777), (2920, 0.007145792905364936), (2921, 0.003664652152308719), (2922, 0.020368462557400074), (2923, 0.027648155268532162), (2924, 0.010736616724629826), (2925, 0.02095230093342578), (2926, 0.010777058716730608), (2927, 0.0042467481079981675), (2928, 0.01170983072826391), (2929, 0.021543186176053834), (2930, 0.0038950050062281335), (2931, 0.027676103921765435), (2932, 0.11725645635517995), (2933, 0.01961257821663169), (2934, 0.02579054407455328), (2935, 0.013536786511844201), (2936, 0.025889522011914242), (2937, 0.025205095365604654), (2938, 0.003124098398988667), (2939, 0.06007333322702823), (2940, 0.008805231041839877), (2941, 0.008581357460416092), (2942, 0.01659889378124599), (2943, 0.010207643214632226), (2944, 0.05088958618093821), (2945, 0.008095965941042406), (2946, 0.012070012437381629), (2947, 0.012993723158393818), (2948, 0.0382171906785288), (2949, 0.020309266012580224), (2950, 0.0030331614100087617), (2951, 0.004039868434152149), (2952, 0.00451865906337847), (2953, 0.009511987623665783), (2954, 0.007237275467527525), (2955, 0.003625554233074653), (2956, 0.003947312149844974), (2957, 0.013270389709666274), (2958, 0.002765149503252047), (2959, 0.014572673843230492), (2960, 0.013711464213626536), (2961, 0.0362371743236527), (2962, 0.013158319633165539), (2963, 0.026703701023193253), (2964, 0.023001280527285214), (2965, 0.007649547666807945), (2966, 0.023993101159567633), (2967, 0.005956796277318007), (2968, 0.0035287387239441893), (2969, 0.024938425865866115), (2970, 0.012575859042812741), (2971, 0.017072419898478373), (2972, 0.0072611003275827425), (2973, 0.004614620090475249), (2974, 0.013234676906695898), (2975, 0.015972165899130312), (2976, 0.00856581094761837), (2977, 0.021176448567929634), (2978, 0.030195575066328674), (2979, 0.00459918011877578), (2980, 0.019684803208691842), (2981, 0.020974843022440702), (2982, 0.004989230824482738), (2983, 0.005808447027288308), (2984, 0.011441574235843788), (2985, 0.09999782783433517), (2986, 0.01967234796488702), (2987, 0.010296470829767815), (2988, 0.028919597834527834), (2989, 0.05326569106163552), (2990, 0.010404488815488968), (2991, 0.01455989848066551), (2992, 0.022435708872289028), (2993, 0.033231669707584684), (2994, 0.022124542879898113), (2995, 0.03921401994998833), (2996, 0.03209037290604086), (2997, 0.012694782421614157), (2998, 0.03344983691997722), (2999, 0.008851936861247554), (3000, 0.03974695633927467), (3001, 0.004498645421304916), (3002, 0.0033111862628175917), (3003, 0.009914264116315328), (3004, 0.016118544450541384), (3005, 0.0123089272739942), (3006, 0.0038641812037121647), (3007, 0.01707952182300835), (3008, 0.017460422702864898), (3009, 0.019355343428455678), (3010, 0.007114758363161526), (3011, 0.011345468710185042), (3012, 0.06735101671296204), (3013, 0.009501865015910627), (3014, 0.007568172855021279), (3015, 0.02671225176407028), (3016, 0.010566983958715392), (3017, 0.01010234592112417), (3018, 0.015884140947263037), (3019, 0.08973508263668521), (3020, 0.02021207792774446), (3021, 0.003263000267797615), (3022, 0.016751849782566487), (3023, 0.014032271818303195), (3024, 0.006678117171623224), (3025, 0.00732981556178182), (3026, 0.009359922153481776), (3027, 0.006544574949615456), (3028, 0.00734727955866714), (3029, 0.006753841212876439), (3030, 0.05037481264510571), (3031, 0.011698858607488115), (3032, 0.02368348501960766), (3033, 0.015029020804605261), (3034, 0.004646225217025138), (3035, 0.11341775404988227), (3036, 0.031682118160893266), (3037, 0.05825131226847055), (3038, 0.028534915483076313), (3039, 0.023376766727901833), (3040, 0.05825131226847055), (3041, 0.004285170759720926), (3042, 0.027712737086745435), (3043, 0.03306445293440539), (3044, 0.01423813217162546), (3045, 0.06039250092499798), (3046, 0.017691843154329912), (3047, 0.0028040805988548104), (3048, 0.0039172506690985775), (3049, 0.09579042819193366), (3050, 0.00963843934218246), (3051, 0.028822007352615895), (3052, 0.07845637225032637), (3053, 0.002799894677061185), (3054, 0.005647609265438148), (3055, 0.027648155268532162), (3056, 0.006060317461358282), (3057, 0.00968796905068332), (3058, 0.0029314146676662723), (3059, 0.013238719619016404), (3060, 0.0029330913148933077), (3061, 0.0032893652895671505), (3062, 0.023360747204297455), (3063, 0.002503366020020552), (3064, 0.01067138454609663), (3065, 0.03523575580133452), (3066, 0.014432304836918125), (3067, 0.03235375357667164), (3068, 0.0025951910585215766), (3069, 0.007871777174141935), (3070, 0.022291588983858322), (3071, 0.007043661068472663), (3072, 0.013457617402201623), (3073, 0.003106738446223719), (3074, 0.021966118255807382), (3075, 0.009127004948138158), (3076, 0.03162471996071947), (3077, 0.003015944081639041), (3078, 0.014942746294145373), (3079, 0.01267122685214445), (3080, 0.003737051068907464), (3081, 0.018566491544471646), (3082, 0.0027128314309611333), (3083, 0.002653610559404435), (3084, 0.008722836184685171), (3085, 0.03209342913978903), (3086, 0.03974193660741419), (3087, 0.01307250222435029), (3088, 0.011549733853726627), (3089, 0.005270592174259782), (3090, 0.003092113987608589), (3091, 0.03339065806686122), (3092, 0.004106547406193338), (3093, 0.010249367991257507), (3094, 0.025134162249908165), (3095, 0.06384573843477605), (3096, 0.014989772838648606), (3097, 0.04156998034516786), (3098, 0.031590160585782345), (3099, 0.019489832928194922), (3100, 0.010945207847319836), (3101, 0.00930423401422414), (3102, 0.06922587647948795), (3103, 0.003928091902359193), (3104, 0.0030245480760635723), (3105, 0.0034997632465497905), (3106, 0.003295189973407315), (3107, 0.003944371079981766), (3108, 0.021848284699598743), (3109, 0.004410268489872117), (3110, 0.03255496219320803), (3111, 0.03537995433220424), (3112, 0.022560205652783473), (3113, 0.008861941147533588), (3114, 0.013133652936065245), (3115, 0.020368462557400074), (3116, 0.009377558462639175), (3117, 0.019964135653536382), (3118, 0.029669605899525327), (3119, 0.12823033499622183), (3120, 0.01837353897848779), (3121, 0.002633441450250594), (3122, 0.015836956761706433), (3123, 0.04242372851359614), (3124, 0.01160487695722583), (3125, 0.01760850080767896), (3126, 0.01150828887851323), (3127, 0.06234015851410471), (3128, 0.027648155268532162), (3129, 0.030206643577769296), (3130, 0.0027787790847281046), (3131, 0.012647808927450144), (3132, 0.0032435318506158625), (3133, 0.009755148213583394), (3134, 0.011869737152531786), (3135, 0.010387647972830078), (3136, 0.010805773901146202), (3137, 0.0538218856482672), (3138, 0.0033176696992602965), (3139, 0.030553393353016586), (3140, 0.011169137744599275), (3141, 0.002777156668571619), (3142, 0.020127364817563616), (3143, 0.009832385736534754), (3144, 0.037511177400775794), (3145, 0.005368304401111876), (3146, 0.013022255505883597), (3147, 0.007249715591930106), (3148, 0.010296279635447256), (3149, 0.01396457812128246), (3150, 0.008071563737258843), (3151, 0.019547222036572935), (3152, 0.01748467135068303), (3153, 0.04408810892089579), (3154, 0.06166568571888133), (3155, 0.02672130556972188), (3156, 0.012623547401861387), (3157, 0.07439465418186476), (3158, 0.013904721425578994), (3159, 0.01227025558410147), (3160, 0.009700084312031298), (3161, 0.012560570841756623), (3162, 0.004013206940708705), (3163, 0.01272360797804473), (3164, 0.011188113082211334), (3165, 0.041377927560465905), (3166, 0.017211806271377174), (3167, 0.006195813092308344), (3168, 0.014858149351142361), (3169, 0.0031807525904370233), (3170, 0.009874359432141232), (3171, 0.02665233655252012), (3172, 0.004817885905032108), (3173, 0.008719379357155003), (3174, 0.008288210879679446), (3175, 0.004102835663894475), (3176, 0.009101631898449602), (3177, 0.002831414151068271), (3178, 0.04358895708693416), (3179, 0.01179767478727977), (3180, 0.0136752530022364), (3181, 0.003301578618037436), (3182, 0.007744655405049916), (3183, 0.011424353493589275), (3184, 0.009403881445107246), (3185, 0.07170655803058), (3186, 0.008530705470003432), (3187, 0.009592757914964405), (3188, 0.0031261622243296317), (3189, 0.0030319522051550246), (3190, 0.0038465820061716277), (3191, 0.010952854835692742), (3192, 0.019804242852638463), (3193, 0.002629734425006174), (3194, 0.006452222752713257), (3195, 0.018078799541254038), (3196, 0.019833832670589788), (3197, 0.002511613256162602), (3198, 0.009505211400160135), (3199, 0.006260216308078749), (3200, 0.0067515826587189), (3201, 0.0025784685727158925), (3202, 0.0032574311796812216), (3203, 0.013150834939635273), (3204, 0.006455098034960539), (3205, 0.008582682799695589), (3206, 0.011204356967825593), (3207, 0.0034122040186149124), (3208, 0.0034154717506677903), (3209, 0.08046487664716453), (3210, 0.03376800149262382), (3211, 0.0075954581358426195), (3212, 0.0022986133420388375), (3213, 0.029310089306084825), (3214, 0.011344789382571918), (3215, 0.018534522199194457), (3216, 0.008195699060520655), (3217, 0.010577643686248308), (3218, 0.0198457004398693), (3219, 0.01446288504289803), (3220, 0.007269000131593394), (3221, 0.0036928041591297463), (3222, 0.046482226145261984), (3223, 0.0021762613410240407), (3224, 0.008804487585083145), (3225, 0.008324988925481993), (3226, 0.034097334369706786), (3227, 0.016108058969303247), (3228, 0.05036866442054891), (3229, 0.0030225717861129524), (3230, 0.009860015901036023), (3231, 0.0024099879445613243), (3232, 0.018368239745651535), (3233, 0.015836124712231378), (3234, 0.009228415009239915), (3235, 0.011908265883361477), (3236, 0.0034710752969808814), (3237, 0.019032720027304464), (3238, 0.005825989060502091), (3239, 0.018773502209002587), (3240, 0.02398640833621856), (3241, 0.010219005687689554), (3242, 0.010537806065106105), (3243, 0.007827494578449126), (3244, 0.013563681911273405), (3245, 0.02139750270598396), (3246, 0.018075967228702527), (3247, 0.009413346231670849), (3248, 0.05037481264510571), (3249, 0.10479844437972832), (3250, 0.00296181582271482), (3251, 0.005462090690471131), (3252, 0.005742402615616226), (3253, 0.027326928319949807), (3254, 0.007254645441601432), (3255, 0.009217619284996061), (3256, 0.019590421708737447), (3257, 0.014434281218395326), (3258, 0.04358895708693416), (3259, 0.018076743448063273), (3260, 0.007589206111685072), (3261, 0.01422430018783265), (3262, 0.028175561627810063), (3263, 0.0157787064085326), (3264, 0.026036530379824556), (3265, 0.016146957427320696), (3266, 0.011549733853726627), (3267, 0.01783556777616896), (3268, 0.009557146181464003), (3269, 0.01032841949295779), (3270, 0.0027663927559564063), (3271, 0.008181552704796027), (3272, 0.003800961991502984), (3273, 0.012205328496149715), (3274, 0.05037481264510571), (3275, 0.04045985931762176), (3276, 0.03461502978606141), (3277, 0.004015916348816455), (3278, 0.007412088541087751), (3279, 0.03218420660211269), (3280, 0.06658765473034933), (3281, 0.00356592676986136), (3282, 0.013234354399056372), (3283, 0.008299171605263514), (3284, 0.033769364095556365), (3285, 0.05000560241360215), (3286, 0.003236828905482572), (3287, 0.003109275745376304), (3288, 0.014377489432851075), (3289, 0.008147162011784503), (3290, 0.0077148087522139926), (3291, 0.02922789858289192), (3292, 0.015226769388898933), (3293, 0.036361318430945574), (3294, 0.08150659407248033), (3295, 0.032076198700961615), (3296, 0.05037481264510571), (3297, 0.023049794071663382), (3298, 0.007506465302689531), (3299, 0.03200591909944435), (3300, 0.007004703768516628), (3301, 0.00500887129088881), (3302, 0.009803563138295491), (3303, 0.016586832739163553), (3304, 0.007277549092383921), (3305, 0.0034350969592662466), (3306, 0.028803486110187886), (3307, 0.015791040049104133), (3308, 0.009446266855109077), (3309, 0.015646351396217797), (3310, 0.0031098605144022117), (3311, 0.006710939301356412), (3312, 0.04266732203508909), (3313, 0.04740617662274485), (3314, 0.008377334007089572), (3315, 0.0067952683356736175), (3316, 0.012766706992477679), (3317, 0.03011874330889586), (3318, 0.02357229153233272), (3319, 0.0028713010241407304), (3320, 0.002755565193424738), (3321, 0.0030881480784087614), (3322, 0.07845637225032637), (3323, 0.012376297687598034), (3324, 0.011549733853726627), (3325, 0.020336143849533007), (3326, 0.008978976381173), (3327, 0.006892714434858258), (3328, 0.0222654559504446), (3329, 0.01758129248365807), (3330, 0.017003606662178466), (3331, 0.013341774767441063), (3332, 0.0033864733461463526), (3333, 0.0030491482749071997), (3334, 0.028992178869013917), (3335, 0.00832415801481023), (3336, 0.006309655042505198), (3337, 0.01094625141412212), (3338, 0.012596394926127737), (3339, 0.008463586646171006), (3340, 0.004704698631523346), (3341, 0.007989681926775261), (3342, 0.01574926709139769), (3343, 0.0031562171299704418), (3344, 0.047037302470756645), (3345, 0.04792333783330088), (3346, 0.018569333743817584), (3347, 0.007485147039146889), (3348, 0.007992749888200442), (3349, 0.09621610387213173), (3350, 0.003011115095820749), (3351, 0.060668005348891794), (3352, 0.04091332330865627), (3353, 0.010382274362282272), (3354, 0.029237220879670386), (3355, 0.010914743935660975), (3356, 0.02353402013772207), (3357, 0.012236062209560049), (3358, 0.012079441073424109), (3359, 0.02671225176407028), (3360, 0.0945495521749021), (3361, 0.010857516930306321), (3362, 0.03061994335038435), (3363, 0.015457048930847796), (3364, 0.010492209735148273), (3365, 0.005456882990492814), (3366, 0.002870235138751057), (3367, 0.010234239094940475), (3368, 0.003406309304423402), (3369, 0.007211631020205229), (3370, 0.026260034160110152), (3371, 0.010577643686248308), (3372, 0.010139781734062152), (3373, 0.024631503700557448), (3374, 0.10610858331430706), (3375, 0.030440217196613027), (3376, 0.05505414882644043), (3377, 0.07771725476320274), (3378, 0.0032686616345326967), (3379, 0.007305418192047534), (3380, 0.00655004143796215), (3381, 0.00660207714334388), (3382, 0.024469862995886014), (3383, 0.020368462557400074), (3384, 0.047540829971695536), (3385, 0.013575957095694235), (3386, 0.023001800520892388), (3387, 0.02898605709437481), (3388, 0.008170173067983821), (3389, 0.017966911939355873), (3390, 0.007188874053775451), (3391, 0.015342816814607129), (3392, 0.0048029854670207425), (3393, 0.005894514960743754), (3394, 0.003566986541616956), (3395, 0.03183333478371567), (3396, 0.07845637225032637), (3397, 0.002429027339315871), (3398, 0.012401348551188431), (3399, 0.019424556295491224), (3400, 0.004701729272546995), (3401, 0.0036710664947092364), (3402, 0.0072058449738352775), (3403, 0.03314491851622353), (3404, 0.012715117714269336), (3405, 0.009052614860740328), (3406, 0.008651091993215239), (3407, 0.031011176931472734), (3408, 0.011231880898044184), (3409, 0.018598657326611295), (3410, 0.01353010642156684), (3411, 0.002556283447187282), (3412, 0.007396468239017941), (3413, 0.010785085367107473), (3414, 0.01014371145640736), (3415, 0.0034592796428387787), (3416, 0.03328021283507905), (3417, 0.011021557574991493), (3418, 0.01918528411311133), (3419, 0.009357514862577722), (3420, 0.03901439078127791), (3421, 0.02928711653588218), (3422, 0.0031317208291630665), (3423, 0.03709010524865203), (3424, 0.004315199483713241), (3425, 0.013059633575828402), (3426, 0.022976258159266728), (3427, 0.0031575054923156792), (3428, 0.0032940604728672455), (3429, 0.01016567519518868), (3430, 0.031094822709828926), (3431, 0.009212968713131963), (3432, 0.012246886288040635), (3433, 0.04321266571596237), (3434, 0.013062940325146703), (3435, 0.015003047016766274), (3436, 0.01586724278592278), (3437, 0.03259605692209789), (3438, 0.016739239860797374), (3439, 0.01432152779669317), (3440, 0.013898528406924007), (3441, 0.0074571305419044035), (3442, 0.003606318138989664), (3443, 0.011576109626307667), (3444, 0.0034881101981237422), (3445, 0.007862969600249414), (3446, 0.0474346039011981), (3447, 0.04938461943520079), (3448, 0.019091253116356045), (3449, 0.008720581506255144), (3450, 0.04830590956698107), (3451, 0.012349353737346075), (3452, 0.015649110252205563), (3453, 0.019305409249249224), (3454, 0.002689008012149606), (3455, 0.007397649092910191), (3456, 0.013408414639379822), (3457, 0.0157797235653209), (3458, 0.0112332762163859), (3459, 0.0028132810390265883), (3460, 0.01385351478366878), (3461, 0.0033154438146251065), (3462, 0.029993914244280204), (3463, 0.06313681101912293), (3464, 0.016992752141200246), (3465, 0.09965632849418361), (3466, 0.05601108706697777), (3467, 0.003120729470764838), (3468, 0.012943950722175844), (3469, 0.03850179306976183), (3470, 0.014033112130145674), (3471, 0.04047023527654143), (3472, 0.013178335370998483), (3473, 0.004930130477671299), (3474, 0.014967049120674128), (3475, 0.028534915483076313), (3476, 0.0033613895947146957), (3477, 0.007900609688467898), (3478, 0.007721078826375776), (3479, 0.024455520171957124), (3480, 0.058043209773394895), (3481, 0.0027871158729230986), (3482, 0.003137010533781614), (3483, 0.04176900642110723), (3484, 0.008698394052915257), (3485, 0.002465274698617112), (3486, 0.07405256388386844), (3487, 0.01588190080722845), (3488, 0.016819857864138383), (3489, 0.0032708346583627057), (3490, 0.0027381621404456973), (3491, 0.007903051579406607), (3492, 0.039169849446711036), (3493, 0.007746723504064512), (3494, 0.0030531180299247424), (3495, 0.010670426496538783), (3496, 0.008874981027490389), (3497, 0.010443962787969049), (3498, 0.0666800431158564), (3499, 0.014442376718678238), (3500, 0.009359604831072076), (3501, 0.024039461917637353), (3502, 0.020772895449124123), (3503, 0.006658853795105209), (3504, 0.04049152382897532), (3505, 0.003863121927159592), (3506, 0.007826145016936683), (3507, 0.025127897423242715), (3508, 0.03547147220142703), (3509, 0.012112956970916655), (3510, 0.004160430595224963), (3511, 0.00909527741661163), (3512, 0.034988372188177505), (3513, 0.03904166957875205), (3514, 0.016038772462771436), (3515, 0.018913835960877468), (3516, 0.019321555547258198), (3517, 0.007858045408363165), (3518, 0.07783804644450468), (3519, 0.003662821036566489), (3520, 0.011207073144357987), (3521, 0.056942855015910815), (3522, 0.0033478911886810707), (3523, 0.07845637225032637), (3524, 0.028107395225681068), (3525, 0.002572357699290389), (3526, 0.011233976182485974), (3527, 0.03924797877625447), (3528, 0.03216987156863176), (3529, 0.004254848186994788), (3530, 0.0038197575721441142), (3531, 0.014982434703429423), (3532, 0.003995017379795121), (3533, 0.0029140608720558733), (3534, 0.012483906842238058), (3535, 0.03194878977759166), (3536, 0.019371607341884145), (3537, 0.009816198457030838), (3538, 0.006291475122706812), (3539, 0.0030474048654708314), (3540, 0.010473276096562014), (3541, 0.03427541380827087), (3542, 0.010156926454474505), (3543, 0.003007238709110837), (3544, 0.02021207792774446), (3545, 0.005640825717010489), (3546, 0.004970748436384783), (3547, 0.007031166521572348), (3548, 0.007164709224454919), (3549, 0.003912179970244184), (3550, 0.0029105654359118886), (3551, 0.008085746227382982), (3552, 0.025534632187903635), (3553, 0.05258225468531497), (3554, 0.004801343676484325), (3555, 0.010434532573165642), (3556, 0.061377094995830266), (3557, 0.009516644363176596), (3558, 0.033960723918276425), (3559, 0.011670804474691541), (3560, 0.009071796272323409), (3561, 0.015035904457293955), (3562, 0.0027597206880685373), (3563, 0.006535067191820517), (3564, 0.007116689901874297), (3565, 0.007398410694585271), (3566, 0.012681506371105395), (3567, 0.0029187317753544603), (3568, 0.003030654557404575), (3569, 0.005867193108386919), (3570, 0.01868291442498065), (3571, 0.015552154343958988), (3572, 0.0037214474629013164), (3573, 0.00335024130936105), (3574, 0.0019184819814242757), (3575, 0.006022399504747042), (3576, 0.01637728096809298), (3577, 0.010430669546503183), (3578, 0.005200556631165153), (3579, 0.018582083271845677), (3580, 0.030431996527212252), (3581, 0.0042391196931302584), (3582, 0.022844227736371483), (3583, 0.011142824702312447), (3584, 0.013302072647783526), (3585, 0.003623808668595172), (3586, 0.01774151796573569), (3587, 0.009045054531697645), (3588, 0.023035909766516986), (3589, 0.002986783138042164), (3590, 0.01749848178672354), (3591, 0.0030956270947063765), (3592, 0.004463643549209423), (3593, 0.009081649495367636), (3594, 0.018221458339856743), (3595, 0.003051197583712493), (3596, 0.020535619196730283), (3597, 0.06669326580885557), (3598, 0.013042421726908537), (3599, 0.022824200801180722), (3600, 0.0029385895443207804), (3601, 0.011646435201343168), (3602, 0.010567979454915156), (3603, 0.003031104381902282), (3604, 0.013019738044618707), (3605, 0.010412571656287815), (3606, 0.007344325149107751), (3607, 0.005207501550010162), (3608, 0.008539846700560422), (3609, 0.0030698149476266223), (3610, 0.004236243394505552), (3611, 0.008889938148715172), (3612, 0.019176800734961592), (3613, 0.019786344326804917), (3614, 0.006636135164670896), (3615, 0.01199928905414459), (3616, 0.011636234483774977), (3617, 0.006924127786015434), (3618, 0.01869064702848261), (3619, 0.009446878661548447), (3620, 0.015781734512967344), (3621, 0.011574858336896652), (3622, 0.0031270209735507495), (3623, 0.01585014421935064), (3624, 0.016219751250251744), (3625, 0.014868419261224083), (3626, 0.005191557249221519), (3627, 0.009002623437344046), (3628, 0.003511067870959409), (3629, 0.0063473538027369065), (3630, 0.025424607228573756), (3631, 0.003209134338354044), (3632, 0.016120560140656732), (3633, 0.002596023717401833), (3634, 0.015908940916929216), (3635, 0.07482591643065876), (3636, 0.012432456544448484), (3637, 0.025791124173991792), (3638, 0.02335909948043336), (3639, 0.010188437512338675), (3640, 0.03674975349585481), (3641, 0.007220507749960035), (3642, 0.03510818676691403), (3643, 0.019956305451853937), (3644, 0.0029617308123460464), (3645, 0.014815864318225258), (3646, 0.007460886047981527), (3647, 0.008839790306793873), (3648, 0.015274284704136136), (3649, 0.0046615047019802035), (3650, 0.00289877111444054), (3651, 0.01392858710204426), (3652, 0.12441297597609446), (3653, 0.01737509636564299), (3654, 0.008705840760197746), (3655, 0.086437796422748), (3656, 0.01604771672501275), (3657, 0.006545515048400687), (3658, 0.01187832300645103), (3659, 0.028073728253718108), (3660, 0.028475942152328716), (3661, 0.04030692956380459), (3662, 0.002945795772374066), (3663, 0.01422430018783265), (3664, 0.010990779835284518), (3665, 0.04042530565897771), (3666, 0.020580104218145736), (3667, 0.01643201007691522), (3668, 0.007994219314507249), (3669, 0.007296908377159093), (3670, 0.028911442581694168), (3671, 0.0040793703228401415), (3672, 0.029237220879670386), (3673, 0.00807679560043665), (3674, 0.018433251027734212), (3675, 0.1521551951143341), (3676, 0.010404488815488968), (3677, 0.009613890230346636), (3678, 0.009688424772500466), (3679, 0.04073198975210945), (3680, 0.029171604035800387), (3681, 0.0034444252586521957), (3682, 0.0048023317953292234), (3683, 0.0032019207931229454), (3684, 0.044937941100823345), (3685, 0.003220567147944318), (3686, 0.01010234592112417), (3687, 0.029237220879670386), (3688, 0.0038234636350839603), (3689, 0.02023833045254702), (3690, 0.0030059125164406293), (3691, 0.006826683379839087), (3692, 0.05408263984274099), (3693, 0.0025404050384408936), (3694, 0.033010819799254056), (3695, 0.003318018918391946), (3696, 0.015331472903252662), (3697, 0.003614007805692199), (3698, 0.001957657276538395), (3699, 0.027597984729817327), (3700, 0.0030723093409095893), (3701, 0.0075704057568022854), (3702, 0.020024770827852766), (3703, 0.012190459764766555), (3704, 0.026977168850595923), (3705, 0.01318268548886719), (3706, 0.008216326493459747), (3707, 0.011139990252069838), (3708, 0.04521951956560568), (3709, 0.0026610014173367755), (3710, 0.012061490971365238), (3711, 0.04176379925373062), (3712, 0.00320907554859478), (3713, 0.03798349034620147), (3714, 0.012348666370788311), (3715, 0.06274607871789877), (3716, 0.0027455923238366357), (3717, 0.003724758457316842), (3718, 0.002697517908701856), (3719, 0.027648155268532162), (3720, 0.010653486690867749), (3721, 0.030693306813804465), (3722, 0.0032050074518026788), (3723, 0.011520805166822246), (3724, 0.0035710567557766704), (3725, 0.006730217652906667), (3726, 0.004051275355804784), (3727, 0.01728418108457797), (3728, 0.10648716415304743), (3729, 0.015443388343249088), (3730, 0.0036204520801053374), (3731, 0.024377685759349826), (3732, 0.003150427223990806), (3733, 0.019708378282615922), (3734, 0.01591296932265462), (3735, 0.0035931051898801213), (3736, 0.0026455975985215296), (3737, 0.012462093171734318), (3738, 0.002680269351738342), (3739, 0.007348069579164484), (3740, 0.008800653259596862), (3741, 0.030287896645757463), (3742, 0.00681458062833367), (3743, 0.0032229063816438526), (3744, 0.017994132846922098), (3745, 0.010016681716362491), (3746, 0.0035392319888241535), (3747, 0.02570819393330953), (3748, 0.014617908842018863), (3749, 0.010509189741327018), (3750, 0.024317601387613873), (3751, 0.013701250532041255), (3752, 0.012862880442475678), (3753, 0.00296583811791481), (3754, 0.011786064857870907), (3755, 0.00901690080042531), (3756, 0.020365933945675967), (3757, 0.009063519480245247), (3758, 0.004732155166084047), (3759, 0.003489322004203634), (3760, 0.005015205163468045), (3761, 0.023272076447381804), (3762, 0.07845637225032637), (3763, 0.01017436179707418), (3764, 0.0024938733831035226), (3765, 0.006900307623761456), (3766, 0.05216909430702289), (3767, 0.018779044263926736), (3768, 0.03381683867859705), (3769, 0.011546025366431902), (3770, 0.009759025480972926), (3771, 0.018520399003407878), (3772, 0.010451842305325316), (3773, 0.003214691741127795), (3774, 0.013460731483620907), (3775, 0.020992461396443833), (3776, 0.00989920347801046), (3777, 0.031422106419305595), (3778, 0.0475147026527786), (3779, 0.009915034295238089), (3780, 0.01959996428316077), (3781, 0.009450433270850886), (3782, 0.011914452548772532), (3783, 0.0028696559919853316), (3784, 0.018546551963999524), (3785, 0.0025870429890780216), (3786, 0.00263520626228006), (3787, 0.013748760694080504), (3788, 0.012624776034815176), (3789, 0.005215957312653126), (3790, 0.0031229184443213515), (3791, 0.005552728911839046), (3792, 0.007479690706363838), (3793, 0.01189074504088972), (3794, 0.023786804429463453), (3795, 0.00672768930947861), (3796, 0.01814466835972232), (3797, 0.030949014723840373), (3798, 0.0033754866020806887), (3799, 0.011617204494929484), (3800, 0.00788926016656131), (3801, 0.042484369667631514), (3802, 0.01850473820594178), (3803, 0.002712939578559837), (3804, 0.010661668394693942), (3805, 0.004432882991541166), (3806, 0.01143758478333217), (3807, 0.028470263536761638), (3808, 0.004348563490338182), (3809, 0.008631710126742267), (3810, 0.05973558925974598), (3811, 0.006825974599651921), (3812, 0.003359348419914251), (3813, 0.012205491668455259), (3814, 0.015049594204477823), (3815, 0.012754722236518783), (3816, 0.0034558514031644513), (3817, 0.003790121636150443), (3818, 0.0028385060210042528), (3819, 0.027302429496169484), (3820, 0.005552728911839046), (3821, 0.017358357111267264), (3822, 0.025204395718805665), (3823, 0.009939935332270992), (3824, 0.012755245078866374), (3825, 0.014443907409354794), (3826, 0.017667449831604086), (3827, 0.028175561627810063), (3828, 0.07507981757255162), (3829, 0.01609541193771562), (3830, 0.0045985667999644585), (3831, 0.00400183308553022), (3832, 0.0380295177937001), (3833, 0.012868314362938112), (3834, 0.005455007233421058), (3835, 0.05253210868604456), (3836, 0.0035146208856486616), (3837, 0.00400901757832344), (3838, 0.004405810085319324), (3839, 0.04517304500247199), (3840, 0.003364369176576753), (3841, 0.014512080130392152), (3842, 0.015494645376974585), (3843, 0.002607227553275784), (3844, 0.023864834632681103), (3845, 0.008028548003794319), (3846, 0.0036019822608738526), (3847, 0.003071181683120304), (3848, 0.029237220879670386), (3849, 0.02754712781680953), (3850, 0.01348699212312717), (3851, 0.004834002310887416), (3852, 0.009324914931763056), (3853, 0.036434762934925244), (3854, 0.026173613161437986), (3855, 0.005934843658543792), (3856, 0.0028308269231924984), (3857, 0.048075983220699385), (3858, 0.0039005014803141216), (3859, 0.0028431642332409747), (3860, 0.02093414063963482), (3861, 0.026622276442918806), (3862, 0.029057968786501527), (3863, 0.00634981412954186), (3864, 0.013248379575160719), (3865, 0.011676324049680713), (3866, 0.008937057987043336), (3867, 0.00965177385540781), (3868, 0.006797573187681641), (3869, 0.004348124320628356), (3870, 0.0033168612156079203), (3871, 0.0033215271266564816), (3872, 0.003128904530200511), (3873, 0.009150496829065673), (3874, 0.021722156218616437), (3875, 0.0300020653026156), (3876, 0.013364065356315675), (3877, 0.00938836460506844), (3878, 0.013015211296434485), (3879, 0.003008846407018411), (3880, 0.017883453431792786), (3881, 0.013464919865904436), (3882, 0.009202503338180528), (3883, 0.05023837860306259), (3884, 0.017606430723920787), (3885, 0.0025154558604836602), (3886, 0.010625055202521052), (3887, 0.003557278491008253), (3888, 0.019103060358980444), (3889, 0.011924139764620438), (3890, 0.00746154143327098), (3891, 0.0030598325861413158), (3892, 0.041328200111387936), (3893, 0.009185879766869548), (3894, 0.006385666155778945), (3895, 0.028506650588141773), (3896, 0.0047866584958172744), (3897, 0.01848587840504214), (3898, 0.013227193967001592), (3899, 0.034692755751728664), (3900, 0.009278585257709564), (3901, 0.032874456367953726), (3902, 0.008441902385221292), (3903, 0.02261004076187626), (3904, 0.011115713239687994), (3905, 0.016247542143308917), (3906, 0.0071521886760115665), (3907, 0.012004395717034764), (3908, 0.014008267508508922), (3909, 0.013661878052151034), (3910, 0.014061638783915083), (3911, 0.009327400731711438), (3912, 0.00317240037836742), (3913, 0.006934039126891459), (3914, 0.0023498969102041687), (3915, 0.008200473256557051), (3916, 0.0022745082605506797), (3917, 0.009075835205716176), (3918, 0.009101631898449602), (3919, 0.02271631789276478), (3920, 0.010517728598868695), (3921, 0.004458739085008907), (3922, 0.05825131226847055), (3923, 0.0027936217102435498), (3924, 0.025805676385112393), (3925, 0.027000415820403245), (3926, 0.016759876286400233), (3927, 0.04909571892067471), (3928, 0.00817659161261752), (3929, 0.003301215951241132), (3930, 0.0034047815542268722), (3931, 0.005131389527093708), (3932, 0.010893118451712829), (3933, 0.0024951070075036022), (3934, 0.04727687164625171), (3935, 0.012396063481705357), (3936, 0.006694611335412296), (3937, 0.0030589915249381204), (3938, 0.013508436879144613), (3939, 0.07845637225032637), (3940, 0.0115357903117664), (3941, 0.017353232345075298), (3942, 0.022098394407317593), (3943, 0.0035830453128296966), (3944, 0.009111616770932415), (3945, 0.07845637225032637), (3946, 0.11632187551776829), (3947, 0.025870665024644267), (3948, 0.0027474031951263936), (3949, 0.09569616625726962), (3950, 0.0041609444772448085), (3951, 0.03370306224355822), (3952, 0.04358895708693416), (3953, 0.006671916562491647), (3954, 0.01636255668126121), (3955, 0.07938754683099992), (3956, 0.0170318868617268), (3957, 0.021918535766873106), (3958, 0.028498123803439232), (3959, 0.056761412403298864), (3960, 0.01888885932820665), (3961, 0.06245801154736554), (3962, 0.010816594365007589), (3963, 0.003329471759335411), (3964, 0.004355593649144162), (3965, 0.002748983946771764), (3966, 0.009797118079981447), (3967, 0.01945853032945944), (3968, 0.0032887826663153766), (3969, 0.0034516683950838872), (3970, 0.010860980140500662), (3971, 0.0022421068608697776), (3972, 0.003559034112160166), (3973, 0.094468552680893), (3974, 0.0903011865730559), (3975, 0.02372726611840099), (3976, 0.04294994744298609), (3977, 0.00339919585826302), (3978, 0.04283285864861726), (3979, 0.003267236219137351), (3980, 0.0021758850003662064), (3981, 0.01422430018783265), (3982, 0.003104455382942505), (3983, 0.013374072855941912), (3984, 0.030315119699322424), (3985, 0.003328573600717702), (3986, 0.007814417933606332), (3987, 0.008703639076412686), (3988, 0.008315155441407086), (3989, 0.008559328757601823), (3990, 0.04697236279604828), (3991, 0.0030920736864236756), (3992, 0.024311902596164434), (3993, 0.021626345553453767), (3994, 0.0030134204659665537), (3995, 0.013196816555655352), (3996, 0.004793991850964062), (3997, 0.014444542398245584), (3998, 0.013428070703338693), (3999, 0.04804015846417228), (4000, 0.028186155345515957), (4001, 0.01601897832234818), (4002, 0.01374355096523834), (4003, 0.0032226123864874967), (4004, 0.057472245997286814), (4005, 0.017982963313785218), (4006, 0.0034944830551719938), (4007, 0.049506867811074357), (4008, 0.014286436156997645), (4009, 0.014011648937193156), (4010, 0.0038043037126336567), (4011, 0.0071795111962196425), (4012, 0.03664048286060659), (4013, 0.02197703988454843), (4014, 0.034830351028140895), (4015, 0.0061177461215055715), (4016, 0.04251970065830497), (4017, 0.018698900198200166), (4018, 0.003325121834183722), (4019, 0.02089945243637207), (4020, 0.007562690183616247), (4021, 0.021250104401011365), (4022, 0.003141760430915352), (4023, 0.10032442076385185), (4024, 0.010910833690599), (4025, 0.02186316384368073), (4026, 0.004774096981221916), (4027, 0.0034214992216132136), (4028, 0.06297665372866462), (4029, 0.0031080816027969586), (4030, 0.07845637225032637), (4031, 0.004013470719472886), (4032, 0.025120374720439983), (4033, 0.020938148920413718), (4034, 0.0038206899927320033), (4035, 0.01163762242966162), (4036, 0.0075872912320732264), (4037, 0.002755363604058905), (4038, 0.016830974564062347), (4039, 0.010440486542298164), (4040, 0.017363866145275443), (4041, 0.0030383905148957105), (4042, 0.014308851881927261), (4043, 0.01821021597203828), (4044, 0.01164540657726225), (4045, 0.016555208748802057), (4046, 0.017491060869797428), (4047, 0.030936228249800406), (4048, 0.12823033499622183), (4049, 0.007872012725589525), (4050, 0.06548057128455013), (4051, 0.00886203988730314), (4052, 0.024040233773529738), (4053, 0.04818531080046337), (4054, 0.00810094666829474), (4055, 0.011912012596600227), (4056, 0.008324170314996217), (4057, 0.01626539965662195), (4058, 0.00473771201807555), (4059, 0.007910511569093509), (4060, 0.024545089370667964), (4061, 0.01681057376364877), (4062, 0.1517383467997257), (4063, 0.0029214047556745553), (4064, 0.003622800634477257), (4065, 0.01422430018783265), (4066, 0.007134405602222747), (4067, 0.0033948925793120164), (4068, 0.02934326159387778), (4069, 0.007211055675436212), (4070, 0.002794294615051623), (4071, 0.011593764904453397), (4072, 0.0038070549898846185), (4073, 0.0030579775535346907), (4074, 0.006403600396183745), (4075, 0.010865695316233158), (4076, 0.012166060274292827), (4077, 0.016752634284806618), (4078, 0.005576456561686465), (4079, 0.01582444792114322), (4080, 0.00803546991167377), (4081, 0.03525242895824703), (4082, 0.015539696809592225), (4083, 0.00838471877762383), (4084, 0.019355343428455678), (4085, 0.00763777560729053), (4086, 0.0036522214387318293), (4087, 0.009702053496093418), (4088, 0.03450152143243737), (4089, 0.018162568118325912), (4090, 0.013170141025156498), (4091, 0.012253092200670128), (4092, 0.034444382709974894), (4093, 0.016993138725826328), (4094, 0.02032360311569019), (4095, 0.023632058251344484), (4096, 0.019033906464927204), (4097, 0.0031889618908846), (4098, 0.021820672442385912), (4099, 0.014270559708409116), (4100, 0.003171903702262267), (4101, 0.009361119689336924), (4102, 0.020355146535694844), (4103, 0.010543978660095075), (4104, 0.007428302261809886), (4105, 0.020810345019823175), (4106, 0.01901723615683265), (4107, 0.011591331800959042), (4108, 0.003987730025511129), (4109, 0.002927254149650078), (4110, 0.011834855198634614), (4111, 0.01097098175515033), (4112, 0.002776729483725408), (4113, 0.00843024861679008), (4114, 0.0023855945759867075), (4115, 0.010938771808505969), (4116, 0.035518674119862155), (4117, 0.010056824821602235), (4118, 0.02089698275468414), (4119, 0.013201817075320931), (4120, 0.020330929445979237), (4121, 0.028855518268110957), (4122, 0.02549143969197498), (4123, 0.030537141069095348), (4124, 0.025491967713590646), (4125, 0.0033296689835793335), (4126, 0.027648155268532162), (4127, 0.005200250792697555), (4128, 0.0031412472803305064), (4129, 0.008203391499013593), (4130, 0.007865755149258368), (4131, 0.020368462557400074), (4132, 0.008802377999891862), (4133, 0.026571475833632695), (4134, 0.03377140973171125), (4135, 0.007625229586598121), (4136, 0.008647233543521286), (4137, 0.008075456694182246), (4138, 0.010563168776295732), (4139, 0.007944709239469414), (4140, 0.008796256798344969), (4141, 0.05082220384725554), (4142, 0.007748912134172026), (4143, 0.006104810859691579), (4144, 0.0045467344008952104), (4145, 0.01173227446763554), (4146, 0.003183613602545738), (4147, 0.011215071762870826), (4148, 0.026434937956163685), (4149, 0.04458420792556629), (4150, 0.0044639103253933865), (4151, 0.013800451735105057), (4152, 0.006474466126434916), (4153, 0.002606078384158497), (4154, 0.012924028512981118), (4155, 0.00715853561815362), (4156, 0.038108343775371284), (4157, 0.0037425464992068406), (4158, 0.01857499347367663), (4159, 0.003003997939263109), (4160, 0.014816966957448293), (4161, 0.011364269658105304), (4162, 0.017122050917839624), (4163, 0.056516118291086485), (4164, 0.02113241297152648), (4165, 0.02199794615657984), (4166, 0.008309613904437817), (4167, 0.004944585419436038), (4168, 0.003158057261980568), (4169, 0.010222527741129825), (4170, 0.010936948967634372), (4171, 0.005301677758974323), (4172, 0.07845637225032637), (4173, 0.003362769252512289), (4174, 0.006127341283409109), (4175, 0.00922346626664712), (4176, 0.03883121251711819), (4177, 0.06963691805151347), (4178, 0.028619863702348335), (4179, 0.004616528548253315), (4180, 0.0038455590180212084), (4181, 0.003478054039584538), (4182, 0.013596711870266844), (4183, 0.007477116400643422), (4184, 0.016898852114131502), (4185, 0.0034869279312409636), (4186, 0.0024308674708717957), (4187, 0.022235065915017917), (4188, 0.0029403449714678403), (4189, 0.04033500874595991), (4190, 0.01814466835972232), (4191, 0.002740313917197625), (4192, 0.01820221639114684), (4193, 0.01148525412420275), (4194, 0.005741201352124356), (4195, 0.0029755507146728964), (4196, 0.01733960433619), (4197, 0.007658367890485015), (4198, 0.007289987731404608), (4199, 0.005547529460141627), (4200, 0.0054951100756112925), (4201, 0.004497107648100139), (4202, 0.029126244787869626), (4203, 0.04594806728870751), (4204, 0.005006601477965019), (4205, 0.01642833304024901), (4206, 0.008316748887536795), (4207, 0.0035587190600792594), (4208, 0.025741883706838248), (4209, 0.014420886218069286), (4210, 0.013648518141419137), (4211, 0.010602158252553244), (4212, 0.0024075531821600923), (4213, 0.011694188715378558), (4214, 0.0031620755073745875), (4215, 0.007469557043818924), (4216, 0.022799780659287436), (4217, 0.01429342466150245), (4218, 0.0028615942258417523), (4219, 0.05802424284210793), (4220, 0.006971521930483923), (4221, 0.05326569106163552), (4222, 0.04358895708693416), (4223, 0.019355343428455678), (4224, 0.0029874203270269326), (4225, 0.011767080199683649), (4226, 0.022049152296596472), (4227, 0.031297687086025525), (4228, 0.01936645579468599), (4229, 0.023272076447381804), (4230, 0.07845637225032637), (4231, 0.1521551951143341), (4232, 0.01951643304681841), (4233, 0.01730862402994783), (4234, 0.003489288031877135), (4235, 0.023343800541116545), (4236, 0.015213207198249435), (4237, 0.0029802067285882674), (4238, 0.0043071124729492875), (4239, 0.017363866145275443), (4240, 0.013963787365681449), (4241, 0.0030252659000361065), (4242, 0.08587907384075325), (4243, 0.05037481264510571), (4244, 0.04354667544521333), (4245, 0.008971453810069792), (4246, 0.030560659472583025), (4247, 0.006644911266041633), (4248, 0.011855512256265723), (4249, 0.02020403621388595), (4250, 0.011342746545009337), (4251, 0.01581238551990745), (4252, 0.11150375440078107), (4253, 0.003465065893513196), (4254, 0.013047289889314972), (4255, 0.028578246678012148), (4256, 0.003617465032597654), (4257, 0.018847146237340837), (4258, 0.003971863139889626), (4259, 0.009570858160713267), (4260, 0.003709179994963208), (4261, 0.010695123840610539), (4262, 0.008794772817335934), (4263, 0.008866685636935882), (4264, 0.012965389090042877), (4265, 0.026811640068875736), (4266, 0.008802896098367938), (4267, 0.00928278505916013), (4268, 0.09609609926542421), (4269, 0.01007377030270296), (4270, 0.0037343291453675125), (4271, 0.003958385307856576), (4272, 0.014826161559496214), (4273, 0.008989689432810935), (4274, 0.010123175504992366), (4275, 0.01335712314882004), (4276, 0.004721591308932411), (4277, 0.006888272473455383), (4278, 0.0033538699831735983), (4279, 0.003484784222030646), (4280, 0.010368508169240353), (4281, 0.058774680100742424), (4282, 0.014808217993038001), (4283, 0.04592168358114574), (4284, 0.018046544269990222), (4285, 0.019053400256596208), (4286, 0.008601680735257284), (4287, 0.00953507460520321), (4288, 0.05474378273581309), (4289, 0.018161685789276377), (4290, 0.010563054998311222), (4291, 0.0031478130183801413), (4292, 0.013504605072547313), (4293, 0.032208268719914765), (4294, 0.0033037563497673845), (4295, 0.0107789662690603), (4296, 0.010227129976453725), (4297, 0.0029098402266275465), (4298, 0.016929030790833854), (4299, 0.014933783370860855), (4300, 0.002943324444601865), (4301, 0.009603668233956749), (4302, 0.012297949476398244), (4303, 0.013673459834374036), (4304, 0.009571809807506455), (4305, 0.003098467641590439), (4306, 0.015310971734239193), (4307, 0.016172292498451042), (4308, 0.026348404531346844), (4309, 0.017528359647343356), (4310, 0.013844050919676039), (4311, 0.011542768669091368), (4312, 0.014278041017838862), (4313, 0.013426856596218003), (4314, 0.030265420253837615), (4315, 0.004390755717536917), (4316, 0.020024770827852766), (4317, 0.028534915483076313), (4318, 0.011294009600410207), (4319, 0.0030332826023755505), (4320, 0.008630614783430492), (4321, 0.029495696897036305), (4322, 0.011005370031455252), (4323, 0.003238088139771865), (4324, 0.003407786336958786), (4325, 0.02271904925118634), (4326, 0.011380161215424163), (4327, 0.0029492411414962926), (4328, 0.010819925807698437), (4329, 0.003280258407902979), (4330, 0.008351509004117883), (4331, 0.021969504311231226), (4332, 0.0035509924432907134), (4333, 0.011327285781065838), (4334, 0.008768080751826564), (4335, 0.018557858986686496), (4336, 0.019005772699098502), (4337, 0.03098922558379104), (4338, 0.003787338024599928), (4339, 0.010822041629606947), (4340, 0.008704141675807485), (4341, 0.004291595586666706), (4342, 0.014934983349591622), (4343, 0.008917401895896663), (4344, 0.020620903351020334), (4345, 0.006866946994532375), (4346, 0.0034106854410313617), (4347, 0.0037732300493515895), (4348, 0.008442728294303894), (4349, 0.03771179551341091), (4350, 0.006504763444753166), (4351, 0.01958226111611995), (4352, 0.0035453058230425984), (4353, 0.0026718669839906704), (4354, 0.011031792928969473), (4355, 0.008286870230983347), (4356, 0.0080361230771281), (4357, 0.009417185845074517), (4358, 0.0026869804457617962), (4359, 0.006864601688668651), (4360, 0.012072277665369417), (4361, 0.011456034361794666), (4362, 0.08291159687542458), (4363, 0.00951238655867072), (4364, 0.0039673267443332254), (4365, 0.009005743513822634), (4366, 0.02244799172248084), (4367, 0.014937707039897071), (4368, 0.009625134356378443), (4369, 0.010792455906712427), (4370, 0.0034275342703846572), (4371, 0.02206758693709166), (4372, 0.016542280192590218), (4373, 0.010673339736919082), (4374, 0.026361904070119707), (4375, 0.15848216012248198), (4376, 0.011234777750534025), (4377, 0.014097206077687257), (4378, 0.0848412858872166), (4379, 0.031993793943071926), (4380, 0.044241363504231024), (4381, 0.008531513533053873), (4382, 0.03875220044842741), (4383, 0.012880040189247884), (4384, 0.014088183623241983), (4385, 0.012690126154291343), (4386, 0.017763048330902), (4387, 0.028112285463243417), (4388, 0.01473344134410633), (4389, 0.014577884847894653), (4390, 0.022865494802574292), (4391, 0.010933485919930718), (4392, 0.01218089621507615), (4393, 0.0250983875759784), (4394, 0.007662748837163226), (4395, 0.049655874830119795), (4396, 0.07389609916641901), (4397, 0.01082537189548061), (4398, 0.06402275726289466), (4399, 0.034390272855266635), (4400, 0.01986542429031998), (4401, 0.00937799903744923), (4402, 0.014227597817567548), (4403, 0.09105614103696846), (4404, 0.00337457625374353), (4405, 0.0028388331367761224), (4406, 0.0030504467216129357), (4407, 0.01195772583855732), (4408, 0.00788926016656131), (4409, 0.009542387230386532), (4410, 0.003962037145970859), (4411, 0.006441099811288549), (4412, 0.030887153350433363), (4413, 0.028534915483076313), (4414, 0.0021925329340561094), (4415, 0.002481249907717787), (4416, 0.0137587709971519), (4417, 0.0034168960141305006), (4418, 0.01696233374196637), (4419, 0.01620342796415512), (4420, 0.008180908326650962), (4421, 0.003265952989018225), (4422, 0.008797437589559916), (4423, 0.07845637225032637), (4424, 0.009101631898449602), (4425, 0.009101631898449602), (4426, 0.010919017968167098), (4427, 0.008307071037792086), (4428, 0.006840508083065773), (4429, 0.007937214870208393), (4430, 0.018472055288796665), (4431, 0.025223867889475844), (4432, 0.013235675218805823), (4433, 0.003370934401653523), (4434, 0.002988624422735895), (4435, 0.02141581625067078), (4436, 0.050911539881089055), (4437, 0.0027965293198613955), (4438, 0.0128701505569448), (4439, 0.0032147516270489384), (4440, 0.058542378985788124), (4441, 0.012289695390435592), (4442, 0.019220710768904865), (4443, 0.030117256693563386), (4444, 0.030955172913897523), (4445, 0.006037915474908498), (4446, 0.0085509031786667), (4447, 0.0028095763784888794), (4448, 0.009892172333114622), (4449, 0.0057350167819901696), (4450, 0.0513785266079845), (4451, 0.0036751981991778797), (4452, 0.004378948217087828), (4453, 0.003374057482870218), (4454, 0.004264131059981621), (4455, 0.010323125612281032), (4456, 0.09098457144080628), (4457, 0.0031418776996307825), (4458, 0.05037481264510571), (4459, 0.012522294755204968), (4460, 0.004183908232638301), (4461, 0.012165321165823214), (4462, 0.01450374493777134), (4463, 0.005659224320777967), (4464, 0.02156417384607396), (4465, 0.03988927962315281), (4466, 0.04474338065316189), (4467, 0.017174892812595318), (4468, 0.011240497426024534), (4469, 0.12823033499622183), (4470, 0.01850207407894696), (4471, 0.011205963119158703), (4472, 0.007759713771132563), (4473, 0.006262047386096849), (4474, 0.033592160074265055), (4475, 0.03531270335552239), (4476, 0.006482382971260135), (4477, 0.033070469928672), (4478, 0.0032054152336046665), (4479, 0.006123150073000778), (4480, 0.005695119385135419), (4481, 0.022329068192041605), (4482, 0.03130252955510886), (4483, 0.004914983805086184), (4484, 0.015008809289106603), (4485, 0.005921195487192744), (4486, 0.02994341403628368), (4487, 0.008141223474450687), (4488, 0.009549931496192932), (4489, 0.008306751007753388), (4490, 0.02737152822511041), (4491, 0.005614403960842021), (4492, 0.03914067945303162), (4493, 0.003538199828746689), (4494, 0.019787889315697738), (4495, 0.012097593267296753), (4496, 0.004574694262025517), (4497, 0.010409432902935108), (4498, 0.0025082196627350035), (4499, 0.013426856596218003), (4500, 0.021250104401011365), (4501, 0.009058383862043313), (4502, 0.018031570331357282), (4503, 0.030361196554315635), (4504, 0.03377219965981104), (4505, 0.010369606542689539), (4506, 0.004546838319234704), (4507, 0.010667971895769615), (4508, 0.005716453339187278), (4509, 0.003608073798398732), (4510, 0.027645786763854673), (4511, 0.02080562267725864), (4512, 0.13951137086186016), (4513, 0.010352148251016307), (4514, 0.06055351604053918), (4515, 0.017165777317612138), (4516, 0.010666319856046696), (4517, 0.029567694062965312), (4518, 0.017892189429628048), (4519, 0.0033297551095677266), (4520, 0.009162252477399583), (4521, 0.020744373463494482), (4522, 0.09621610387213173), (4523, 0.016373503399537033), (4524, 0.033816937286237234), (4525, 0.0037533284081907787), (4526, 0.005630339352551678), (4527, 0.06201364548644975), (4528, 0.011462061038413608), (4529, 0.01572326811939978), (4530, 0.007261617171941834), (4531, 0.03296909076219896), (4532, 0.0028660683266259956), (4533, 0.018776299032080807), (4534, 0.04746814232549661), (4535, 0.008737566670770103), (4536, 0.00798919443273571), (4537, 0.05594158022600635), (4538, 0.0042257421376561905), (4539, 0.005470791790507979), (4540, 0.07845637225032637), (4541, 0.003941006003723085), (4542, 0.0028933029415384526), (4543, 0.03068780894264856), (4544, 0.027648155268532162), (4545, 0.008688037034928703), (4546, 0.04510064211920985), (4547, 0.004372171605860734), (4548, 0.012928376271558017), (4549, 0.004580346516349384), (4550, 0.006980595039147977), (4551, 0.024441999339734483), (4552, 0.0124061952040168), (4553, 0.021320376714626235), (4554, 0.06143943233168646), (4555, 0.013672877118691546), (4556, 0.00457605733991124), (4557, 0.016166346050136206), (4558, 0.002485456291255028), (4559, 0.0041958162829200535), (4560, 0.005467911702634087), (4561, 0.01422430018783265), (4562, 0.00937998482566772), (4563, 0.008462925608649663), (4564, 0.014175972835178961), (4565, 0.0039004300259774956), (4566, 0.009890440360848652), (4567, 0.008276482354959864), (4568, 0.0030891212487186), (4569, 0.00304199547899176), (4570, 0.011290025826506227), (4571, 0.05825131226847055), (4572, 0.07845637225032637), (4573, 0.0290777667972447), (4574, 0.00806377747809434), (4575, 0.010113268450208674), (4576, 0.024647663545535502), (4577, 0.0028959172754590497), (4578, 0.01422430018783265), (4579, 0.025170782020139084), (4580, 0.004842332446010987), (4581, 0.015422981802966236), (4582, 0.010162753570284122), (4583, 0.03419179869510547), (4584, 0.01083970091778728), (4585, 0.011380944785489715), (4586, 0.015177187230203516), (4587, 0.01226603162527606), (4588, 0.0032810808468332845), (4589, 0.011500376074908574), (4590, 0.013301257899768987), (4591, 0.013847825233407775), (4592, 0.003730248511208094), (4593, 0.030680850756096265), (4594, 0.012693907200360005), (4595, 0.01803026688211402), (4596, 0.02192255994780161), (4597, 0.004730507606112653), (4598, 0.0071564684950168765), (4599, 0.004587305575204005), (4600, 0.0026906566605693445), (4601, 0.019018020046063528), (4602, 0.009051814537288122), (4603, 0.02387140890768573), (4604, 0.010509519389619873), (4605, 0.022485731131088444), (4606, 0.016444515886957764), (4607, 0.013354994956421121), (4608, 0.007185163714809097), (4609, 0.0030597672858035155), (4610, 0.027421446610866117), (4611, 0.02326291350379603), (4612, 0.026779830917589908), (4613, 0.003157489561616213), (4614, 0.17196379528218148), (4615, 0.0035186751304328023), (4616, 0.009825810195229398), (4617, 0.12823033499622183), (4618, 0.020024770827852766), (4619, 0.03577729880270575), (4620, 0.007013046189186269), (4621, 0.0131448172524207), (4622, 0.006767687808081246), (4623, 0.026303484439482598), (4624, 0.015745698748966298), (4625, 0.012297263451762169), (4626, 0.0068651663333423206), (4627, 0.02722270011859304), (4628, 0.002878441814262464), (4629, 0.02025804382039983), (4630, 0.015554721903096605), (4631, 0.020368462557400074), (4632, 0.05037481264510571), (4633, 0.009490194329695473), (4634, 0.007128169089659978), (4635, 0.004413239580936518), (4636, 0.007226227239905122), (4637, 0.11725645635517995), (4638, 0.009586333148141763), (4639, 0.012488350503382583), (4640, 0.03134134497538456), (4641, 0.06496341395077028), (4642, 0.025255443443030462), (4643, 0.009017048349035463), (4644, 0.01422430018783265), (4645, 0.008323498615850657), (4646, 0.027378073731681246), (4647, 0.002434661706459733), (4648, 0.003496729273625466), (4649, 0.016365859427252667), (4650, 0.01025282299824772), (4651, 0.008035011478389295), (4652, 0.017008530179409318), (4653, 0.01666878195514385), (4654, 0.020024770827852766), (4655, 0.004146790540048814), (4656, 0.023486050625933255), (4657, 0.010330178907191316), (4658, 0.03694170404895285), (4659, 0.004668678999820796), (4660, 0.03066986448148825), (4661, 0.014197168615932364), (4662, 0.003312931168198209), (4663, 0.016920851529292045), (4664, 0.018700366992266928), (4665, 0.014781753809923276), (4666, 0.07170655803058), (4667, 0.0027446458621432986), (4668, 0.011415316928152517), (4669, 0.034877676280089136), (4670, 0.018432722643486506), (4671, 0.003961676404673748), (4672, 0.004097036028331454), (4673, 0.028761951139330708), (4674, 0.015939111204304593), (4675, 0.0027485511566363568), (4676, 0.004203110868018073), (4677, 0.016018298603184863), (4678, 0.011325751156784773), (4679, 0.04200046752280241), (4680, 0.009759711079014606), (4681, 0.009101631898449602), (4682, 0.04257689045516197), (4683, 0.003376747890951471), (4684, 0.05302635627152396), (4685, 0.02619197337568168), (4686, 0.008356342919089935), (4687, 0.007315463212771024), (4688, 0.0029321385019620725), (4689, 0.07749273715812222), (4690, 0.0032037432760681126), (4691, 0.03508003924734899), (4692, 0.013219718574969291), (4693, 0.07845637225032637), (4694, 0.012887581851121252), (4695, 0.029579778487183916), (4696, 0.026096433142116487), (4697, 0.011479215877845332), (4698, 0.05379671033738368), (4699, 0.024939756874651584), (4700, 0.006175233715115639), (4701, 0.06821394517027465), (4702, 0.003367940323777427), (4703, 0.011504618714475478), (4704, 0.031801716237877455), (4705, 0.018699168852864077), (4706, 0.020320789543920862), (4707, 0.0247989934683711), (4708, 0.01254774053907598), (4709, 0.11919858107326683), (4710, 0.039166370760721665), (4711, 0.01814466835972232), (4712, 0.007973779542473991), (4713, 0.021986293413554486), (4714, 0.005195038575946464), (4715, 0.019074129955031053), (4716, 0.0038757983759995117), (4717, 0.03442236715153092), (4718, 0.024476676516582745), (4719, 0.010564530741530083), (4720, 0.017363866145275443), (4721, 0.0183133455418749), (4722, 0.057654669167569214), (4723, 0.024171163920040324), (4724, 0.1521551951143341), (4725, 0.00561405145547446), (4726, 0.014968974277298132), (4727, 0.02477287070592411), (4728, 0.003156205795787538), (4729, 0.017903738734083526), (4730, 0.012566226807827078), (4731, 0.0816056826566601), (4732, 0.00951784527624944), (4733, 0.013481433716251854), (4734, 0.01785360415690274), (4735, 0.059432345514397286), (4736, 0.003996808098242968), (4737, 0.004090509449444084), (4738, 0.016264158629293854), (4739, 0.0469972231116217), (4740, 0.021250104401011365), (4741, 0.005288026617831865), (4742, 0.006109733002001373), (4743, 0.008934934019452773), (4744, 0.01444553062402306), (4745, 0.002299729789125572), (4746, 0.02725626450483336), (4747, 0.04603490837450123), (4748, 0.016009765725506143), (4749, 0.02089945243637207), (4750, 0.020024770827852766), (4751, 0.004459087833937074), (4752, 0.0052050110970172925), (4753, 0.07845637225032637), (4754, 0.002924370816802056), (4755, 0.0039023875953759692), (4756, 0.010852747984935332), (4757, 0.019152336450726382), (4758, 0.021250104401011365), (4759, 0.003188285575842849)]\n"
          ]
        }
      ]
    },
    {
      "cell_type": "code",
      "source": [
        "len(recomm_score)"
      ],
      "metadata": {
        "colab": {
          "base_uri": "https://localhost:8080/"
        },
        "id": "Z9SHzKRiBif4",
        "outputId": "f187042d-2d87-46cc-b6c2-d43f39d2173f"
      },
      "execution_count": null,
      "outputs": [
        {
          "output_type": "execute_result",
          "data": {
            "text/plain": [
              "4760"
            ]
          },
          "metadata": {},
          "execution_count": 33
        }
      ]
    },
    {
      "cell_type": "code",
      "source": [
        "sorted_similar_movies= sorted(recomm_score,key=lambda x:x[1],reverse=True)\n",
        "print(sorted_similar_movies)"
      ],
      "metadata": {
        "colab": {
          "base_uri": "https://localhost:8080/"
        },
        "id": "x36z7o4qDRd8",
        "outputId": "39e7fab4-e7b1-4322-f110-9a1f05f625a3"
      },
      "execution_count": null,
      "outputs": [
        {
          "output_type": "stream",
          "name": "stdout",
          "text": [
            "[(2692, 1.0), (1070, 0.2316170792934705), (2903, 0.2057903559916333), (4614, 0.17196379528218148), (4375, 0.15848216012248198), (2558, 0.15467810430281312), (3675, 0.1521551951143341), (4231, 0.1521551951143341), (4724, 0.1521551951143341), (4062, 0.1517383467997257), (45, 0.14410615300094648), (628, 0.1438523340757357), (4512, 0.13951137086186016), (2768, 0.13289059347605303), (2846, 0.13288588915960664), (2849, 0.12823033499622183), (3119, 0.12823033499622183), (4048, 0.12823033499622183), (4469, 0.12823033499622183), (4617, 0.12823033499622183), (675, 0.1278148963123481), (1341, 0.1253691689072718), (3652, 0.12441297597609446), (62, 0.12173528262063285), (2275, 0.11919858107326683), (4709, 0.11919858107326683), (2932, 0.11725645635517995), (4637, 0.11725645635517995), (3946, 0.11632187551776829), (2655, 0.11341775404988227), (3035, 0.11341775404988227), (2694, 0.11290568685847215), (1383, 0.11180792821371291), (4252, 0.11150375440078107), (1148, 0.10990521626986546), (3728, 0.10648716415304743), (3374, 0.10610858331430706), (2214, 0.10551904869528632), (590, 0.10498825663076734), (227, 0.10491273807656443), (3249, 0.10479844437972832), (1243, 0.10045276169597567), (4023, 0.10032442076385185), (2538, 0.10001485880111016), (2985, 0.09999782783433517), (3465, 0.09965632849418361), (292, 0.09930050064326108), (2191, 0.09927065832096103), (3349, 0.09621610387213173), (4522, 0.09621610387213173), (4268, 0.09609609926542421), (2700, 0.09579042819193366), (3049, 0.09579042819193366), (2248, 0.0956970124842849), (3949, 0.09569616625726962), (873, 0.09484368746206744), (213, 0.09473587991864969), (1994, 0.0946768780543204), (3360, 0.0945495521749021), (3973, 0.094468552680893), (137, 0.09303861116289544), (2026, 0.09300134312130742), (1023, 0.0925712829206513), (2133, 0.09169062325020465), (4403, 0.09105614103696846), (4456, 0.09098457144080628), (172, 0.0909609573557439), (2778, 0.09081777317347381), (3974, 0.0903011865730559), (3019, 0.08973508263668521), (1320, 0.08905822827189536), (2151, 0.08798045452912902), (3655, 0.086437796422748), (2374, 0.08621068504198112), (4242, 0.08587907384075325), (4378, 0.0848412858872166), (2187, 0.0846274965523204), (1821, 0.08366865549984438), (2869, 0.08326326206762485), (4362, 0.08291159687542458), (1302, 0.08275212254233043), (4731, 0.0816056826566601), (3294, 0.08150659407248033), (2653, 0.08089643605292841), (2363, 0.08072817661684152), (3209, 0.08046487664716453), (2255, 0.08042692848558317), (877, 0.07954008315816877), (3955, 0.07938754683099992), (2288, 0.07845637225032637), (2392, 0.07845637225032637), (2425, 0.07845637225032637), (2454, 0.07845637225032637), (2757, 0.07845637225032637), (3052, 0.07845637225032637), (3322, 0.07845637225032637), (3396, 0.07845637225032637), (3523, 0.07845637225032637), (3762, 0.07845637225032637), (3939, 0.07845637225032637), (3945, 0.07845637225032637), (4030, 0.07845637225032637), (4172, 0.07845637225032637), (4230, 0.07845637225032637), (4423, 0.07845637225032637), (4540, 0.07845637225032637), (4572, 0.07845637225032637), (4693, 0.07845637225032637), (4753, 0.07845637225032637), (2308, 0.07816011676724866), (3518, 0.07783804644450468), (1203, 0.07781045099816307), (3377, 0.07771725476320274), (4689, 0.07749273715812222), (1292, 0.07722830356414363), (67, 0.0769137894334684), (2321, 0.0763901019713836), (438, 0.07624348705751621), (1248, 0.0760670724091029), (328, 0.07587084499350433), (2155, 0.07540413987181961), (2375, 0.07525060439300779), (3828, 0.07507981757255162), (3635, 0.07482591643065876), (3157, 0.07439465418186476), (277, 0.07431256994529502), (3486, 0.07405256388386844), (4396, 0.07389609916641901), (1991, 0.07373399191340012), (2550, 0.07365206277326194), (1393, 0.0732939608533964), (44, 0.07314748577339819), (412, 0.0730914748132001), (1527, 0.07205019147682007), (3185, 0.07170655803058), (4666, 0.07170655803058), (1850, 0.0714185624333389), (109, 0.07119773968254074), (947, 0.07092439928907186), (2859, 0.06997404117247927), (694, 0.06993118216666044), (4177, 0.06963691805151347), (3102, 0.06922587647948795), (2328, 0.06848512045024642), (4701, 0.06821394517027465), (360, 0.06814467528414259), (2540, 0.06791032902396947), (1982, 0.06768466336138446), (2716, 0.0676573075683171), (1311, 0.0675425136713284), (1568, 0.0674339907633653), (3012, 0.06735101671296204), (2807, 0.06687235039754762), (3597, 0.06669326580885557), (3498, 0.0666800431158564), (3280, 0.06658765473034933), (2751, 0.0665099920253927), (126, 0.06571147409086495), (4050, 0.06548057128455013), (4641, 0.06496341395077028), (1871, 0.06421270423410379), (4398, 0.06402275726289466), (3095, 0.06384573843477605), (2638, 0.06379667258910912), (2123, 0.0637950954779483), (1134, 0.06370413394236843), (84, 0.0634295675508405), (3463, 0.06313681101912293), (830, 0.06313627391649289), (4028, 0.06297665372866462), (1506, 0.06278432301547116), (996, 0.06274607871789877), (3715, 0.06274607871789877), (1389, 0.062468775974281146), (3961, 0.06245801154736554), (2649, 0.062431797080971865), (1676, 0.06242297594155934), (3127, 0.06234015851410471), (670, 0.062121745317126664), (1118, 0.062107051228992044), (4527, 0.06201364548644975), (540, 0.06196657507075939), (3154, 0.06166568571888133), (4554, 0.06143943233168646), (282, 0.0613779454452294), (3556, 0.061377094995830266), (578, 0.06120876140241555), (1272, 0.061053243045700395), (911, 0.060884432723793784), (108, 0.06083944107312425), (112, 0.06067414261546479), (3351, 0.060668005348891794), (4514, 0.06055351604053918), (2622, 0.060436537086778784), (3045, 0.06039250092499798), (2324, 0.060227322303100315), (179, 0.06016263598801097), (2122, 0.06012941085967798), (2939, 0.06007333322702823), (1379, 0.05986394270302642), (1868, 0.059829339763551655), (3810, 0.05973558925974598), (2464, 0.05973554058587832), (818, 0.05967357035471077), (4735, 0.059432345514397286), (2908, 0.05891714266740516), (1367, 0.05891331715004271), (4281, 0.058774680100742424), (1043, 0.05867676370017167), (4440, 0.058542378985788124), (864, 0.05851789521598169), (2137, 0.05825131226847055), (2404, 0.05825131226847055), (2490, 0.05825131226847055), (2731, 0.05825131226847055), (2858, 0.05825131226847055), (3037, 0.05825131226847055), (3040, 0.05825131226847055), (3922, 0.05825131226847055), (4571, 0.05825131226847055), (2037, 0.058114133835145604), (3480, 0.058043209773394895), (629, 0.05803086861218575), (4219, 0.05802424284210793), (65, 0.0580095542827131), (935, 0.05800861840352496), (4722, 0.057654669167569214), (2147, 0.05752259652523176), (4004, 0.057472245997286814), (2154, 0.05738168627665574), (3521, 0.056942855015910815), (2023, 0.0568771081591862), (1162, 0.05682175000423307), (3959, 0.056761412403298864), (4163, 0.056516118291086485), (710, 0.05646083503382654), (334, 0.05604575450769439), (3466, 0.05601108706697777), (4537, 0.05594158022600635), (387, 0.05582331983893122), (1648, 0.05559509591953368), (2600, 0.05556524737204406), (1970, 0.05529843536499646), (519, 0.05510462520831336), (2876, 0.05509073564819506), (3376, 0.05505414882644043), (1750, 0.05503606370286615), (832, 0.05502322875319016), (976, 0.05488126668968471), (1464, 0.05476918317944662), (4288, 0.05474378273581309), (1795, 0.05439178556163485), (3692, 0.05408263984274099), (2560, 0.054001517909099774), (3137, 0.0538218856482672), (4698, 0.05379671033738368), (952, 0.05356418714917985), (371, 0.05335644617547183), (2989, 0.05326569106163552), (4221, 0.05326569106163552), (1788, 0.05316901736480552), (1068, 0.05316311556177346), (465, 0.053027952598840626), (4684, 0.05302635627152396), (2014, 0.053005266291233484), (3553, 0.05258225468531497), (3835, 0.05253210868604456), (166, 0.05229442083597649), (530, 0.052242064211925475), (2621, 0.05222635643350429), (3766, 0.05216909430702289), (1173, 0.051812878963868686), (1046, 0.05176659389121405), (1572, 0.05161799838563123), (2040, 0.051497773341570394), (2362, 0.05146211581129844), (1847, 0.05141684740427527), (4450, 0.0513785266079845), (1314, 0.05096996266295145), (1721, 0.05092190760080295), (4436, 0.050911539881089055), (2944, 0.05088958618093821), (193, 0.050832434316301925), (4141, 0.05082220384725554), (968, 0.05080005326639302), (2791, 0.050678809276822015), (1030, 0.050617341275842775), (2484, 0.05041135325916805), (2407, 0.05037481264510571), (2870, 0.05037481264510571), (3030, 0.05037481264510571), (3248, 0.05037481264510571), (3274, 0.05037481264510571), (3296, 0.05037481264510571), (4243, 0.05037481264510571), (4458, 0.05037481264510571), (4632, 0.05037481264510571), (3228, 0.05036866442054891), (2487, 0.05035546131529629), (3883, 0.05023837860306259), (2712, 0.050185805641451794), (2481, 0.050059824171544975), (2096, 0.05004356777457419), (3285, 0.05000560241360215), (2618, 0.04982789064071265), (4395, 0.049655874830119795), (2114, 0.04953232769837835), (4007, 0.049506867811074357), (1405, 0.04947512662599004), (3447, 0.04938461943520079), (1363, 0.04918834736892309), (3927, 0.04909571892067471), (2276, 0.04876975094895424), (2689, 0.04871196860888466), (986, 0.04868907930444827), (967, 0.04859853287346877), (1500, 0.04858787259549893), (888, 0.04851353278190593), (2229, 0.04835097509670781), (3450, 0.04830590956698107), (836, 0.048241946854125625), (4053, 0.04818531080046337), (3857, 0.048075983220699385), (3999, 0.04804015846417228), (3345, 0.04792333783330088), (2879, 0.04790468844375646), (795, 0.04786622882611699), (2440, 0.04769674939699936), (29, 0.04761306381287764), (3384, 0.047540829971695536), (3778, 0.0475147026527786), (4534, 0.04746814232549661), (2368, 0.04746279889829414), (1058, 0.04745412947707464), (3446, 0.0474346039011981), (3313, 0.04740617662274485), (2011, 0.04735658371087606), (3934, 0.04727687164625171), (2221, 0.047060603625562046), (3344, 0.047037302470756645), (4739, 0.0469972231116217), (942, 0.04697641518784225), (2257, 0.04697236279604828), (2901, 0.04697236279604828), (3990, 0.04697236279604828), (1845, 0.04695530278224895), (2777, 0.046547830612738796), (3222, 0.046482226145261984), (1141, 0.04645485674766647), (4747, 0.04603490837450123), (2294, 0.0460033931378977), (4203, 0.04594806728870751), (4283, 0.04592168358114574), (1997, 0.0458749779022184), (2795, 0.04564163417624741), (2468, 0.045618286435399585), (2094, 0.04530897022872564), (2112, 0.04530291340148298), (3708, 0.04521951956560568), (3839, 0.04517304500247199), (4546, 0.04510064211920985), (3684, 0.044937941100823345), (2443, 0.04476102547509785), (4466, 0.04474338065316189), (4149, 0.04458420792556629), (1412, 0.04452469652208787), (1585, 0.04438242698230589), (1264, 0.04433414745615055), (2174, 0.04432301685550015), (4380, 0.044241363504231024), (124, 0.044221597584092505), (116, 0.044136506719322136), (1515, 0.044127518194499955), (3153, 0.04408810892089579), (1655, 0.04396055806305414), (1861, 0.04394739318256305), (1369, 0.04391211826514414), (2501, 0.04390410394667872), (779, 0.04383267054258719), (345, 0.043778668921520957), (613, 0.04375841495252861), (1985, 0.04370524187375855), (2529, 0.04358895708693416), (2764, 0.04358895708693416), (2872, 0.04358895708693416), (3178, 0.04358895708693416), (3258, 0.04358895708693416), (3952, 0.04358895708693416), (4222, 0.04358895708693416), (4244, 0.04354667544521333), (381, 0.04348705471264043), (210, 0.04342673292919491), (2762, 0.04340733155142288), (2406, 0.04339445212861276), (1544, 0.04324070840795179), (3433, 0.04321266571596237), (2727, 0.04308276578615931), (1015, 0.04295819732123203), (3976, 0.04294994744298609), (657, 0.04291665528552785), (2210, 0.042909208395559756), (68, 0.042862438525326466), (261, 0.04284476294164334), (1942, 0.04284064738882255), (3978, 0.04283285864861726), (3312, 0.04266732203508909), (1996, 0.04263163872877799), (4682, 0.04257689045516197), (4016, 0.04251970065830497), (3801, 0.042484369667631514), (3123, 0.04242372851359614), (2645, 0.04241773804763321), (269, 0.04235030180192897), (1927, 0.04222905303829412), (2149, 0.04209565905700783), (1033, 0.04208586214640725), (1935, 0.04200620426137288), (4679, 0.04200046752280241), (2759, 0.04196556089509218), (2647, 0.04178198082085376), (3483, 0.04176900642110723), (3711, 0.04176379925373062), (1817, 0.041719485964030904), (3097, 0.04156998034516786), (691, 0.04156319525971729), (2889, 0.04151193261773174), (175, 0.04149831757578232), (1505, 0.04143463900170047), (3165, 0.041377927560465905), (1671, 0.04136941597833091), (2379, 0.041328200111387936), (2423, 0.041328200111387936), (3892, 0.041328200111387936), (2318, 0.041240481199726245), (904, 0.04116301580568053), (2353, 0.04099051735955421), (3352, 0.04091332330865627), (1257, 0.040763833435547035), (3679, 0.04073198975210945), (2707, 0.04072402049211534), (1675, 0.04072065490105913), (2736, 0.040720462878033215), (199, 0.04068999633387354), (1064, 0.04067241617812348), (1270, 0.04063285921934768), (33, 0.040623952402667036), (1003, 0.040506967449301365), (3504, 0.04049152382897532), (3471, 0.04047023527654143), (3275, 0.04045985931762176), (3665, 0.04042530565897771), (1843, 0.04035255210404805), (763, 0.04035071473710894), (4189, 0.04033500874595991), (3661, 0.04030692956380459), (2668, 0.040121965942491566), (1865, 0.040063267761156464), (4465, 0.03988927962315281), (515, 0.03988389658396982), (3000, 0.03974695633927467), (3086, 0.03974193660741419), (870, 0.039400705434777694), (2808, 0.03931903532838395), (442, 0.03931397189287838), (1385, 0.03926365630216107), (3527, 0.03924797877625447), (2995, 0.03921401994998833), (3492, 0.039169849446711036), (4710, 0.039166370760721665), (4492, 0.03914067945303162), (3513, 0.03904166957875205), (15, 0.039030703259933804), (429, 0.03903066241026519), (3420, 0.03901439078127791), (1386, 0.03896669098237051), (1492, 0.03887298368367686), (4176, 0.03883121251711819), (2607, 0.03881792560316212), (450, 0.038809539316921424), (4382, 0.03875220044842741), (929, 0.03873655769751474), (83, 0.03859242109074918), (2598, 0.038507099542360236), (3469, 0.03850179306976183), (1510, 0.03848667989839002), (824, 0.038427987903990886), (1629, 0.03834562604059322), (533, 0.038312241849186496), (2948, 0.0382171906785288), (2237, 0.03820844256546839), (860, 0.03820123823369387), (4156, 0.038108343775371284), (2251, 0.03803188315832208), (3832, 0.0380295177937001), (3713, 0.03798349034620147), (760, 0.03793686277624067), (2207, 0.03779595310855101), (4349, 0.03771179551341091), (706, 0.037660469675196394), (1609, 0.037629400599707846), (3144, 0.037511177400775794), (689, 0.03744339609535294), (437, 0.037338769764432796), (1017, 0.037323036486493655), (1052, 0.03716334690472582), (145, 0.037113337140138966), (1713, 0.03710246002598226), (3423, 0.03709010524865203), (794, 0.0370798737465953), (1707, 0.03706822595450745), (1678, 0.03706158422747904), (1716, 0.037002762953772556), (905, 0.036951316837053105), (4658, 0.03694170404895285), (1261, 0.036913657430666665), (406, 0.03683728166658039), (1838, 0.03683185296959857), (1132, 0.036812162193455074), (329, 0.0367853549713531), (3640, 0.03674975349585481), (1872, 0.03671508118010839), (4012, 0.03664048286060659), (2301, 0.03654115267151094), (2582, 0.03645700344460181), (3853, 0.036434762934925244), (88, 0.03640426944081073), (2650, 0.0363824635086968), (3293, 0.036361318430945574), (1443, 0.036325100691347756), (768, 0.03623889192027532), (2961, 0.0362371743236527), (455, 0.03614583554738506), (2654, 0.03613315767487109), (342, 0.03613080191006923), (2055, 0.03604719854856955), (669, 0.036005509891255616), (1493, 0.03594153221936318), (2258, 0.03586237282347635), (2524, 0.03585515580031794), (4619, 0.03577729880270575), (643, 0.035685774786902026), (937, 0.035652164489074274), (2110, 0.03563420077027011), (142, 0.03562497223189895), (1358, 0.03560005235534912), (1362, 0.03558062407937798), (4116, 0.035518674119862155), (3508, 0.03547147220142703), (46, 0.03543332212086596), (3111, 0.03537995433220424), (1591, 0.03533828025050771), (4475, 0.03531270335552239), (1275, 0.035293792685785356), (4081, 0.03525242895824703), (2383, 0.035246465922219486), (3065, 0.03523575580133452), (682, 0.035204266349550636), (2290, 0.03519190910312529), (3642, 0.03510818676691403), (4691, 0.03508003924734899), (2417, 0.035059200630204554), (3512, 0.034988372188177505), (2306, 0.034984966033733994), (2823, 0.03496114151634111), (1129, 0.034947041924252985), (252, 0.03492555291719783), (701, 0.034916859608843186), (204, 0.03491415828064451), (123, 0.0349049889117114), (458, 0.034884074882597316), (4669, 0.034877676280089136), (48, 0.03484992337581162), (4014, 0.034830351028140895), (1074, 0.03477407659634373), (2513, 0.03474197632107623), (3899, 0.034692755751728664), (3276, 0.03461502978606141), (463, 0.034595906754803986), (209, 0.03454301657925827), (4088, 0.03450152143243737), (4092, 0.034444382709974894), (4717, 0.03442236715153092), (4399, 0.034390272855266635), (1937, 0.03438565764979453), (21, 0.03429221072768188), (2167, 0.03428443146200949), (3541, 0.03427541380827087), (1045, 0.03422801119141536), (61, 0.03421543682834384), (4583, 0.03419179869510547), (3226, 0.034097334369706786), (876, 0.034077046203668124), (3558, 0.033960723918276425), (776, 0.033924894787120255), (1202, 0.03384247153680677), (4524, 0.033816937286237234), (3768, 0.03381683867859705), (1112, 0.03380576354465417), (2346, 0.033776019614308074), (4504, 0.03377219965981104), (4134, 0.03377140973171125), (3284, 0.033769364095556365), (3210, 0.03376800149262382), (1274, 0.03376250629383905), (470, 0.0337386604974715), (2867, 0.033724711786267965), (1471, 0.03371940807998847), (2295, 0.03371776461860873), (3951, 0.03370306224355822), (173, 0.03365894237596719), (1175, 0.0336046869081528), (4474, 0.033592160074265055), (2469, 0.03357910596245725), (566, 0.03353949692578392), (1512, 0.03350299235009264), (2998, 0.03344983691997722), (2119, 0.033405487232354196), (3091, 0.03339065806686122), (2745, 0.0333858294548336), (296, 0.03331432252384013), (3416, 0.03328021283507905), (1384, 0.03325905645757484), (2189, 0.033231669707584684), (2861, 0.033231669707584684), (2993, 0.033231669707584684), (2581, 0.03322105802698955), (160, 0.03321103074245742), (1184, 0.033187323056320814), (3403, 0.03314491851622353), (4477, 0.033070469928672), (3043, 0.03306445293440539), (2602, 0.03303595132603416), (358, 0.03302906469334915), (3694, 0.033010819799254056), (4531, 0.03296909076219896), (1853, 0.03294581102189216), (1325, 0.03290211017244868), (3901, 0.032874456367953726), (2742, 0.03282900798100745), (343, 0.0327074709328176), (2553, 0.03267722578383988), (2052, 0.03261605405992702), (3437, 0.03259605692209789), (3110, 0.03255496219320803), (364, 0.03249185322782143), (673, 0.03247152509654288), (1343, 0.03242971335095872), (1245, 0.03241258081233005), (1759, 0.03239853351354851), (3067, 0.03235375357667164), (1878, 0.03234695977877229), (796, 0.03231340578617907), (4293, 0.032208268719914765), (3279, 0.03218420660211269), (677, 0.03217984815663453), (3528, 0.03216987156863176), (208, 0.03212390146695831), (3085, 0.03209342913978903), (2996, 0.03209037290604086), (3295, 0.032076198700961615), (842, 0.032065820302558085), (1832, 0.03205720159586341), (203, 0.03200800458972442), (3299, 0.03200591909944435), (4379, 0.031993793943071926), (1019, 0.03195043716894882), (3535, 0.03194878977759166), (330, 0.03193984445638288), (1445, 0.03190718163604736), (1365, 0.03186072471578031), (3395, 0.03183333478371567), (1226, 0.03182488030763189), (4704, 0.031801716237877455), (1116, 0.031738787236562094), (2080, 0.03171066691781545), (3036, 0.031682118160893266), (3076, 0.03162471996071947), (3098, 0.031590160585782345), (1687, 0.03159002506125362), (1035, 0.031582026662902565), (2644, 0.031530598789122795), (482, 0.03152866353927057), (638, 0.03150056395770645), (40, 0.0314607983391164), (1579, 0.0314591624489689), (584, 0.03144148656039583), (3777, 0.031422106419305595), (2886, 0.03141202382491358), (511, 0.031404816519546), (144, 0.03140028226366041), (2035, 0.03139921407286486), (4640, 0.03134134497538456), (4482, 0.03130252955510886), (4227, 0.031297687086025525), (1897, 0.03129492890229522), (1254, 0.031274821067256806), (1361, 0.031266210210415785), (1241, 0.031264649925424805), (896, 0.03125700409036919), (2254, 0.031245668750270635), (2460, 0.031181558700418322), (2093, 0.03114238719268312), (3430, 0.031094822709828926), (2505, 0.031083025244292503), (2053, 0.031045277491779648), (2722, 0.03104210381125047), (51, 0.031024958361661796), (287, 0.031023217084146203), (3407, 0.031011176931472734), (551, 0.030999637727772037), (222, 0.030992895218985683), (4337, 0.03098922558379104), (149, 0.03097684603652812), (4444, 0.030955172913897523), (3797, 0.030949014723840373), (4047, 0.030936228249800406), (4412, 0.030887153350433363), (212, 0.03085792845597697), (2486, 0.030803348813682522), (1906, 0.03079418720549612), (652, 0.030790956388751956), (808, 0.03073125776474694), (147, 0.03073046630807893), (2070, 0.030703583652234655), (3721, 0.030693306813804465), (4543, 0.03068780894264856), (4593, 0.030680850756096265), (2695, 0.030671933455723208), (4660, 0.03066986448148825), (409, 0.03066745164259457), (2188, 0.030642155974344065), (1779, 0.030627417715292704), (3362, 0.03061994335038435), (2815, 0.030601468163299995), (4246, 0.030560659472583025), (3139, 0.030553393353016586), (916, 0.030549142461380508), (481, 0.030538375434491442), (4123, 0.030537141069095348), (1183, 0.030529462784390615), (3375, 0.030440217196613027), (3580, 0.030431996527212252), (534, 0.030377948307991752), (1681, 0.030371393068808497), (2196, 0.030369446156900813), (4503, 0.030361196554315635), (3984, 0.030315119699322424), (1815, 0.03029896563986513), (2334, 0.030298036520911367), (799, 0.030291986448351817), (1224, 0.030288529754787002), (3741, 0.030287896645757463), (2388, 0.030270957162901024), (374, 0.030269139494441155), (4314, 0.030265420253837615), (1740, 0.03026316648831546), (125, 0.03025203337153902), (1401, 0.030239062501266508), (1790, 0.030221456208838086), (280, 0.030217551709447586), (3129, 0.030206643577769296), (2978, 0.030195575066328674), (85, 0.030126780150633505), (2024, 0.030124640471217268), (3317, 0.03011874330889586), (4443, 0.030117256693563386), (2284, 0.030069457332217026), (2116, 0.03004085714478684), (279, 0.030006825269935915), (3875, 0.0300020653026156), (3462, 0.029993914244280204), (4486, 0.02994341403628368), (1413, 0.029837571783765567), (1119, 0.029765666918255947), (2913, 0.029759593827148278), (2522, 0.029755126031265986), (2077, 0.029700502051249297), (788, 0.02968723244584537), (2298, 0.029678895342742876), (3118, 0.029669605899525327), (553, 0.029657407180547036), (190, 0.02961812988507389), (2075, 0.029599209538152108), (4695, 0.029579778487183916), (4517, 0.029567694062965312), (2545, 0.02955578658187933), (620, 0.029536484083245544), (4321, 0.029495696897036305), (447, 0.029487029529067874), (547, 0.02948185577962427), (2919, 0.029453135986940777), (1712, 0.029428954553827026), (4068, 0.02934326159387778), (2632, 0.02932866951184951), (3213, 0.029310089306084825), (3421, 0.02928711653588218), (2917, 0.029271883492932933), (753, 0.029238613650578477), (2613, 0.029237220879670386), (3354, 0.029237220879670386), (3672, 0.029237220879670386), (3687, 0.029237220879670386), (3848, 0.029237220879670386), (3291, 0.02922789858289192), (2161, 0.029203185187638047), (3680, 0.029171604035800387), (1621, 0.02915054787280844), (4202, 0.029126244787869626), (866, 0.029086340849470493), (4573, 0.0290777667972447), (3862, 0.029057968786501527), (2252, 0.029015096534486244), (89, 0.029013599716609703), (1741, 0.029008458298691527), (106, 0.02900836810456282), (3334, 0.028992178869013917), (3387, 0.02898605709437481), (2121, 0.028985304283134408), (2784, 0.02896900265137816), (2228, 0.02894553189081124), (2988, 0.028919597834527834), (667, 0.028916672564181102), (3670, 0.028911442581694168), (867, 0.028861979570734782), (4121, 0.028855518268110957), (1377, 0.028832851145293596), (3051, 0.028822007352615895), (1232, 0.028814845254518606), (3306, 0.028803486110187886), (2639, 0.02879363699954101), (879, 0.028780787031753755), (4673, 0.028761951139330708), (2643, 0.028703670975118927), (622, 0.028692663908684402), (1567, 0.028664880540481014), (1483, 0.028637741578305384), (4178, 0.028619863702348335), (2347, 0.028602906778297185), (1983, 0.028588538046656987), (1192, 0.02858838483999826), (4255, 0.028578246678012148), (1360, 0.028568941265822205), (1417, 0.028539338484597727), (2483, 0.028534915483076313), (2515, 0.028534915483076313), (2536, 0.028534915483076313), (2669, 0.028534915483076313), (2875, 0.028534915483076313), (3038, 0.028534915483076313), (3475, 0.028534915483076313), (4317, 0.028534915483076313), (4413, 0.028534915483076313), (3895, 0.028506650588141773), (3958, 0.028498123803439232), (3660, 0.028475942152328716), (1216, 0.028475412126575495), (3807, 0.028470263536761638), (1403, 0.02839028111883364), (2841, 0.028380100525546802), (2868, 0.028375375731858388), (814, 0.02835874133579728), (1152, 0.028311867731121182), (1053, 0.028289559933943553), (1812, 0.028281540131109884), (218, 0.02827558901660493), (502, 0.02826810435621908), (762, 0.028252409228682593), (1115, 0.028232259519359384), (1945, 0.028216957045762638), (4000, 0.028186155345515957), (2289, 0.028175561627810063), (3262, 0.028175561627810063), (3827, 0.028175561627810063), (231, 0.028169540737225576), (4387, 0.028112285463243417), (3524, 0.028107395225681068), (2788, 0.028090455814487277), (543, 0.02808056982221002), (3659, 0.028073728253718108), (1880, 0.028045507406043876), (900, 0.028027906931737484), (1239, 0.027996482111068817), (586, 0.02793054139518757), (875, 0.02786134696426986), (2027, 0.027840887794978328), (2625, 0.02781883647246907), (207, 0.027768279728171273), (1018, 0.02776416466731673), (1519, 0.02775215436192506), (433, 0.027737449249437475), (2537, 0.027712737086745435), (3042, 0.027712737086745435), (537, 0.027684929109699555), (2931, 0.027676103921765435), (2923, 0.027648155268532162), (3055, 0.027648155268532162), (3128, 0.027648155268532162), (3719, 0.027648155268532162), (4126, 0.027648155268532162), (4544, 0.027648155268532162), (4510, 0.027645786763854673), (274, 0.027607536418398353), (3699, 0.027597984729817327), (2049, 0.027579820578423397), (692, 0.027563518473273273), (1461, 0.02755943442477265), (3849, 0.02754712781680953), (4610, 0.027421446610866117), (1682, 0.027381228544264342), (4646, 0.027378073731681246), (4490, 0.02737152822511041), (1337, 0.02734401247473872), (1665, 0.02732881710313082), (3253, 0.027326928319949807), (957, 0.027311200672345957), (3819, 0.027302429496169484), (2206, 0.027297197451049048), (4746, 0.02725626450483336), (4627, 0.02722270011859304), (1290, 0.027203850715929963), (1949, 0.027193086570808298), (510, 0.027190654652403876), (236, 0.027185141027555558), (1114, 0.027126665905863646), (1799, 0.02710567590658126), (2344, 0.027100808968523828), (181, 0.02709561877725), (1104, 0.027088801537801115), (2045, 0.027067215934933237), (678, 0.027057665167862285), (853, 0.02705760499600092), (1523, 0.02703127466690266), (3925, 0.027000415820403245), (2066, 0.02698884121623049), (43, 0.026980534190970178), (3704, 0.026977168850595923), (2475, 0.02693489453451292), (874, 0.02690723499877043), (1407, 0.026890473430067084), (1595, 0.026859867953658113), (757, 0.026850929054499036), (4265, 0.026811640068875736), (2394, 0.026803668782683317), (4612, 0.026779830917589908), (402, 0.026773053993942073), (3155, 0.02672130556972188), (899, 0.026716786478816333), (2349, 0.02671225176407028), (2775, 0.02671225176407028), (2890, 0.02671225176407028), (3015, 0.02671225176407028), (3359, 0.02671225176407028), (2963, 0.026703701023193253), (2780, 0.02667496247329229), (370, 0.026674295175384888), (3171, 0.02665233655252012), (3861, 0.026622276442918806), (2235, 0.02662039240332638), (654, 0.026609117931144007), (2376, 0.026599853621553655), (844, 0.02658957967411347), (4133, 0.026571475833632695), (988, 0.026560124418805738), (1252, 0.026556858625897337), (2310, 0.026553131114483305), (1773, 0.026549459633344943), (989, 0.026525992897919917), (1335, 0.02649149260377972), (1864, 0.02648289197227182), (1986, 0.0264550082302115), (4148, 0.026434937956163685), (341, 0.02643042346488872), (2633, 0.026419981107893453), (2216, 0.026399952980153466), (1128, 0.02638777658875973), (4374, 0.026361904070119707), (4308, 0.026348404531346844), (2162, 0.026343085806287424), (1900, 0.0263364590249735), (2209, 0.02633025572170986), (963, 0.026309914734307126), (4623, 0.026303484439482598), (2280, 0.026298187518153292), (2051, 0.026297736544279134), (3370, 0.026260034160110152), (281, 0.026207495318887403), (1774, 0.02620551455038976), (4685, 0.02619197337568168), (3854, 0.026173613161437986), (918, 0.026154924010988272), (7, 0.02615293559645559), (138, 0.026142954063461867), (254, 0.026131979951143764), (2403, 0.02612145432431416), (1876, 0.02610471195307456), (4696, 0.026096433142116487), (3264, 0.026036530379824556), (2224, 0.026036341764539304), (604, 0.02603335950727525), (1481, 0.026019796785762137), (317, 0.02597564014594682), (1465, 0.025943942980011), (1024, 0.025943222528973964), (2444, 0.025923943507694638), (635, 0.025897494546975576), (2705, 0.025895309356523132), (2936, 0.025889522011914242), (3947, 0.025870665024644267), (1667, 0.025864304194068946), (2480, 0.02582994909791176), (2769, 0.02582886176167288), (356, 0.025822553524831607), (3924, 0.025805676385112393), (3637, 0.025791124173991792), (2934, 0.02579054407455328), (2740, 0.02577120042618895), (1237, 0.025760220252904184), (4208, 0.025741883706838248), (3747, 0.02570819393330953), (2739, 0.0257015262868538), (70, 0.02569169807714187), (1432, 0.02568707380848486), (1160, 0.025679646433969687), (2008, 0.025670937256551517), (1680, 0.02566174179183106), (827, 0.02563089514169154), (2265, 0.025615851277038262), (251, 0.025556472618881235), (895, 0.02555051013860353), (3552, 0.025534632187903635), (2918, 0.025528121054061253), (1988, 0.025499051204102768), (4124, 0.025491967713590646), (4122, 0.02549143969197498), (1331, 0.02548648554979463), (2883, 0.0254840858174225), (1654, 0.025464437176003697), (1967, 0.025459067488816586), (1923, 0.025453129229539052), (3630, 0.025424607228573756), (418, 0.02540453556719784), (934, 0.025402965752922613), (2916, 0.025396488040085898), (1658, 0.025362657142734796), (2805, 0.02536023290793442), (1895, 0.02533847851637206), (676, 0.025337296713057393), (1858, 0.02531936967445292), (527, 0.025310623076001237), (75, 0.025277327219184874), (313, 0.025265935280621325), (4642, 0.025255443443030462), (1542, 0.025229156256744007), (4431, 0.025223867889475844), (2178, 0.025209757151229306), (2937, 0.025205095365604654), (3822, 0.025204395718805665), (775, 0.025201015113673095), (2635, 0.025177129170104957), (2559, 0.025176530873607956), (4579, 0.025170782020139084), (715, 0.025153044767456657), (2428, 0.025141896621614993), (3094, 0.025134162249908165), (3507, 0.025127897423242715), (4032, 0.025120374720439983), (1739, 0.025120217696090668), (2881, 0.025112301092981744), (1396, 0.025111315399650096), (2238, 0.0250983875759784), (4393, 0.0250983875759784), (52, 0.025072130580604986), (1619, 0.025024668611706387), (18, 0.025009628095919813), (2494, 0.024997538902815166), (87, 0.024986915397185033), (4699, 0.024939756874651584), (2969, 0.024938425865866115), (1075, 0.024934022485232698), (545, 0.024909046783239727), (276, 0.024881479151724922), (847, 0.02486533362578733), (1685, 0.024855638730737588), (787, 0.02483906769827792), (4707, 0.0247989934683711), (4727, 0.02477287070592411), (523, 0.024760899025680405), (201, 0.02474189060476452), (321, 0.024729226139169336), (2831, 0.024729203793705933), (1266, 0.0246935181245945), (742, 0.02468842000743284), (483, 0.024685890449754458), (4576, 0.024647663545535502), (2336, 0.02463768493750046), (3373, 0.024631503700557448), (1047, 0.024630845382565564), (1005, 0.02462789987462999), (1215, 0.024602552753522744), (1429, 0.024598581312470356), (2555, 0.024584531209901277), (2910, 0.024563905611770277), (4060, 0.024545089370667964), (1255, 0.02452858490584648), (906, 0.024522222968461318), (197, 0.024511342651437826), (878, 0.024502466579403068), (1478, 0.024482477314324215), (4718, 0.024476676516582745), (3382, 0.024469862995886014), (1099, 0.0244682724722793), (13, 0.024467936622744504), (761, 0.024460028936336163), (3479, 0.024455520171957124), (4551, 0.024441999339734483), (1185, 0.024434240741228408), (1278, 0.024414999173599402), (1951, 0.02439274486342498), (57, 0.0243797079940289), (3731, 0.024377685759349826), (2366, 0.024346706937102416), (949, 0.02434432358936458), (3750, 0.024317601387613873), (3992, 0.024311902596164434), (464, 0.02426936566983685), (733, 0.024244205270524212), (1359, 0.024243199998864012), (2145, 0.024242882832233126), (2412, 0.024240409387305935), (1787, 0.024220327813650855), (1293, 0.024173352908753356), (4723, 0.024171163920040324), (130, 0.024145165444647138), (695, 0.024140709176989156), (2459, 0.024120545785615836), (928, 0.024101931884161747), (161, 0.024100896284241932), (1012, 0.024100009660320977), (1513, 0.02408208814965586), (1317, 0.02407699924690824), (1000, 0.02405457316489739), (800, 0.024043074059069035), (4052, 0.024040233773529738), (3501, 0.024039461917637353), (2966, 0.023993101159567633), (2697, 0.023991405408310833), (3240, 0.02398640833621856), (2436, 0.02395062969627031), (1874, 0.023918055217421588), (1809, 0.023911230078332887), (4603, 0.02387140890768573), (3844, 0.023864834632681103), (3794, 0.023786804429463453), (105, 0.02374727353662251), (3975, 0.02372726611840099), (833, 0.023707693946665512), (1436, 0.02370261325921765), (737, 0.023691116271994352), (3032, 0.02368348501960766), (931, 0.023664392227251276), (1852, 0.02363958608857425), (4095, 0.023632058251344484), (1796, 0.023625752995949937), (2617, 0.023620542535635135), (809, 0.023620074868463927), (2874, 0.023614007230760285), (1958, 0.02361311862846123), (1107, 0.023602396196383414), (479, 0.023589346742004816), (1259, 0.02358115321229704), (3318, 0.02357229153233272), (683, 0.02356445284552288), (790, 0.02354176724745047), (3356, 0.02353402013772207), (1802, 0.02352511438163641), (2421, 0.023514160504091268), (2915, 0.023511655175543975), (396, 0.023488737571663414), (4656, 0.023486050625933255), (496, 0.023476545297651474), (2089, 0.023459795927955225), (1761, 0.023424116098487345), (1455, 0.02338988788463964), (322, 0.0233851860969689), (3039, 0.023376766727901833), (3062, 0.023360747204297455), (3638, 0.02335909948043336), (4235, 0.023343800541116545), (120, 0.023306036458798737), (1919, 0.023298000969155876), (3761, 0.023272076447381804), (4229, 0.023272076447381804), (4611, 0.02326291350379603), (1873, 0.02325559867990007), (838, 0.023247906428939848), (273, 0.023233672555174535), (2177, 0.023207567418997828), (648, 0.023148697549981532), (1262, 0.02311439369698142), (2304, 0.02311165793140662), (2680, 0.02310997960858276), (1939, 0.02307931523467328), (1376, 0.023073609486865848), (3297, 0.023049794071663382), (3588, 0.023035909766516986), (1727, 0.023007387716048086), (3386, 0.023001800520892388), (2964, 0.023001280527285214), (3426, 0.022976258159266728), (2057, 0.022968273967291113), (174, 0.022952869156821792), (991, 0.022904777756376966), (1146, 0.022878458688826445), (1754, 0.022876565442984928), (4390, 0.022865494802574292), (3582, 0.022844227736371483), (3599, 0.022824200801180722), (4216, 0.022799780659287436), (1419, 0.022797392614454494), (4325, 0.02271904925118634), (3919, 0.02271631789276478), (2415, 0.022708001826287478), (1934, 0.022698846634427144), (2418, 0.022696763797178533), (5, 0.02269319420473525), (2097, 0.022675253680730957), (1551, 0.02265185009898618), (609, 0.022646260225978404), (1406, 0.02262705225648294), (3903, 0.02261004076187626), (2546, 0.022607552039634965), (1870, 0.022594836167502467), (2126, 0.022568865874587375), (3112, 0.022560205652783473), (829, 0.02255323214125024), (825, 0.02255017627356552), (1145, 0.02254529861263029), (732, 0.022517930293245517), (4605, 0.022485731131088444), (1063, 0.022478579192972796), (2601, 0.02245292112772179), (4366, 0.02244799172248084), (2429, 0.02244006814877072), (2992, 0.022435708872289028), (452, 0.02237466171200052), (2871, 0.022352202831668905), (1342, 0.022331275861947608), (4481, 0.022329068192041605), (948, 0.022326530462687476), (1009, 0.022321237451116457), (291, 0.022303001584282944), (3070, 0.022291588983858322), (485, 0.022289636343297684), (1339, 0.022288543056964982), (2673, 0.022275845464554453), (3328, 0.0222654559504446), (560, 0.022257984597156374), (2212, 0.02223662443264477), (4187, 0.022235065915017917), (1752, 0.022223208116061405), (1054, 0.022211812807773727), (2005, 0.022179135023773777), (2489, 0.02217589923013609), (936, 0.022169642493900195), (2688, 0.022154078019487992), (1494, 0.02215072306010741), (2000, 0.022149034965233565), (407, 0.022130875438068756), (2994, 0.022124542879898113), (2062, 0.022111104107349733), (3942, 0.022098394407317593), (4371, 0.02206758693709166), (2568, 0.022053156460033044), (4226, 0.022049152296596472), (1157, 0.022031694394038622), (332, 0.02202963794542536), (1509, 0.02200425078131059), (4165, 0.02199794615657984), (1714, 0.021993425631484972), (4713, 0.021986293413554486), (1234, 0.021981064265450788), (4013, 0.02197703988454843), (4331, 0.021969504311231226), (3074, 0.021966118255807382), (1420, 0.021955706122320846), (2144, 0.021934529554830894), (4596, 0.02192255994780161), (3957, 0.021918535766873106), (1992, 0.021878980071014596), (4025, 0.02186316384368073), (766, 0.02185945660313752), (3108, 0.021848284699598743), (244, 0.02183250104436893), (4098, 0.021820672442385912), (1507, 0.02181404318406778), (170, 0.021801457202010086), (2427, 0.021799083272702517), (1440, 0.021737976689546395), (653, 0.02172661636717206), (3874, 0.021722156218616437), (1708, 0.02170749199145962), (500, 0.02170313347719037), (1957, 0.021686765768224158), (664, 0.021673163684418816), (1194, 0.02166894229724936), (1124, 0.021663798585577924), (1310, 0.02166359432792251), (2299, 0.02165319947087322), (1630, 0.021651480416824548), (1789, 0.021647067143891564), (3993, 0.021626345553453767), (4464, 0.02156417384607396), (1048, 0.021552950015829797), (2348, 0.021546938488350244), (2929, 0.021543186176053834), (2447, 0.021540496006062886), (719, 0.021471578240418347), (532, 0.021470889634485832), (4435, 0.02141581625067078), (3245, 0.02139750270598396), (2426, 0.021393020627671122), (270, 0.021353082556747914), (2463, 0.021336169346137378), (4553, 0.021320376714626235), (1798, 0.021304499973866485), (1249, 0.02129366441114787), (1236, 0.021281257398493392), (915, 0.02125664532065427), (801, 0.02125544532909203), (2577, 0.021250104401011365), (4021, 0.021250104401011365), (4500, 0.021250104401011365), (4740, 0.021250104401011365), (4758, 0.021250104401011365), (792, 0.02121748672395074), (1736, 0.021206828215934018), (2771, 0.021206610435507936), (1475, 0.021182197496331302), (1438, 0.02117750013979883), (2977, 0.021176448567929634), (139, 0.021173213452191746), (1065, 0.021166215500023754), (644, 0.021152986855739075), (1230, 0.021150171519796618), (4164, 0.02113241297152648), (2277, 0.02112423524004132), (2565, 0.02110713078299649), (1540, 0.021086871688000827), (979, 0.02106479115249481), (1006, 0.021063416258117022), (72, 0.021034344754711068), (3775, 0.020992461396443833), (1182, 0.020987150988417948), (468, 0.02097652926095057), (2981, 0.020974843022440702), (206, 0.020965068999510665), (2925, 0.02095230093342578), (4033, 0.020938148920413718), (3860, 0.02093414063963482), (4019, 0.02089945243637207), (4749, 0.02089945243637207), (4118, 0.02089698275468414), (2087, 0.02086403510402502), (2803, 0.020841436167582512), (2832, 0.0208328575305933), (4105, 0.020810345019823175), (4511, 0.02080562267725864), (2628, 0.02078124139395966), (3502, 0.020772895449124123), (99, 0.02077138366741079), (2193, 0.020754467246206755), (1020, 0.020748338821231775), (4521, 0.020744373463494482), (86, 0.020735663911841985), (2303, 0.020730527800232372), (1807, 0.02070855240474774), (1338, 0.020706447177856684), (2013, 0.02068847198161637), (2029, 0.020681013882557966), (817, 0.020677325408617834), (1220, 0.0206305215392088), (4344, 0.020620903351020334), (1723, 0.020609034284676732), (3666, 0.020580104218145736), (897, 0.02057855027407915), (2840, 0.020558896849220822), (2474, 0.020557050650800195), (1077, 0.020538676641620304), (3596, 0.020535619196730283), (806, 0.020527450980456444), (1696, 0.020526849113899383), (555, 0.020506797338866914), (2350, 0.02047079877860989), (2016, 0.02038812928915073), (2657, 0.020368462557400074), (2667, 0.020368462557400074), (2922, 0.020368462557400074), (3115, 0.020368462557400074), (3383, 0.020368462557400074), (4131, 0.020368462557400074), (4631, 0.020368462557400074), (461, 0.02036809167700661), (3756, 0.020365933945675967), (921, 0.020355226533370477), (4102, 0.020355146535694844), (3325, 0.020336143849533007), (4120, 0.020330929445979237), (4094, 0.02032360311569019), (4706, 0.020320789543920862), (2949, 0.020309266012580224), (2744, 0.020279157322817133), (1090, 0.02026997254253455), (4629, 0.02025804382039983), (3689, 0.02023833045254702), (368, 0.020232924080945604), (735, 0.020222718646685907), (2748, 0.020222718646685907), (3020, 0.02021207792774446), (3544, 0.02021207792774446), (1989, 0.020207623307871403), (4249, 0.02020403621388595), (354, 0.02017904158566674), (472, 0.02014084227513522), (3142, 0.020127364817563616), (1014, 0.020114005448676163), (1096, 0.02010915143267574), (2250, 0.020066734369401294), (631, 0.02004801813018068), (2158, 0.02003779725515976), (148, 0.020032027173197874), (3702, 0.020024770827852766), (4316, 0.020024770827852766), (4618, 0.020024770827852766), (4654, 0.020024770827852766), (4750, 0.020024770827852766), (684, 0.019999473046499544), (894, 0.019993923443983708), (1662, 0.019973403139196086), (304, 0.019970357672756633), (1498, 0.019969207505734048), (69, 0.019965081934187598), (3117, 0.019964135653536382), (3643, 0.019956305451853937), (417, 0.01993758927053064), (216, 0.019934779803684896), (994, 0.01992896474438525), (2854, 0.01992079881551309), (1442, 0.019912827872736384), (544, 0.019909411661715903), (4400, 0.01986542429031998), (2512, 0.019861299873343074), (288, 0.019853279711207802), (3218, 0.0198457004398693), (2772, 0.019835259251769276), (3196, 0.019833832670589788), (446, 0.019831348802930856), (3192, 0.019804242852638463), (4494, 0.019787889315697738), (3613, 0.019786344326804917), (38, 0.019780514403016276), (2640, 0.01977220793197205), (1334, 0.019747097001105204), (82, 0.019738825344481403), (1188, 0.019721040000714923), (3733, 0.019708378282615922), (2980, 0.019684803208691842), (558, 0.01967889329269629), (2986, 0.01967234796488702), (1303, 0.019671077519628023), (1922, 0.019645987088402858), (501, 0.019629261258770854), (1348, 0.01962050059043895), (2279, 0.0196201717045536), (1892, 0.01961348891448303), (2933, 0.01961257821663169), (1382, 0.01960882599317487), (651, 0.01960629786366993), (2798, 0.019606045695889324), (3780, 0.01959996428316077), (1936, 0.019591420096302794), (3256, 0.019590421708737447), (4351, 0.01958226111611995), (828, 0.019564686278985974), (3151, 0.019547222036572935), (1968, 0.019541224592272224), (2752, 0.019528143588799746), (4232, 0.01951643304681841), (1860, 0.0195144493666232), (2900, 0.01950045571622906), (3099, 0.019489832928194922), (3967, 0.01945853032945944), (1688, 0.01945750045928276), (3399, 0.019424556295491224), (1583, 0.019396955229038438), (3536, 0.019371607341884145), (4228, 0.01936645579468599), (764, 0.019355343428455678), (2701, 0.019355343428455678), (2737, 0.019355343428455678), (2891, 0.019355343428455678), (3009, 0.019355343428455678), (4084, 0.019355343428455678), (4223, 0.019355343428455678), (3516, 0.019321555547258198), (3453, 0.019305409249249224), (2873, 0.019278126651888102), (2273, 0.019262459679301246), (1694, 0.0192613404597796), (861, 0.019251191387823437), (816, 0.019232712663078855), (327, 0.01922133709392221), (4442, 0.019220710768904865), (443, 0.019219200370735268), (2698, 0.01921830883427215), (1092, 0.019198657063308512), (2789, 0.019196540644167415), (3418, 0.01918528411311133), (1674, 0.019184924046787205), (1854, 0.019184878005190396), (104, 0.019183730037593247), (3612, 0.019176800734961592), (445, 0.019157470787415497), (4757, 0.019152336450726382), (3888, 0.019103060358980444), (3448, 0.019091253116356045), (32, 0.01908796897278994), (4715, 0.019074129955031053), (1446, 0.019072616145811537), (19, 0.019059521237834113), (4285, 0.019053400256596208), (1061, 0.019041953250801505), (4096, 0.019033906464927204), (3237, 0.019032720027304464), (333, 0.01903085206409007), (47, 0.01902859990381646), (4601, 0.019018020046063528), (4106, 0.01901723615683265), (4336, 0.019005772699098502), (697, 0.0189771294281493), (2706, 0.018970617928687244), (1021, 0.018969369478917312), (1125, 0.018949339800063282), (164, 0.01894447548790979), (621, 0.018926336491491128), (1087, 0.018923716494855056), (3515, 0.018913835960877468), (2812, 0.018909869814382505), (933, 0.018890872173857386), (3960, 0.01888885932820665), (449, 0.018877529375311498), (271, 0.01887584424274072), (1960, 0.018874049657847485), (2477, 0.018864069176625253), (2335, 0.01885626884449421), (1866, 0.018847426462624484), (4257, 0.018847146237340837), (1371, 0.01884688123184692), (224, 0.018807476734367914), (3767, 0.018779044263926736), (4533, 0.018776299032080807), (538, 0.018774632730621736), (3239, 0.018773502209002587), (2316, 0.018763799828802614), (1875, 0.018746055564204663), (688, 0.018735177611011705), (4664, 0.018700366992266928), (4705, 0.018699168852864077), (4017, 0.018698900198200166), (1582, 0.018697509356093593), (3618, 0.01869064702848261), (3570, 0.01868291442498065), (266, 0.018677937243341255), (2708, 0.01866924145508511), (782, 0.018637632560244977), (243, 0.018623147344786678), (3409, 0.018598657326611295), (3579, 0.018582083271845677), (4158, 0.01857499347367663), (3346, 0.018569333743817584), (3081, 0.018566491544471646), (4335, 0.018557858986686496), (2473, 0.018547486041966522), (3784, 0.018546551963999524), (3215, 0.018534522199194457), (3771, 0.018520399003407878), (435, 0.01851659250177612), (1083, 0.018507704407322707), (3802, 0.01850473820594178), (79, 0.018502810688295075), (4470, 0.01850207407894696), (3897, 0.01848587840504214), (4430, 0.018472055288796665), (850, 0.01845560361289751), (346, 0.018453406789637625), (1037, 0.018449312098077368), (3674, 0.018433251027734212), (4670, 0.018432722643486506), (2820, 0.018424677340457354), (353, 0.01841986949457894), (3120, 0.01837353897848779), (3232, 0.018368239745651535), (4721, 0.0183133455418749), (78, 0.018307471799661162), (930, 0.01827096679253198), (428, 0.01826884242805694), (10, 0.018243179791459823), (16, 0.018224858512940142), (3594, 0.018221458339856743), (1539, 0.01821417186358409), (4043, 0.01821021597203828), (4192, 0.01820221639114684), (1612, 0.01820005774242903), (1137, 0.018191599328638133), (434, 0.018189008520770468), (2506, 0.018182064446409765), (1924, 0.018164111818024627), (4089, 0.018162568118325912), (4289, 0.018161685789276377), (2074, 0.018161554768270242), (182, 0.01815466831810543), (3796, 0.01814466835972232), (4190, 0.01814466835972232), (4711, 0.01814466835972232), (2914, 0.018143633211912893), (436, 0.01811169100116672), (734, 0.018108164618532766), (107, 0.018102765369508108), (637, 0.018092633388852593), (2816, 0.018089594756981728), (1300, 0.018088581713297178), (3195, 0.018078799541254038), (2109, 0.018078735884483964), (3259, 0.018076743448063273), (3246, 0.018075967228702527), (1260, 0.01807285773927057), (2197, 0.018072815823264435), (939, 0.01806517308786901), (4284, 0.018046544269990222), (4502, 0.018031570331357282), (4595, 0.01803026688211402), (2476, 0.017996629362069482), (3744, 0.017994132846922098), (4005, 0.017982963313785218), (1418, 0.017982113735596283), (2101, 0.017972534568021885), (3389, 0.017966911939355873), (1071, 0.017963057185293455), (729, 0.017934752367442783), (4729, 0.017903738734083526), (4518, 0.017892189429628048), (2309, 0.017887375988249722), (3880, 0.017883453431792786), (1620, 0.017868079078818502), (924, 0.017867787322581263), (4734, 0.01785360415690274), (1735, 0.01785180410410453), (3267, 0.01783556777616896), (1781, 0.017817341310674955), (34, 0.017811432132047143), (1388, 0.017791248695678146), (1902, 0.017772811306210518), (2082, 0.017772680931667027), (4386, 0.017763048330902), (242, 0.01775843660661741), (2683, 0.017747956743360885), (3586, 0.01774151796573569), (1489, 0.01772973117389835), (1050, 0.017724087166407936), (728, 0.017713315602778543), (183, 0.0177106535730166), (2103, 0.017693228386119503), (2104, 0.017692178907282), (3046, 0.017691843154329912), (1690, 0.017686653081835854), (2339, 0.01768290116258569), (2726, 0.01768227385343632), (3826, 0.017667449831604086), (1553, 0.017642708484268493), (493, 0.017637434848448548), (1643, 0.01762796287969644), (2264, 0.017619178250456183), (3125, 0.01760850080767896), (3884, 0.017606430723920787), (1069, 0.017606109317714405), (2572, 0.017605900066786438), (408, 0.017603901806661482), (1282, 0.017584903610337026), (3329, 0.01758129248365807), (1770, 0.017574741416140127), (970, 0.017564517876539426), (1449, 0.017543409028841994), (4309, 0.017528359647343356), (3590, 0.01749848178672354), (4046, 0.017491060869797428), (3152, 0.01748467135068303), (3008, 0.017460422702864898), (1484, 0.017448293684334582), (1400, 0.017424216561101956), (1806, 0.01741601590133942), (1718, 0.017406642981162637), (1537, 0.01739814134022034), (350, 0.017383332226062087), (3653, 0.01737509636564299), (4040, 0.017363866145275443), (4239, 0.017363866145275443), (4720, 0.017363866145275443), (3821, 0.017358357111267264), (3941, 0.017353232345075298), (4196, 0.01733960433619), (4233, 0.01730862402994783), (2424, 0.017298759041011257), (582, 0.01729458403469559), (3727, 0.01728418108457797), (1730, 0.01726316820123177), (1737, 0.017220502477111214), (3166, 0.017211806271377174), (2448, 0.017197037486076202), (962, 0.017192434077239426), (119, 0.017190993315130507), (385, 0.01718411501044131), (4467, 0.017174892812595318), (1225, 0.017167650160417356), (4515, 0.017165777317612138), (2519, 0.01715001385691874), (4162, 0.017122050917839624), (597, 0.017113951640912943), (232, 0.01708942968339455), (1710, 0.017087494646229613), (3007, 0.01707952182300835), (2971, 0.017072419898478373), (1536, 0.017070290718795133), (1764, 0.01704771271298962), (1650, 0.017046113413659945), (580, 0.01703910163446396), (1279, 0.0170383053902749), (3956, 0.0170318868617268), (162, 0.01701265554717099), (4652, 0.017008530179409318), (3330, 0.017003606662178466), (96, 0.01700053698347169), (4093, 0.016993138725826328), (3464, 0.016992752141200246), (660, 0.016983387678446232), (143, 0.016980009789057313), (1526, 0.016968361440289004), (4418, 0.01696233374196637), (1312, 0.016950066693075215), (1514, 0.016944090683354233), (4298, 0.016929030790833854), (1486, 0.016925330117664544), (4663, 0.016920851529292045), (869, 0.01691791205104606), (980, 0.016912988826298155), (4184, 0.016898852114131502), (2143, 0.016898827371487138), (238, 0.016877987888818738), (908, 0.016868822602494227), (2678, 0.01685073031593065), (285, 0.01684726719333714), (4038, 0.016830974564062347), (3488, 0.016819857864138383), (4061, 0.01681057376364877), (2065, 0.0167750016836734), (1078, 0.016763405939448965), (1931, 0.016762017468782277), (3926, 0.016759876286400233), (4077, 0.016752634284806618), (3022, 0.016751849782566487), (3438, 0.016739239860797374), (111, 0.01673131707074675), (1504, 0.01671316917528905), (42, 0.016683013992980198), (778, 0.016677818291960227), (1793, 0.01667293214108833), (4653, 0.01666878195514385), (941, 0.016656735136884832), (1206, 0.01664702483218481), (1776, 0.016638098382711804), (1705, 0.016636473589205558), (2510, 0.016630901007228336), (1140, 0.016624111125246307), (716, 0.016612965026791382), (2942, 0.01659889378124599), (696, 0.016587811715904763), (3303, 0.016586832739163553), (4045, 0.016555208748802057), (4372, 0.016542280192590218), (743, 0.016537959133580842), (1918, 0.01652160794832691), (1762, 0.0165118440650191), (851, 0.01649576481566411), (1177, 0.0164818093400701), (923, 0.016457206859537214), (542, 0.01645679602570819), (4606, 0.016444515886957764), (3667, 0.01643201007691522), (4205, 0.01642833304024901), (1308, 0.016381113944000866), (3576, 0.01637728096809298), (4523, 0.016373503399537033), (1330, 0.016367856613128597), (4649, 0.016365859427252667), (3954, 0.01636255668126121), (2606, 0.016350591260957545), (63, 0.016330122479111565), (159, 0.01631619912352376), (668, 0.01630956813843205), (750, 0.016309203554450435), (403, 0.01630868102242466), (606, 0.016305170158675615), (1692, 0.016298950064800248), (1144, 0.016292827287398993), (4057, 0.01626539965662195), (4738, 0.016264158629293854), (1941, 0.016253680702031318), (3905, 0.016247542143308917), (3624, 0.016219751250251744), (821, 0.016216337255750758), (4419, 0.01620342796415512), (2714, 0.01620211969038613), (1454, 0.016195528822780636), (1538, 0.01619386791797424), (526, 0.016188830600935476), (1477, 0.016182826494195994), (1661, 0.016173826184998567), (180, 0.016172788938799743), (4307, 0.016172292498451042), (1223, 0.016167707654352586), (4557, 0.016166346050136206), (3265, 0.016146957427320696), (1229, 0.016126447050175186), (3632, 0.016120560140656732), (3004, 0.016118544450541384), (3227, 0.016108058969303247), (255, 0.016099266903130578), (3829, 0.01609541193771562), (966, 0.01607864223031363), (3656, 0.01604771672501275), (3514, 0.016038772462771436), (2231, 0.016029092519753835), (4001, 0.01601897832234818), (4677, 0.016018298603184863), (4748, 0.016009765725506143), (413, 0.016009545116677), (2825, 0.016007132430162066), (2603, 0.016000489393169906), (0, 0.015996041168755783), (2088, 0.015979263593437265), (2975, 0.015972165899130312), (2198, 0.015957843971339168), (4674, 0.015939111204304593), (1276, 0.0159273577997547), (340, 0.01592615061900995), (1653, 0.015919081228943477), (845, 0.015915584886223716), (3734, 0.01591296932265462), (3634, 0.015908940916929216), (3018, 0.015884140947263037), (3487, 0.01588190080722845), (600, 0.015873980221704408), (3436, 0.01586724278592278), (3623, 0.01585014421935064), (1238, 0.01584856948598714), (1571, 0.015837330915501623), (3122, 0.015836956761706433), (307, 0.01583664006065675), (3233, 0.015836124712231378), (4079, 0.01582444792114322), (4251, 0.01581238551990745), (494, 0.01579517158242199), (3307, 0.015791040049104133), (2236, 0.01578468083557239), (769, 0.015782062469775652), (3620, 0.015781734512967344), (3457, 0.0157797235653209), (3263, 0.0157787064085326), (1138, 0.01576715266399339), (748, 0.015766298305157536), (1179, 0.015758386063830926), (3342, 0.01574926709139769), (4624, 0.015745698748966298), (4529, 0.01572326811939978), (1920, 0.01571670818599285), (1387, 0.015706845057220527), (636, 0.015700802940664445), (1250, 0.015689057910658312), (1940, 0.01568698286047826), (1195, 0.015660438258528874), (2061, 0.01564934438578756), (3452, 0.015649110252205563), (3309, 0.015646351396217797), (2285, 0.01564470607005747), (1158, 0.01563620904482505), (671, 0.015581551575864362), (441, 0.01556878600268936), (2567, 0.015558522238941642), (4630, 0.015554721903096605), (3571, 0.015552154343958988), (363, 0.015546702308123023), (4082, 0.015539696809592225), (1391, 0.015539170585520151), (2733, 0.015499498351151981), (1472, 0.015498374134679745), (3842, 0.015494645376974585), (301, 0.015470875918755338), (3363, 0.015457048930847796), (1987, 0.015455829203783493), (1174, 0.015455667574740685), (2732, 0.01545477248876564), (3729, 0.015443388343249088), (1593, 0.015443179383911602), (1421, 0.015442150322429956), (4581, 0.015422981802966236), (156, 0.015421250255576054), (474, 0.015408564109526356), (2899, 0.015399239805770185), (60, 0.015382263670694306), (1819, 0.01536498554635822), (1231, 0.015362102512445443), (2496, 0.015356051854103592), (2113, 0.015344167471571354), (3391, 0.015342816814607129), (3696, 0.015331472903252662), (4306, 0.015310971734239193), (1136, 0.015283743202886405), (3648, 0.015274284704136136), (615, 0.015271251821833795), (2587, 0.015267946939219894), (256, 0.015265180973110765), (2199, 0.01526243400243838), (1213, 0.01524023431694912), (509, 0.015226862437406518), (3292, 0.015226769388898933), (880, 0.01522666389065919), (4236, 0.015213207198249435), (2211, 0.01520661799568626), (705, 0.015203002465641638), (1948, 0.015199860147027917), (2076, 0.015197159060174919), (4586, 0.015177187230203516), (503, 0.015153505619270622), (2355, 0.015116079354571198), (1701, 0.015103484525934265), (1462, 0.015096094796682823), (1041, 0.015060692332403583), (3814, 0.015049594204477823), (2314, 0.015047523246217045), (81, 0.015043612490670797), (3561, 0.015035904457293955), (3033, 0.015029020804605261), (4484, 0.015008809289106603), (3435, 0.015003047016766274), (380, 0.014992132492750141), (3096, 0.014989772838648606), (3531, 0.014982434703429423), (616, 0.014970142397497988), (2056, 0.014969760627662051), (812, 0.014969033746353241), (4726, 0.014968974277298132), (3474, 0.014967049120674128), (2095, 0.014961725886021661), (2091, 0.014950230335393735), (3078, 0.014942746294145373), (2599, 0.014940903748175586), (1374, 0.014940366922732942), (4367, 0.014937707039897071), (4342, 0.014934983349591622), (752, 0.014933848001052106), (4299, 0.014933783370860855), (1332, 0.014908472384694144), (1811, 0.014905559489534623), (1502, 0.014888384325832015), (1167, 0.01488494230272753), (1425, 0.014873056200747983), (2031, 0.014870911058518857), (3625, 0.014868419261224083), (3, 0.014862116771520675), (3168, 0.014858149351142361), (514, 0.014857061668193096), (925, 0.014849261936476326), (2630, 0.014844758454840611), (386, 0.014844031102658193), (608, 0.014842267889329085), (1267, 0.0148333596717246), (4272, 0.014826161559496214), (1743, 0.014821750875779098), (4160, 0.014816966957448293), (3645, 0.014815864318225258), (4282, 0.014808217993038001), (1908, 0.01480691319873665), (1191, 0.014805292995342733), (424, 0.014802443673807555), (4665, 0.014781753809923276), (2437, 0.014780808687548608), (1501, 0.014780599272539633), (2674, 0.014751064610891085), (2535, 0.014743197839910717), (1911, 0.014742158205598991), (1950, 0.014735209480197638), (4388, 0.01473344134410633), (758, 0.014706117049060106), (1971, 0.014704766840078343), (727, 0.014702910002703132), (632, 0.014698117257824115), (131, 0.014695933938594911), (2691, 0.01469492778520284), (687, 0.014694000768192387), (56, 0.014692473117745838), (497, 0.014678285765951014), (1975, 0.01467224651813117), (311, 0.014660153747722438), (1913, 0.014649370512815143), (22, 0.01462885300477681), (3748, 0.014617908842018863), (1867, 0.014610717961534543), (2184, 0.014609139336517215), (1111, 0.014599019854742587), (2098, 0.014589708068862582), (2576, 0.014581345058561124), (4389, 0.014577884847894653), (2959, 0.014572673843230492), (1329, 0.014567951791839132), (512, 0.014567152150395607), (2503, 0.014563376337581443), (2991, 0.01455989848066551), (539, 0.014557600905881134), (1316, 0.014537284242472998), (3841, 0.014512080130392152), (4462, 0.01450374493777134), (745, 0.014503054588261618), (217, 0.014496750410812312), (1962, 0.014474772873062172), (1452, 0.014474173961881104), (1076, 0.01447233403244957), (3219, 0.01446288504289803), (25, 0.014458552511703504), (1327, 0.014457424233938084), (4744, 0.01444553062402306), (3997, 0.014444542398245584), (3825, 0.014443907409354794), (3499, 0.014442376718678238), (2897, 0.014441198274042041), (1123, 0.014440529557925262), (3257, 0.014434281218395326), (3066, 0.014432304836918125), (4209, 0.014420886218069286), (1833, 0.014420782299284493), (1644, 0.014420604168184352), (2069, 0.014406829740587872), (2286, 0.01439322134254025), (641, 0.014381402238991637), (3288, 0.014377489432851075), (1208, 0.01433768325100571), (3439, 0.01432152779669317), (4042, 0.014308851881927261), (4217, 0.01429342466150245), (863, 0.014292713134211772), (4008, 0.014286436156997645), (4312, 0.014278041017838862), (4099, 0.014270559708409116), (2330, 0.014263298830444013), (3044, 0.01423813217162546), (1904, 0.014232783987489067), (2563, 0.014228203162236717), (4402, 0.014227597817567548), (422, 0.014225835721614535), (3261, 0.01422430018783265), (3663, 0.01422430018783265), (3981, 0.01422430018783265), (4065, 0.01422430018783265), (4561, 0.01422430018783265), (4578, 0.01422430018783265), (4644, 0.01422430018783265), (309, 0.014211762896091391), (958, 0.014209560426976806), (2244, 0.014204690893149291), (248, 0.014201335089260707), (1647, 0.014201022418940617), (834, 0.014199857328172116), (4661, 0.014197168615932364), (568, 0.014191500175963316), (4564, 0.014175972835178961), (1044, 0.01416755834627334), (2084, 0.01415971995130684), (855, 0.014155177157238394), (2544, 0.014131335501681991), (843, 0.01413097292652677), (2809, 0.014128855441731867), (50, 0.01410307539692972), (4377, 0.014097206077687257), (4384, 0.014088183623241983), (1345, 0.014085135812694244), (927, 0.014069782095122737), (3910, 0.014061638783915083), (1381, 0.014061427155725562), (1976, 0.014038823492166643), (3470, 0.014033112130145674), (3023, 0.014032271818303195), (891, 0.014024699914261758), (4009, 0.014011648937193156), (3908, 0.014008267508508922), (1172, 0.014003329260992368), (113, 0.013988471820306055), (2012, 0.013984290703452303), (2020, 0.013974604724812795), (3149, 0.01396457812128246), (4240, 0.013963787365681449), (2844, 0.013945472758575831), (1841, 0.013934110996279926), (3651, 0.01392858710204426), (2517, 0.013920581962160417), (2819, 0.013918008999820188), (1001, 0.013916381135182353), (3158, 0.013904721425578994), (3440, 0.013898528406924007), (1280, 0.013894310939210123), (31, 0.013890824897701007), (2136, 0.013874437801008622), (3460, 0.01385351478366878), (4591, 0.013847825233407775), (4310, 0.013844050919676039), (1746, 0.013843733902070943), (1863, 0.013830904795576804), (783, 0.013814906969479797), (200, 0.013802468803194376), (4151, 0.013800451735105057), (367, 0.013792700176203963), (1375, 0.013788436440724694), (1433, 0.013769596406447107), (1552, 0.013763013934909023), (4416, 0.0137587709971519), (3787, 0.013748760694080504), (4002, 0.01374355096523834), (1849, 0.013742027766967877), (2960, 0.013711464213626536), (3751, 0.013701250532041255), (1575, 0.013701191486644237), (1732, 0.013690734971117951), (868, 0.013687933898717133), (3180, 0.0136752530022364), (4303, 0.013673459834374036), (4555, 0.013672877118691546), (3909, 0.013661878052151034), (425, 0.013660734268290762), (230, 0.013660043149565239), (4210, 0.013648518141419137), (1829, 0.013647479446862275), (1448, 0.013646874715158224), (1664, 0.013644861979742809), (2160, 0.013610860921882828), (2614, 0.013609406179232533), (4182, 0.013596711870266844), (3385, 0.013575957095694235), (2283, 0.013572492556694233), (3244, 0.013563681911273405), (595, 0.013557317035990989), (1738, 0.013542094765088998), (2821, 0.013539311350334935), (2935, 0.013536786511844201), (3410, 0.01353010642156684), (910, 0.013525903599545636), (2556, 0.013525019559676815), (3938, 0.013508436879144613), (4292, 0.013504605072547313), (3850, 0.01348699212312717), (4733, 0.013481433716251854), (666, 0.013479698018752173), (1094, 0.013470303816578775), (2203, 0.013469831380042575), (744, 0.013467812997834576), (1488, 0.01346517024002446), (3881, 0.013464919865904436), (3774, 0.013460731483620907), (3072, 0.013457617402201623), (2181, 0.013443863063341869), (3998, 0.013428070703338693), (4313, 0.013426856596218003), (4499, 0.013426856596218003), (1760, 0.013420489905830802), (1554, 0.013410656843060163), (3456, 0.013408414639379822), (1555, 0.0133990898762205), (2205, 0.013395781647378976), (3983, 0.013374072855941912), (618, 0.01336965832969294), (1715, 0.013369578892932754), (3876, 0.013364065356315675), (4275, 0.01335712314882004), (992, 0.013355564668573567), (4607, 0.013354994956421121), (1095, 0.013354359720185609), (3331, 0.013341774767441063), (3584, 0.013302072647783526), (4590, 0.013301257899768987), (2208, 0.01329465084794387), (1964, 0.013278975489216778), (1791, 0.013278602293514111), (2957, 0.013270389709666274), (3864, 0.013248379575160719), (1973, 0.013238823183762655), (3059, 0.013238719619016404), (4432, 0.013235675218805823), (122, 0.01323542036483456), (2974, 0.013234676906695898), (3282, 0.013234354399056372), (2266, 0.013234277856467806), (3898, 0.013227193967001592), (4692, 0.013219718574969291), (1414, 0.013218745565818868), (4119, 0.013201817075320931), (1531, 0.013197632342213102), (3995, 0.013196816555655352), (3705, 0.01318268548886719), (2696, 0.013182525531186675), (2438, 0.013180628811544966), (804, 0.013179273148637944), (1684, 0.013178755099313027), (3472, 0.013178335370998483), (4090, 0.013170141025156498), (2597, 0.013170108524380398), (2580, 0.013166705118165324), (2962, 0.013158319633165539), (2684, 0.013150834939635273), (3203, 0.013150834939635273), (4621, 0.0131448172524207), (3114, 0.013133652936065245), (1857, 0.013132975331815807), (1724, 0.013113902180504539), (889, 0.013106359566105022), (263, 0.013087343252542658), (2202, 0.013084772250134309), (2455, 0.01307250222435029), (3087, 0.01307250222435029), (3434, 0.013062940325146703), (1627, 0.013060465276161263), (3425, 0.013059633575828402), (811, 0.01305847695197586), (981, 0.013048020845518876), (4254, 0.013047289889314972), (1903, 0.013044147698995437), (3598, 0.013042421726908537), (1818, 0.013039345679034083), (3146, 0.013022255505883597), (3604, 0.013019738044618707), (3878, 0.013015211296434485), (1747, 0.013005186528336123), (2947, 0.012993723158393818), (1816, 0.012980779649924671), (802, 0.012971732261183262), (250, 0.012966290966981354), (4264, 0.012965389090042877), (220, 0.012964907219381774), (2786, 0.012961696411567128), (300, 0.012951823446885058), (3468, 0.012943950722175844), (177, 0.012937359128145117), (9, 0.012931782731004891), (4548, 0.012928376271558017), (4154, 0.012924028512981118), (1307, 0.01292327146435054), (2400, 0.012923122893539113), (835, 0.012914819319265641), (1566, 0.012911104714987336), (2239, 0.012890363863963979), (185, 0.0128901306220563), (4694, 0.012887581851121252), (4383, 0.012880040189247884), (420, 0.01287823369078249), (4438, 0.0128701505569448), (3833, 0.012868314362938112), (3752, 0.012862880442475678), (2838, 0.012817195559985513), (2185, 0.012816917325824271), (2724, 0.012808340951805691), (1049, 0.012785359001621584), (2439, 0.012784131777539285), (634, 0.01277773732699509), (3316, 0.012766706992477679), (3824, 0.012755245078866374), (3815, 0.012754722236518783), (3163, 0.01272360797804473), (3404, 0.012715117714269336), (1431, 0.01270092090054317), (902, 0.012699551773040187), (721, 0.012695939749234095), (2997, 0.012694782421614157), (4594, 0.012693907200360005), (4385, 0.012690126154291343), (3566, 0.012681506371105395), (3079, 0.01267122685214445), (581, 0.012664148049925364), (2626, 0.012648019093943183), (3131, 0.012647808927450144), (1993, 0.012636957209012022), (2434, 0.012635317276892774), (2411, 0.012630457328999178), (521, 0.01262969429180126), (3788, 0.012624776034815176), (2530, 0.012623990170091899), (3156, 0.012623547401861387), (2833, 0.012608228314541376), (1150, 0.012605367933237636), (1426, 0.012603493307910146), (303, 0.012601075509741311), (2796, 0.01259828912701802), (3338, 0.012596394926127737), (1380, 0.012577722351831553), (2970, 0.012575859042812741), (919, 0.012572808402504987), (4730, 0.012566226807827078), (102, 0.012563634433301767), (3161, 0.012560570841756623), (2797, 0.012548149154846117), (4708, 0.01254774053907598), (1859, 0.012527444056764786), (4459, 0.012522294755204968), (563, 0.012517052555961312), (6, 0.012513323389886873), (4639, 0.012488350503382583), (3534, 0.012483906842238058), (2044, 0.012478456350000265), (583, 0.012472889522033636), (2570, 0.012466957219645247), (3737, 0.012462093171734318), (2848, 0.012458489877899697), (2623, 0.012441688929121286), (617, 0.01244007951858261), (3636, 0.012432456544448484), (1659, 0.01242501140662153), (862, 0.012409253407904185), (4552, 0.0124061952040168), (3398, 0.012401348551188431), (1608, 0.012400983428110739), (3935, 0.012396063481705357), (513, 0.012392228905901269), (2058, 0.012384504113755208), (3323, 0.012376297687598034), (3451, 0.012349353737346075), (3714, 0.012348666370788311), (3005, 0.0123089272739942), (2278, 0.012306319646736459), (2413, 0.012298127827178967), (4302, 0.012297949476398244), (4625, 0.012297263451762169), (1573, 0.012291529788408358), (4441, 0.012289695390435592), (1614, 0.012284827214689945), (3159, 0.01227025558410147), (4587, 0.01226603162527606), (4091, 0.012253092200670128), (3432, 0.012246886288040635), (2619, 0.012237538337114221), (3357, 0.012236062209560049), (487, 0.012226060756170453), (1214, 0.012207478877218798), (3813, 0.012205491668455259), (3273, 0.012205328496149715), (2378, 0.012191627926104), (3703, 0.012190459764766555), (2175, 0.012189633001256136), (4392, 0.01218089621507615), (2432, 0.012178877328107194), (4076, 0.012166060274292827), (4461, 0.012165321165823214), (1623, 0.012151146682203679), (642, 0.012132445737145822), (2895, 0.012121368777884788), (3509, 0.012112956970916655), (2478, 0.012109209104241736), (2326, 0.012100268171771308), (4495, 0.012097593267296753), (1588, 0.012090547747080816), (1797, 0.012087485433652364), (35, 0.012087440211723397), (3358, 0.012079441073424109), (4360, 0.012072277665369417), (2946, 0.012070012437381629), (3710, 0.012061490971365238), (95, 0.012058356394573028), (2108, 0.012046268405853367), (30, 0.012040902816101933), (777, 0.012038916766394403), (128, 0.012036483067181615), (1930, 0.01203294514545197), (2246, 0.012019431866822928), (2302, 0.012017484079769167), (2834, 0.012014762495665958), (93, 0.012010158561817051), (3907, 0.012004395717034764), (168, 0.012003257018626723), (3615, 0.01199928905414459), (1635, 0.011986651133485696), (1933, 0.011974921458120647), (1306, 0.011972710296162096), (849, 0.011967185381780385), (2156, 0.01196261261257011), (4407, 0.01195772583855732), (1711, 0.011933802893502429), (326, 0.011926501165528411), (3889, 0.011924139764620438), (3782, 0.011914452548772532), (4055, 0.011912012596600227), (2488, 0.011909445685000283), (3235, 0.011908265883361477), (1683, 0.011906627248451871), (3793, 0.01189074504088972), (1211, 0.011887703239837089), (974, 0.01188558603257238), (3658, 0.01187832300645103), (3134, 0.011869737152531786), (1631, 0.011857421855054034), (4248, 0.011855512256265723), (2579, 0.011851570784845947), (2557, 0.011845931516568145), (4110, 0.011834855198634614), (1981, 0.011817631249465065), (157, 0.011806467015831974), (239, 0.011805451110998962), (2173, 0.011805378346794494), (1632, 0.011797884710855227), (3179, 0.01179767478727977), (3754, 0.011786064857870907), (1356, 0.011776577562162903), (1914, 0.01176978668981018), (4225, 0.011767080199683649), (1622, 0.01176498438922444), (1953, 0.011743098587523447), (4145, 0.01173227446763554), (1435, 0.011713556233929506), (2928, 0.01170983072826391), (3031, 0.011698858607488115), (2738, 0.011694857872190344), (4213, 0.011694188715378558), (2291, 0.011677452454176897), (3865, 0.011676324049680713), (765, 0.011672496002509362), (3559, 0.011670804474691541), (241, 0.011656586586642032), (3601, 0.011646435201343168), (4044, 0.01164540657726225), (375, 0.011638323948923163), (4035, 0.01163762242966162), (3616, 0.011636234483774977), (1181, 0.011632578611766465), (27, 0.011624891733081621), (2790, 0.011621716005586237), (3799, 0.011617204494929484), (1901, 0.011615071062195444), (3124, 0.01160487695722583), (4071, 0.011593764904453397), (4107, 0.011591331800959042), (685, 0.01158962604003305), (118, 0.01158167061426277), (3443, 0.011576109626307667), (3621, 0.011574858336896652), (3088, 0.011549733853726627), (3266, 0.011549733853726627), (3324, 0.011549733853726627), (3769, 0.011546025366431902), (4311, 0.011542768669091368), (3940, 0.0115357903117664), (1952, 0.011532857506894869), (831, 0.01153179296803588), (2391, 0.01153106649429956), (3723, 0.011520805166822246), (633, 0.011511118695877185), (3126, 0.01150828887851323), (1347, 0.011505315439241737), (4703, 0.011504618714475478), (1998, 0.011503903110256014), (467, 0.011503139598647835), (4589, 0.011500376074908574), (2015, 0.011498445048130457), (953, 0.011488700710968112), (4193, 0.01148525412420275), (4697, 0.011479215877845332), (1905, 0.011471136550696493), (233, 0.011468707444469137), (389, 0.01146723710321907), (4528, 0.011462061038413608), (4361, 0.011456034361794666), (1469, 0.011445542643631157), (2984, 0.011441574235843788), (3806, 0.01143758478333217), (260, 0.011432445645279557), (135, 0.011429574738296666), (3183, 0.011424353493589275), (4668, 0.011415316928152517), (189, 0.011413991537504884), (2857, 0.011407185956048022), (1749, 0.011396601043560703), (1499, 0.011393480687153543), (4585, 0.011380944785489715), (4326, 0.011380161215424163), (1846, 0.011375314434788402), (1127, 0.011364951971074065), (4161, 0.011364269658105304), (940, 0.011353572863827753), (2139, 0.011351667956871163), (3011, 0.011345468710185042), (3214, 0.011344789382571918), (4250, 0.011342746545009337), (283, 0.011340516946201583), (4333, 0.011327285781065838), (4678, 0.011325751156784773), (310, 0.011325250214044541), (1881, 0.011313512594880795), (315, 0.011304370582713132), (1587, 0.011300133548523762), (4318, 0.011294009600410207), (4570, 0.011290025826506227), (4468, 0.011240497426024534), (4376, 0.011234777750534025), (3526, 0.011233976182485974), (3458, 0.0112332762163859), (3408, 0.011231880898044184), (550, 0.011224199588676225), (2130, 0.011223200391935086), (4147, 0.011215071762870826), (3520, 0.011207073144357987), (4471, 0.011205963119158703), (3206, 0.011204356967825593), (3164, 0.011188113082211334), (3140, 0.011169137744599275), (3583, 0.011142824702312447), (793, 0.011140831852692532), (1451, 0.011140105516902444), (3707, 0.011139990252069838), (903, 0.011120196342586758), (3904, 0.011115713239687994), (1947, 0.011097960091974696), (1187, 0.011089841852237936), (305, 0.011086657496947148), (451, 0.011068910696906801), (347, 0.011062126263787567), (4354, 0.011031792928969473), (1633, 0.011031504973113181), (2356, 0.011029779715399979), (2665, 0.011022437774651145), (3417, 0.011021557574991493), (4322, 0.011005370031455252), (3664, 0.010990779835284518), (1344, 0.01098928922424547), (1121, 0.010976218059836871), (4111, 0.01097098175515033), (1995, 0.010965419041685779), (478, 0.010953895925261895), (3191, 0.010952854835692742), (3337, 0.01094625141412212), (3100, 0.010945207847319836), (4115, 0.010938771808505969), (4170, 0.010936948967634372), (4391, 0.010933485919930718), (94, 0.010931266776761825), (611, 0.010928455820986794), (320, 0.0109243903850923), (2232, 0.010923864978547868), (4426, 0.010919017968167098), (3355, 0.010914743935660975), (4024, 0.010910833690599), (1547, 0.01089486492420894), (3932, 0.010893118451712829), (2401, 0.010878707851547329), (431, 0.010872143783240498), (4075, 0.010865695316233158), (3970, 0.010860980140500662), (3361, 0.010857516930306321), (4756, 0.010852747984935332), (4584, 0.01083970091778728), (4397, 0.01082537189548061), (559, 0.01082418898689046), (4339, 0.010822041629606947), (4328, 0.010819925807698437), (3962, 0.010816594365007589), (1428, 0.010808272969879235), (3136, 0.010805773901146202), (4369, 0.010792455906712427), (3413, 0.010785085367107473), (4295, 0.0107789662690603), (2926, 0.010777058716730608), (2787, 0.010773385128666995), (2142, 0.010762713323304092), (2159, 0.010757292745440473), (489, 0.010738369250133085), (2924, 0.010736616724629826), (2659, 0.010734280629046664), (826, 0.010707400612648514), (4261, 0.010695123840610539), (2702, 0.01068854615743247), (90, 0.010683344509308013), (1753, 0.010679742824797495), (4373, 0.010673339736919082), (3064, 0.01067138454609663), (3495, 0.010670426496538783), (4507, 0.010667971895769615), (4516, 0.010666319856046696), (3804, 0.010661668394693942), (3720, 0.010653486690867749), (2293, 0.010647057135907788), (619, 0.010637477830957892), (3886, 0.010625055202521052), (1207, 0.010610293914527651), (1695, 0.010602991874515666), (4211, 0.010602158252553244), (284, 0.010596403329548691), (39, 0.010595143619220086), (2442, 0.010580898496018776), (1546, 0.010578663829651174), (2186, 0.010577643686248308), (3217, 0.010577643686248308), (3371, 0.010577643686248308), (1197, 0.010577535454837472), (1398, 0.010576920103449405), (518, 0.01056799309965161), (3602, 0.010567979454915156), (3016, 0.010566983958715392), (4719, 0.010564530741530083), (4138, 0.010563168776295732), (4290, 0.010563054998311222), (477, 0.010558581148867957), (4103, 0.010543978660095075), (922, 0.010541562593344846), (3242, 0.010537806065106105), (1082, 0.010524230647239573), (3920, 0.010517728598868695), (4604, 0.010509519389619873), (3749, 0.010509189741327018), (2190, 0.010503805314106572), (1885, 0.01049828050177709), (3364, 0.010492209735148273), (3540, 0.010473276096562014), (2533, 0.01046480457805094), (316, 0.010460495224040647), (2500, 0.010454815380714256), (3772, 0.010451842305325316), (3497, 0.010443962787969049), (4039, 0.010440486542298164), (3555, 0.010434532573165642), (240, 0.010433626936808759), (3577, 0.010430669546503183), (2395, 0.010425819378327253), (3605, 0.010412571656287815), (4497, 0.010409432902935108), (152, 0.010407610097340234), (460, 0.010406783989577145), (2990, 0.010404488815488968), (3676, 0.010404488815488968), (2405, 0.010390310042027135), (3135, 0.010387647972830078), (3353, 0.010382274362282272), (2320, 0.010379145416348306), (4505, 0.010369606542689539), (4280, 0.010368508169240353), (823, 0.010356867981072423), (4513, 0.010352148251016307), (508, 0.01035103132840922), (2624, 0.010346892350380558), (1497, 0.010340472557103075), (369, 0.010335859687266032), (4657, 0.010330178907191316), (3269, 0.01032841949295779), (4455, 0.010323125612281032), (2987, 0.010296470829767815), (3148, 0.010296279635447256), (191, 0.010292619626279783), (1480, 0.010259872851481668), (4650, 0.01025282299824772), (3093, 0.010249367991257507), (1453, 0.010234638372373556), (3367, 0.010234239094940475), (4296, 0.010227129976453725), (810, 0.010225347116370723), (4169, 0.010222527741129825), (627, 0.010220582579498372), (3241, 0.010219005687689554), (2847, 0.01020990508751129), (2943, 0.010207643214632226), (693, 0.010206127250410422), (3639, 0.010188437512338675), (3763, 0.01017436179707418), (3429, 0.01016567519518868), (562, 0.010164454753452786), (4582, 0.010162753570284122), (3542, 0.010156926454474505), (2774, 0.010143752187771431), (3414, 0.01014371145640736), (3372, 0.010139781734062152), (571, 0.010126456525708422), (4274, 0.010123175504992366), (2682, 0.010114414521500723), (4575, 0.010113268450208674), (2629, 0.010109578821257804), (3017, 0.01010234592112417), (3686, 0.01010234592112417), (2361, 0.010086597056228736), (4269, 0.01007377030270296), (2664, 0.010071198152380046), (1909, 0.010060518575389895), (4117, 0.010056824821602235), (2531, 0.010051202769381172), (2245, 0.010033609790613674), (336, 0.010033065291445367), (2048, 0.010024993325624265), (3745, 0.010016681716362491), (306, 0.009980105900085596), (1990, 0.009968799122600586), (2711, 0.009942202584103764), (3823, 0.009939935332270992), (2386, 0.009935300757228385), (1656, 0.009935087791055909), (3779, 0.009915034295238089), (3003, 0.009914264116315328), (3776, 0.00989920347801046), (661, 0.009897378751103404), (2561, 0.009894973477509707), (4448, 0.009892172333114622), (4566, 0.009890440360848652), (1862, 0.0098825560542141), (3170, 0.009874359432141232), (2269, 0.009865180554978547), (3230, 0.009860015901036023), (3143, 0.009832385736534754), (1784, 0.009830609099868045), (893, 0.009827799839904559), (4616, 0.009825810195229398), (187, 0.009818486840250986), (3537, 0.009816198457030838), (397, 0.009808594807128536), (2134, 0.009806971774241863), (3302, 0.009803563138295491), (1350, 0.009800040428846985), (3966, 0.009797118079981447), (2022, 0.009791240338464034), (2887, 0.009788381621799085), (426, 0.009782995399432568), (414, 0.00977446773716602), (4680, 0.009759711079014606), (3770, 0.009759025480972926), (2260, 0.009757332371325993), (3133, 0.009755148213583394), (998, 0.009740384434491859), (8, 0.009728292320195132), (1562, 0.009727301143407347), (1351, 0.009719951425299155), (1748, 0.009711012171372463), (4087, 0.009702053496093418), (3160, 0.009700084312031298), (561, 0.009699394324888758), (2223, 0.009696442113790133), (2783, 0.009695689942636185), (3678, 0.009688424772500466), (3057, 0.00968796905068332), (3867, 0.00965177385540781), (3050, 0.00963843934218246), (4368, 0.009625134356378443), (1281, 0.00961975828934013), (155, 0.00961560721017506), (3677, 0.009613890230346636), (2893, 0.009609895600410779), (80, 0.009606159585676526), (4301, 0.009603668233956749), (3187, 0.009592757914964405), (1772, 0.009588161334142009), (4638, 0.009586333148141763), (1792, 0.009582654141318495), (1805, 0.009581617751596426), (985, 0.009575021039717954), (2064, 0.009574698535365854), (4304, 0.009571809807506455), (4259, 0.009570858160713267), (140, 0.009565751071624252), (932, 0.009564757274520781), (587, 0.009560658810089162), (3268, 0.009557146181464003), (1699, 0.009556877949968392), (4488, 0.009549931496192932), (2390, 0.00954779566773618), (419, 0.009543353303563668), (4409, 0.009542387230386532), (690, 0.00954045925852592), (1434, 0.00953623958260609), (4287, 0.00953507460520321), (898, 0.009532278828222433), (262, 0.009528823705734199), (4732, 0.00951784527624944), (3557, 0.009516644363176596), (4363, 0.00951238655867072), (2953, 0.009511987623665783), (3198, 0.009505211400160135), (3013, 0.009501865015910627), (739, 0.00950139430864386), (999, 0.009495148018529794), (4633, 0.009490194329695473), (476, 0.009483696726644952), (997, 0.009469236056967718), (803, 0.009458821986051687), (2776, 0.00945454477257386), (3781, 0.009450433270850886), (3619, 0.009446878661548447), (3308, 0.009446266855109077), (2658, 0.009444591657890461), (857, 0.009429252164809783), (813, 0.009422653930228038), (4357, 0.009417185845074517), (3247, 0.009413346231670849), (290, 0.009407270635051822), (3184, 0.009403881445107246), (2479, 0.009392057551093042), (2884, 0.009389601806590995), (2741, 0.009388486508987846), (3877, 0.00938836460506844), (4562, 0.00937998482566772), (4401, 0.00937799903744923), (3116, 0.009377558462639175), (2720, 0.009373304782744351), (4101, 0.009361119689336924), (3026, 0.009359922153481776), (3500, 0.009359604831072076), (3419, 0.009357514862577722), (2585, 0.009345804659360666), (3911, 0.009327400731711438), (3852, 0.009324914931763056), (1559, 0.009307121529884752), (2072, 0.00930546222552858), (3101, 0.00930423401422414), (2507, 0.009300748535423925), (2725, 0.009286178191676039), (4267, 0.00928278505916013), (2402, 0.009280409380788009), (3900, 0.009278585257709564), (1570, 0.009270768214749913), (1169, 0.009257681820815735), (2410, 0.00925731784810788), (2652, 0.009250902078744471), (234, 0.009249750828565419), (2292, 0.00924883706198271), (1161, 0.009244803391425405), (596, 0.00924378431563542), (3234, 0.009228415009239915), (4175, 0.00922346626664712), (1154, 0.009219626006597014), (3255, 0.009217619284996061), (74, 0.009215878843438306), (791, 0.009214493168577625), (3431, 0.009212968713131963), (576, 0.00920971065786871), (3882, 0.009202503338180528), (3893, 0.009185879766869548), (2554, 0.009184924577563133), (1040, 0.00918159273482733), (646, 0.009176803150256058), (1580, 0.00917580611881529), (2755, 0.009165871740035185), (4520, 0.009162252477399583), (1628, 0.009154180102695007), (3873, 0.009150496829065673), (1826, 0.00914733846788136), (1430, 0.009144111229152), (3075, 0.009127004948138158), (1410, 0.009125977654443219), (1840, 0.009123250020917534), (2176, 0.009117542858400614), (2230, 0.009114609710073517), (1168, 0.009114325196262969), (3944, 0.009111616770932415), (2148, 0.009109624405072219), (444, 0.009106643234499693), (323, 0.009106230806119399), (3176, 0.009101631898449602), (3918, 0.009101631898449602), (4424, 0.009101631898449602), (4425, 0.009101631898449602), (4681, 0.009101631898449602), (1072, 0.009098917644654278), (3511, 0.00909527741661163), (1415, 0.009092413580812428), (176, 0.009086818948014195), (3593, 0.009081649495367636), (3917, 0.009075835205716176), (3560, 0.009071796272323409), (469, 0.009068795865678783), (3757, 0.009063519480245247), (1594, 0.009060186334465219), (4501, 0.009058383862043313), (625, 0.00905585196192271), (2792, 0.00905552990995093), (3405, 0.009052614860740328), (4602, 0.009051814537288122), (3587, 0.009045054531697645), (624, 0.009029893951671147), (1409, 0.009022060396662007), (2717, 0.009020062073503705), (4643, 0.009017048349035463), (3755, 0.00901690080042531), (294, 0.009013971307208431), (2466, 0.009011977994482967), (4365, 0.009005743513822634), (3627, 0.009002623437344046), (314, 0.008993559672900777), (4273, 0.008989689432810935), (2882, 0.00898727332059768), (3326, 0.008978976381173), (756, 0.008973410063831542), (4245, 0.008971453810069792), (1109, 0.00896192006924168), (253, 0.008961717721386112), (473, 0.008939114821557298), (2715, 0.008938692870118692), (3866, 0.008937057987043336), (4743, 0.008934934019452773), (12, 0.008927370653089827), (1822, 0.008925242870894558), (1590, 0.008924249330998547), (1959, 0.008923764090832998), (318, 0.00891946112637296), (4343, 0.008917401895896663), (3611, 0.008889938148715172), (3496, 0.008874981027490389), (4263, 0.008866685636935882), (4051, 0.00886203988730314), (3113, 0.008861941147533588), (2687, 0.00885521888615969), (2830, 0.008854574739089462), (579, 0.008852114232604716), (2999, 0.008851936861247554), (2592, 0.008849973603700358), (3647, 0.008839790306793873), (1309, 0.008823370718086775), (1907, 0.008810013024411202), (2940, 0.008805231041839877), (3224, 0.008804487585083145), (4266, 0.008802896098367938), (4132, 0.008802377999891862), (2888, 0.008801179723131842), (3740, 0.008800653259596862), (4422, 0.008797437589559916), (4140, 0.008796256798344969), (4262, 0.008794772817335934), (614, 0.008783167904640742), (2105, 0.008769440453710137), (4334, 0.008768080751826564), (295, 0.00876516361051288), (1324, 0.008753034834033061), (1925, 0.008747448578214523), (1887, 0.008745291923860986), (2317, 0.008745029556751972), (4535, 0.008737566670770103), (1890, 0.008735066686065409), (1479, 0.008732249927489529), (3084, 0.008722836184685171), (3449, 0.008720581506255144), (3173, 0.008719379357155003), (192, 0.008716341750934078), (1848, 0.008715621393656042), (3654, 0.008705840760197746), (76, 0.008705757457913414), (4340, 0.008704141675807485), (3987, 0.008703639076412686), (3484, 0.008698394052915257), (1717, 0.008693653663484874), (4545, 0.008688037034928703), (2541, 0.008681645365956543), (2801, 0.00866056099593743), (1364, 0.008655456285250787), (3406, 0.008651091993215239), (4136, 0.008647233543521286), (717, 0.008643183432731969), (4, 0.008640111884219428), (103, 0.00863821990919496), (3809, 0.008631710126742267), (4320, 0.008630614783430492), (1946, 0.008627186673052087), (4286, 0.008601680735257284), (3205, 0.008582682799695589), (308, 0.008582313931764078), (2941, 0.008581357460416092), (289, 0.008579849006331401), (2976, 0.00856581094761837), (1910, 0.00856292196450914), (3989, 0.008559328757601823), (2907, 0.008557469619081564), (4446, 0.0085509031786667), (1439, 0.008541533452901304), (3608, 0.008539846700560422), (1474, 0.008535528098352495), (1670, 0.0085354045904892), (4381, 0.008531513533053873), (3186, 0.008530705470003432), (1349, 0.00852739551619266), (1916, 0.008525211328326792), (2746, 0.008493126831123788), (2660, 0.008486866701303462), (2735, 0.008485627509030308), (564, 0.00846734973406136), (1893, 0.008465239075364032), (3339, 0.008463586646171006), (226, 0.008463364248302956), (4563, 0.008462925608649663), (178, 0.008452119349453426), (1032, 0.008450593753763586), (623, 0.00844654949848208), (2595, 0.008443074225839935), (4348, 0.008442728294303894), (3902, 0.008441902385221292), (1851, 0.008438351293259658), (612, 0.00843656961452245), (1397, 0.008431006491114357), (1884, 0.008430470615969009), (4113, 0.00843024861679008), (504, 0.008423451266573293), (41, 0.008403597564594243), (2723, 0.008400195702744067), (378, 0.008394869113210596), (4083, 0.00838471877762383), (1120, 0.008380401340150768), (3314, 0.008377334007089572), (2370, 0.008362883546135897), (4686, 0.008356342919089935), (4330, 0.008351509004117883), (1530, 0.008350107184237295), (917, 0.008348234789043429), (2393, 0.00834030388248033), (448, 0.008332749678101107), (1518, 0.008328860738790436), (640, 0.008326437515721182), (3225, 0.008324988925481993), (4056, 0.008324170314996217), (3335, 0.00832415801481023), (4645, 0.008323498615850657), (430, 0.008322943776601047), (499, 0.008320660037157533), (871, 0.008318000041302443), (4206, 0.008316748887536795), (3988, 0.008315155441407086), (4166, 0.008309613904437817), (2169, 0.00830772108917635), (4427, 0.008307071037792086), (4489, 0.008306751007753388), (1402, 0.008305605741736688), (3283, 0.008299171605263514), (395, 0.008297494283953408), (2573, 0.008296535623197676), (723, 0.00829563660722214), (3174, 0.008288210879679446), (4355, 0.008286870230983347), (2073, 0.008283713429416984), (2863, 0.008280333392182475), (2146, 0.008277748203894078), (4567, 0.008276482354959864), (1395, 0.00826125495232798), (453, 0.008260048504295011), (1163, 0.008252471350075844), (1637, 0.008250101127201492), (2853, 0.008244720920247063), (1660, 0.00824360326112336), (872, 0.008242285239405258), (1896, 0.008228487470415251), (3706, 0.008216326493459747), (1768, 0.008205416489544594), (4129, 0.008203391499013593), (1378, 0.00820085633154652), (3915, 0.008200473256557051), (1722, 0.00819657940589128), (3216, 0.008195699060520655), (987, 0.008190892017570693), (2034, 0.008184599606674989), (3271, 0.008181552704796027), (4420, 0.008180908326650962), (127, 0.008179849268821012), (488, 0.00817729098787144), (3928, 0.00817659161261752), (3388, 0.008170173067983821), (2679, 0.008162492833930855), (198, 0.008149642176851726), (3289, 0.008147162011784503), (4487, 0.008141223474450687), (887, 0.008140207749670985), (639, 0.008135212474150208), (2396, 0.008125759448943325), (2782, 0.008121645173389352), (1625, 0.008115488937271143), (593, 0.008111513078449371), (2078, 0.00810193252835508), (4054, 0.00810094666829474), (2945, 0.008095965941042406), (3551, 0.008085746227382982), (235, 0.008082987633187069), (588, 0.008081147856349322), (3673, 0.00807679560043665), (4137, 0.008075456694182246), (3150, 0.008071563737258843), (4574, 0.00806377747809434), (466, 0.00805942374833817), (169, 0.008059244929851132), (738, 0.008057143335538395), (20, 0.008045346775312719), (1634, 0.008040469829303572), (4356, 0.0080361230771281), (4080, 0.00803546991167377), (4651, 0.008035011478389295), (211, 0.008034093593998122), (1476, 0.008031076110120442), (3845, 0.008028548003794319), (23, 0.008026781334703312), (1100, 0.008026646433262724), (1706, 0.00802236769791397), (2747, 0.008020753318804367), (975, 0.008014497500700253), (3668, 0.007994219314507249), (3348, 0.007992749888200442), (3341, 0.007989681926775261), (4536, 0.00798919443273571), (767, 0.007982583420472695), (2911, 0.007973987589749413), (4712, 0.007973779542473991), (1204, 0.007950644770365535), (4139, 0.007944709239469414), (1007, 0.00794319640951243), (4429, 0.007937214870208393), (1598, 0.007921319832165485), (2141, 0.007918618108821874), (2492, 0.007917116427060646), (1733, 0.00791509192176014), (2495, 0.007915064217548558), (4059, 0.007910511569093509), (848, 0.007910375480300628), (3491, 0.007903051579406607), (1411, 0.00790166722212042), (2609, 0.007900636187200652), (3477, 0.007900609688467898), (1576, 0.007899794819129918), (1458, 0.007898834789381711), (3800, 0.00788926016656131), (4408, 0.00788926016656131), (4049, 0.007872012725589525), (3069, 0.007871777174141935), (4130, 0.007865755149258368), (2904, 0.007865678448086572), (2894, 0.007863079148532862), (3445, 0.007862969600249414), (66, 0.007860851188776077), (1164, 0.00785879009139915), (3517, 0.007858045408363165), (2612, 0.00785604598279511), (2419, 0.00784787077885844), (890, 0.00784584641513797), (1877, 0.00784553879279678), (2564, 0.007838760040241692), (2651, 0.007837032819196649), (2779, 0.007827609189057639), (3243, 0.007827494578449126), (3506, 0.007826145016936683), (246, 0.007816281698228901), (3986, 0.007814417933606332), (2661, 0.00780845885015221), (1176, 0.007789521743448584), (2195, 0.007784491403657381), (774, 0.0077703050046660236), (2571, 0.007765830024016464), (680, 0.007764033876826014), (4472, 0.007759713771132563), (221, 0.007758988921659331), (26, 0.007754197974767249), (2610, 0.007752988333598696), (1294, 0.007749197133729821), (4142, 0.007748912134172026), (3493, 0.007746723504064512), (3182, 0.007744655405049916), (115, 0.007741745392647763), (2397, 0.0077279044896571645), (3478, 0.007721078826375776), (1102, 0.0077203901800355955), (377, 0.007718571927569367), (3290, 0.0077148087522139926), (400, 0.0077074004968847604), (471, 0.007695106951514296), (2319, 0.0076950661770429606), (1765, 0.007694058661581535), (655, 0.00769235009839551), (1122, 0.007689904528974062), (2068, 0.007686445730604722), (2340, 0.0076820473362704325), (884, 0.007680763295733411), (2102, 0.007665741275856221), (1617, 0.0076652733095570556), (4394, 0.007662748837163226), (4197, 0.007658367890485015), (993, 0.00765477708124715), (2117, 0.007654160695444794), (2965, 0.007649547666807945), (4085, 0.00763777560729053), (2430, 0.007628134306524937), (4135, 0.007625229586598121), (2163, 0.007608792142266909), (2385, 0.007607694696997767), (71, 0.007597332366931472), (3211, 0.0075954581358426195), (1516, 0.007593660523034167), (3260, 0.007589206111685072), (4036, 0.0075872912320732264), (1408, 0.007578318891045058), (2354, 0.007572245422593545), (3701, 0.0075704057568022854), (3014, 0.007568172855021279), (4020, 0.007562690183616247), (2422, 0.007560326264474895), (2634, 0.0075489794667273815), (907, 0.007541594776437864), (480, 0.007533687775707202), (1891, 0.007529376884787241), (2642, 0.007527975429231016), (2569, 0.007520953684772369), (2192, 0.007510151511627556), (1170, 0.007509250189760838), (158, 0.007507707004172683), (3298, 0.007506465302689531), (1744, 0.007505011401144646), (1703, 0.007494739214034896), (2387, 0.007494564865798529), (2083, 0.007490179063576919), (1533, 0.007485570144276557), (3347, 0.007485147039146889), (1210, 0.007482473217136534), (3792, 0.007479690706363838), (4183, 0.007477116400643422), (4215, 0.007469557043818924), (247, 0.007466752183405453), (3890, 0.00746154143327098), (3646, 0.007460886047981527), (3441, 0.0074571305419044035), (456, 0.007456114456174321), (883, 0.00745505012882029), (1565, 0.007454102516492728), (969, 0.007452260213477887), (165, 0.007444129850093309), (4104, 0.007428302261809886), (2593, 0.007416165724658001), (1084, 0.007412439816417841), (3278, 0.007412088541087751), (2826, 0.007408357990185244), (1059, 0.007405524433844931), (3565, 0.007398410694585271), (3455, 0.007397649092910191), (3412, 0.007396468239017941), (495, 0.007386114602773102), (959, 0.007380696389128247), (2282, 0.007378948294879168), (1672, 0.007377742427019218), (2416, 0.007377608876402901), (1463, 0.007375953198862039), (1286, 0.007368283989051631), (1813, 0.007362886636931279), (672, 0.007362400812532526), (372, 0.007360858898499175), (1026, 0.007359162203550914), (3739, 0.007348069579164484), (3028, 0.00734727955866714), (490, 0.007346415716133943), (3606, 0.007344325149107751), (2446, 0.007343070955835395), (1098, 0.00733159339890592), (3025, 0.00732981556178182), (1117, 0.007329087683341022), (2878, 0.007329009066879525), (1663, 0.007320309911023973), (2399, 0.007319398015094455), (1313, 0.007317579928330346), (4687, 0.007315463212771024), (2520, 0.007315058435070326), (2226, 0.0073130096931551345), (2912, 0.007310802126773899), (348, 0.007307903658517868), (3379, 0.007305418192047534), (2461, 0.007299882606123761), (3669, 0.007296908377159093), (4198, 0.007289987731404608), (2656, 0.007284409175077735), (3304, 0.007277549092383921), (77, 0.007273569550189848), (3220, 0.007269000131593394), (973, 0.00726173210172493), (4530, 0.007261617171941834), (2972, 0.0072611003275827425), (2131, 0.007259627984314923), (2067, 0.007254972828617604), (11, 0.0072547174688500134), (3254, 0.007254645441601432), (1831, 0.007254509207524851), (1574, 0.007252719957337689), (3147, 0.007249715591930106), (2954, 0.007237275467527525), (2129, 0.007230074650633332), (1131, 0.007228720791567437), (4636, 0.007226227239905122), (2242, 0.0072254567562752324), (2457, 0.007225208563460711), (645, 0.0072234102761009975), (3641, 0.007220507749960035), (1355, 0.00721180465146786), (3369, 0.007211631020205229), (4069, 0.007211055675436212), (3402, 0.0072058449738352775), (1550, 0.007204375518440274), (505, 0.007195781854723553), (2268, 0.007193358622897469), (3390, 0.007188874053775451), (2802, 0.007186635571822204), (4608, 0.007185163714809097), (2367, 0.007183830614804182), (4011, 0.0071795111962196425), (984, 0.007179086702487713), (759, 0.007178795972706214), (698, 0.007172347619994069), (2467, 0.007165571603091792), (3548, 0.007164709224454919), (749, 0.007163115358771491), (1273, 0.007159571785426443), (4155, 0.00715853561815362), (4598, 0.0071564684950168765), (2213, 0.007154229060994046), (2892, 0.007152896707602832), (3906, 0.0071521886760115665), (114, 0.007147822825133507), (755, 0.007147638464034028), (2920, 0.007145792905364936), (722, 0.00714290041109611), (4066, 0.007134405602222747), (399, 0.0071305119968772795), (4634, 0.007128169089659978), (1036, 0.007126127171750562), (2862, 0.0071215448502297855), (3564, 0.007116689901874297), (3010, 0.007114758363161526), (886, 0.0071107204486649915), (1416, 0.007097654853038998), (98, 0.0070850531883959594), (522, 0.007067680055493809), (1543, 0.007062973039141645), (2743, 0.007055966758410596), (3071, 0.007043661068472663), (1298, 0.007034730224298937), (3547, 0.007031166521572348), (2004, 0.007023620811941602), (457, 0.0070175773259808045), (4620, 0.007013046189186269), (3300, 0.007004703768516628), (1247, 0.006989080362247961), (647, 0.006981253905544826), (4550, 0.006980595039147977), (4220, 0.006971521930483923), (1558, 0.00696769894770456), (507, 0.0069606583725221865), (1110, 0.006960513012706373), (1209, 0.006957485790840755), (1422, 0.006956206700135918), (865, 0.006937746310198622), (3913, 0.006934039126891459), (1882, 0.006930021047655141), (3617, 0.006924127786015434), (268, 0.006923122731295414), (2099, 0.006915143343123833), (1319, 0.006914393430083178), (2111, 0.006911440263876788), (3765, 0.006900307623761456), (3327, 0.006892714434858258), (4277, 0.006888272473455383), (1304, 0.006888010815501132), (798, 0.006883690986797045), (1641, 0.006875705718047313), (1027, 0.006874598029540594), (1597, 0.00687433362646703), (2060, 0.006872668695419492), (524, 0.006871236775552698), (4345, 0.006866946994532375), (1153, 0.006866377562890222), (4626, 0.0068651663333423206), (4359, 0.006864601688668651), (229, 0.006860352108640131), (541, 0.006859019644873049), (1404, 0.006856578104314919), (416, 0.006855720425784664), (2201, 0.006854148898033678), (132, 0.0068536355002053635), (944, 0.006843298041387263), (1929, 0.0068406769034162155), (4428, 0.006840508083065773), (2313, 0.006840148333128472), (885, 0.006839530835465746), (167, 0.006837199171865736), (2765, 0.006836971241678546), (3691, 0.006826683379839087), (3811, 0.006825974599651921), (1370, 0.006823432078696305), (3742, 0.00681458062833367), (1742, 0.006810661554409679), (1763, 0.0068041072144003276), (2591, 0.006798576873578351), (1954, 0.00679811953871305), (3868, 0.006797573187681641), (3315, 0.0067952683356736175), (1357, 0.006794918549973033), (1060, 0.006784315196155049), (2323, 0.006778581650725529), (324, 0.006777498831827563), (1372, 0.006776310458030581), (2453, 0.006769943888688075), (4622, 0.006767687808081246), (589, 0.006763198801494294), (951, 0.006757002449113387), (3029, 0.006753841212876439), (359, 0.006752539078352063), (3200, 0.0067515826587189), (1034, 0.00674665580629755), (92, 0.006744535496800024), (2010, 0.006735625509959784), (3725, 0.006730217652906667), (3795, 0.00672768930947861), (2611, 0.006721999519915292), (1827, 0.00671955179607043), (2281, 0.00671577023313743), (267, 0.006712798162550794), (3311, 0.006710939301356412), (1042, 0.0067029004644844105), (1605, 0.006702104695285116), (388, 0.006701445364620803), (1642, 0.006698474894983181), (355, 0.006696183131247117), (3936, 0.006694611335412296), (2800, 0.006691620708212047), (3024, 0.006678117171623224), (1366, 0.006675476872776593), (3953, 0.006671916562491647), (659, 0.006670200967584842), (854, 0.006669654962313101), (1645, 0.006659053924670283), (3503, 0.006658853795105209), (325, 0.006657377718473209), (1002, 0.006650473038556728), (4247, 0.006644911266041633), (2525, 0.006644162168830726), (462, 0.006640711576268742), (3614, 0.006636135164670896), (1080, 0.006629793087595718), (2909, 0.0066153558730130445), (1528, 0.006607634994394927), (598, 0.006602760156825942), (3381, 0.00660207714334388), (136, 0.006600650992350837), (852, 0.0065981340011237975), (1693, 0.0065917183945502595), (707, 0.006586105196855945), (2338, 0.006578390815195961), (1869, 0.006570941106857059), (373, 0.0065623128798392525), (3380, 0.00655004143796215), (410, 0.0065493457438095), (3657, 0.006545515048400687), (3027, 0.006544574949615456), (349, 0.006542634237357154), (1423, 0.006539867071798072), (1666, 0.006539594734387564), (2552, 0.006537415701145188), (3563, 0.006535067191820517), (2132, 0.00652234220124406), (1977, 0.006519894635563982), (195, 0.006513364688402676), (1830, 0.006509034313772366), (4350, 0.006504763444753166), (2509, 0.006495474570141298), (731, 0.006490873951290096), (4476, 0.006482382971260135), (4152, 0.006474466126434916), (805, 0.00647443647769367), (2528, 0.006469745509115597), (1503, 0.006459651465614425), (1186, 0.006455200894251129), (3204, 0.006455098034960539), (3194, 0.006452222752713257), (4411, 0.006441099811288549), (594, 0.0064370317474098104), (1814, 0.006420258279623082), (215, 0.006412913229085135), (1004, 0.006410814101410904), (2127, 0.0064058274169908865), (4074, 0.006403600396183745), (121, 0.006402583510028885), (1284, 0.006398153847163701), (3894, 0.006385666155778945), (2482, 0.006376702040184103), (1392, 0.006371112342817586), (856, 0.006367942087643545), (3863, 0.00634981412954186), (3629, 0.0063473538027369065), (1969, 0.006346231202467061), (1219, 0.006332485939347442), (1352, 0.006327820634792652), (2526, 0.006325739340607139), (357, 0.0063143829023299125), (3336, 0.006309655042505198), (2502, 0.006292450004287714), (3538, 0.006291475122706812), (2166, 0.006281976285527213), (2470, 0.006281599937490987), (1782, 0.0062657838069484495), (4473, 0.006262047386096849), (3199, 0.006260216308078749), (1456, 0.00625599837529792), (2845, 0.006253694323379775), (712, 0.0062306903749062325), (815, 0.006218724724108693), (2543, 0.00621361855336811), (154, 0.0062118660943872965), (2333, 0.006197773671694712), (3167, 0.006195813092308344), (4700, 0.006175233715115639), (1616, 0.00614919193643659), (1079, 0.0061430891807647894), (97, 0.006141235551227156), (2305, 0.0061348889320796155), (4174, 0.006127341283409109), (4479, 0.006123150073000778), (4015, 0.0061177461215055715), (4742, 0.006109733002001373), (4143, 0.006104810859691579), (1921, 0.006099142011995064), (1719, 0.006098479521415411), (3056, 0.006060317461358282), (2157, 0.006045703727475661), (605, 0.0060401374611922624), (4445, 0.006037915474908498), (2287, 0.006034212461405189), (3575, 0.006022399504747042), (1394, 0.006020696623716118), (2753, 0.006019155904615843), (1980, 0.006011255668703856), (2527, 0.006008221960051578), (249, 0.006005006919598713), (1318, 0.006003962973608079), (184, 0.005962581527006497), (2721, 0.0059603811900148145), (2967, 0.005956796277318007), (2728, 0.0059505056833472035), (2240, 0.005949402408140346), (1808, 0.005938312919732272), (2047, 0.005936752420239215), (3855, 0.005934843658543792), (1340, 0.005926816524167497), (570, 0.0059230065754863215), (4485, 0.005921195487192744), (2247, 0.005915059494380395), (1450, 0.005912312996895049), (3393, 0.005894514960743754), (2818, 0.005875133534720894), (1943, 0.005874374135061776), (3569, 0.005867193108386919), (1217, 0.005865461485029071), (484, 0.005860116980107847), (2761, 0.0058488931605391765), (1301, 0.005833920042592982), (703, 0.00582760304913991), (3238, 0.005825989060502091), (2441, 0.005818871327917825), (2365, 0.005818749945426292), (2382, 0.005818509634377566), (1199, 0.005813153268042675), (2983, 0.005808447027288308), (1560, 0.005808239228304236), (1691, 0.0058064569257988575), (1251, 0.005798239018193421), (2270, 0.00578094707950152), (3252, 0.005742402615616226), (1088, 0.0057421763034429096), (4194, 0.005741201352124356), (4449, 0.0057350167819901696), (1828, 0.005734983018731252), (1801, 0.005729439567595395), (2676, 0.005728336287663696), (901, 0.005719213959161333), (4508, 0.005716453339187278), (278, 0.0057069287345114655), (196, 0.005702179468698787), (4480, 0.005695119385135419), (286, 0.005688464732765305), (432, 0.005665636748173751), (4463, 0.005659224320777967), (2359, 0.005653036864880611), (3054, 0.005647609265438148), (3545, 0.005640825717010489), (4526, 0.005630339352551678), (4491, 0.005614403960842021), (4725, 0.00561405145547446), (293, 0.005595670812757078), (4078, 0.005576456561686465), (2039, 0.005554709599263671), (3791, 0.005552728911839046), (3820, 0.005552728911839046), (4199, 0.005547529460141627), (626, 0.0055160892247480475), (1427, 0.005498740049835524), (4200, 0.0054951100756112925), (4539, 0.005470791790507979), (4560, 0.005467911702634087), (607, 0.00546304889938154), (3251, 0.005462090690471131), (3365, 0.005456882990492814), (3834, 0.005455007233421058), (1886, 0.005383582945228234), (914, 0.00537623707863247), (194, 0.005370458603771354), (3145, 0.005368304401111876), (1277, 0.005321297399871434), (1305, 0.005318512473914508), (1624, 0.005318253267060211), (4171, 0.005301677758974323), (4741, 0.005288026617831865), (3089, 0.005270592174259782), (3789, 0.005215957312653126), (2521, 0.005213786869151052), (3607, 0.005207501550010162), (4752, 0.0052050110970172925), (3578, 0.005200556631165153), (4127, 0.005200250792697555), (4714, 0.005195038575946464), (3626, 0.005191557249221519), (475, 0.005182014190422661), (2837, 0.0051735662957157775), (1677, 0.0051410947393781496), (2670, 0.005136468942885749), (3931, 0.005131389527093708), (2766, 0.00509046151834437), (2851, 0.005080495406326736), (2767, 0.005033416057247498), (3760, 0.005015205163468045), (391, 0.005013258476696958), (3301, 0.00500887129088881), (4204, 0.005006601477965019), (2253, 0.0049966362682112775), (2982, 0.004989230824482738), (3546, 0.004970748436384783), (4167, 0.004944585419436038), (351, 0.004938802120065004), (3473, 0.004930130477671299), (1686, 0.004922081515774833), (4483, 0.004914983805086184), (2760, 0.004905865379488307), (228, 0.004865996066553155), (2902, 0.004865057974342468), (2485, 0.0048600849779222), (2357, 0.004849792927208835), (4580, 0.004842332446010987), (2532, 0.004836091434638542), (3851, 0.004834002310887416), (1917, 0.004821691789985511), (3172, 0.004817885905032108), (1758, 0.004808461302136319), (2754, 0.004807291177367317), (3392, 0.0048029854670207425), (3682, 0.0048023317953292234), (3554, 0.004801343676484325), (3996, 0.004793991850964062), (3896, 0.0047866584958172744), (4026, 0.004774096981221916), (2860, 0.004763579248757311), (2312, 0.004741578292187328), (1240, 0.004740153361541924), (4058, 0.00473771201807555), (3758, 0.004732155166084047), (4597, 0.004730507606112653), (2758, 0.004730068400780784), (2756, 0.004723365293237314), (4276, 0.004721591308932411), (1424, 0.0047185152250770026), (3340, 0.004704698631523346), (3400, 0.004701729272546995), (4659, 0.004668678999820796), (3649, 0.0046615047019802035), (3034, 0.004646225217025138), (2636, 0.004645846904388619), (4179, 0.004616528548253315), (2973, 0.004614620090475249), (2905, 0.00461152597620951), (2194, 0.004611495455676976), (2979, 0.00459918011877578), (3830, 0.0045985667999644585), (2549, 0.0045910520786279), (133, 0.0045897903154054195), (4599, 0.004587305575204005), (2703, 0.00458138531834955), (4549, 0.004580346516349384), (2547, 0.004580342172075211), (4556, 0.00457605733991124), (4496, 0.004574694262025517), (2864, 0.004573626842429134), (4506, 0.004546838319234704), (4144, 0.0045467344008952104), (1615, 0.004521880283249771), (2952, 0.00451865906337847), (2343, 0.004516694103164906), (3001, 0.004498645421304916), (4201, 0.004497107648100139), (1051, 0.004489154349026806), (2458, 0.00446900421365846), (4150, 0.0044639103253933865), (3592, 0.004463643549209423), (4751, 0.004459087833937074), (955, 0.004458984921423948), (3921, 0.004458739085008907), (2384, 0.0044586785498106395), (202, 0.004455873210944009), (2307, 0.004452688093280375), (3805, 0.004432882991541166), (1548, 0.004430956542201298), (4635, 0.004413239580936518), (3109, 0.004410268489872117), (3838, 0.004405810085319324), (2898, 0.004395357726720768), (4315, 0.004390755717536917), (2785, 0.004386728451472362), (4452, 0.004378948217087828), (4547, 0.004372171605860734), (3964, 0.004355593649144162), (1258, 0.0043538565452820085), (3808, 0.004348563490338182), (3869, 0.004348124320628356), (2054, 0.004331510529664043), (153, 0.00431676901930052), (3424, 0.004315199483713241), (2325, 0.004310231095692127), (2839, 0.00430922337708613), (4238, 0.0043071124729492875), (2566, 0.004301853901202218), (4341, 0.004291595586666706), (3041, 0.004285170759720926), (2165, 0.004265656152022928), (4454, 0.004264131059981621), (1669, 0.004262928361072649), (3529, 0.004254848186994788), (2243, 0.0042536548988738), (2927, 0.0042467481079981675), (1437, 0.004243935107975176), (3581, 0.0042391196931302584), (3610, 0.004236243394505552), (751, 0.004230422998198049), (4538, 0.0042257421376561905), (129, 0.004215551059565032), (4676, 0.004203110868018073), (1972, 0.004197326304616796), (4559, 0.0041958162829200535), (2781, 0.004194314165697717), (4460, 0.004183908232638301), (839, 0.0041795546119729), (2773, 0.004178321423310212), (3950, 0.0041609444772448085), (3510, 0.004160430595224963), (2806, 0.00415609902935128), (858, 0.004155703709233239), (2672, 0.004150162570112536), (2843, 0.00414709941894154), (4655, 0.004146790540048814), (24, 0.004139835623251716), (2710, 0.004133225110381151), (1466, 0.004131397363356058), (2380, 0.004118124501315498), (2164, 0.004111764229864501), (2138, 0.004111328920623756), (2631, 0.004111037198505679), (2675, 0.0041078728128012745), (3092, 0.004106547406193338), (3175, 0.004102835663894475), (2452, 0.004100533011417774), (4672, 0.004097036028331454), (2433, 0.004091926772587772), (4737, 0.004090509449444084), (3671, 0.0040793703228401415), (740, 0.0040771722503514796), (1856, 0.0040599949729800185), (3726, 0.004051275355804784), (704, 0.004050322106147296), (2719, 0.004047911833988313), (2951, 0.004039868434152149), (2381, 0.004039199161518509), (2730, 0.004024823560744556), (1246, 0.004016547342806423), (3277, 0.004015916348816455), (4031, 0.004013470719472886), (3162, 0.004013206940708705), (2351, 0.0040106114733672186), (3837, 0.00400901757832344), (491, 0.004002016883354235), (3831, 0.00400183308553022), (1836, 0.004001557549259181), (1780, 0.004001489216010624), (2032, 0.003999171124748128), (4736, 0.003996808098242968), (711, 0.003996762456134246), (2885, 0.003995642799329112), (3532, 0.003995017379795121), (950, 0.0039929186230905234), (4108, 0.003987730025511129), (1834, 0.0039812045867226335), (1143, 0.003980891949609184), (681, 0.003975255728172549), (4258, 0.003971863139889626), (4364, 0.0039673267443332254), (4410, 0.003962037145970859), (4671, 0.003961676404673748), (4271, 0.003958385307856576), (2583, 0.0039514463698332196), (2880, 0.003951306781455964), (531, 0.003947405236997316), (2956, 0.003947312149844974), (3107, 0.003944371079981766), (4541, 0.003941006003723085), (2341, 0.003932886352234605), (2267, 0.003932252245807856), (3103, 0.003928091902359193), (2810, 0.00392065543013485), (3048, 0.0039172506690985775), (2009, 0.003914205679246187), (3549, 0.003912179970244184), (2462, 0.003908691706507381), (2218, 0.00390820668754558), (4755, 0.0039023875953759692), (3858, 0.0039005014803141216), (4565, 0.0039004300259774956), (2930, 0.0038950050062281335), (2371, 0.0038941646281023933), (2263, 0.0038927243580580283), (2372, 0.003886567951884128), (4716, 0.0038757983759995117), (3006, 0.0038641812037121647), (2180, 0.003863154875617119), (3505, 0.003863121927159592), (2852, 0.0038584144272897783), (3190, 0.0038465820061716277), (2420, 0.00384625498191964), (4180, 0.0038455590180212084), (1894, 0.0038288533851355707), (365, 0.0038257690233290775), (3688, 0.0038234636350839603), (4034, 0.0038206899927320033), (3530, 0.0038197575721441142), (720, 0.003807626464029625), (4072, 0.0038070549898846185), (4010, 0.0038043037126336567), (3272, 0.003800961991502984), (3817, 0.003790121636150443), (4338, 0.003787338024599928), (784, 0.003780689069041435), (960, 0.0037800074931129257), (4347, 0.0037732300493515895), (679, 0.003772938204799129), (2493, 0.0037719507885637625), (1089, 0.003764338278195069), (841, 0.003762805406473751), (1520, 0.0037617253385070766), (2604, 0.003761442426613262), (100, 0.0037542398145344784), (4525, 0.0037533284081907787), (4157, 0.0037425464992068406), (3080, 0.003737051068907464), (4270, 0.0037343291453675125), (1201, 0.0037335596277578266), (2002, 0.003731915115212306), (4592, 0.003730248511208094), (3717, 0.003724758457316842), (3572, 0.0037214474629013164), (2115, 0.003717510310461964), (2222, 0.0037161483503309646), (754, 0.003709898210562747), (4260, 0.003709179994963208), (1766, 0.0037058487594273854), (1491, 0.0036997420523870363), (574, 0.0036992916363961076), (146, 0.0036934522075052446), (3221, 0.0036928041591297463), (2450, 0.003688788544446583), (2200, 0.003679985302251159), (1321, 0.0036775620246710873), (4451, 0.0036751981991778797), (205, 0.003675070598780655), (3401, 0.0036710664947092364), (1679, 0.0036669070227659073), (2921, 0.003664652152308719), (3519, 0.003662821036566489), (2811, 0.003655124646899834), (4086, 0.0036522214387318293), (1932, 0.003648882353858603), (1390, 0.0036452149889458735), (2079, 0.00364325418016178), (982, 0.003642865306451467), (1057, 0.003641487486867565), (663, 0.0036382760791289852), (517, 0.0036380931324361764), (2358, 0.0036379752798862907), (2241, 0.003634999567012232), (1031, 0.003632582624155409), (536, 0.003629408803468421), (2955, 0.003625554233074653), (3585, 0.003623808668595172), (4064, 0.003622800634477257), (747, 0.0036224357620134096), (3730, 0.0036204520801053374), (882, 0.0036175823110767146), (4256, 0.003617465032597654), (2648, 0.0036168396566360387), (3697, 0.003614007805692199), (1056, 0.003610572761333084), (4509, 0.003608073798398732), (3442, 0.003606318138989664), (3846, 0.0036019822608738526), (2662, 0.00359872285350474), (3735, 0.0035931051898801213), (2217, 0.0035930634186736453), (498, 0.0035904971524597304), (2042, 0.0035895960240245905), (3943, 0.0035830453128296966), (1511, 0.003578750350266225), (1563, 0.003576851477099835), (3724, 0.0035710567557766704), (2663, 0.003570475335954565), (3394, 0.003566986541616956), (3281, 0.00356592676986136), (3972, 0.003559034112160166), (1441, 0.003558748370931148), (4207, 0.0035587190600792594), (3887, 0.003557278491008253), (415, 0.003555438945411697), (4332, 0.0035509924432907134), (2233, 0.0035484516341712205), (977, 0.0035479746299688264), (2896, 0.0035473701381374227), (4352, 0.0035453058230425984), (1091, 0.003542629267304678), (1011, 0.003541445912780472), (3746, 0.0035392319888241535), (1147, 0.0035387095229727026), (4493, 0.003538199828746689), (2342, 0.0035319720091130666), (1899, 0.003530458652009654), (101, 0.003529620826518121), (1596, 0.003529549304098247), (2968, 0.0035287387239441893), (2124, 0.00352307554812773), (1999, 0.003522197567771433), (1928, 0.0035217094789258816), (2345, 0.00352155218957496), (785, 0.0035205977227041733), (4615, 0.0035186751304328023), (225, 0.003518356984096167), (3836, 0.0035146208856486616), (3628, 0.003511067870959409), (591, 0.0035047083515617077), (134, 0.0035030469680908333), (1142, 0.0035023836788843224), (188, 0.003500597204784216), (718, 0.0034998944067458782), (3105, 0.0034997632465497905), (4648, 0.003496729273625466), (2172, 0.0034953642918691004), (4006, 0.0034944830551719938), (3759, 0.003489322004203634), (4234, 0.003489288031877135), (2518, 0.0034888696796567032), (3444, 0.0034881101981237422), (4185, 0.0034869279312409636), (4279, 0.003484784222030646), (272, 0.003482364234544333), (1205, 0.0034813650436921993), (2182, 0.0034796558951657765), (4181, 0.003478054039584538), (2605, 0.0034765612427570566), (1265, 0.0034761325519705026), (1844, 0.0034719321425835154), (3236, 0.0034710752969808814), (2259, 0.0034674656617718264), (2261, 0.0034667508244873393), (4253, 0.003465065893513196), (1190, 0.0034629855136469366), (2337, 0.003460989067076687), (3415, 0.0034592796428387787), (1534, 0.0034586651772170705), (3816, 0.0034558514031644513), (990, 0.0034545871014763987), (3969, 0.0034516683950838872), (2431, 0.0034472847839666283), (2637, 0.0034455928497366074), (1103, 0.003445130796804839), (3681, 0.0034444252586521957), (2856, 0.0034443145045356576), (2866, 0.00344083588401056), (1604, 0.0034399327997837997), (1228, 0.0034386972994576515), (2331, 0.0034358751322185635), (3305, 0.0034350969592662466), (2021, 0.0034342004376102), (1013, 0.003430319520281572), (1731, 0.0034302787725452853), (2300, 0.00342936300245397), (4370, 0.0034275342703846572), (1839, 0.0034270800475332814), (1803, 0.0034251023865568683), (556, 0.003424087204687974), (2063, 0.003421798522654262), (4027, 0.0034214992216132136), (4417, 0.0034168960141305006), (3208, 0.0034154717506677903), (3207, 0.0034122040186149124), (1600, 0.0034116025700150405), (4346, 0.0034106854410313617), (599, 0.003409809657142076), (4324, 0.003407786336958786), (3368, 0.003406309304423402), (3930, 0.0034047815542268722), (2456, 0.0034036199582678306), (1171, 0.003402118690984031), (2586, 0.003401705956431676), (3977, 0.00339919585826302), (2451, 0.0033978665574930416), (2106, 0.0033969312128879887), (4067, 0.0033948925793120164), (771, 0.003394289078052857), (1965, 0.003393331859334062), (362, 0.003393160603429376), (3332, 0.0033864733461463526), (459, 0.003377171080906894), (4683, 0.003376747890951471), (2414, 0.0033758303602898403), (3798, 0.0033754866020806887), (4404, 0.00337457625374353), (1775, 0.0033741810283715733), (4453, 0.003374057482870218), (1081, 0.0033716741943461367), (4433, 0.003370934401653523), (4702, 0.003367940323777427), (2030, 0.0033663370753319053), (3840, 0.003364369176576753), (4173, 0.003362769252512289), (3476, 0.0033613895947146957), (1786, 0.0033611533410868796), (17, 0.003360473855840457), (3812, 0.003359348419914251), (2135, 0.003357354902426965), (265, 0.003355868816924535), (4278, 0.0033538699831735983), (2799, 0.0033529852067690612), (3573, 0.00335024130936105), (674, 0.0033499180583009907), (1564, 0.003349015301603431), (3522, 0.0033478911886810707), (2041, 0.0033442555093310565), (630, 0.0033438575449090307), (1725, 0.003342567512137838), (1835, 0.0033424776733812956), (700, 0.003338435153852088), (1159, 0.0033358261483976276), (2499, 0.0033355155190784727), (913, 0.0033339369949103408), (2179, 0.003330886440065784), (4519, 0.0033297551095677266), (4125, 0.0033296689835793335), (3963, 0.003329471759335411), (3985, 0.003328573600717702), (4018, 0.003325121834183722), (2551, 0.003324490643581021), (797, 0.003322292707703056), (3871, 0.0033215271266564816), (3695, 0.003318018918391946), (3138, 0.0033176696992602965), (3870, 0.0033168612156079203), (3461, 0.0033154438146251065), (4662, 0.003312931168198209), (2120, 0.0033123035464382284), (3002, 0.0033111862628175917), (730, 0.0033109539226500386), (1470, 0.003308611420675658), (610, 0.003307530028979056), (1926, 0.0033074894673651633), (2620, 0.0033060471420514204), (2750, 0.0033048213276203288), (4294, 0.0033037563497673845), (1189, 0.0033036344929035935), (3181, 0.003301578618037436), (3929, 0.003301215951241132), (2588, 0.003301049216895596), (1328, 0.003298391411454878), (3106, 0.003295189973407315), (1460, 0.003294440597478685), (3428, 0.0032940604728672455), (3061, 0.0032893652895671505), (1022, 0.003289070374239829), (3968, 0.0032887826663153766), (1879, 0.0032880682620984856), (384, 0.003287625516969589), (572, 0.003287177741349598), (4588, 0.0032810808468332845), (4329, 0.003280258407902979), (2373, 0.0032767646498595717), (1287, 0.003276630971040739), (2171, 0.0032753905121252606), (686, 0.003275322721435271), (141, 0.0032737008406072453), (398, 0.0032714990564644817), (2516, 0.003270927560508224), (3489, 0.0032708346583627057), (2471, 0.0032707095371650617), (1459, 0.003269735536755075), (1271, 0.003269318421584738), (1613, 0.003269132204157523), (3378, 0.0032686616345326967), (3979, 0.003267236219137351), (4421, 0.003265952989018225), (1522, 0.0032649480699513504), (724, 0.0032631689634736206), (3021, 0.003263000267797615), (219, 0.003259737179815523), (3202, 0.0032574311796812216), (2729, 0.00325675447445709), (1745, 0.003255525498910196), (2817, 0.0032551339837312235), (2589, 0.0032512182708740608), (2511, 0.003249979969429394), (1151, 0.0032441757846990043), (3132, 0.0032435318506158625), (548, 0.0032432846302200163), (525, 0.003241837028910865), (405, 0.0032394241749791283), (4323, 0.003238088139771865), (3286, 0.003236828905482572), (1603, 0.00323484056688062), (1166, 0.0032335772814950426), (1198, 0.003232984528259773), (1333, 0.0032315302164566415), (2256, 0.003231328206962044), (1734, 0.0032294493696246656), (110, 0.0032291657130238214), (2704, 0.0032279543957971606), (603, 0.0032230398323095815), (3743, 0.0032229063816438526), (4003, 0.0032226123864874967), (3685, 0.003220567147944318), (746, 0.003217401261869125), (2249, 0.00321542167907772), (4439, 0.0032147516270489384), (3773, 0.003214691741127795), (2046, 0.003210200098499061), (3631, 0.003209134338354044), (3712, 0.00320907554859478), (1556, 0.0032065887394257526), (971, 0.0032064198412302446), (4478, 0.0032054152336046665), (956, 0.003205307419501516), (3722, 0.0032050074518026788), (4690, 0.0032037432760681126), (1193, 0.0032026967819819134), (3683, 0.0032019207931229454), (2369, 0.0032015853633128137), (259, 0.003200279021368162), (1720, 0.003200247187256022), (2449, 0.003199044956712308), (1336, 0.0031978269753237453), (1636, 0.003195814118605435), (1702, 0.00319563913686842), (392, 0.0031922002885312406), (1652, 0.00319000213985879), (2578, 0.0031889968352347762), (4097, 0.0031889618908846), (1956, 0.003188855194545275), (4759, 0.003188285575842849), (1578, 0.0031879234025602985), (2836, 0.003186899522587031), (516, 0.0031861413378097897), (658, 0.003185785113825713), (656, 0.0031848573394249514), (4146, 0.003183613602545738), (552, 0.0031818849948391497), (3169, 0.0031807525904370233), (1233, 0.0031787555658189066), (1842, 0.0031775260071144383), (1804, 0.003177044357132251), (770, 0.0031744863918607862), (3912, 0.00317240037836742), (4100, 0.003171903702262267), (1640, 0.0031715318607592625), (1525, 0.003167001165608047), (1299, 0.003166969441758605), (2090, 0.0031655705376401324), (1322, 0.003165491700665629), (2498, 0.0031637937706616407), (55, 0.0031630078706476527), (4214, 0.0031620755073745875), (1447, 0.003162026064664555), (1269, 0.0031615237143271377), (1726, 0.003160901367035189), (983, 0.0031597932641173076), (995, 0.0031597705531827306), (4168, 0.003158057261980568), (3427, 0.0031575054923156792), (4613, 0.003157489561616213), (427, 0.003157195184611191), (3343, 0.0031562171299704418), (4728, 0.003156205795787538), (2332, 0.0031544360821541533), (945, 0.003151531142445721), (2713, 0.003151241477554337), (1755, 0.0031505801918426586), (3732, 0.003150427223990806), (4291, 0.0031478130183801413), (344, 0.003145837287851194), (708, 0.0031432527927700406), (4457, 0.0031418776996307825), (4022, 0.003141760430915352), (4128, 0.0031412472803305064), (781, 0.0031386500508589583), (1253, 0.0031372128247892693), (3482, 0.003137010533781614), (3422, 0.0031317208291630665), (2575, 0.003130136821907837), (3872, 0.003128904530200511), (2227, 0.0031277768038941874), (1155, 0.0031270715979392527), (3622, 0.0031270209735507495), (3188, 0.0031261622243296317), (486, 0.003125445391238894), (2938, 0.003124098398988667), (1751, 0.003123537686641915), (1955, 0.0031229919678577574), (3790, 0.0031229184443213515), (3467, 0.003120729470764838), (299, 0.0031199582947331454), (1133, 0.0031188458608245556), (2408, 0.003117528961089317), (2709, 0.0031145387430171626), (117, 0.003113276049293629), (1444, 0.003111366299268562), (2085, 0.0031108642772656), (3310, 0.0031098605144022117), (3287, 0.003109275745376304), (4029, 0.0031080816027969586), (3073, 0.003106738446223719), (297, 0.003105971180332211), (3982, 0.003104455382942505), (1697, 0.0031018389287812763), (275, 0.0030989591818444406), (4305, 0.003098467641590439), (946, 0.003097352798771805), (3591, 0.0030956270947063765), (943, 0.0030937066214738723), (3090, 0.003092113987608589), (3991, 0.0030920736864236756), (2329, 0.00309018641835121), (264, 0.0030893556122912245), (4568, 0.0030891212487186), (1541, 0.0030886720781924445), (3321, 0.0030881480784087614), (2019, 0.0030839411185832957), (2234, 0.00308308995168215), (1101, 0.0030814481473794646), (650, 0.003080837178364158), (557, 0.003079326778581566), (1611, 0.00307726234228688), (1086, 0.0030769325358601125), (1769, 0.00307350188979938), (592, 0.0030728390544795354), (3700, 0.0030723093409095893), (2225, 0.003071279618364459), (3847, 0.003071181683120304), (3609, 0.0030698149476266223), (2666, 0.003068148631935302), (2086, 0.003067691570904713), (2153, 0.0030640391329823415), (1979, 0.0030628683657070396), (298, 0.0030602364269414714), (3891, 0.0030598325861413158), (4609, 0.0030597672858035155), (1961, 0.0030592455615700126), (3937, 0.0030589915249381204), (528, 0.003058647560519907), (4073, 0.0030579775535346907), (1704, 0.0030577555363001064), (2824, 0.0030572470556821246), (151, 0.003054976861348585), (3494, 0.0030531180299247424), (2409, 0.003052589425144784), (909, 0.003051342596879373), (3595, 0.003051197583712493), (4406, 0.0030504467216129357), (2297, 0.003050384616577545), (312, 0.0030501489681323854), (3333, 0.0030491482749071997), (1353, 0.003048111061068319), (3539, 0.0030474048654708314), (2828, 0.0030453679112798786), (529, 0.0030441380470779523), (2685, 0.0030434012936702884), (2693, 0.003043388903408668), (4569, 0.00304199547899176), (1689, 0.0030404775351989214), (1777, 0.0030397297229559014), (4041, 0.0030383905148957105), (1346, 0.003037233523780816), (1200, 0.003034905570449757), (423, 0.003034879305563715), (4319, 0.0030332826023755505), (2950, 0.0030331614100087617), (3189, 0.0030319522051550246), (3603, 0.003031104381902282), (3568, 0.003030654557404575), (1606, 0.0030257332507725703), (1105, 0.0030254681617893717), (4241, 0.0030252659000361065), (2311, 0.0030249627662117164), (3104, 0.0030245480760635723), (1165, 0.0030245021570957063), (3229, 0.0030225717861129524), (846, 0.0030205849330644024), (965, 0.003017551542772785), (3077, 0.003015944081639041), (1889, 0.0030152502418612703), (361, 0.0030134992893170154), (3994, 0.0030134204659665537), (1820, 0.0030122151111060917), (3350, 0.003011115095820749), (3879, 0.003008846407018411), (3543, 0.003007238709110837), (1126, 0.0030063724527446605), (2829, 0.003006038774094029), (3690, 0.0030059125164406293), (2827, 0.003004497190483239), (4159, 0.003003997939263109), (1517, 0.0029944164674144996), (59, 0.0029933444858048744), (1602, 0.002989126867194399), (4434, 0.002988624422735895), (4224, 0.0029874203270269326), (3589, 0.002986783138042164), (2081, 0.00298473599402064), (2594, 0.0029833556692856556), (662, 0.0029811624790516684), (1297, 0.002981116768751371), (4237, 0.0029802067285882674), (1085, 0.0029768149932033854), (4195, 0.0029755507146728964), (331, 0.0029743796512920195), (64, 0.002973835566707185), (1532, 0.002973093435219851), (1618, 0.0029728087810206422), (1824, 0.0029693058993866613), (1785, 0.00296791881049457), (171, 0.0029678063295213953), (1966, 0.002966632401697887), (3753, 0.00296583811791481), (1108, 0.0029652883023831666), (1028, 0.002963776280726051), (1898, 0.002962346648181227), (3250, 0.00296181582271482), (3644, 0.0029617308123460464), (2794, 0.002959434074065195), (1373, 0.0029589080682973887), (2850, 0.0029558705036399563), (2804, 0.002954737293363604), (1227, 0.002952281922098522), (4327, 0.0029492411414962926), (1113, 0.002948975334412088), (2107, 0.002946258749438822), (3662, 0.002945795772374066), (1825, 0.0029444088417477244), (1577, 0.0029439602182692484), (4300, 0.002943324444601865), (258, 0.00294291277528314), (4188, 0.0029403449714678403), (938, 0.002939266870298345), (3600, 0.0029385895443207804), (3060, 0.0029330913148933077), (4688, 0.0029321385019620725), (3058, 0.0029314146676662723), (1244, 0.002929340031148147), (339, 0.002929310427554501), (54, 0.0029282868928440856), (2435, 0.0029280590231943165), (4109, 0.002927254149650078), (2677, 0.002926831806328235), (2038, 0.0029252666054438905), (2274, 0.0029247937233378703), (439, 0.0029245064875522524), (4754, 0.002924370816802056), (1549, 0.002922033389706766), (2017, 0.0029217017690362037), (2472, 0.00292155406272326), (4063, 0.0029214047556745553), (2813, 0.0029197907563913886), (3567, 0.0029187317753544603), (1783, 0.002915697260807948), (28, 0.0029152455289948053), (3533, 0.0029140608720558733), (1508, 0.002913388737027861), (223, 0.0029124446377229983), (585, 0.002912442725604139), (3550, 0.0029105654359118886), (4297, 0.0029098402266275465), (2465, 0.002908900326550783), (404, 0.00290465326387955), (2092, 0.0029031965795687717), (2003, 0.0029031655549725164), (1657, 0.002899664294502166), (3650, 0.00289877111444054), (4577, 0.0028959172754590497), (1589, 0.00289483859657815), (1984, 0.002893872947632062), (4542, 0.0028933029415384526), (1487, 0.00289234558307583), (1315, 0.002891379927141472), (2050, 0.0028902068176929335), (1912, 0.0028890846749548404), (1756, 0.0028887217943488726), (2763, 0.0028857245226887457), (2150, 0.0028839415933847186), (335, 0.002883016144218791), (1561, 0.0028804043393528427), (4628, 0.002878441814262464), (1073, 0.0028766153678388712), (1066, 0.002876059762483371), (3319, 0.0028713010241407304), (1557, 0.0028706574293449485), (2865, 0.0028706091539166625), (3366, 0.002870235138751057), (3783, 0.0028696559919853316), (1823, 0.0028690353139539334), (58, 0.0028673341809396604), (4532, 0.0028660683266259956), (1599, 0.002863709653772009), (2699, 0.0028623343132827272), (4218, 0.0028615942258417523), (665, 0.00286129273663389), (1651, 0.0028523804144075723), (822, 0.002850931016949681), (379, 0.0028502863007744818), (546, 0.0028475071939506754), (1055, 0.0028463979126727816), (2128, 0.0028458108279805854), (1135, 0.0028455274504269102), (3859, 0.0028431642332409747), (1668, 0.002841791563044638), (567, 0.0028405712049949677), (1545, 0.002838839431263548), (4405, 0.0028388331367761224), (2690, 0.002838758607096588), (3818, 0.0028385060210042528), (1709, 0.0028368714093747437), (1800, 0.0028338384875336723), (535, 0.0028333159591364303), (1592, 0.0028316960398315945), (3177, 0.002831414151068271), (3856, 0.0028308269231924984), (1607, 0.0028296171291075454), (2025, 0.0028286314954754357), (819, 0.0028226369837111146), (713, 0.0028218586391502406), (1757, 0.0028217357232531975), (2615, 0.0028207796947590015), (1855, 0.002820768999757506), (2497, 0.002818538420147449), (780, 0.002816720477168452), (1235, 0.002815420644623741), (1180, 0.002813557020851615), (3459, 0.0028132810390265883), (2855, 0.002812810223476228), (4447, 0.0028095763784888794), (1837, 0.002809065276768649), (1700, 0.0028084259351966864), (1529, 0.0028073399511666097), (3047, 0.0028040805988548104), (1285, 0.002803733607437856), (736, 0.002801345021078211), (3053, 0.002799894677061185), (4437, 0.0027965293198613955), (2018, 0.002796331329292592), (4070, 0.002794294615051623), (549, 0.0027941241188697177), (245, 0.0027939033474287064), (3923, 0.0027936217102435498), (554, 0.0027916784762835782), (1218, 0.002789041519006845), (1368, 0.00278792539353757), (3481, 0.0027871158729230986), (1473, 0.0027863297921474966), (1106, 0.0027850742896442103), (1295, 0.002785054993334748), (961, 0.0027814978468409628), (390, 0.0027787988669507597), (3130, 0.0027787790847281046), (714, 0.002778126574343299), (2491, 0.002777471195949146), (3141, 0.002777156668571619), (4112, 0.002776729483725408), (1490, 0.0027734713601994796), (2641, 0.0027720818254237506), (1649, 0.0027710833876998533), (1067, 0.0027701391580745222), (1196, 0.002769651837028247), (1638, 0.0027685621622129037), (3270, 0.0027663927559564063), (2596, 0.002766217817537887), (2958, 0.002765149503252047), (2327, 0.002764385373764786), (2389, 0.0027630052983411103), (2100, 0.002760349716711998), (3562, 0.0027597206880685373), (1263, 0.002759339958810405), (382, 0.0027570650064792715), (3320, 0.002755565193424738), (4037, 0.002755363604058905), (1673, 0.002754634426252077), (411, 0.00275413669784356), (2215, 0.0027520577479851712), (49, 0.002751727320743369), (1097, 0.0027515087739557464), (3965, 0.002748983946771764), (4675, 0.0027485511566363568), (3948, 0.0027474031951263936), (3716, 0.0027455923238366357), (2608, 0.002744666881805498), (4667, 0.0027446458621432986), (2681, 0.0027427700406476552), (4191, 0.002740313917197625), (1771, 0.0027389013466980103), (2749, 0.0027386318727497107), (3490, 0.0027381621404456973), (1778, 0.002734631082327496), (2322, 0.0027300078705650536), (1915, 0.002728801238032031), (2514, 0.002727225615622651), (2835, 0.0027219055514897984), (2271, 0.002717128808500393), (2793, 0.0027151526797747376), (1093, 0.0027147922660568577), (3803, 0.002712939578559837), (3082, 0.0027128314309611333), (150, 0.00271272430271587), (920, 0.002706816153512806), (2906, 0.0027066710944237005), (1610, 0.002702428913700735), (1626, 0.0027008261018547975), (912, 0.0027006617847065545), (3718, 0.002697517908701856), (1888, 0.0026939188442861852), (2071, 0.00269335757307509), (36, 0.0026928968275324694), (2140, 0.002691449323435239), (4600, 0.0026906566605693445), (3454, 0.002689008012149606), (4358, 0.0026869804457617962), (1794, 0.00268590508445413), (492, 0.002683814990752192), (2183, 0.0026822018339175066), (3738, 0.002680269351738342), (186, 0.002678580912195226), (1974, 0.0026771824949897785), (2584, 0.0026769803041345516), (2262, 0.002676129173929834), (2548, 0.002675155962816472), (338, 0.002675077968330674), (2574, 0.0026745467838386783), (1291, 0.0026741705053921023), (1130, 0.0026736561088883744), (840, 0.0026732264625137572), (2542, 0.0026725677182717995), (4353, 0.0026718669839906704), (702, 0.0026717529448455003), (1495, 0.0026690034882572615), (1457, 0.002667684777055757), (1288, 0.002663292239097544), (2445, 0.0026610085624898744), (3709, 0.0026610014173367755), (2170, 0.0026609177219720508), (1029, 0.002657758867702136), (393, 0.0026569113732072274), (1149, 0.0026562323393669734), (3083, 0.002653610559404435), (14, 0.002653516675137679), (649, 0.0026532639808238647), (1256, 0.0026505604003670717), (3736, 0.0026455975985215296), (3786, 0.00263520626228006), (859, 0.0026348592284423725), (3121, 0.002633441450250594), (772, 0.0026326814235338018), (1810, 0.0026326234320912796), (1323, 0.002632061666818679), (2504, 0.002631621076981874), (3193, 0.002629734425006174), (1038, 0.0026216844648847383), (741, 0.0026210359448495726), (2272, 0.0026206614742748666), (565, 0.0026192331213410213), (2616, 0.0026189835609757212), (53, 0.0026174229905618403), (577, 0.002616308006383601), (573, 0.002613709155572283), (1039, 0.002612344436905411), (1283, 0.002611726503630633), (773, 0.002611451830254171), (3843, 0.002607227553275784), (4153, 0.002606078384158497), (337, 0.0026058258831290716), (1767, 0.0026038500789494173), (1496, 0.002601307383805129), (1025, 0.0026009028341760208), (3633, 0.002596023717401833), (3068, 0.0025951910585215766), (2125, 0.002588157073241968), (3785, 0.0025870429890780216), (37, 0.002584204857446215), (978, 0.0025840518859592625), (352, 0.002583506332248192), (2033, 0.0025809094997979753), (2007, 0.002579958525380164), (569, 0.0025784962895747977), (3201, 0.0025784685727158925), (1221, 0.002575531700647509), (1729, 0.0025740624430457076), (892, 0.00257323182627243), (3525, 0.002572357699290389), (2534, 0.002566550401604908), (214, 0.002566066829987881), (1242, 0.0025626420218309537), (2508, 0.0025606027239102568), (2590, 0.002560322677603419), (454, 0.002560037247438353), (2152, 0.0025576925400884283), (3411, 0.002556283447187282), (2315, 0.002553329489091992), (394, 0.0025531751344452713), (3693, 0.0025404050384408936), (1524, 0.0025350936538370526), (1016, 0.0025273302569174616), (383, 0.0025241299519194226), (1139, 0.0025221801294247454), (2043, 0.0025170129354368555), (2686, 0.002517007313375617), (3885, 0.0025154558604836602), (3197, 0.002511613256162602), (4498, 0.0025082196627350035), (3063, 0.002503366020020552), (964, 0.002501634465208271), (1468, 0.002501107450784689), (954, 0.0024954645313747465), (3933, 0.0024951070075036022), (3764, 0.0024938733831035226), (1883, 0.0024908333558450397), (4558, 0.002485456291255028), (1584, 0.0024828792838695836), (4415, 0.002481249907717787), (1062, 0.0024784155892313563), (2059, 0.0024726050443822727), (2036, 0.0024706886067277704), (3485, 0.002465274698617112), (2360, 0.00246512816435119), (1399, 0.0024635535633206864), (1354, 0.002462187197751212), (699, 0.0024575203328469236), (1698, 0.002455976683522032), (2352, 0.0024483672593503206), (376, 0.002443400707090437), (1639, 0.002443354526172515), (302, 0.0024377107552025525), (4647, 0.002434661706459733), (786, 0.002433265359992815), (4186, 0.0024308674708717957), (1268, 0.0024298540929591915), (3397, 0.002429027339315871), (1, 0.0024245877418126), (725, 0.0024216391151574436), (3231, 0.0024099879445613243), (1212, 0.0024091261582367116), (575, 0.0024089899350365576), (4212, 0.0024075531821600923), (820, 0.002403494393164228), (1485, 0.0024012090455168182), (1482, 0.0023956765151960653), (2627, 0.0023920698967355874), (4114, 0.0023855945759867075), (401, 0.0023719521018752136), (2842, 0.0023658157109521325), (2523, 0.0023647612183588652), (1521, 0.0023606402428234764), (1978, 0.002360435760026377), (1156, 0.0023548262872793374), (3914, 0.0023498969102041687), (2822, 0.002348745709097369), (1008, 0.0023480497117287394), (2539, 0.0023432454343902238), (2, 0.002342224977674417), (366, 0.0023369588511115585), (257, 0.0023364631656974688), (2001, 0.0023296292589883583), (2006, 0.0023246381803290568), (2168, 0.0023221620651163624), (1944, 0.002321096974552681), (1601, 0.00230296268854973), (520, 0.002300287556728035), (4745, 0.002299729789125572), (506, 0.0022994355199298603), (3212, 0.0022986133420388375), (1586, 0.0022955412870716424), (1178, 0.0022878027655986264), (2296, 0.0022832539436350085), (163, 0.0022821777965724662), (1010, 0.002279031294988925), (1569, 0.002278664483722583), (3916, 0.0022745082605506797), (726, 0.002271084181794946), (73, 0.0022709452058555114), (91, 0.0022671739182535634), (837, 0.0022614899890343377), (789, 0.0022590323739179415), (2646, 0.002251835328357495), (1535, 0.0022478033479107623), (1326, 0.0022432882461414475), (3971, 0.0022421068608697776), (601, 0.002237134258925788), (2718, 0.0022338725717078933), (807, 0.0022286888320241587), (1938, 0.002228042143568623), (2204, 0.0022252821998551818), (319, 0.0022234685096289017), (2770, 0.0022065001331260867), (1222, 0.0022023894447429837), (4414, 0.0021925329340561094), (2877, 0.0021905008965788925), (2377, 0.0021870346122248403), (440, 0.0021860045202168293), (3223, 0.0021762613410240407), (3980, 0.0021758850003662064), (237, 0.002175800352631648), (709, 0.0021709512734054076), (1289, 0.002168792028046193), (1646, 0.0021569468073038968), (2734, 0.0021358420038690186), (1296, 0.002131706248812235), (2364, 0.0021308212776171807), (1467, 0.0021195264056987394), (602, 0.0021124394180510146), (2671, 0.0020945579376108405), (2028, 0.002078874681375734), (881, 0.0020776898144860916), (1963, 0.002073821174079301), (2562, 0.0020412709223406465), (2398, 0.0020308394434917477), (1581, 0.0019902439018392062), (926, 0.001980222939061595), (1728, 0.0019786736342154924), (2220, 0.0019692421433043328), (3698, 0.001957657276538395), (972, 0.001934468410533212), (3574, 0.0019184819814242757), (2219, 0.001904530963829409), (421, 0.0018879857510830926), (2814, 0.0018309427188969568), (2118, 0.001504325392206602)]\n"
          ]
        }
      ]
    },
    {
      "cell_type": "code",
      "source": [
        "print('top 30 movies suggested for you : \\n')\n",
        "i=1\n",
        "for movie in sorted_similar_movies:\n",
        "  index=movie[0]\n",
        "  title_from_index=df[df.index==index]['Movie_Title'].values[0]\n",
        "  if (i<31):\n",
        "    print(i,'.',title_from_index)\n",
        "    i+=1"
      ],
      "metadata": {
        "colab": {
          "base_uri": "https://localhost:8080/"
        },
        "id": "zlNJCrKxDwAC",
        "outputId": "46a8a69f-7fbb-486c-ec46-ff2ebc7515e7"
      },
      "execution_count": null,
      "outputs": [
        {
          "output_type": "stream",
          "name": "stdout",
          "text": [
            "top 30 movies suggested for you : \n",
            "\n",
            "1 . Niagara\n",
            "2 . Welcome to the Sticks\n",
            "3 . Harry Brown\n",
            "4 . The Curse of Downers Grove\n",
            "5 . The Boy Next Door\n",
            "6 . Eye for an Eye\n",
            "7 . N-Secure\n",
            "8 . Zulu\n",
            "9 . Dutch Kills\n",
            "10 . Broken Vessels\n",
            "11 . Back to the Future\n",
            "12 . Enough\n",
            "13 . Z Storm\n",
            "14 . In Too Deep\n",
            "15 . House of D\n",
            "16 . Ajami\n",
            "17 . Deadline - U.S.A.\n",
            "18 . El Rey de Najayo\n",
            "19 . Water & Power\n",
            "20 . Black Water Transit\n",
            "21 . Out of Time\n",
            "22 . Superman III\n",
            "23 . The Swindle\n",
            "24 . Brokeback Mountain\n",
            "25 . Exiled\n",
            "26 . Checkmate\n",
            "27 . Brigham City\n",
            "28 . Broken Horses\n",
            "29 . The Raid\n",
            "30 . Light It Up\n"
          ]
        }
      ]
    },
    {
      "cell_type": "code",
      "source": [
        "movie_name=input('Enter your favorite movie: ')\n",
        "list_of_all_titles=df['Movie_Title'].tolist()\n",
        "find_close_match=difflib.get_close_matches(movie_name,list_of_all_titles)\n",
        "close_match=find_close_match[0]\n",
        "index_of_movie=df[df.Movie_Title==close_match]['Movie_ID'].values[0]\n",
        "recomm_score=list(enumerate(similarity_score[index_of_movie]))\n",
        "sorted_similar_movies=sorted(recomm_score,key= lambda x:x[1],reverse=True)\n",
        "print('top 10 movies suggest for you: \\n')\n",
        "i=1\n",
        "for movie in sorted_similar_movies:\n",
        "  index=movie[0]\n",
        "  title_from_index=df[df.Movie_ID==index]['Movie_Title'].values\n",
        "  if (i<11):\n",
        "    print(i,'.',title_from_index)\n",
        "    i+=1"
      ],
      "metadata": {
        "colab": {
          "base_uri": "https://localhost:8080/"
        },
        "id": "-khWI1OzEg9x",
        "outputId": "f6d76fe2-fc17-4f1f-ec6d-b9427bb22877"
      },
      "execution_count": null,
      "outputs": [
        {
          "output_type": "stream",
          "name": "stdout",
          "text": [
            "Enter your favorite movie: Harry Brown\n",
            "top 10 movies suggest for you: \n",
            "\n",
            "1 . ['Harry Brown']\n",
            "2 . ['Poolhall Junkies']\n",
            "3 . ['Scott Pilgrim vs. the World']\n",
            "4 . ['I Love Your Work']\n",
            "5 . ['Solomon and Sheba']\n",
            "6 . ['Get Low']\n",
            "7 . ['Bridesmaids']\n",
            "8 . ['Airborne']\n",
            "9 . ['Sorcerer']\n",
            "10 . ['For Colored Girls']\n"
          ]
        }
      ]
    },
    {
      "cell_type": "markdown",
      "source": [
        "# **Explaination**"
      ],
      "metadata": {
        "id": "qb6FVFI6I5z2"
      }
    },
    {
      "cell_type": "markdown",
      "source": [
        "This project involves building a movie recommendation system using the TF-IDF vectorizer and cosine similarity to find and recommend movies based on a user's favorite movie. The system preprocesses the data by combining relevant features, vectorizes the text data, calculates similarity scores, and then provides recommendations based on these scores."
      ],
      "metadata": {
        "id": "9rjooRhfJ65C"
      }
    }
  ]
}